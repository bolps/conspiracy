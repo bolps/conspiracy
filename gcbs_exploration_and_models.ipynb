{
 "cells": [
  {
   "cell_type": "markdown",
   "metadata": {
    "id": "I9d4c-VHC-Tt"
   },
   "source": [
    "# Link utili\n",
    "\n",
    "#https://medium.com/uxness/survey-research-ways-to-clean-survey-data-before-analysis-52c1c6309754\n",
    "\n",
    "# Ricordrsi di rendere ordinale l'istruzione\n",
    "\n",
    "https://www.statology.org/cronbachs-alpha-in-python/"
   ]
  },
  {
   "cell_type": "markdown",
   "metadata": {
    "id": "Auj7RepcDIyH"
   },
   "source": [
    "# Dataset loading"
   ]
  },
  {
   "cell_type": "code",
   "execution_count": 1,
   "metadata": {
    "id": "5-jW6NyMDErr"
   },
   "outputs": [],
   "source": [
    "import pandas as pd\n",
    "import numpy as np\n",
    "import json\n",
    "import requests"
   ]
  },
  {
   "cell_type": "code",
   "execution_count": 2,
   "metadata": {
    "id": "FyNDh1a5DTvL"
   },
   "outputs": [],
   "source": [
    "gcbs_df = pd.read_csv('https://raw.githubusercontent.com/bolps/conspiracy/main/openpsychometrics_gcbs_data.csv')"
   ]
  },
  {
   "cell_type": "code",
   "execution_count": 3,
   "metadata": {
    "colab": {
     "base_uri": "https://localhost:8080/",
     "height": 0
    },
    "id": "0BLnLMnwDc29",
    "outputId": "3170540a-2852-4a81-fb64-30dd3a4e99dc"
   },
   "outputs": [
    {
     "data": {
      "text/html": [
       "<div>\n",
       "<style scoped>\n",
       "    .dataframe tbody tr th:only-of-type {\n",
       "        vertical-align: middle;\n",
       "    }\n",
       "\n",
       "    .dataframe tbody tr th {\n",
       "        vertical-align: top;\n",
       "    }\n",
       "\n",
       "    .dataframe thead th {\n",
       "        text-align: right;\n",
       "    }\n",
       "</style>\n",
       "<table border=\"1\" class=\"dataframe\">\n",
       "  <thead>\n",
       "    <tr style=\"text-align: right;\">\n",
       "      <th></th>\n",
       "      <th>Q1</th>\n",
       "      <th>Q2</th>\n",
       "      <th>Q3</th>\n",
       "      <th>Q4</th>\n",
       "      <th>Q5</th>\n",
       "      <th>Q6</th>\n",
       "      <th>Q7</th>\n",
       "      <th>Q8</th>\n",
       "      <th>Q9</th>\n",
       "      <th>Q10</th>\n",
       "      <th>...</th>\n",
       "      <th>engnat</th>\n",
       "      <th>age</th>\n",
       "      <th>hand</th>\n",
       "      <th>religion</th>\n",
       "      <th>orientation</th>\n",
       "      <th>race</th>\n",
       "      <th>voted</th>\n",
       "      <th>married</th>\n",
       "      <th>familysize</th>\n",
       "      <th>major</th>\n",
       "    </tr>\n",
       "  </thead>\n",
       "  <tbody>\n",
       "    <tr>\n",
       "      <th>0</th>\n",
       "      <td>5</td>\n",
       "      <td>5</td>\n",
       "      <td>3</td>\n",
       "      <td>5</td>\n",
       "      <td>5</td>\n",
       "      <td>5</td>\n",
       "      <td>5</td>\n",
       "      <td>3</td>\n",
       "      <td>4</td>\n",
       "      <td>5</td>\n",
       "      <td>...</td>\n",
       "      <td>2</td>\n",
       "      <td>28</td>\n",
       "      <td>1</td>\n",
       "      <td>2</td>\n",
       "      <td>1</td>\n",
       "      <td>5</td>\n",
       "      <td>2</td>\n",
       "      <td>1</td>\n",
       "      <td>1</td>\n",
       "      <td>ACTING</td>\n",
       "    </tr>\n",
       "    <tr>\n",
       "      <th>1</th>\n",
       "      <td>5</td>\n",
       "      <td>5</td>\n",
       "      <td>5</td>\n",
       "      <td>5</td>\n",
       "      <td>5</td>\n",
       "      <td>3</td>\n",
       "      <td>5</td>\n",
       "      <td>5</td>\n",
       "      <td>1</td>\n",
       "      <td>4</td>\n",
       "      <td>...</td>\n",
       "      <td>1</td>\n",
       "      <td>14</td>\n",
       "      <td>1</td>\n",
       "      <td>1</td>\n",
       "      <td>2</td>\n",
       "      <td>4</td>\n",
       "      <td>2</td>\n",
       "      <td>1</td>\n",
       "      <td>1</td>\n",
       "      <td>NaN</td>\n",
       "    </tr>\n",
       "    <tr>\n",
       "      <th>2</th>\n",
       "      <td>2</td>\n",
       "      <td>4</td>\n",
       "      <td>1</td>\n",
       "      <td>2</td>\n",
       "      <td>2</td>\n",
       "      <td>2</td>\n",
       "      <td>4</td>\n",
       "      <td>2</td>\n",
       "      <td>2</td>\n",
       "      <td>4</td>\n",
       "      <td>...</td>\n",
       "      <td>2</td>\n",
       "      <td>26</td>\n",
       "      <td>1</td>\n",
       "      <td>1</td>\n",
       "      <td>1</td>\n",
       "      <td>4</td>\n",
       "      <td>1</td>\n",
       "      <td>1</td>\n",
       "      <td>2</td>\n",
       "      <td>philosophy</td>\n",
       "    </tr>\n",
       "    <tr>\n",
       "      <th>3</th>\n",
       "      <td>5</td>\n",
       "      <td>4</td>\n",
       "      <td>1</td>\n",
       "      <td>2</td>\n",
       "      <td>4</td>\n",
       "      <td>5</td>\n",
       "      <td>4</td>\n",
       "      <td>1</td>\n",
       "      <td>4</td>\n",
       "      <td>5</td>\n",
       "      <td>...</td>\n",
       "      <td>1</td>\n",
       "      <td>25</td>\n",
       "      <td>1</td>\n",
       "      <td>12</td>\n",
       "      <td>1</td>\n",
       "      <td>4</td>\n",
       "      <td>1</td>\n",
       "      <td>1</td>\n",
       "      <td>3</td>\n",
       "      <td>history</td>\n",
       "    </tr>\n",
       "    <tr>\n",
       "      <th>4</th>\n",
       "      <td>5</td>\n",
       "      <td>4</td>\n",
       "      <td>1</td>\n",
       "      <td>4</td>\n",
       "      <td>4</td>\n",
       "      <td>5</td>\n",
       "      <td>4</td>\n",
       "      <td>3</td>\n",
       "      <td>1</td>\n",
       "      <td>5</td>\n",
       "      <td>...</td>\n",
       "      <td>1</td>\n",
       "      <td>37</td>\n",
       "      <td>1</td>\n",
       "      <td>2</td>\n",
       "      <td>2</td>\n",
       "      <td>4</td>\n",
       "      <td>2</td>\n",
       "      <td>2</td>\n",
       "      <td>2</td>\n",
       "      <td>Psychology</td>\n",
       "    </tr>\n",
       "  </tbody>\n",
       "</table>\n",
       "<p>5 rows × 72 columns</p>\n",
       "</div>"
      ],
      "text/plain": [
       "   Q1  Q2  Q3  Q4  Q5  Q6  Q7  Q8  Q9  Q10  ...  engnat  age  hand  religion  \\\n",
       "0   5   5   3   5   5   5   5   3   4    5  ...       2   28     1         2   \n",
       "1   5   5   5   5   5   3   5   5   1    4  ...       1   14     1         1   \n",
       "2   2   4   1   2   2   2   4   2   2    4  ...       2   26     1         1   \n",
       "3   5   4   1   2   4   5   4   1   4    5  ...       1   25     1        12   \n",
       "4   5   4   1   4   4   5   4   3   1    5  ...       1   37     1         2   \n",
       "\n",
       "   orientation  race  voted  married  familysize       major  \n",
       "0            1     5      2        1           1      ACTING  \n",
       "1            2     4      2        1           1         NaN  \n",
       "2            1     4      1        1           2  philosophy  \n",
       "3            1     4      1        1           3     history  \n",
       "4            2     4      2        2           2  Psychology  \n",
       "\n",
       "[5 rows x 72 columns]"
      ]
     },
     "execution_count": 3,
     "metadata": {},
     "output_type": "execute_result"
    }
   ],
   "source": [
    "gcbs_df.head(5)"
   ]
  },
  {
   "cell_type": "code",
   "execution_count": 4,
   "metadata": {
    "colab": {
     "base_uri": "https://localhost:8080/"
    },
    "id": "ksAPD3CHz9j-",
    "outputId": "afdad645-41f8-44a9-f85d-6f9485cef160"
   },
   "outputs": [
    {
     "name": "stdout",
     "output_type": "stream",
     "text": [
      "<class 'pandas.core.frame.DataFrame'>\n",
      "RangeIndex: 2495 entries, 0 to 2494\n",
      "Data columns (total 72 columns):\n",
      " #   Column        Non-Null Count  Dtype \n",
      "---  ------        --------------  ----- \n",
      " 0   Q1            2495 non-null   int64 \n",
      " 1   Q2            2495 non-null   int64 \n",
      " 2   Q3            2495 non-null   int64 \n",
      " 3   Q4            2495 non-null   int64 \n",
      " 4   Q5            2495 non-null   int64 \n",
      " 5   Q6            2495 non-null   int64 \n",
      " 6   Q7            2495 non-null   int64 \n",
      " 7   Q8            2495 non-null   int64 \n",
      " 8   Q9            2495 non-null   int64 \n",
      " 9   Q10           2495 non-null   int64 \n",
      " 10  Q11           2495 non-null   int64 \n",
      " 11  Q12           2495 non-null   int64 \n",
      " 12  Q13           2495 non-null   int64 \n",
      " 13  Q14           2495 non-null   int64 \n",
      " 14  Q15           2495 non-null   int64 \n",
      " 15  E1            2495 non-null   int64 \n",
      " 16  E2            2495 non-null   int64 \n",
      " 17  E3            2495 non-null   int64 \n",
      " 18  E4            2495 non-null   int64 \n",
      " 19  E5            2495 non-null   int64 \n",
      " 20  E6            2495 non-null   int64 \n",
      " 21  E7            2495 non-null   int64 \n",
      " 22  E8            2495 non-null   int64 \n",
      " 23  E9            2495 non-null   int64 \n",
      " 24  E10           2495 non-null   int64 \n",
      " 25  E11           2495 non-null   int64 \n",
      " 26  E12           2495 non-null   int64 \n",
      " 27  E13           2495 non-null   int64 \n",
      " 28  E14           2495 non-null   int64 \n",
      " 29  E15           2495 non-null   int64 \n",
      " 30  introelapse   2495 non-null   int64 \n",
      " 31  testelapse    2495 non-null   int64 \n",
      " 32  surveyelapse  2495 non-null   int64 \n",
      " 33  TIPI1         2495 non-null   int64 \n",
      " 34  TIPI2         2495 non-null   int64 \n",
      " 35  TIPI3         2495 non-null   int64 \n",
      " 36  TIPI4         2495 non-null   int64 \n",
      " 37  TIPI5         2495 non-null   int64 \n",
      " 38  TIPI6         2495 non-null   int64 \n",
      " 39  TIPI7         2495 non-null   int64 \n",
      " 40  TIPI8         2495 non-null   int64 \n",
      " 41  TIPI9         2495 non-null   int64 \n",
      " 42  TIPI10        2495 non-null   int64 \n",
      " 43  VCL1          2495 non-null   int64 \n",
      " 44  VCL2          2495 non-null   int64 \n",
      " 45  VCL3          2495 non-null   int64 \n",
      " 46  VCL4          2495 non-null   int64 \n",
      " 47  VCL5          2495 non-null   int64 \n",
      " 48  VCL6          2495 non-null   int64 \n",
      " 49  VCL7          2495 non-null   int64 \n",
      " 50  VCL8          2495 non-null   int64 \n",
      " 51  VCL9          2495 non-null   int64 \n",
      " 52  VCL10         2495 non-null   int64 \n",
      " 53  VCL11         2495 non-null   int64 \n",
      " 54  VCL12         2495 non-null   int64 \n",
      " 55  VCL13         2495 non-null   int64 \n",
      " 56  VCL14         2495 non-null   int64 \n",
      " 57  VCL15         2495 non-null   int64 \n",
      " 58  VCL16         2495 non-null   int64 \n",
      " 59  education     2495 non-null   int64 \n",
      " 60  urban         2495 non-null   int64 \n",
      " 61  gender        2495 non-null   int64 \n",
      " 62  engnat        2495 non-null   int64 \n",
      " 63  age           2495 non-null   int64 \n",
      " 64  hand          2495 non-null   int64 \n",
      " 65  religion      2495 non-null   int64 \n",
      " 66  orientation   2495 non-null   int64 \n",
      " 67  race          2495 non-null   int64 \n",
      " 68  voted         2495 non-null   int64 \n",
      " 69  married       2495 non-null   int64 \n",
      " 70  familysize    2495 non-null   int64 \n",
      " 71  major         1337 non-null   object\n",
      "dtypes: int64(71), object(1)\n",
      "memory usage: 1.4+ MB\n"
     ]
    }
   ],
   "source": [
    "gcbs_df.info()"
   ]
  },
  {
   "cell_type": "markdown",
   "metadata": {
    "id": "cur7vCeOmPoy"
   },
   "source": [
    "# Data munging"
   ]
  },
  {
   "cell_type": "markdown",
   "metadata": {
    "id": "EKzwRskamwgI"
   },
   "source": [
    "Before starting the whole process of data cleaning and analysis, raw data must be trasformed in the most convenient way for the upcoming steps.\n",
    "\n",
    "The following munging process includes:\n",
    "* dropping useless columns\n",
    "* assigning the correct data type\n",
    "* labelling categorical data (according to the codebook)\n",
    "* identifying missing values (according to the codebook)\n",
    "* grouping values from text fields\n",
    "* renaming columns (with prefixes for better organization)\n",
    "* computing variables for survey cleaning (straightliners, speed responses, outliers, validity check errors)\n",
    "* scoring GCBS and TIPI (according to literature). *This step is crucial as it allows us to transform raw data (indicators) into a value (score) that reflects an individual's position on an underlying construct (such as personality or beliefs)*"
   ]
  },
  {
   "cell_type": "code",
   "execution_count": 5,
   "metadata": {
    "id": "3MR_4f_SKJB4"
   },
   "outputs": [],
   "source": [
    "# dropping 'introelapse','testelapse','surveyelapse' (overall time spent in every block) columns as I'm not going to use them\n",
    "gcbs_df = gcbs_df.drop(['introelapse','testelapse','surveyelapse'], axis=1)"
   ]
  },
  {
   "cell_type": "code",
   "execution_count": 6,
   "metadata": {
    "id": "gSMJ8qD8b_R1"
   },
   "outputs": [],
   "source": [
    "# download/parsing json labels \n",
    "survey_labels_json = requests.get(\"https://raw.githubusercontent.com/bolps/conspiracy/main/survey_labels.json\")\n",
    "survey_labels_dict = json.loads(survey_labels_json.text)"
   ]
  },
  {
   "cell_type": "code",
   "execution_count": 7,
   "metadata": {
    "id": "U4kSILw5LVXl"
   },
   "outputs": [],
   "source": [
    "# mapping labels on dataframe, converting 'Missing' label to NaN, casting to 'category' (or ordered category) data type\n",
    "for column in ['education','urban','gender','engnat','hand','religion','orientation','race','voted','married']:\n",
    "  gcbs_df[column] = gcbs_df[column].astype(str).map(survey_labels_dict[column])\n",
    "  gcbs_df[column] = gcbs_df[column].replace('Missing', np.nan)\n",
    "  gcbs_df[column] = gcbs_df[column].astype(\"category\")\n",
    "gcbs_df['education'] = gcbs_df['education'].cat.reorder_categories(['Less than high school', 'High school', 'University degree', 'Graduate degree'], ordered=True)"
   ]
  },
  {
   "cell_type": "code",
   "execution_count": 8,
   "metadata": {
    "id": "24DTREwWzfVQ"
   },
   "outputs": [],
   "source": [
    "# assigning NaN to values which makes no sense (i.e. too old or too young people)\n",
    "gcbs_df['familysize'] = gcbs_df['familysize'].replace(0, np.nan)\n",
    "gcbs_df.loc[gcbs_df.familysize > 10, 'familysize'] = np.nan\n",
    "gcbs_df.loc[gcbs_df.age > 90, 'age'] = np.nan\n",
    "gcbs_df.loc[gcbs_df.age < 10, 'age'] = np.nan\n",
    "gcbs_df.loc[gcbs_df.education < 'University degree', 'major'] = np.nan"
   ]
  },
  {
   "cell_type": "code",
   "execution_count": 9,
   "metadata": {
    "id": "9qVml6KGeqLX"
   },
   "outputs": [],
   "source": [
    "# Normalizing text for the field major (free-form). Example: '           aCTING' = 'Acting', 'ACTING' = 'Acting'\n",
    "gcbs_df['major'] = gcbs_df['major'].map(lambda x : x.strip().capitalize() if isinstance(x, str) else np.nan)"
   ]
  },
  {
   "cell_type": "code",
   "execution_count": 10,
   "metadata": {
    "id": "9V9dxxroj75C"
   },
   "outputs": [],
   "source": [
    "# download/parsing json labels. Major labels has been manually grouped in macro-categories\n",
    "major_labels_json = requests.get(\"https://raw.githubusercontent.com/bolps/conspiracy/main/major_labels.json\")\n",
    "major_labels_dict = json.loads(major_labels_json.text)"
   ]
  },
  {
   "cell_type": "code",
   "execution_count": 11,
   "metadata": {
    "id": "FblCj9CUkHhs"
   },
   "outputs": [],
   "source": [
    "# mapping labels on dataframe in order to crate a new column with the 'major cluster'. Example: Graphic design (Major) - Arts (Cluster) \n",
    "gcbs_df['major_cluster'] = gcbs_df['major'].map(major_labels_dict['Cluster'])\n",
    "gcbs_df['major_cluster'] = gcbs_df['major_cluster'].replace('Missing', np.nan)\n",
    "gcbs_df['major_cluster'] = gcbs_df['major_cluster'].astype(\"category\")"
   ]
  },
  {
   "cell_type": "code",
   "execution_count": 12,
   "metadata": {
    "id": "URqPLiYk6MS9"
   },
   "outputs": [],
   "source": [
    "# renaming GCBS items for consistency and readability (columns Q1-Q15 belongs to GCBS scale). Example: Q1 becomes GCBS1\n",
    "gcbs_df.columns = [column.replace('Q', 'GCBS') for column in gcbs_df.columns]"
   ]
  },
  {
   "cell_type": "code",
   "execution_count": 13,
   "metadata": {
    "id": "bTqhbYOpG8kZ"
   },
   "outputs": [],
   "source": [
    "# computing scores for GCBS scale and subscales according to the codebook. Note: GCBS scale doesn't use reverse items.\n",
    "gcbs_df['GCBS_Government_Malfeasance'] = gcbs_df['GCBS1'] + gcbs_df['GCBS6'] + gcbs_df['GCBS11']\n",
    "gcbs_df['GCBS_Malevolent_Global_Conspiracies'] = gcbs_df['GCBS2'] + gcbs_df['GCBS7'] + gcbs_df['GCBS12']\n",
    "gcbs_df['GCBS_Extraterrestrial_Coverup'] = gcbs_df['GCBS3'] + gcbs_df['GCBS8'] + gcbs_df['GCBS13']\n",
    "gcbs_df['GCBS_Personal_Wellbeing'] = gcbs_df['GCBS4'] + gcbs_df['GCBS9'] + gcbs_df['GCBS14']\n",
    "gcbs_df['GCBS_Control_Of_Information'] = gcbs_df['GCBS5'] + gcbs_df['GCBS10'] + gcbs_df['GCBS15']\n",
    "gcbs_df['GCBS_Overall'] = gcbs_df['GCBS_Government_Malfeasance'] + gcbs_df['GCBS_Malevolent_Global_Conspiracies'] + gcbs_df['GCBS_Extraterrestrial_Coverup'] + gcbs_df['GCBS_Personal_Wellbeing'] + gcbs_df['GCBS_Control_Of_Information']"
   ]
  },
  {
   "cell_type": "code",
   "execution_count": 14,
   "metadata": {
    "id": "WoLm_PRlV3In"
   },
   "outputs": [],
   "source": [
    "# computing scores for TIPI (personality) scale and subscales according to the codebook. Note: Some of the items are reversed (formula for reversing: reversed = (number_of_levels + 1) - raw_value).\n",
    "gcbs_df['TIPI_Extraversion'] = gcbs_df['TIPI1'] + (8-gcbs_df['TIPI6'])\n",
    "gcbs_df['TIPI_Agreeableness'] = (8-gcbs_df['TIPI2']) + gcbs_df['TIPI7']\n",
    "gcbs_df['TIPI_Conscientiousness'] = gcbs_df['TIPI3'] + (8-gcbs_df['TIPI8'])\n",
    "gcbs_df['TIPI_Emotional_Stability'] = (8-gcbs_df['TIPI4']) + gcbs_df['TIPI9']\n",
    "gcbs_df['TIPI_Openness'] = gcbs_df['TIPI5'] + (8-gcbs_df['TIPI10'])"
   ]
  },
  {
   "cell_type": "code",
   "execution_count": 15,
   "metadata": {
    "id": "k4BW97Z1B6iR"
   },
   "outputs": [],
   "source": [
    "# computing variable for counting validity check errors (validity check items are simple questions used to probe user attention and engagement)\n",
    "gcbs_df['SURV_ValidityCheck_Errors'] = gcbs_df['VCL6'] + gcbs_df['VCL9'] + gcbs_df['VCL12']\n",
    "gcbs_df = gcbs_df.drop(['VCL1','VCL2','VCL3','VCL4','VCL5','VCL6','VCL7','VCL8','VCL9','VCL10','VCL11','VCL12','VCL13','VCL14','VCL15','VCL16'], axis=1)"
   ]
  },
  {
   "cell_type": "code",
   "execution_count": 16,
   "metadata": {
    "id": "LGpEniuHB7aT"
   },
   "outputs": [],
   "source": [
    "# computing variable to spot straightliners for GCBS (respondents who selected the same answer to all items of the scale).\n",
    "# the respondent is a straightliner if the std deviation of the scale is 0 (always the same answer)\n",
    "gcbs_df['SURV_CheckStraightliners_GCBS'] = gcbs_df[['GCBS1','GCBS2','GCBS3','GCBS4','GCBS5','GCBS6','GCBS7','GCBS8','GCBS9','GCBS10','GCBS11','GCBS12','GCBS13','GCBS14','GCBS15']].std(axis=1)\n",
    "gcbs_df['SURV_CheckStraightliners_GCBS'] = gcbs_df['SURV_CheckStraightliners_GCBS'] == 0"
   ]
  },
  {
   "cell_type": "code",
   "execution_count": 17,
   "metadata": {
    "id": "rACOnS91B_fT"
   },
   "outputs": [],
   "source": [
    "# computing variable to spot straightliners for TIPI (respondents who selected the same answer to all items of the scale).\n",
    "# the respondent is a straightliner if the std deviation of the scale is 0 (always the same answer)\n",
    "gcbs_df['SURV_CheckStraightliners_TIPI'] = gcbs_df[['TIPI1','TIPI2','TIPI3','TIPI4','TIPI5','TIPI6','TIPI7','TIPI8','TIPI9','TIPI10']].std(axis=1)\n",
    "gcbs_df['SURV_CheckStraightliners_TIPI'] = gcbs_df['SURV_CheckStraightliners_TIPI'] == 0"
   ]
  },
  {
   "cell_type": "code",
   "execution_count": 18,
   "metadata": {
    "id": "mWzZnwZjB6nl"
   },
   "outputs": [],
   "source": [
    "# computing variable to spot speed responses for GCBS (the core construct measured). Note: Unfortunately we have no data on TIPI response times.\n",
    "# I considered a speed response if the response time of at least one item of the scale is less than the 5th quantile. Note: I dropped response times as I don't need them anymore\n",
    "for item in ['E1','E2','E3','E4','E5','E6','E7','E8','E9','E10','E11','E12','E13','E14','E15']:\n",
    "  gcbs_df[item] = gcbs_df[item] < gcbs_df[item].quantile(.05)\n",
    "gcbs_df['SURV_QuickResponse_GCBS'] = gcbs_df[['E1','E2','E3','E4','E5','E6','E7','E8','E9','E10','E11','E12','E13','E14','E15']].any(axis=1)\n",
    "gcbs_df = gcbs_df.drop(['E1','E2','E3','E4','E5','E6','E7','E8','E9','E10','E11','E12','E13','E14','E15'], axis=1)"
   ]
  },
  {
   "cell_type": "code",
   "execution_count": 19,
   "metadata": {
    "id": "XxK68fAv_9bJ"
   },
   "outputs": [],
   "source": [
    "# renaming columns for better organization.\n",
    "# I logically divided data in blocks: RAW (raw GCBS and TIPI data), DEMO (demographics), GCBS (gcbs scores), TIPI (tipi scores) and SURV (survey related info)\n",
    "gcbs_df.columns = [('RAW_'+column) for column in gcbs_df.columns[:gcbs_df.columns.get_loc('TIPI10')+1]] + [('DEMO_'+column) for column in gcbs_df.columns[gcbs_df.columns.get_loc('TIPI10')+1:gcbs_df.columns.get_loc('major_cluster')+1]] + list(gcbs_df.columns[gcbs_df.columns.get_loc('major_cluster')+1:])"
   ]
  },
  {
   "cell_type": "code",
   "execution_count": 20,
   "metadata": {
    "colab": {
     "base_uri": "https://localhost:8080/",
     "height": 1000
    },
    "id": "3BYEQkGU8XsO",
    "outputId": "a842edd2-f027-41ae-c502-dc82de15c3d6"
   },
   "outputs": [
    {
     "data": {
      "text/html": [
       "<div>\n",
       "<style scoped>\n",
       "    .dataframe tbody tr th:only-of-type {\n",
       "        vertical-align: middle;\n",
       "    }\n",
       "\n",
       "    .dataframe tbody tr th {\n",
       "        vertical-align: top;\n",
       "    }\n",
       "\n",
       "    .dataframe thead th {\n",
       "        text-align: right;\n",
       "    }\n",
       "</style>\n",
       "<table border=\"1\" class=\"dataframe\">\n",
       "  <thead>\n",
       "    <tr style=\"text-align: right;\">\n",
       "      <th></th>\n",
       "      <th>0</th>\n",
       "      <th>1</th>\n",
       "      <th>2</th>\n",
       "      <th>3</th>\n",
       "      <th>4</th>\n",
       "    </tr>\n",
       "  </thead>\n",
       "  <tbody>\n",
       "    <tr>\n",
       "      <th>RAW_GCBS1</th>\n",
       "      <td>5</td>\n",
       "      <td>5</td>\n",
       "      <td>2</td>\n",
       "      <td>5</td>\n",
       "      <td>5</td>\n",
       "    </tr>\n",
       "    <tr>\n",
       "      <th>RAW_GCBS2</th>\n",
       "      <td>5</td>\n",
       "      <td>5</td>\n",
       "      <td>4</td>\n",
       "      <td>4</td>\n",
       "      <td>4</td>\n",
       "    </tr>\n",
       "    <tr>\n",
       "      <th>RAW_GCBS3</th>\n",
       "      <td>3</td>\n",
       "      <td>5</td>\n",
       "      <td>1</td>\n",
       "      <td>1</td>\n",
       "      <td>1</td>\n",
       "    </tr>\n",
       "    <tr>\n",
       "      <th>RAW_GCBS4</th>\n",
       "      <td>5</td>\n",
       "      <td>5</td>\n",
       "      <td>2</td>\n",
       "      <td>2</td>\n",
       "      <td>4</td>\n",
       "    </tr>\n",
       "    <tr>\n",
       "      <th>RAW_GCBS5</th>\n",
       "      <td>5</td>\n",
       "      <td>5</td>\n",
       "      <td>2</td>\n",
       "      <td>4</td>\n",
       "      <td>4</td>\n",
       "    </tr>\n",
       "    <tr>\n",
       "      <th>RAW_GCBS6</th>\n",
       "      <td>5</td>\n",
       "      <td>3</td>\n",
       "      <td>2</td>\n",
       "      <td>5</td>\n",
       "      <td>5</td>\n",
       "    </tr>\n",
       "    <tr>\n",
       "      <th>RAW_GCBS7</th>\n",
       "      <td>5</td>\n",
       "      <td>5</td>\n",
       "      <td>4</td>\n",
       "      <td>4</td>\n",
       "      <td>4</td>\n",
       "    </tr>\n",
       "    <tr>\n",
       "      <th>RAW_GCBS8</th>\n",
       "      <td>3</td>\n",
       "      <td>5</td>\n",
       "      <td>2</td>\n",
       "      <td>1</td>\n",
       "      <td>3</td>\n",
       "    </tr>\n",
       "    <tr>\n",
       "      <th>RAW_GCBS9</th>\n",
       "      <td>4</td>\n",
       "      <td>1</td>\n",
       "      <td>2</td>\n",
       "      <td>4</td>\n",
       "      <td>1</td>\n",
       "    </tr>\n",
       "    <tr>\n",
       "      <th>RAW_GCBS10</th>\n",
       "      <td>5</td>\n",
       "      <td>4</td>\n",
       "      <td>4</td>\n",
       "      <td>5</td>\n",
       "      <td>5</td>\n",
       "    </tr>\n",
       "    <tr>\n",
       "      <th>RAW_GCBS11</th>\n",
       "      <td>5</td>\n",
       "      <td>4</td>\n",
       "      <td>2</td>\n",
       "      <td>5</td>\n",
       "      <td>5</td>\n",
       "    </tr>\n",
       "    <tr>\n",
       "      <th>RAW_GCBS12</th>\n",
       "      <td>5</td>\n",
       "      <td>5</td>\n",
       "      <td>4</td>\n",
       "      <td>5</td>\n",
       "      <td>5</td>\n",
       "    </tr>\n",
       "    <tr>\n",
       "      <th>RAW_GCBS13</th>\n",
       "      <td>3</td>\n",
       "      <td>4</td>\n",
       "      <td>0</td>\n",
       "      <td>1</td>\n",
       "      <td>3</td>\n",
       "    </tr>\n",
       "    <tr>\n",
       "      <th>RAW_GCBS14</th>\n",
       "      <td>5</td>\n",
       "      <td>4</td>\n",
       "      <td>2</td>\n",
       "      <td>4</td>\n",
       "      <td>5</td>\n",
       "    </tr>\n",
       "    <tr>\n",
       "      <th>RAW_GCBS15</th>\n",
       "      <td>5</td>\n",
       "      <td>5</td>\n",
       "      <td>4</td>\n",
       "      <td>5</td>\n",
       "      <td>5</td>\n",
       "    </tr>\n",
       "    <tr>\n",
       "      <th>RAW_TIPI1</th>\n",
       "      <td>5</td>\n",
       "      <td>6</td>\n",
       "      <td>6</td>\n",
       "      <td>6</td>\n",
       "      <td>1</td>\n",
       "    </tr>\n",
       "    <tr>\n",
       "      <th>RAW_TIPI2</th>\n",
       "      <td>3</td>\n",
       "      <td>7</td>\n",
       "      <td>6</td>\n",
       "      <td>7</td>\n",
       "      <td>3</td>\n",
       "    </tr>\n",
       "    <tr>\n",
       "      <th>RAW_TIPI3</th>\n",
       "      <td>6</td>\n",
       "      <td>6</td>\n",
       "      <td>6</td>\n",
       "      <td>7</td>\n",
       "      <td>7</td>\n",
       "    </tr>\n",
       "    <tr>\n",
       "      <th>RAW_TIPI4</th>\n",
       "      <td>2</td>\n",
       "      <td>7</td>\n",
       "      <td>1</td>\n",
       "      <td>5</td>\n",
       "      <td>2</td>\n",
       "    </tr>\n",
       "    <tr>\n",
       "      <th>RAW_TIPI5</th>\n",
       "      <td>6</td>\n",
       "      <td>6</td>\n",
       "      <td>7</td>\n",
       "      <td>7</td>\n",
       "      <td>6</td>\n",
       "    </tr>\n",
       "    <tr>\n",
       "      <th>RAW_TIPI6</th>\n",
       "      <td>6</td>\n",
       "      <td>3</td>\n",
       "      <td>5</td>\n",
       "      <td>6</td>\n",
       "      <td>4</td>\n",
       "    </tr>\n",
       "    <tr>\n",
       "      <th>RAW_TIPI7</th>\n",
       "      <td>7</td>\n",
       "      <td>7</td>\n",
       "      <td>6</td>\n",
       "      <td>5</td>\n",
       "      <td>5</td>\n",
       "    </tr>\n",
       "    <tr>\n",
       "      <th>RAW_TIPI8</th>\n",
       "      <td>2</td>\n",
       "      <td>5</td>\n",
       "      <td>5</td>\n",
       "      <td>1</td>\n",
       "      <td>5</td>\n",
       "    </tr>\n",
       "    <tr>\n",
       "      <th>RAW_TIPI9</th>\n",
       "      <td>7</td>\n",
       "      <td>1</td>\n",
       "      <td>7</td>\n",
       "      <td>5</td>\n",
       "      <td>5</td>\n",
       "    </tr>\n",
       "    <tr>\n",
       "      <th>RAW_TIPI10</th>\n",
       "      <td>1</td>\n",
       "      <td>1</td>\n",
       "      <td>7</td>\n",
       "      <td>1</td>\n",
       "      <td>3</td>\n",
       "    </tr>\n",
       "    <tr>\n",
       "      <th>DEMO_education</th>\n",
       "      <td>University degree</td>\n",
       "      <td>Less than high school</td>\n",
       "      <td>Graduate degree</td>\n",
       "      <td>University degree</td>\n",
       "      <td>High school</td>\n",
       "    </tr>\n",
       "    <tr>\n",
       "      <th>DEMO_urban</th>\n",
       "      <td>NaN</td>\n",
       "      <td>Suburban</td>\n",
       "      <td>Suburban</td>\n",
       "      <td>Rural (country side)</td>\n",
       "      <td>Suburban</td>\n",
       "    </tr>\n",
       "    <tr>\n",
       "      <th>DEMO_gender</th>\n",
       "      <td>Male</td>\n",
       "      <td>Female</td>\n",
       "      <td>Female</td>\n",
       "      <td>Male</td>\n",
       "      <td>Male</td>\n",
       "    </tr>\n",
       "    <tr>\n",
       "      <th>DEMO_engnat</th>\n",
       "      <td>Non-native English speaker</td>\n",
       "      <td>Native English speaker</td>\n",
       "      <td>Non-native English speaker</td>\n",
       "      <td>Native English speaker</td>\n",
       "      <td>Native English speaker</td>\n",
       "    </tr>\n",
       "    <tr>\n",
       "      <th>DEMO_age</th>\n",
       "      <td>28.0</td>\n",
       "      <td>14.0</td>\n",
       "      <td>26.0</td>\n",
       "      <td>25.0</td>\n",
       "      <td>37.0</td>\n",
       "    </tr>\n",
       "    <tr>\n",
       "      <th>DEMO_hand</th>\n",
       "      <td>Right-handed</td>\n",
       "      <td>Right-handed</td>\n",
       "      <td>Right-handed</td>\n",
       "      <td>Right-handed</td>\n",
       "      <td>Right-handed</td>\n",
       "    </tr>\n",
       "    <tr>\n",
       "      <th>DEMO_religion</th>\n",
       "      <td>Atheist</td>\n",
       "      <td>Agnostic</td>\n",
       "      <td>Agnostic</td>\n",
       "      <td>Other</td>\n",
       "      <td>Atheist</td>\n",
       "    </tr>\n",
       "    <tr>\n",
       "      <th>DEMO_orientation</th>\n",
       "      <td>Heterosexual</td>\n",
       "      <td>Bisexual</td>\n",
       "      <td>Heterosexual</td>\n",
       "      <td>Heterosexual</td>\n",
       "      <td>Bisexual</td>\n",
       "    </tr>\n",
       "    <tr>\n",
       "      <th>DEMO_race</th>\n",
       "      <td>Other</td>\n",
       "      <td>White</td>\n",
       "      <td>White</td>\n",
       "      <td>White</td>\n",
       "      <td>White</td>\n",
       "    </tr>\n",
       "    <tr>\n",
       "      <th>DEMO_voted</th>\n",
       "      <td>No</td>\n",
       "      <td>No</td>\n",
       "      <td>Yes</td>\n",
       "      <td>Yes</td>\n",
       "      <td>No</td>\n",
       "    </tr>\n",
       "    <tr>\n",
       "      <th>DEMO_married</th>\n",
       "      <td>Never married</td>\n",
       "      <td>Never married</td>\n",
       "      <td>Never married</td>\n",
       "      <td>Never married</td>\n",
       "      <td>Currently married</td>\n",
       "    </tr>\n",
       "    <tr>\n",
       "      <th>DEMO_familysize</th>\n",
       "      <td>1.0</td>\n",
       "      <td>1.0</td>\n",
       "      <td>2.0</td>\n",
       "      <td>3.0</td>\n",
       "      <td>2.0</td>\n",
       "    </tr>\n",
       "    <tr>\n",
       "      <th>DEMO_major</th>\n",
       "      <td>Acting</td>\n",
       "      <td>NaN</td>\n",
       "      <td>Philosophy</td>\n",
       "      <td>History</td>\n",
       "      <td>NaN</td>\n",
       "    </tr>\n",
       "    <tr>\n",
       "      <th>DEMO_major_cluster</th>\n",
       "      <td>Arts</td>\n",
       "      <td>NaN</td>\n",
       "      <td>Literature, Language, and Social Science</td>\n",
       "      <td>Literature, Language, and Social Science</td>\n",
       "      <td>NaN</td>\n",
       "    </tr>\n",
       "    <tr>\n",
       "      <th>GCBS_Government_Malfeasance</th>\n",
       "      <td>15</td>\n",
       "      <td>12</td>\n",
       "      <td>6</td>\n",
       "      <td>15</td>\n",
       "      <td>15</td>\n",
       "    </tr>\n",
       "    <tr>\n",
       "      <th>GCBS_Malevolent_Global_Conspiracies</th>\n",
       "      <td>15</td>\n",
       "      <td>15</td>\n",
       "      <td>12</td>\n",
       "      <td>13</td>\n",
       "      <td>13</td>\n",
       "    </tr>\n",
       "    <tr>\n",
       "      <th>GCBS_Extraterrestrial_Coverup</th>\n",
       "      <td>9</td>\n",
       "      <td>14</td>\n",
       "      <td>3</td>\n",
       "      <td>3</td>\n",
       "      <td>7</td>\n",
       "    </tr>\n",
       "    <tr>\n",
       "      <th>GCBS_Personal_Wellbeing</th>\n",
       "      <td>14</td>\n",
       "      <td>10</td>\n",
       "      <td>6</td>\n",
       "      <td>10</td>\n",
       "      <td>10</td>\n",
       "    </tr>\n",
       "    <tr>\n",
       "      <th>GCBS_Control_Of_Information</th>\n",
       "      <td>15</td>\n",
       "      <td>14</td>\n",
       "      <td>10</td>\n",
       "      <td>14</td>\n",
       "      <td>14</td>\n",
       "    </tr>\n",
       "    <tr>\n",
       "      <th>GCBS_Overall</th>\n",
       "      <td>68</td>\n",
       "      <td>65</td>\n",
       "      <td>37</td>\n",
       "      <td>55</td>\n",
       "      <td>59</td>\n",
       "    </tr>\n",
       "    <tr>\n",
       "      <th>TIPI_Extraversion</th>\n",
       "      <td>7</td>\n",
       "      <td>11</td>\n",
       "      <td>9</td>\n",
       "      <td>8</td>\n",
       "      <td>5</td>\n",
       "    </tr>\n",
       "    <tr>\n",
       "      <th>TIPI_Agreeableness</th>\n",
       "      <td>12</td>\n",
       "      <td>8</td>\n",
       "      <td>8</td>\n",
       "      <td>6</td>\n",
       "      <td>10</td>\n",
       "    </tr>\n",
       "    <tr>\n",
       "      <th>TIPI_Conscientiousness</th>\n",
       "      <td>12</td>\n",
       "      <td>9</td>\n",
       "      <td>9</td>\n",
       "      <td>14</td>\n",
       "      <td>10</td>\n",
       "    </tr>\n",
       "    <tr>\n",
       "      <th>TIPI_Emotional_Stability</th>\n",
       "      <td>13</td>\n",
       "      <td>2</td>\n",
       "      <td>14</td>\n",
       "      <td>8</td>\n",
       "      <td>11</td>\n",
       "    </tr>\n",
       "    <tr>\n",
       "      <th>TIPI_Openness</th>\n",
       "      <td>13</td>\n",
       "      <td>13</td>\n",
       "      <td>8</td>\n",
       "      <td>14</td>\n",
       "      <td>11</td>\n",
       "    </tr>\n",
       "    <tr>\n",
       "      <th>SURV_ValidityCheck_Errors</th>\n",
       "      <td>0</td>\n",
       "      <td>0</td>\n",
       "      <td>1</td>\n",
       "      <td>0</td>\n",
       "      <td>0</td>\n",
       "    </tr>\n",
       "    <tr>\n",
       "      <th>SURV_CheckStraightliners_GCBS</th>\n",
       "      <td>False</td>\n",
       "      <td>False</td>\n",
       "      <td>False</td>\n",
       "      <td>False</td>\n",
       "      <td>False</td>\n",
       "    </tr>\n",
       "    <tr>\n",
       "      <th>SURV_CheckStraightliners_TIPI</th>\n",
       "      <td>False</td>\n",
       "      <td>False</td>\n",
       "      <td>False</td>\n",
       "      <td>False</td>\n",
       "      <td>False</td>\n",
       "    </tr>\n",
       "    <tr>\n",
       "      <th>SURV_QuickResponse_GCBS</th>\n",
       "      <td>False</td>\n",
       "      <td>False</td>\n",
       "      <td>True</td>\n",
       "      <td>True</td>\n",
       "      <td>False</td>\n",
       "    </tr>\n",
       "  </tbody>\n",
       "</table>\n",
       "</div>"
      ],
      "text/plain": [
       "                                                              0  \\\n",
       "RAW_GCBS1                                                     5   \n",
       "RAW_GCBS2                                                     5   \n",
       "RAW_GCBS3                                                     3   \n",
       "RAW_GCBS4                                                     5   \n",
       "RAW_GCBS5                                                     5   \n",
       "RAW_GCBS6                                                     5   \n",
       "RAW_GCBS7                                                     5   \n",
       "RAW_GCBS8                                                     3   \n",
       "RAW_GCBS9                                                     4   \n",
       "RAW_GCBS10                                                    5   \n",
       "RAW_GCBS11                                                    5   \n",
       "RAW_GCBS12                                                    5   \n",
       "RAW_GCBS13                                                    3   \n",
       "RAW_GCBS14                                                    5   \n",
       "RAW_GCBS15                                                    5   \n",
       "RAW_TIPI1                                                     5   \n",
       "RAW_TIPI2                                                     3   \n",
       "RAW_TIPI3                                                     6   \n",
       "RAW_TIPI4                                                     2   \n",
       "RAW_TIPI5                                                     6   \n",
       "RAW_TIPI6                                                     6   \n",
       "RAW_TIPI7                                                     7   \n",
       "RAW_TIPI8                                                     2   \n",
       "RAW_TIPI9                                                     7   \n",
       "RAW_TIPI10                                                    1   \n",
       "DEMO_education                                University degree   \n",
       "DEMO_urban                                                  NaN   \n",
       "DEMO_gender                                                Male   \n",
       "DEMO_engnat                          Non-native English speaker   \n",
       "DEMO_age                                                   28.0   \n",
       "DEMO_hand                                          Right-handed   \n",
       "DEMO_religion                                           Atheist   \n",
       "DEMO_orientation                                   Heterosexual   \n",
       "DEMO_race                                                 Other   \n",
       "DEMO_voted                                                   No   \n",
       "DEMO_married                                      Never married   \n",
       "DEMO_familysize                                             1.0   \n",
       "DEMO_major                                               Acting   \n",
       "DEMO_major_cluster                                         Arts   \n",
       "GCBS_Government_Malfeasance                                  15   \n",
       "GCBS_Malevolent_Global_Conspiracies                          15   \n",
       "GCBS_Extraterrestrial_Coverup                                 9   \n",
       "GCBS_Personal_Wellbeing                                      14   \n",
       "GCBS_Control_Of_Information                                  15   \n",
       "GCBS_Overall                                                 68   \n",
       "TIPI_Extraversion                                             7   \n",
       "TIPI_Agreeableness                                           12   \n",
       "TIPI_Conscientiousness                                       12   \n",
       "TIPI_Emotional_Stability                                     13   \n",
       "TIPI_Openness                                                13   \n",
       "SURV_ValidityCheck_Errors                                     0   \n",
       "SURV_CheckStraightliners_GCBS                             False   \n",
       "SURV_CheckStraightliners_TIPI                             False   \n",
       "SURV_QuickResponse_GCBS                                   False   \n",
       "\n",
       "                                                          1  \\\n",
       "RAW_GCBS1                                                 5   \n",
       "RAW_GCBS2                                                 5   \n",
       "RAW_GCBS3                                                 5   \n",
       "RAW_GCBS4                                                 5   \n",
       "RAW_GCBS5                                                 5   \n",
       "RAW_GCBS6                                                 3   \n",
       "RAW_GCBS7                                                 5   \n",
       "RAW_GCBS8                                                 5   \n",
       "RAW_GCBS9                                                 1   \n",
       "RAW_GCBS10                                                4   \n",
       "RAW_GCBS11                                                4   \n",
       "RAW_GCBS12                                                5   \n",
       "RAW_GCBS13                                                4   \n",
       "RAW_GCBS14                                                4   \n",
       "RAW_GCBS15                                                5   \n",
       "RAW_TIPI1                                                 6   \n",
       "RAW_TIPI2                                                 7   \n",
       "RAW_TIPI3                                                 6   \n",
       "RAW_TIPI4                                                 7   \n",
       "RAW_TIPI5                                                 6   \n",
       "RAW_TIPI6                                                 3   \n",
       "RAW_TIPI7                                                 7   \n",
       "RAW_TIPI8                                                 5   \n",
       "RAW_TIPI9                                                 1   \n",
       "RAW_TIPI10                                                1   \n",
       "DEMO_education                        Less than high school   \n",
       "DEMO_urban                                         Suburban   \n",
       "DEMO_gender                                          Female   \n",
       "DEMO_engnat                          Native English speaker   \n",
       "DEMO_age                                               14.0   \n",
       "DEMO_hand                                      Right-handed   \n",
       "DEMO_religion                                      Agnostic   \n",
       "DEMO_orientation                                   Bisexual   \n",
       "DEMO_race                                             White   \n",
       "DEMO_voted                                               No   \n",
       "DEMO_married                                  Never married   \n",
       "DEMO_familysize                                         1.0   \n",
       "DEMO_major                                              NaN   \n",
       "DEMO_major_cluster                                      NaN   \n",
       "GCBS_Government_Malfeasance                              12   \n",
       "GCBS_Malevolent_Global_Conspiracies                      15   \n",
       "GCBS_Extraterrestrial_Coverup                            14   \n",
       "GCBS_Personal_Wellbeing                                  10   \n",
       "GCBS_Control_Of_Information                              14   \n",
       "GCBS_Overall                                             65   \n",
       "TIPI_Extraversion                                        11   \n",
       "TIPI_Agreeableness                                        8   \n",
       "TIPI_Conscientiousness                                    9   \n",
       "TIPI_Emotional_Stability                                  2   \n",
       "TIPI_Openness                                            13   \n",
       "SURV_ValidityCheck_Errors                                 0   \n",
       "SURV_CheckStraightliners_GCBS                         False   \n",
       "SURV_CheckStraightliners_TIPI                         False   \n",
       "SURV_QuickResponse_GCBS                               False   \n",
       "\n",
       "                                                                            2  \\\n",
       "RAW_GCBS1                                                                   2   \n",
       "RAW_GCBS2                                                                   4   \n",
       "RAW_GCBS3                                                                   1   \n",
       "RAW_GCBS4                                                                   2   \n",
       "RAW_GCBS5                                                                   2   \n",
       "RAW_GCBS6                                                                   2   \n",
       "RAW_GCBS7                                                                   4   \n",
       "RAW_GCBS8                                                                   2   \n",
       "RAW_GCBS9                                                                   2   \n",
       "RAW_GCBS10                                                                  4   \n",
       "RAW_GCBS11                                                                  2   \n",
       "RAW_GCBS12                                                                  4   \n",
       "RAW_GCBS13                                                                  0   \n",
       "RAW_GCBS14                                                                  2   \n",
       "RAW_GCBS15                                                                  4   \n",
       "RAW_TIPI1                                                                   6   \n",
       "RAW_TIPI2                                                                   6   \n",
       "RAW_TIPI3                                                                   6   \n",
       "RAW_TIPI4                                                                   1   \n",
       "RAW_TIPI5                                                                   7   \n",
       "RAW_TIPI6                                                                   5   \n",
       "RAW_TIPI7                                                                   6   \n",
       "RAW_TIPI8                                                                   5   \n",
       "RAW_TIPI9                                                                   7   \n",
       "RAW_TIPI10                                                                  7   \n",
       "DEMO_education                                                Graduate degree   \n",
       "DEMO_urban                                                           Suburban   \n",
       "DEMO_gender                                                            Female   \n",
       "DEMO_engnat                                        Non-native English speaker   \n",
       "DEMO_age                                                                 26.0   \n",
       "DEMO_hand                                                        Right-handed   \n",
       "DEMO_religion                                                        Agnostic   \n",
       "DEMO_orientation                                                 Heterosexual   \n",
       "DEMO_race                                                               White   \n",
       "DEMO_voted                                                                Yes   \n",
       "DEMO_married                                                    Never married   \n",
       "DEMO_familysize                                                           2.0   \n",
       "DEMO_major                                                         Philosophy   \n",
       "DEMO_major_cluster                   Literature, Language, and Social Science   \n",
       "GCBS_Government_Malfeasance                                                 6   \n",
       "GCBS_Malevolent_Global_Conspiracies                                        12   \n",
       "GCBS_Extraterrestrial_Coverup                                               3   \n",
       "GCBS_Personal_Wellbeing                                                     6   \n",
       "GCBS_Control_Of_Information                                                10   \n",
       "GCBS_Overall                                                               37   \n",
       "TIPI_Extraversion                                                           9   \n",
       "TIPI_Agreeableness                                                          8   \n",
       "TIPI_Conscientiousness                                                      9   \n",
       "TIPI_Emotional_Stability                                                   14   \n",
       "TIPI_Openness                                                               8   \n",
       "SURV_ValidityCheck_Errors                                                   1   \n",
       "SURV_CheckStraightliners_GCBS                                           False   \n",
       "SURV_CheckStraightliners_TIPI                                           False   \n",
       "SURV_QuickResponse_GCBS                                                  True   \n",
       "\n",
       "                                                                            3  \\\n",
       "RAW_GCBS1                                                                   5   \n",
       "RAW_GCBS2                                                                   4   \n",
       "RAW_GCBS3                                                                   1   \n",
       "RAW_GCBS4                                                                   2   \n",
       "RAW_GCBS5                                                                   4   \n",
       "RAW_GCBS6                                                                   5   \n",
       "RAW_GCBS7                                                                   4   \n",
       "RAW_GCBS8                                                                   1   \n",
       "RAW_GCBS9                                                                   4   \n",
       "RAW_GCBS10                                                                  5   \n",
       "RAW_GCBS11                                                                  5   \n",
       "RAW_GCBS12                                                                  5   \n",
       "RAW_GCBS13                                                                  1   \n",
       "RAW_GCBS14                                                                  4   \n",
       "RAW_GCBS15                                                                  5   \n",
       "RAW_TIPI1                                                                   6   \n",
       "RAW_TIPI2                                                                   7   \n",
       "RAW_TIPI3                                                                   7   \n",
       "RAW_TIPI4                                                                   5   \n",
       "RAW_TIPI5                                                                   7   \n",
       "RAW_TIPI6                                                                   6   \n",
       "RAW_TIPI7                                                                   5   \n",
       "RAW_TIPI8                                                                   1   \n",
       "RAW_TIPI9                                                                   5   \n",
       "RAW_TIPI10                                                                  1   \n",
       "DEMO_education                                              University degree   \n",
       "DEMO_urban                                               Rural (country side)   \n",
       "DEMO_gender                                                              Male   \n",
       "DEMO_engnat                                            Native English speaker   \n",
       "DEMO_age                                                                 25.0   \n",
       "DEMO_hand                                                        Right-handed   \n",
       "DEMO_religion                                                           Other   \n",
       "DEMO_orientation                                                 Heterosexual   \n",
       "DEMO_race                                                               White   \n",
       "DEMO_voted                                                                Yes   \n",
       "DEMO_married                                                    Never married   \n",
       "DEMO_familysize                                                           3.0   \n",
       "DEMO_major                                                            History   \n",
       "DEMO_major_cluster                   Literature, Language, and Social Science   \n",
       "GCBS_Government_Malfeasance                                                15   \n",
       "GCBS_Malevolent_Global_Conspiracies                                        13   \n",
       "GCBS_Extraterrestrial_Coverup                                               3   \n",
       "GCBS_Personal_Wellbeing                                                    10   \n",
       "GCBS_Control_Of_Information                                                14   \n",
       "GCBS_Overall                                                               55   \n",
       "TIPI_Extraversion                                                           8   \n",
       "TIPI_Agreeableness                                                          6   \n",
       "TIPI_Conscientiousness                                                     14   \n",
       "TIPI_Emotional_Stability                                                    8   \n",
       "TIPI_Openness                                                              14   \n",
       "SURV_ValidityCheck_Errors                                                   0   \n",
       "SURV_CheckStraightliners_GCBS                                           False   \n",
       "SURV_CheckStraightliners_TIPI                                           False   \n",
       "SURV_QuickResponse_GCBS                                                  True   \n",
       "\n",
       "                                                          4  \n",
       "RAW_GCBS1                                                 5  \n",
       "RAW_GCBS2                                                 4  \n",
       "RAW_GCBS3                                                 1  \n",
       "RAW_GCBS4                                                 4  \n",
       "RAW_GCBS5                                                 4  \n",
       "RAW_GCBS6                                                 5  \n",
       "RAW_GCBS7                                                 4  \n",
       "RAW_GCBS8                                                 3  \n",
       "RAW_GCBS9                                                 1  \n",
       "RAW_GCBS10                                                5  \n",
       "RAW_GCBS11                                                5  \n",
       "RAW_GCBS12                                                5  \n",
       "RAW_GCBS13                                                3  \n",
       "RAW_GCBS14                                                5  \n",
       "RAW_GCBS15                                                5  \n",
       "RAW_TIPI1                                                 1  \n",
       "RAW_TIPI2                                                 3  \n",
       "RAW_TIPI3                                                 7  \n",
       "RAW_TIPI4                                                 2  \n",
       "RAW_TIPI5                                                 6  \n",
       "RAW_TIPI6                                                 4  \n",
       "RAW_TIPI7                                                 5  \n",
       "RAW_TIPI8                                                 5  \n",
       "RAW_TIPI9                                                 5  \n",
       "RAW_TIPI10                                                3  \n",
       "DEMO_education                                  High school  \n",
       "DEMO_urban                                         Suburban  \n",
       "DEMO_gender                                            Male  \n",
       "DEMO_engnat                          Native English speaker  \n",
       "DEMO_age                                               37.0  \n",
       "DEMO_hand                                      Right-handed  \n",
       "DEMO_religion                                       Atheist  \n",
       "DEMO_orientation                                   Bisexual  \n",
       "DEMO_race                                             White  \n",
       "DEMO_voted                                               No  \n",
       "DEMO_married                              Currently married  \n",
       "DEMO_familysize                                         2.0  \n",
       "DEMO_major                                              NaN  \n",
       "DEMO_major_cluster                                      NaN  \n",
       "GCBS_Government_Malfeasance                              15  \n",
       "GCBS_Malevolent_Global_Conspiracies                      13  \n",
       "GCBS_Extraterrestrial_Coverup                             7  \n",
       "GCBS_Personal_Wellbeing                                  10  \n",
       "GCBS_Control_Of_Information                              14  \n",
       "GCBS_Overall                                             59  \n",
       "TIPI_Extraversion                                         5  \n",
       "TIPI_Agreeableness                                       10  \n",
       "TIPI_Conscientiousness                                   10  \n",
       "TIPI_Emotional_Stability                                 11  \n",
       "TIPI_Openness                                            11  \n",
       "SURV_ValidityCheck_Errors                                 0  \n",
       "SURV_CheckStraightliners_GCBS                         False  \n",
       "SURV_CheckStraightliners_TIPI                         False  \n",
       "SURV_QuickResponse_GCBS                               False  "
      ]
     },
     "execution_count": 20,
     "metadata": {},
     "output_type": "execute_result"
    }
   ],
   "source": [
    "gcbs_df.head(5).T"
   ]
  },
  {
   "cell_type": "code",
   "execution_count": 21,
   "metadata": {
    "colab": {
     "base_uri": "https://localhost:8080/"
    },
    "id": "OqlOzGrpE6nE",
    "outputId": "e94b8d36-5c67-4724-be3e-abd4f2a8432f"
   },
   "outputs": [
    {
     "name": "stdout",
     "output_type": "stream",
     "text": [
      "<class 'pandas.core.frame.DataFrame'>\n",
      "RangeIndex: 2495 entries, 0 to 2494\n",
      "Data columns (total 54 columns):\n",
      " #   Column                               Non-Null Count  Dtype   \n",
      "---  ------                               --------------  -----   \n",
      " 0   RAW_GCBS1                            2495 non-null   int64   \n",
      " 1   RAW_GCBS2                            2495 non-null   int64   \n",
      " 2   RAW_GCBS3                            2495 non-null   int64   \n",
      " 3   RAW_GCBS4                            2495 non-null   int64   \n",
      " 4   RAW_GCBS5                            2495 non-null   int64   \n",
      " 5   RAW_GCBS6                            2495 non-null   int64   \n",
      " 6   RAW_GCBS7                            2495 non-null   int64   \n",
      " 7   RAW_GCBS8                            2495 non-null   int64   \n",
      " 8   RAW_GCBS9                            2495 non-null   int64   \n",
      " 9   RAW_GCBS10                           2495 non-null   int64   \n",
      " 10  RAW_GCBS11                           2495 non-null   int64   \n",
      " 11  RAW_GCBS12                           2495 non-null   int64   \n",
      " 12  RAW_GCBS13                           2495 non-null   int64   \n",
      " 13  RAW_GCBS14                           2495 non-null   int64   \n",
      " 14  RAW_GCBS15                           2495 non-null   int64   \n",
      " 15  RAW_TIPI1                            2495 non-null   int64   \n",
      " 16  RAW_TIPI2                            2495 non-null   int64   \n",
      " 17  RAW_TIPI3                            2495 non-null   int64   \n",
      " 18  RAW_TIPI4                            2495 non-null   int64   \n",
      " 19  RAW_TIPI5                            2495 non-null   int64   \n",
      " 20  RAW_TIPI6                            2495 non-null   int64   \n",
      " 21  RAW_TIPI7                            2495 non-null   int64   \n",
      " 22  RAW_TIPI8                            2495 non-null   int64   \n",
      " 23  RAW_TIPI9                            2495 non-null   int64   \n",
      " 24  RAW_TIPI10                           2495 non-null   int64   \n",
      " 25  DEMO_education                       2457 non-null   category\n",
      " 26  DEMO_urban                           2456 non-null   category\n",
      " 27  DEMO_gender                          2489 non-null   category\n",
      " 28  DEMO_engnat                          2487 non-null   category\n",
      " 29  DEMO_age                             2493 non-null   float64 \n",
      " 30  DEMO_hand                            2482 non-null   category\n",
      " 31  DEMO_religion                        2464 non-null   category\n",
      " 32  DEMO_orientation                     2456 non-null   category\n",
      " 33  DEMO_race                            2470 non-null   category\n",
      " 34  DEMO_voted                           2472 non-null   category\n",
      " 35  DEMO_married                         2479 non-null   category\n",
      " 36  DEMO_familysize                      2442 non-null   float64 \n",
      " 37  DEMO_major                           934 non-null    object  \n",
      " 38  DEMO_major_cluster                   917 non-null    category\n",
      " 39  GCBS_Government_Malfeasance          2495 non-null   int64   \n",
      " 40  GCBS_Malevolent_Global_Conspiracies  2495 non-null   int64   \n",
      " 41  GCBS_Extraterrestrial_Coverup        2495 non-null   int64   \n",
      " 42  GCBS_Personal_Wellbeing              2495 non-null   int64   \n",
      " 43  GCBS_Control_Of_Information          2495 non-null   int64   \n",
      " 44  GCBS_Overall                         2495 non-null   int64   \n",
      " 45  TIPI_Extraversion                    2495 non-null   int64   \n",
      " 46  TIPI_Agreeableness                   2495 non-null   int64   \n",
      " 47  TIPI_Conscientiousness               2495 non-null   int64   \n",
      " 48  TIPI_Emotional_Stability             2495 non-null   int64   \n",
      " 49  TIPI_Openness                        2495 non-null   int64   \n",
      " 50  SURV_ValidityCheck_Errors            2495 non-null   int64   \n",
      " 51  SURV_CheckStraightliners_GCBS        2495 non-null   bool    \n",
      " 52  SURV_CheckStraightliners_TIPI        2495 non-null   bool    \n",
      " 53  SURV_QuickResponse_GCBS              2495 non-null   bool    \n",
      "dtypes: bool(3), category(11), float64(2), int64(37), object(1)\n",
      "memory usage: 815.9+ KB\n"
     ]
    }
   ],
   "source": [
    "gcbs_df.info()"
   ]
  },
  {
   "cell_type": "code",
   "execution_count": 22,
   "metadata": {
    "colab": {
     "base_uri": "https://localhost:8080/"
    },
    "id": "3z_gCToSLCJP",
    "outputId": "f6ff5c6a-792a-4702-c35e-5c0ebce784c5"
   },
   "outputs": [
    {
     "data": {
      "text/plain": [
       "DEMO_education          38\n",
       "DEMO_urban              39\n",
       "DEMO_gender              6\n",
       "DEMO_engnat              8\n",
       "DEMO_age                 2\n",
       "DEMO_hand               13\n",
       "DEMO_religion           31\n",
       "DEMO_orientation        39\n",
       "DEMO_race               25\n",
       "DEMO_voted              23\n",
       "DEMO_married            16\n",
       "DEMO_familysize         53\n",
       "DEMO_major            1561\n",
       "DEMO_major_cluster    1578\n",
       "dtype: int64"
      ]
     },
     "execution_count": 22,
     "metadata": {},
     "output_type": "execute_result"
    }
   ],
   "source": [
    "gcbs_df.isnull().sum()[gcbs_df.isnull().sum() > 0]"
   ]
  },
  {
   "cell_type": "code",
   "execution_count": 23,
   "metadata": {
    "colab": {
     "base_uri": "https://localhost:8080/",
     "height": 1000
    },
    "id": "uyf6eizNLCqd",
    "outputId": "902ad2fd-0dae-4bbd-c0fd-a34039626386"
   },
   "outputs": [
    {
     "data": {
      "text/html": [
       "<div>\n",
       "<style scoped>\n",
       "    .dataframe tbody tr th:only-of-type {\n",
       "        vertical-align: middle;\n",
       "    }\n",
       "\n",
       "    .dataframe tbody tr th {\n",
       "        vertical-align: top;\n",
       "    }\n",
       "\n",
       "    .dataframe thead th {\n",
       "        text-align: right;\n",
       "    }\n",
       "</style>\n",
       "<table border=\"1\" class=\"dataframe\">\n",
       "  <thead>\n",
       "    <tr style=\"text-align: right;\">\n",
       "      <th></th>\n",
       "      <th>count</th>\n",
       "      <th>mean</th>\n",
       "      <th>std</th>\n",
       "      <th>min</th>\n",
       "      <th>25%</th>\n",
       "      <th>50%</th>\n",
       "      <th>75%</th>\n",
       "      <th>max</th>\n",
       "    </tr>\n",
       "  </thead>\n",
       "  <tbody>\n",
       "    <tr>\n",
       "      <th>RAW_GCBS1</th>\n",
       "      <td>2495.0</td>\n",
       "      <td>3.472545</td>\n",
       "      <td>1.455552</td>\n",
       "      <td>0.0</td>\n",
       "      <td>2.0</td>\n",
       "      <td>4.0</td>\n",
       "      <td>5.0</td>\n",
       "      <td>5.0</td>\n",
       "    </tr>\n",
       "    <tr>\n",
       "      <th>RAW_GCBS2</th>\n",
       "      <td>2495.0</td>\n",
       "      <td>2.963527</td>\n",
       "      <td>1.494669</td>\n",
       "      <td>0.0</td>\n",
       "      <td>2.0</td>\n",
       "      <td>3.0</td>\n",
       "      <td>4.0</td>\n",
       "      <td>5.0</td>\n",
       "    </tr>\n",
       "    <tr>\n",
       "      <th>RAW_GCBS3</th>\n",
       "      <td>2495.0</td>\n",
       "      <td>2.046894</td>\n",
       "      <td>1.387236</td>\n",
       "      <td>0.0</td>\n",
       "      <td>1.0</td>\n",
       "      <td>1.0</td>\n",
       "      <td>3.0</td>\n",
       "      <td>5.0</td>\n",
       "    </tr>\n",
       "    <tr>\n",
       "      <th>RAW_GCBS4</th>\n",
       "      <td>2495.0</td>\n",
       "      <td>2.636072</td>\n",
       "      <td>1.451371</td>\n",
       "      <td>0.0</td>\n",
       "      <td>1.0</td>\n",
       "      <td>2.0</td>\n",
       "      <td>4.0</td>\n",
       "      <td>5.0</td>\n",
       "    </tr>\n",
       "    <tr>\n",
       "      <th>RAW_GCBS5</th>\n",
       "      <td>2495.0</td>\n",
       "      <td>3.254108</td>\n",
       "      <td>1.471855</td>\n",
       "      <td>0.0</td>\n",
       "      <td>2.0</td>\n",
       "      <td>4.0</td>\n",
       "      <td>5.0</td>\n",
       "      <td>5.0</td>\n",
       "    </tr>\n",
       "    <tr>\n",
       "      <th>RAW_GCBS6</th>\n",
       "      <td>2495.0</td>\n",
       "      <td>3.108617</td>\n",
       "      <td>1.506676</td>\n",
       "      <td>0.0</td>\n",
       "      <td>2.0</td>\n",
       "      <td>3.0</td>\n",
       "      <td>4.0</td>\n",
       "      <td>5.0</td>\n",
       "    </tr>\n",
       "    <tr>\n",
       "      <th>RAW_GCBS7</th>\n",
       "      <td>2495.0</td>\n",
       "      <td>2.666934</td>\n",
       "      <td>1.509954</td>\n",
       "      <td>0.0</td>\n",
       "      <td>1.0</td>\n",
       "      <td>2.0</td>\n",
       "      <td>4.0</td>\n",
       "      <td>5.0</td>\n",
       "    </tr>\n",
       "    <tr>\n",
       "      <th>RAW_GCBS8</th>\n",
       "      <td>2495.0</td>\n",
       "      <td>2.450501</td>\n",
       "      <td>1.569256</td>\n",
       "      <td>0.0</td>\n",
       "      <td>1.0</td>\n",
       "      <td>2.0</td>\n",
       "      <td>4.0</td>\n",
       "      <td>5.0</td>\n",
       "    </tr>\n",
       "    <tr>\n",
       "      <th>RAW_GCBS9</th>\n",
       "      <td>2495.0</td>\n",
       "      <td>2.232866</td>\n",
       "      <td>1.419266</td>\n",
       "      <td>0.0</td>\n",
       "      <td>1.0</td>\n",
       "      <td>2.0</td>\n",
       "      <td>3.0</td>\n",
       "      <td>5.0</td>\n",
       "    </tr>\n",
       "    <tr>\n",
       "      <th>RAW_GCBS10</th>\n",
       "      <td>2495.0</td>\n",
       "      <td>3.502204</td>\n",
       "      <td>1.388713</td>\n",
       "      <td>1.0</td>\n",
       "      <td>2.0</td>\n",
       "      <td>4.0</td>\n",
       "      <td>5.0</td>\n",
       "      <td>5.0</td>\n",
       "    </tr>\n",
       "    <tr>\n",
       "      <th>RAW_GCBS11</th>\n",
       "      <td>2495.0</td>\n",
       "      <td>3.265331</td>\n",
       "      <td>1.400302</td>\n",
       "      <td>0.0</td>\n",
       "      <td>2.0</td>\n",
       "      <td>4.0</td>\n",
       "      <td>4.0</td>\n",
       "      <td>5.0</td>\n",
       "    </tr>\n",
       "    <tr>\n",
       "      <th>RAW_GCBS12</th>\n",
       "      <td>2495.0</td>\n",
       "      <td>2.644890</td>\n",
       "      <td>1.504787</td>\n",
       "      <td>0.0</td>\n",
       "      <td>1.0</td>\n",
       "      <td>2.0</td>\n",
       "      <td>4.0</td>\n",
       "      <td>5.0</td>\n",
       "    </tr>\n",
       "    <tr>\n",
       "      <th>RAW_GCBS13</th>\n",
       "      <td>2495.0</td>\n",
       "      <td>2.103006</td>\n",
       "      <td>1.382461</td>\n",
       "      <td>0.0</td>\n",
       "      <td>1.0</td>\n",
       "      <td>1.0</td>\n",
       "      <td>3.0</td>\n",
       "      <td>5.0</td>\n",
       "    </tr>\n",
       "    <tr>\n",
       "      <th>RAW_GCBS14</th>\n",
       "      <td>2495.0</td>\n",
       "      <td>2.955912</td>\n",
       "      <td>1.489222</td>\n",
       "      <td>0.0</td>\n",
       "      <td>1.0</td>\n",
       "      <td>3.0</td>\n",
       "      <td>4.0</td>\n",
       "      <td>5.0</td>\n",
       "    </tr>\n",
       "    <tr>\n",
       "      <th>RAW_GCBS15</th>\n",
       "      <td>2495.0</td>\n",
       "      <td>4.227655</td>\n",
       "      <td>1.104538</td>\n",
       "      <td>0.0</td>\n",
       "      <td>4.0</td>\n",
       "      <td>5.0</td>\n",
       "      <td>5.0</td>\n",
       "      <td>5.0</td>\n",
       "    </tr>\n",
       "    <tr>\n",
       "      <th>RAW_TIPI1</th>\n",
       "      <td>2495.0</td>\n",
       "      <td>3.483367</td>\n",
       "      <td>1.986629</td>\n",
       "      <td>0.0</td>\n",
       "      <td>2.0</td>\n",
       "      <td>3.0</td>\n",
       "      <td>5.0</td>\n",
       "      <td>7.0</td>\n",
       "    </tr>\n",
       "    <tr>\n",
       "      <th>RAW_TIPI2</th>\n",
       "      <td>2495.0</td>\n",
       "      <td>4.373547</td>\n",
       "      <td>1.863189</td>\n",
       "      <td>0.0</td>\n",
       "      <td>3.0</td>\n",
       "      <td>5.0</td>\n",
       "      <td>6.0</td>\n",
       "      <td>7.0</td>\n",
       "    </tr>\n",
       "    <tr>\n",
       "      <th>RAW_TIPI3</th>\n",
       "      <td>2495.0</td>\n",
       "      <td>4.777555</td>\n",
       "      <td>1.763883</td>\n",
       "      <td>0.0</td>\n",
       "      <td>3.0</td>\n",
       "      <td>5.0</td>\n",
       "      <td>6.0</td>\n",
       "      <td>7.0</td>\n",
       "    </tr>\n",
       "    <tr>\n",
       "      <th>RAW_TIPI4</th>\n",
       "      <td>2495.0</td>\n",
       "      <td>4.333467</td>\n",
       "      <td>2.043292</td>\n",
       "      <td>0.0</td>\n",
       "      <td>2.0</td>\n",
       "      <td>5.0</td>\n",
       "      <td>6.0</td>\n",
       "      <td>7.0</td>\n",
       "    </tr>\n",
       "    <tr>\n",
       "      <th>RAW_TIPI5</th>\n",
       "      <td>2495.0</td>\n",
       "      <td>5.630060</td>\n",
       "      <td>1.414999</td>\n",
       "      <td>0.0</td>\n",
       "      <td>5.0</td>\n",
       "      <td>6.0</td>\n",
       "      <td>7.0</td>\n",
       "      <td>7.0</td>\n",
       "    </tr>\n",
       "    <tr>\n",
       "      <th>RAW_TIPI6</th>\n",
       "      <td>2495.0</td>\n",
       "      <td>5.024048</td>\n",
       "      <td>1.834639</td>\n",
       "      <td>0.0</td>\n",
       "      <td>4.0</td>\n",
       "      <td>5.0</td>\n",
       "      <td>7.0</td>\n",
       "      <td>7.0</td>\n",
       "    </tr>\n",
       "    <tr>\n",
       "      <th>RAW_TIPI7</th>\n",
       "      <td>2495.0</td>\n",
       "      <td>4.967936</td>\n",
       "      <td>1.756810</td>\n",
       "      <td>0.0</td>\n",
       "      <td>4.0</td>\n",
       "      <td>5.0</td>\n",
       "      <td>6.0</td>\n",
       "      <td>7.0</td>\n",
       "    </tr>\n",
       "    <tr>\n",
       "      <th>RAW_TIPI8</th>\n",
       "      <td>2495.0</td>\n",
       "      <td>4.030461</td>\n",
       "      <td>1.919562</td>\n",
       "      <td>0.0</td>\n",
       "      <td>2.0</td>\n",
       "      <td>5.0</td>\n",
       "      <td>5.0</td>\n",
       "      <td>7.0</td>\n",
       "    </tr>\n",
       "    <tr>\n",
       "      <th>RAW_TIPI9</th>\n",
       "      <td>2495.0</td>\n",
       "      <td>4.364329</td>\n",
       "      <td>1.933313</td>\n",
       "      <td>0.0</td>\n",
       "      <td>3.0</td>\n",
       "      <td>5.0</td>\n",
       "      <td>6.0</td>\n",
       "      <td>7.0</td>\n",
       "    </tr>\n",
       "    <tr>\n",
       "      <th>RAW_TIPI10</th>\n",
       "      <td>2495.0</td>\n",
       "      <td>2.537475</td>\n",
       "      <td>1.645660</td>\n",
       "      <td>0.0</td>\n",
       "      <td>1.0</td>\n",
       "      <td>2.0</td>\n",
       "      <td>3.0</td>\n",
       "      <td>7.0</td>\n",
       "    </tr>\n",
       "    <tr>\n",
       "      <th>DEMO_age</th>\n",
       "      <td>2493.0</td>\n",
       "      <td>27.626554</td>\n",
       "      <td>13.355783</td>\n",
       "      <td>13.0</td>\n",
       "      <td>18.0</td>\n",
       "      <td>22.0</td>\n",
       "      <td>35.0</td>\n",
       "      <td>75.0</td>\n",
       "    </tr>\n",
       "    <tr>\n",
       "      <th>DEMO_familysize</th>\n",
       "      <td>2442.0</td>\n",
       "      <td>2.545864</td>\n",
       "      <td>1.226393</td>\n",
       "      <td>1.0</td>\n",
       "      <td>2.0</td>\n",
       "      <td>2.0</td>\n",
       "      <td>3.0</td>\n",
       "      <td>10.0</td>\n",
       "    </tr>\n",
       "    <tr>\n",
       "      <th>GCBS_Government_Malfeasance</th>\n",
       "      <td>2495.0</td>\n",
       "      <td>9.846493</td>\n",
       "      <td>3.790748</td>\n",
       "      <td>2.0</td>\n",
       "      <td>7.0</td>\n",
       "      <td>10.0</td>\n",
       "      <td>13.0</td>\n",
       "      <td>15.0</td>\n",
       "    </tr>\n",
       "    <tr>\n",
       "      <th>GCBS_Malevolent_Global_Conspiracies</th>\n",
       "      <td>2495.0</td>\n",
       "      <td>8.275351</td>\n",
       "      <td>4.057023</td>\n",
       "      <td>2.0</td>\n",
       "      <td>4.0</td>\n",
       "      <td>8.0</td>\n",
       "      <td>12.0</td>\n",
       "      <td>15.0</td>\n",
       "    </tr>\n",
       "    <tr>\n",
       "      <th>GCBS_Extraterrestrial_Coverup</th>\n",
       "      <td>2495.0</td>\n",
       "      <td>6.600401</td>\n",
       "      <td>3.965701</td>\n",
       "      <td>2.0</td>\n",
       "      <td>3.0</td>\n",
       "      <td>5.0</td>\n",
       "      <td>9.0</td>\n",
       "      <td>15.0</td>\n",
       "    </tr>\n",
       "    <tr>\n",
       "      <th>GCBS_Personal_Wellbeing</th>\n",
       "      <td>2495.0</td>\n",
       "      <td>7.824850</td>\n",
       "      <td>3.690538</td>\n",
       "      <td>2.0</td>\n",
       "      <td>4.0</td>\n",
       "      <td>7.0</td>\n",
       "      <td>11.0</td>\n",
       "      <td>15.0</td>\n",
       "    </tr>\n",
       "    <tr>\n",
       "      <th>GCBS_Control_Of_Information</th>\n",
       "      <td>2495.0</td>\n",
       "      <td>10.983968</td>\n",
       "      <td>3.147749</td>\n",
       "      <td>3.0</td>\n",
       "      <td>9.0</td>\n",
       "      <td>12.0</td>\n",
       "      <td>13.0</td>\n",
       "      <td>15.0</td>\n",
       "    </tr>\n",
       "    <tr>\n",
       "      <th>GCBS_Overall</th>\n",
       "      <td>2495.0</td>\n",
       "      <td>43.531062</td>\n",
       "      <td>15.508351</td>\n",
       "      <td>13.0</td>\n",
       "      <td>31.0</td>\n",
       "      <td>43.0</td>\n",
       "      <td>55.0</td>\n",
       "      <td>75.0</td>\n",
       "    </tr>\n",
       "    <tr>\n",
       "      <th>TIPI_Extraversion</th>\n",
       "      <td>2495.0</td>\n",
       "      <td>6.459319</td>\n",
       "      <td>3.386824</td>\n",
       "      <td>1.0</td>\n",
       "      <td>4.0</td>\n",
       "      <td>6.0</td>\n",
       "      <td>9.0</td>\n",
       "      <td>14.0</td>\n",
       "    </tr>\n",
       "    <tr>\n",
       "      <th>TIPI_Agreeableness</th>\n",
       "      <td>2495.0</td>\n",
       "      <td>8.594389</td>\n",
       "      <td>2.865015</td>\n",
       "      <td>2.0</td>\n",
       "      <td>7.0</td>\n",
       "      <td>9.0</td>\n",
       "      <td>11.0</td>\n",
       "      <td>15.0</td>\n",
       "    </tr>\n",
       "    <tr>\n",
       "      <th>TIPI_Conscientiousness</th>\n",
       "      <td>2495.0</td>\n",
       "      <td>8.747094</td>\n",
       "      <td>3.112268</td>\n",
       "      <td>2.0</td>\n",
       "      <td>6.0</td>\n",
       "      <td>9.0</td>\n",
       "      <td>11.0</td>\n",
       "      <td>15.0</td>\n",
       "    </tr>\n",
       "    <tr>\n",
       "      <th>TIPI_Emotional_Stability</th>\n",
       "      <td>2495.0</td>\n",
       "      <td>8.030862</td>\n",
       "      <td>3.553612</td>\n",
       "      <td>2.0</td>\n",
       "      <td>5.0</td>\n",
       "      <td>8.0</td>\n",
       "      <td>11.0</td>\n",
       "      <td>15.0</td>\n",
       "    </tr>\n",
       "    <tr>\n",
       "      <th>TIPI_Openness</th>\n",
       "      <td>2495.0</td>\n",
       "      <td>11.092585</td>\n",
       "      <td>2.404187</td>\n",
       "      <td>2.0</td>\n",
       "      <td>10.0</td>\n",
       "      <td>12.0</td>\n",
       "      <td>13.0</td>\n",
       "      <td>15.0</td>\n",
       "    </tr>\n",
       "    <tr>\n",
       "      <th>SURV_ValidityCheck_Errors</th>\n",
       "      <td>2495.0</td>\n",
       "      <td>0.331062</td>\n",
       "      <td>0.673279</td>\n",
       "      <td>0.0</td>\n",
       "      <td>0.0</td>\n",
       "      <td>0.0</td>\n",
       "      <td>0.0</td>\n",
       "      <td>3.0</td>\n",
       "    </tr>\n",
       "  </tbody>\n",
       "</table>\n",
       "</div>"
      ],
      "text/plain": [
       "                                      count       mean        std   min   25%  \\\n",
       "RAW_GCBS1                            2495.0   3.472545   1.455552   0.0   2.0   \n",
       "RAW_GCBS2                            2495.0   2.963527   1.494669   0.0   2.0   \n",
       "RAW_GCBS3                            2495.0   2.046894   1.387236   0.0   1.0   \n",
       "RAW_GCBS4                            2495.0   2.636072   1.451371   0.0   1.0   \n",
       "RAW_GCBS5                            2495.0   3.254108   1.471855   0.0   2.0   \n",
       "RAW_GCBS6                            2495.0   3.108617   1.506676   0.0   2.0   \n",
       "RAW_GCBS7                            2495.0   2.666934   1.509954   0.0   1.0   \n",
       "RAW_GCBS8                            2495.0   2.450501   1.569256   0.0   1.0   \n",
       "RAW_GCBS9                            2495.0   2.232866   1.419266   0.0   1.0   \n",
       "RAW_GCBS10                           2495.0   3.502204   1.388713   1.0   2.0   \n",
       "RAW_GCBS11                           2495.0   3.265331   1.400302   0.0   2.0   \n",
       "RAW_GCBS12                           2495.0   2.644890   1.504787   0.0   1.0   \n",
       "RAW_GCBS13                           2495.0   2.103006   1.382461   0.0   1.0   \n",
       "RAW_GCBS14                           2495.0   2.955912   1.489222   0.0   1.0   \n",
       "RAW_GCBS15                           2495.0   4.227655   1.104538   0.0   4.0   \n",
       "RAW_TIPI1                            2495.0   3.483367   1.986629   0.0   2.0   \n",
       "RAW_TIPI2                            2495.0   4.373547   1.863189   0.0   3.0   \n",
       "RAW_TIPI3                            2495.0   4.777555   1.763883   0.0   3.0   \n",
       "RAW_TIPI4                            2495.0   4.333467   2.043292   0.0   2.0   \n",
       "RAW_TIPI5                            2495.0   5.630060   1.414999   0.0   5.0   \n",
       "RAW_TIPI6                            2495.0   5.024048   1.834639   0.0   4.0   \n",
       "RAW_TIPI7                            2495.0   4.967936   1.756810   0.0   4.0   \n",
       "RAW_TIPI8                            2495.0   4.030461   1.919562   0.0   2.0   \n",
       "RAW_TIPI9                            2495.0   4.364329   1.933313   0.0   3.0   \n",
       "RAW_TIPI10                           2495.0   2.537475   1.645660   0.0   1.0   \n",
       "DEMO_age                             2493.0  27.626554  13.355783  13.0  18.0   \n",
       "DEMO_familysize                      2442.0   2.545864   1.226393   1.0   2.0   \n",
       "GCBS_Government_Malfeasance          2495.0   9.846493   3.790748   2.0   7.0   \n",
       "GCBS_Malevolent_Global_Conspiracies  2495.0   8.275351   4.057023   2.0   4.0   \n",
       "GCBS_Extraterrestrial_Coverup        2495.0   6.600401   3.965701   2.0   3.0   \n",
       "GCBS_Personal_Wellbeing              2495.0   7.824850   3.690538   2.0   4.0   \n",
       "GCBS_Control_Of_Information          2495.0  10.983968   3.147749   3.0   9.0   \n",
       "GCBS_Overall                         2495.0  43.531062  15.508351  13.0  31.0   \n",
       "TIPI_Extraversion                    2495.0   6.459319   3.386824   1.0   4.0   \n",
       "TIPI_Agreeableness                   2495.0   8.594389   2.865015   2.0   7.0   \n",
       "TIPI_Conscientiousness               2495.0   8.747094   3.112268   2.0   6.0   \n",
       "TIPI_Emotional_Stability             2495.0   8.030862   3.553612   2.0   5.0   \n",
       "TIPI_Openness                        2495.0  11.092585   2.404187   2.0  10.0   \n",
       "SURV_ValidityCheck_Errors            2495.0   0.331062   0.673279   0.0   0.0   \n",
       "\n",
       "                                      50%   75%   max  \n",
       "RAW_GCBS1                             4.0   5.0   5.0  \n",
       "RAW_GCBS2                             3.0   4.0   5.0  \n",
       "RAW_GCBS3                             1.0   3.0   5.0  \n",
       "RAW_GCBS4                             2.0   4.0   5.0  \n",
       "RAW_GCBS5                             4.0   5.0   5.0  \n",
       "RAW_GCBS6                             3.0   4.0   5.0  \n",
       "RAW_GCBS7                             2.0   4.0   5.0  \n",
       "RAW_GCBS8                             2.0   4.0   5.0  \n",
       "RAW_GCBS9                             2.0   3.0   5.0  \n",
       "RAW_GCBS10                            4.0   5.0   5.0  \n",
       "RAW_GCBS11                            4.0   4.0   5.0  \n",
       "RAW_GCBS12                            2.0   4.0   5.0  \n",
       "RAW_GCBS13                            1.0   3.0   5.0  \n",
       "RAW_GCBS14                            3.0   4.0   5.0  \n",
       "RAW_GCBS15                            5.0   5.0   5.0  \n",
       "RAW_TIPI1                             3.0   5.0   7.0  \n",
       "RAW_TIPI2                             5.0   6.0   7.0  \n",
       "RAW_TIPI3                             5.0   6.0   7.0  \n",
       "RAW_TIPI4                             5.0   6.0   7.0  \n",
       "RAW_TIPI5                             6.0   7.0   7.0  \n",
       "RAW_TIPI6                             5.0   7.0   7.0  \n",
       "RAW_TIPI7                             5.0   6.0   7.0  \n",
       "RAW_TIPI8                             5.0   5.0   7.0  \n",
       "RAW_TIPI9                             5.0   6.0   7.0  \n",
       "RAW_TIPI10                            2.0   3.0   7.0  \n",
       "DEMO_age                             22.0  35.0  75.0  \n",
       "DEMO_familysize                       2.0   3.0  10.0  \n",
       "GCBS_Government_Malfeasance          10.0  13.0  15.0  \n",
       "GCBS_Malevolent_Global_Conspiracies   8.0  12.0  15.0  \n",
       "GCBS_Extraterrestrial_Coverup         5.0   9.0  15.0  \n",
       "GCBS_Personal_Wellbeing               7.0  11.0  15.0  \n",
       "GCBS_Control_Of_Information          12.0  13.0  15.0  \n",
       "GCBS_Overall                         43.0  55.0  75.0  \n",
       "TIPI_Extraversion                     6.0   9.0  14.0  \n",
       "TIPI_Agreeableness                    9.0  11.0  15.0  \n",
       "TIPI_Conscientiousness                9.0  11.0  15.0  \n",
       "TIPI_Emotional_Stability              8.0  11.0  15.0  \n",
       "TIPI_Openness                        12.0  13.0  15.0  \n",
       "SURV_ValidityCheck_Errors             0.0   0.0   3.0  "
      ]
     },
     "execution_count": 23,
     "metadata": {},
     "output_type": "execute_result"
    }
   ],
   "source": [
    "gcbs_df.describe().T"
   ]
  },
  {
   "cell_type": "markdown",
   "metadata": {
    "id": "ZZE_keZbTac-"
   },
   "source": [
    "# Data cleaning\n",
    "\n",
    "* Esclusione dei partecipanti con età inferiore a 18 anni in quanto la scala GCBS è validata solo per 18+\n",
    "* Esclusione dei partecipanti che hanno dato risposte veloci, hanno fallito i validity check o hanno dato risposte straightline\n",
    "* Rimozione di eventuali duplicati\n",
    "* Ouliers in social science https://methods.sagepub.com/reference/encyc-of-research-design/n296.xml#:~:text=An%20outlier%20can%20represent%20a,the%20part%20of%20the%20experimenter."
   ]
  },
  {
   "cell_type": "code",
   "execution_count": 24,
   "metadata": {
    "id": "mggi9CHESdCV"
   },
   "outputs": [],
   "source": [
    "age_mask = gcbs_df['DEMO_age'] >= 18\n",
    "validity_check_erros_mask = gcbs_df['SURV_ValidityCheck_Errors'] == 0\n",
    "check_straightliners_gcbs_mask = gcbs_df['SURV_CheckStraightliners_GCBS'] == False\n",
    "check_straightliners_tipi_mask = gcbs_df['SURV_CheckStraightliners_TIPI'] == False\n",
    "quick_response_gcbs_mask = gcbs_df['SURV_QuickResponse_GCBS'] == False"
   ]
  },
  {
   "cell_type": "code",
   "execution_count": 25,
   "metadata": {
    "id": "44YFBa7UYm55"
   },
   "outputs": [],
   "source": [
    "gcbs_clean_df = gcbs_df[age_mask & validity_check_erros_mask & check_straightliners_gcbs_mask & check_straightliners_tipi_mask & quick_response_gcbs_mask]\n",
    "gcbs_clean_df = gcbs_clean_df.reset_index(drop=True)\n",
    "gcbs_clean_df = gcbs_clean_df.drop(['SURV_ValidityCheck_Errors','SURV_CheckStraightliners_GCBS','SURV_CheckStraightliners_TIPI','SURV_QuickResponse_GCBS'], axis=1)"
   ]
  },
  {
   "cell_type": "code",
   "execution_count": 26,
   "metadata": {
    "colab": {
     "base_uri": "https://localhost:8080/",
     "height": 1000
    },
    "id": "3iPpIva9Z20F",
    "outputId": "510d0356-c592-45dd-9c4f-34e59a6b6619"
   },
   "outputs": [
    {
     "data": {
      "text/html": [
       "<div>\n",
       "<style scoped>\n",
       "    .dataframe tbody tr th:only-of-type {\n",
       "        vertical-align: middle;\n",
       "    }\n",
       "\n",
       "    .dataframe tbody tr th {\n",
       "        vertical-align: top;\n",
       "    }\n",
       "\n",
       "    .dataframe thead th {\n",
       "        text-align: right;\n",
       "    }\n",
       "</style>\n",
       "<table border=\"1\" class=\"dataframe\">\n",
       "  <thead>\n",
       "    <tr style=\"text-align: right;\">\n",
       "      <th></th>\n",
       "      <th>0</th>\n",
       "      <th>1</th>\n",
       "      <th>2</th>\n",
       "      <th>3</th>\n",
       "      <th>4</th>\n",
       "    </tr>\n",
       "  </thead>\n",
       "  <tbody>\n",
       "    <tr>\n",
       "      <th>RAW_GCBS1</th>\n",
       "      <td>5</td>\n",
       "      <td>5</td>\n",
       "      <td>5</td>\n",
       "      <td>5</td>\n",
       "      <td>4</td>\n",
       "    </tr>\n",
       "    <tr>\n",
       "      <th>RAW_GCBS2</th>\n",
       "      <td>5</td>\n",
       "      <td>4</td>\n",
       "      <td>4</td>\n",
       "      <td>4</td>\n",
       "      <td>4</td>\n",
       "    </tr>\n",
       "    <tr>\n",
       "      <th>RAW_GCBS3</th>\n",
       "      <td>3</td>\n",
       "      <td>1</td>\n",
       "      <td>3</td>\n",
       "      <td>2</td>\n",
       "      <td>1</td>\n",
       "    </tr>\n",
       "    <tr>\n",
       "      <th>RAW_GCBS4</th>\n",
       "      <td>5</td>\n",
       "      <td>4</td>\n",
       "      <td>3</td>\n",
       "      <td>4</td>\n",
       "      <td>3</td>\n",
       "    </tr>\n",
       "    <tr>\n",
       "      <th>RAW_GCBS5</th>\n",
       "      <td>5</td>\n",
       "      <td>4</td>\n",
       "      <td>4</td>\n",
       "      <td>5</td>\n",
       "      <td>4</td>\n",
       "    </tr>\n",
       "    <tr>\n",
       "      <th>RAW_GCBS6</th>\n",
       "      <td>5</td>\n",
       "      <td>5</td>\n",
       "      <td>5</td>\n",
       "      <td>5</td>\n",
       "      <td>2</td>\n",
       "    </tr>\n",
       "    <tr>\n",
       "      <th>RAW_GCBS7</th>\n",
       "      <td>5</td>\n",
       "      <td>4</td>\n",
       "      <td>5</td>\n",
       "      <td>3</td>\n",
       "      <td>4</td>\n",
       "    </tr>\n",
       "    <tr>\n",
       "      <th>RAW_GCBS8</th>\n",
       "      <td>3</td>\n",
       "      <td>3</td>\n",
       "      <td>5</td>\n",
       "      <td>3</td>\n",
       "      <td>1</td>\n",
       "    </tr>\n",
       "    <tr>\n",
       "      <th>RAW_GCBS9</th>\n",
       "      <td>4</td>\n",
       "      <td>1</td>\n",
       "      <td>5</td>\n",
       "      <td>5</td>\n",
       "      <td>1</td>\n",
       "    </tr>\n",
       "    <tr>\n",
       "      <th>RAW_GCBS10</th>\n",
       "      <td>5</td>\n",
       "      <td>5</td>\n",
       "      <td>5</td>\n",
       "      <td>3</td>\n",
       "      <td>4</td>\n",
       "    </tr>\n",
       "    <tr>\n",
       "      <th>RAW_GCBS11</th>\n",
       "      <td>5</td>\n",
       "      <td>5</td>\n",
       "      <td>5</td>\n",
       "      <td>4</td>\n",
       "      <td>4</td>\n",
       "    </tr>\n",
       "    <tr>\n",
       "      <th>RAW_GCBS12</th>\n",
       "      <td>5</td>\n",
       "      <td>5</td>\n",
       "      <td>5</td>\n",
       "      <td>3</td>\n",
       "      <td>1</td>\n",
       "    </tr>\n",
       "    <tr>\n",
       "      <th>RAW_GCBS13</th>\n",
       "      <td>3</td>\n",
       "      <td>3</td>\n",
       "      <td>3</td>\n",
       "      <td>3</td>\n",
       "      <td>1</td>\n",
       "    </tr>\n",
       "    <tr>\n",
       "      <th>RAW_GCBS14</th>\n",
       "      <td>5</td>\n",
       "      <td>5</td>\n",
       "      <td>4</td>\n",
       "      <td>3</td>\n",
       "      <td>4</td>\n",
       "    </tr>\n",
       "    <tr>\n",
       "      <th>RAW_GCBS15</th>\n",
       "      <td>5</td>\n",
       "      <td>5</td>\n",
       "      <td>5</td>\n",
       "      <td>5</td>\n",
       "      <td>4</td>\n",
       "    </tr>\n",
       "    <tr>\n",
       "      <th>RAW_TIPI1</th>\n",
       "      <td>5</td>\n",
       "      <td>1</td>\n",
       "      <td>4</td>\n",
       "      <td>6</td>\n",
       "      <td>5</td>\n",
       "    </tr>\n",
       "    <tr>\n",
       "      <th>RAW_TIPI2</th>\n",
       "      <td>3</td>\n",
       "      <td>3</td>\n",
       "      <td>5</td>\n",
       "      <td>2</td>\n",
       "      <td>5</td>\n",
       "    </tr>\n",
       "    <tr>\n",
       "      <th>RAW_TIPI3</th>\n",
       "      <td>6</td>\n",
       "      <td>7</td>\n",
       "      <td>6</td>\n",
       "      <td>6</td>\n",
       "      <td>3</td>\n",
       "    </tr>\n",
       "    <tr>\n",
       "      <th>RAW_TIPI4</th>\n",
       "      <td>2</td>\n",
       "      <td>2</td>\n",
       "      <td>2</td>\n",
       "      <td>1</td>\n",
       "      <td>2</td>\n",
       "    </tr>\n",
       "    <tr>\n",
       "      <th>RAW_TIPI5</th>\n",
       "      <td>6</td>\n",
       "      <td>6</td>\n",
       "      <td>7</td>\n",
       "      <td>6</td>\n",
       "      <td>5</td>\n",
       "    </tr>\n",
       "    <tr>\n",
       "      <th>RAW_TIPI6</th>\n",
       "      <td>6</td>\n",
       "      <td>4</td>\n",
       "      <td>4</td>\n",
       "      <td>5</td>\n",
       "      <td>6</td>\n",
       "    </tr>\n",
       "    <tr>\n",
       "      <th>RAW_TIPI7</th>\n",
       "      <td>7</td>\n",
       "      <td>5</td>\n",
       "      <td>5</td>\n",
       "      <td>7</td>\n",
       "      <td>5</td>\n",
       "    </tr>\n",
       "    <tr>\n",
       "      <th>RAW_TIPI8</th>\n",
       "      <td>2</td>\n",
       "      <td>5</td>\n",
       "      <td>5</td>\n",
       "      <td>4</td>\n",
       "      <td>6</td>\n",
       "    </tr>\n",
       "    <tr>\n",
       "      <th>RAW_TIPI9</th>\n",
       "      <td>7</td>\n",
       "      <td>5</td>\n",
       "      <td>3</td>\n",
       "      <td>5</td>\n",
       "      <td>7</td>\n",
       "    </tr>\n",
       "    <tr>\n",
       "      <th>RAW_TIPI10</th>\n",
       "      <td>1</td>\n",
       "      <td>3</td>\n",
       "      <td>1</td>\n",
       "      <td>2</td>\n",
       "      <td>3</td>\n",
       "    </tr>\n",
       "    <tr>\n",
       "      <th>DEMO_education</th>\n",
       "      <td>University degree</td>\n",
       "      <td>High school</td>\n",
       "      <td>High school</td>\n",
       "      <td>University degree</td>\n",
       "      <td>Graduate degree</td>\n",
       "    </tr>\n",
       "    <tr>\n",
       "      <th>DEMO_urban</th>\n",
       "      <td>NaN</td>\n",
       "      <td>Suburban</td>\n",
       "      <td>Rural (country side)</td>\n",
       "      <td>Suburban</td>\n",
       "      <td>Urban (town, city)</td>\n",
       "    </tr>\n",
       "    <tr>\n",
       "      <th>DEMO_gender</th>\n",
       "      <td>Male</td>\n",
       "      <td>Male</td>\n",
       "      <td>Male</td>\n",
       "      <td>Male</td>\n",
       "      <td>Male</td>\n",
       "    </tr>\n",
       "    <tr>\n",
       "      <th>DEMO_engnat</th>\n",
       "      <td>Non-native English speaker</td>\n",
       "      <td>Native English speaker</td>\n",
       "      <td>Native English speaker</td>\n",
       "      <td>Native English speaker</td>\n",
       "      <td>Native English speaker</td>\n",
       "    </tr>\n",
       "    <tr>\n",
       "      <th>DEMO_age</th>\n",
       "      <td>28.0</td>\n",
       "      <td>37.0</td>\n",
       "      <td>23.0</td>\n",
       "      <td>32.0</td>\n",
       "      <td>35.0</td>\n",
       "    </tr>\n",
       "    <tr>\n",
       "      <th>DEMO_hand</th>\n",
       "      <td>Right-handed</td>\n",
       "      <td>Right-handed</td>\n",
       "      <td>Right-handed</td>\n",
       "      <td>Right-handed</td>\n",
       "      <td>Right-handed</td>\n",
       "    </tr>\n",
       "    <tr>\n",
       "      <th>DEMO_religion</th>\n",
       "      <td>Atheist</td>\n",
       "      <td>Atheist</td>\n",
       "      <td>Atheist</td>\n",
       "      <td>Christian (Other)</td>\n",
       "      <td>Christian (Catholic)</td>\n",
       "    </tr>\n",
       "    <tr>\n",
       "      <th>DEMO_orientation</th>\n",
       "      <td>Heterosexual</td>\n",
       "      <td>Bisexual</td>\n",
       "      <td>Heterosexual</td>\n",
       "      <td>Heterosexual</td>\n",
       "      <td>Heterosexual</td>\n",
       "    </tr>\n",
       "    <tr>\n",
       "      <th>DEMO_race</th>\n",
       "      <td>Other</td>\n",
       "      <td>White</td>\n",
       "      <td>White</td>\n",
       "      <td>White</td>\n",
       "      <td>White</td>\n",
       "    </tr>\n",
       "    <tr>\n",
       "      <th>DEMO_voted</th>\n",
       "      <td>No</td>\n",
       "      <td>No</td>\n",
       "      <td>No</td>\n",
       "      <td>No</td>\n",
       "      <td>No</td>\n",
       "    </tr>\n",
       "    <tr>\n",
       "      <th>DEMO_married</th>\n",
       "      <td>Never married</td>\n",
       "      <td>Currently married</td>\n",
       "      <td>Never married</td>\n",
       "      <td>Never married</td>\n",
       "      <td>Never married</td>\n",
       "    </tr>\n",
       "    <tr>\n",
       "      <th>DEMO_familysize</th>\n",
       "      <td>1.0</td>\n",
       "      <td>2.0</td>\n",
       "      <td>3.0</td>\n",
       "      <td>3.0</td>\n",
       "      <td>3.0</td>\n",
       "    </tr>\n",
       "    <tr>\n",
       "      <th>DEMO_major</th>\n",
       "      <td>Acting</td>\n",
       "      <td>NaN</td>\n",
       "      <td>NaN</td>\n",
       "      <td>Sociology</td>\n",
       "      <td>Religious studies</td>\n",
       "    </tr>\n",
       "    <tr>\n",
       "      <th>DEMO_major_cluster</th>\n",
       "      <td>Arts</td>\n",
       "      <td>NaN</td>\n",
       "      <td>NaN</td>\n",
       "      <td>Literature, Language, and Social Science</td>\n",
       "      <td>Literature, Language, and Social Science</td>\n",
       "    </tr>\n",
       "    <tr>\n",
       "      <th>GCBS_Government_Malfeasance</th>\n",
       "      <td>15</td>\n",
       "      <td>15</td>\n",
       "      <td>15</td>\n",
       "      <td>14</td>\n",
       "      <td>10</td>\n",
       "    </tr>\n",
       "    <tr>\n",
       "      <th>GCBS_Malevolent_Global_Conspiracies</th>\n",
       "      <td>15</td>\n",
       "      <td>13</td>\n",
       "      <td>14</td>\n",
       "      <td>10</td>\n",
       "      <td>9</td>\n",
       "    </tr>\n",
       "    <tr>\n",
       "      <th>GCBS_Extraterrestrial_Coverup</th>\n",
       "      <td>9</td>\n",
       "      <td>7</td>\n",
       "      <td>11</td>\n",
       "      <td>8</td>\n",
       "      <td>3</td>\n",
       "    </tr>\n",
       "    <tr>\n",
       "      <th>GCBS_Personal_Wellbeing</th>\n",
       "      <td>14</td>\n",
       "      <td>10</td>\n",
       "      <td>12</td>\n",
       "      <td>12</td>\n",
       "      <td>8</td>\n",
       "    </tr>\n",
       "    <tr>\n",
       "      <th>GCBS_Control_Of_Information</th>\n",
       "      <td>15</td>\n",
       "      <td>14</td>\n",
       "      <td>14</td>\n",
       "      <td>13</td>\n",
       "      <td>12</td>\n",
       "    </tr>\n",
       "    <tr>\n",
       "      <th>GCBS_Overall</th>\n",
       "      <td>68</td>\n",
       "      <td>59</td>\n",
       "      <td>66</td>\n",
       "      <td>57</td>\n",
       "      <td>42</td>\n",
       "    </tr>\n",
       "    <tr>\n",
       "      <th>TIPI_Extraversion</th>\n",
       "      <td>7</td>\n",
       "      <td>5</td>\n",
       "      <td>8</td>\n",
       "      <td>9</td>\n",
       "      <td>7</td>\n",
       "    </tr>\n",
       "    <tr>\n",
       "      <th>TIPI_Agreeableness</th>\n",
       "      <td>12</td>\n",
       "      <td>10</td>\n",
       "      <td>8</td>\n",
       "      <td>13</td>\n",
       "      <td>8</td>\n",
       "    </tr>\n",
       "    <tr>\n",
       "      <th>TIPI_Conscientiousness</th>\n",
       "      <td>12</td>\n",
       "      <td>10</td>\n",
       "      <td>9</td>\n",
       "      <td>10</td>\n",
       "      <td>5</td>\n",
       "    </tr>\n",
       "    <tr>\n",
       "      <th>TIPI_Emotional_Stability</th>\n",
       "      <td>13</td>\n",
       "      <td>11</td>\n",
       "      <td>9</td>\n",
       "      <td>12</td>\n",
       "      <td>13</td>\n",
       "    </tr>\n",
       "    <tr>\n",
       "      <th>TIPI_Openness</th>\n",
       "      <td>13</td>\n",
       "      <td>11</td>\n",
       "      <td>14</td>\n",
       "      <td>12</td>\n",
       "      <td>10</td>\n",
       "    </tr>\n",
       "  </tbody>\n",
       "</table>\n",
       "</div>"
      ],
      "text/plain": [
       "                                                              0  \\\n",
       "RAW_GCBS1                                                     5   \n",
       "RAW_GCBS2                                                     5   \n",
       "RAW_GCBS3                                                     3   \n",
       "RAW_GCBS4                                                     5   \n",
       "RAW_GCBS5                                                     5   \n",
       "RAW_GCBS6                                                     5   \n",
       "RAW_GCBS7                                                     5   \n",
       "RAW_GCBS8                                                     3   \n",
       "RAW_GCBS9                                                     4   \n",
       "RAW_GCBS10                                                    5   \n",
       "RAW_GCBS11                                                    5   \n",
       "RAW_GCBS12                                                    5   \n",
       "RAW_GCBS13                                                    3   \n",
       "RAW_GCBS14                                                    5   \n",
       "RAW_GCBS15                                                    5   \n",
       "RAW_TIPI1                                                     5   \n",
       "RAW_TIPI2                                                     3   \n",
       "RAW_TIPI3                                                     6   \n",
       "RAW_TIPI4                                                     2   \n",
       "RAW_TIPI5                                                     6   \n",
       "RAW_TIPI6                                                     6   \n",
       "RAW_TIPI7                                                     7   \n",
       "RAW_TIPI8                                                     2   \n",
       "RAW_TIPI9                                                     7   \n",
       "RAW_TIPI10                                                    1   \n",
       "DEMO_education                                University degree   \n",
       "DEMO_urban                                                  NaN   \n",
       "DEMO_gender                                                Male   \n",
       "DEMO_engnat                          Non-native English speaker   \n",
       "DEMO_age                                                   28.0   \n",
       "DEMO_hand                                          Right-handed   \n",
       "DEMO_religion                                           Atheist   \n",
       "DEMO_orientation                                   Heterosexual   \n",
       "DEMO_race                                                 Other   \n",
       "DEMO_voted                                                   No   \n",
       "DEMO_married                                      Never married   \n",
       "DEMO_familysize                                             1.0   \n",
       "DEMO_major                                               Acting   \n",
       "DEMO_major_cluster                                         Arts   \n",
       "GCBS_Government_Malfeasance                                  15   \n",
       "GCBS_Malevolent_Global_Conspiracies                          15   \n",
       "GCBS_Extraterrestrial_Coverup                                 9   \n",
       "GCBS_Personal_Wellbeing                                      14   \n",
       "GCBS_Control_Of_Information                                  15   \n",
       "GCBS_Overall                                                 68   \n",
       "TIPI_Extraversion                                             7   \n",
       "TIPI_Agreeableness                                           12   \n",
       "TIPI_Conscientiousness                                       12   \n",
       "TIPI_Emotional_Stability                                     13   \n",
       "TIPI_Openness                                                13   \n",
       "\n",
       "                                                          1  \\\n",
       "RAW_GCBS1                                                 5   \n",
       "RAW_GCBS2                                                 4   \n",
       "RAW_GCBS3                                                 1   \n",
       "RAW_GCBS4                                                 4   \n",
       "RAW_GCBS5                                                 4   \n",
       "RAW_GCBS6                                                 5   \n",
       "RAW_GCBS7                                                 4   \n",
       "RAW_GCBS8                                                 3   \n",
       "RAW_GCBS9                                                 1   \n",
       "RAW_GCBS10                                                5   \n",
       "RAW_GCBS11                                                5   \n",
       "RAW_GCBS12                                                5   \n",
       "RAW_GCBS13                                                3   \n",
       "RAW_GCBS14                                                5   \n",
       "RAW_GCBS15                                                5   \n",
       "RAW_TIPI1                                                 1   \n",
       "RAW_TIPI2                                                 3   \n",
       "RAW_TIPI3                                                 7   \n",
       "RAW_TIPI4                                                 2   \n",
       "RAW_TIPI5                                                 6   \n",
       "RAW_TIPI6                                                 4   \n",
       "RAW_TIPI7                                                 5   \n",
       "RAW_TIPI8                                                 5   \n",
       "RAW_TIPI9                                                 5   \n",
       "RAW_TIPI10                                                3   \n",
       "DEMO_education                                  High school   \n",
       "DEMO_urban                                         Suburban   \n",
       "DEMO_gender                                            Male   \n",
       "DEMO_engnat                          Native English speaker   \n",
       "DEMO_age                                               37.0   \n",
       "DEMO_hand                                      Right-handed   \n",
       "DEMO_religion                                       Atheist   \n",
       "DEMO_orientation                                   Bisexual   \n",
       "DEMO_race                                             White   \n",
       "DEMO_voted                                               No   \n",
       "DEMO_married                              Currently married   \n",
       "DEMO_familysize                                         2.0   \n",
       "DEMO_major                                              NaN   \n",
       "DEMO_major_cluster                                      NaN   \n",
       "GCBS_Government_Malfeasance                              15   \n",
       "GCBS_Malevolent_Global_Conspiracies                      13   \n",
       "GCBS_Extraterrestrial_Coverup                             7   \n",
       "GCBS_Personal_Wellbeing                                  10   \n",
       "GCBS_Control_Of_Information                              14   \n",
       "GCBS_Overall                                             59   \n",
       "TIPI_Extraversion                                         5   \n",
       "TIPI_Agreeableness                                       10   \n",
       "TIPI_Conscientiousness                                   10   \n",
       "TIPI_Emotional_Stability                                 11   \n",
       "TIPI_Openness                                            11   \n",
       "\n",
       "                                                          2  \\\n",
       "RAW_GCBS1                                                 5   \n",
       "RAW_GCBS2                                                 4   \n",
       "RAW_GCBS3                                                 3   \n",
       "RAW_GCBS4                                                 3   \n",
       "RAW_GCBS5                                                 4   \n",
       "RAW_GCBS6                                                 5   \n",
       "RAW_GCBS7                                                 5   \n",
       "RAW_GCBS8                                                 5   \n",
       "RAW_GCBS9                                                 5   \n",
       "RAW_GCBS10                                                5   \n",
       "RAW_GCBS11                                                5   \n",
       "RAW_GCBS12                                                5   \n",
       "RAW_GCBS13                                                3   \n",
       "RAW_GCBS14                                                4   \n",
       "RAW_GCBS15                                                5   \n",
       "RAW_TIPI1                                                 4   \n",
       "RAW_TIPI2                                                 5   \n",
       "RAW_TIPI3                                                 6   \n",
       "RAW_TIPI4                                                 2   \n",
       "RAW_TIPI5                                                 7   \n",
       "RAW_TIPI6                                                 4   \n",
       "RAW_TIPI7                                                 5   \n",
       "RAW_TIPI8                                                 5   \n",
       "RAW_TIPI9                                                 3   \n",
       "RAW_TIPI10                                                1   \n",
       "DEMO_education                                  High school   \n",
       "DEMO_urban                             Rural (country side)   \n",
       "DEMO_gender                                            Male   \n",
       "DEMO_engnat                          Native English speaker   \n",
       "DEMO_age                                               23.0   \n",
       "DEMO_hand                                      Right-handed   \n",
       "DEMO_religion                                       Atheist   \n",
       "DEMO_orientation                               Heterosexual   \n",
       "DEMO_race                                             White   \n",
       "DEMO_voted                                               No   \n",
       "DEMO_married                                  Never married   \n",
       "DEMO_familysize                                         3.0   \n",
       "DEMO_major                                              NaN   \n",
       "DEMO_major_cluster                                      NaN   \n",
       "GCBS_Government_Malfeasance                              15   \n",
       "GCBS_Malevolent_Global_Conspiracies                      14   \n",
       "GCBS_Extraterrestrial_Coverup                            11   \n",
       "GCBS_Personal_Wellbeing                                  12   \n",
       "GCBS_Control_Of_Information                              14   \n",
       "GCBS_Overall                                             66   \n",
       "TIPI_Extraversion                                         8   \n",
       "TIPI_Agreeableness                                        8   \n",
       "TIPI_Conscientiousness                                    9   \n",
       "TIPI_Emotional_Stability                                  9   \n",
       "TIPI_Openness                                            14   \n",
       "\n",
       "                                                                            3  \\\n",
       "RAW_GCBS1                                                                   5   \n",
       "RAW_GCBS2                                                                   4   \n",
       "RAW_GCBS3                                                                   2   \n",
       "RAW_GCBS4                                                                   4   \n",
       "RAW_GCBS5                                                                   5   \n",
       "RAW_GCBS6                                                                   5   \n",
       "RAW_GCBS7                                                                   3   \n",
       "RAW_GCBS8                                                                   3   \n",
       "RAW_GCBS9                                                                   5   \n",
       "RAW_GCBS10                                                                  3   \n",
       "RAW_GCBS11                                                                  4   \n",
       "RAW_GCBS12                                                                  3   \n",
       "RAW_GCBS13                                                                  3   \n",
       "RAW_GCBS14                                                                  3   \n",
       "RAW_GCBS15                                                                  5   \n",
       "RAW_TIPI1                                                                   6   \n",
       "RAW_TIPI2                                                                   2   \n",
       "RAW_TIPI3                                                                   6   \n",
       "RAW_TIPI4                                                                   1   \n",
       "RAW_TIPI5                                                                   6   \n",
       "RAW_TIPI6                                                                   5   \n",
       "RAW_TIPI7                                                                   7   \n",
       "RAW_TIPI8                                                                   4   \n",
       "RAW_TIPI9                                                                   5   \n",
       "RAW_TIPI10                                                                  2   \n",
       "DEMO_education                                              University degree   \n",
       "DEMO_urban                                                           Suburban   \n",
       "DEMO_gender                                                              Male   \n",
       "DEMO_engnat                                            Native English speaker   \n",
       "DEMO_age                                                                 32.0   \n",
       "DEMO_hand                                                        Right-handed   \n",
       "DEMO_religion                                               Christian (Other)   \n",
       "DEMO_orientation                                                 Heterosexual   \n",
       "DEMO_race                                                               White   \n",
       "DEMO_voted                                                                 No   \n",
       "DEMO_married                                                    Never married   \n",
       "DEMO_familysize                                                           3.0   \n",
       "DEMO_major                                                          Sociology   \n",
       "DEMO_major_cluster                   Literature, Language, and Social Science   \n",
       "GCBS_Government_Malfeasance                                                14   \n",
       "GCBS_Malevolent_Global_Conspiracies                                        10   \n",
       "GCBS_Extraterrestrial_Coverup                                               8   \n",
       "GCBS_Personal_Wellbeing                                                    12   \n",
       "GCBS_Control_Of_Information                                                13   \n",
       "GCBS_Overall                                                               57   \n",
       "TIPI_Extraversion                                                           9   \n",
       "TIPI_Agreeableness                                                         13   \n",
       "TIPI_Conscientiousness                                                     10   \n",
       "TIPI_Emotional_Stability                                                   12   \n",
       "TIPI_Openness                                                              12   \n",
       "\n",
       "                                                                            4  \n",
       "RAW_GCBS1                                                                   4  \n",
       "RAW_GCBS2                                                                   4  \n",
       "RAW_GCBS3                                                                   1  \n",
       "RAW_GCBS4                                                                   3  \n",
       "RAW_GCBS5                                                                   4  \n",
       "RAW_GCBS6                                                                   2  \n",
       "RAW_GCBS7                                                                   4  \n",
       "RAW_GCBS8                                                                   1  \n",
       "RAW_GCBS9                                                                   1  \n",
       "RAW_GCBS10                                                                  4  \n",
       "RAW_GCBS11                                                                  4  \n",
       "RAW_GCBS12                                                                  1  \n",
       "RAW_GCBS13                                                                  1  \n",
       "RAW_GCBS14                                                                  4  \n",
       "RAW_GCBS15                                                                  4  \n",
       "RAW_TIPI1                                                                   5  \n",
       "RAW_TIPI2                                                                   5  \n",
       "RAW_TIPI3                                                                   3  \n",
       "RAW_TIPI4                                                                   2  \n",
       "RAW_TIPI5                                                                   5  \n",
       "RAW_TIPI6                                                                   6  \n",
       "RAW_TIPI7                                                                   5  \n",
       "RAW_TIPI8                                                                   6  \n",
       "RAW_TIPI9                                                                   7  \n",
       "RAW_TIPI10                                                                  3  \n",
       "DEMO_education                                                Graduate degree  \n",
       "DEMO_urban                                                 Urban (town, city)  \n",
       "DEMO_gender                                                              Male  \n",
       "DEMO_engnat                                            Native English speaker  \n",
       "DEMO_age                                                                 35.0  \n",
       "DEMO_hand                                                        Right-handed  \n",
       "DEMO_religion                                            Christian (Catholic)  \n",
       "DEMO_orientation                                                 Heterosexual  \n",
       "DEMO_race                                                               White  \n",
       "DEMO_voted                                                                 No  \n",
       "DEMO_married                                                    Never married  \n",
       "DEMO_familysize                                                           3.0  \n",
       "DEMO_major                                                  Religious studies  \n",
       "DEMO_major_cluster                   Literature, Language, and Social Science  \n",
       "GCBS_Government_Malfeasance                                                10  \n",
       "GCBS_Malevolent_Global_Conspiracies                                         9  \n",
       "GCBS_Extraterrestrial_Coverup                                               3  \n",
       "GCBS_Personal_Wellbeing                                                     8  \n",
       "GCBS_Control_Of_Information                                                12  \n",
       "GCBS_Overall                                                               42  \n",
       "TIPI_Extraversion                                                           7  \n",
       "TIPI_Agreeableness                                                          8  \n",
       "TIPI_Conscientiousness                                                      5  \n",
       "TIPI_Emotional_Stability                                                   13  \n",
       "TIPI_Openness                                                              10  "
      ]
     },
     "execution_count": 26,
     "metadata": {},
     "output_type": "execute_result"
    }
   ],
   "source": [
    "gcbs_clean_df.head(5).T"
   ]
  },
  {
   "cell_type": "code",
   "execution_count": 27,
   "metadata": {
    "colab": {
     "base_uri": "https://localhost:8080/"
    },
    "id": "wqJejYwNZ8u_",
    "outputId": "915ac8ce-b102-4fcf-9d76-c1f2a6c3f272"
   },
   "outputs": [
    {
     "name": "stdout",
     "output_type": "stream",
     "text": [
      "<class 'pandas.core.frame.DataFrame'>\n",
      "RangeIndex: 962 entries, 0 to 961\n",
      "Data columns (total 50 columns):\n",
      " #   Column                               Non-Null Count  Dtype   \n",
      "---  ------                               --------------  -----   \n",
      " 0   RAW_GCBS1                            962 non-null    int64   \n",
      " 1   RAW_GCBS2                            962 non-null    int64   \n",
      " 2   RAW_GCBS3                            962 non-null    int64   \n",
      " 3   RAW_GCBS4                            962 non-null    int64   \n",
      " 4   RAW_GCBS5                            962 non-null    int64   \n",
      " 5   RAW_GCBS6                            962 non-null    int64   \n",
      " 6   RAW_GCBS7                            962 non-null    int64   \n",
      " 7   RAW_GCBS8                            962 non-null    int64   \n",
      " 8   RAW_GCBS9                            962 non-null    int64   \n",
      " 9   RAW_GCBS10                           962 non-null    int64   \n",
      " 10  RAW_GCBS11                           962 non-null    int64   \n",
      " 11  RAW_GCBS12                           962 non-null    int64   \n",
      " 12  RAW_GCBS13                           962 non-null    int64   \n",
      " 13  RAW_GCBS14                           962 non-null    int64   \n",
      " 14  RAW_GCBS15                           962 non-null    int64   \n",
      " 15  RAW_TIPI1                            962 non-null    int64   \n",
      " 16  RAW_TIPI2                            962 non-null    int64   \n",
      " 17  RAW_TIPI3                            962 non-null    int64   \n",
      " 18  RAW_TIPI4                            962 non-null    int64   \n",
      " 19  RAW_TIPI5                            962 non-null    int64   \n",
      " 20  RAW_TIPI6                            962 non-null    int64   \n",
      " 21  RAW_TIPI7                            962 non-null    int64   \n",
      " 22  RAW_TIPI8                            962 non-null    int64   \n",
      " 23  RAW_TIPI9                            962 non-null    int64   \n",
      " 24  RAW_TIPI10                           962 non-null    int64   \n",
      " 25  DEMO_education                       947 non-null    category\n",
      " 26  DEMO_urban                           951 non-null    category\n",
      " 27  DEMO_gender                          960 non-null    category\n",
      " 28  DEMO_engnat                          959 non-null    category\n",
      " 29  DEMO_age                             962 non-null    float64 \n",
      " 30  DEMO_hand                            956 non-null    category\n",
      " 31  DEMO_religion                        955 non-null    category\n",
      " 32  DEMO_orientation                     952 non-null    category\n",
      " 33  DEMO_race                            952 non-null    category\n",
      " 34  DEMO_voted                           951 non-null    category\n",
      " 35  DEMO_married                         958 non-null    category\n",
      " 36  DEMO_familysize                      946 non-null    float64 \n",
      " 37  DEMO_major                           456 non-null    object  \n",
      " 38  DEMO_major_cluster                   445 non-null    category\n",
      " 39  GCBS_Government_Malfeasance          962 non-null    int64   \n",
      " 40  GCBS_Malevolent_Global_Conspiracies  962 non-null    int64   \n",
      " 41  GCBS_Extraterrestrial_Coverup        962 non-null    int64   \n",
      " 42  GCBS_Personal_Wellbeing              962 non-null    int64   \n",
      " 43  GCBS_Control_Of_Information          962 non-null    int64   \n",
      " 44  GCBS_Overall                         962 non-null    int64   \n",
      " 45  TIPI_Extraversion                    962 non-null    int64   \n",
      " 46  TIPI_Agreeableness                   962 non-null    int64   \n",
      " 47  TIPI_Conscientiousness               962 non-null    int64   \n",
      " 48  TIPI_Emotional_Stability             962 non-null    int64   \n",
      " 49  TIPI_Openness                        962 non-null    int64   \n",
      "dtypes: category(11), float64(2), int64(36), object(1)\n",
      "memory usage: 305.5+ KB\n"
     ]
    }
   ],
   "source": [
    "gcbs_clean_df.info()"
   ]
  },
  {
   "cell_type": "code",
   "execution_count": 28,
   "metadata": {
    "colab": {
     "base_uri": "https://localhost:8080/",
     "height": 1000
    },
    "id": "ecl2aMfyaDaW",
    "outputId": "80038020-13fc-4a47-9c8c-af2696652f74"
   },
   "outputs": [
    {
     "data": {
      "text/html": [
       "<div>\n",
       "<style scoped>\n",
       "    .dataframe tbody tr th:only-of-type {\n",
       "        vertical-align: middle;\n",
       "    }\n",
       "\n",
       "    .dataframe tbody tr th {\n",
       "        vertical-align: top;\n",
       "    }\n",
       "\n",
       "    .dataframe thead th {\n",
       "        text-align: right;\n",
       "    }\n",
       "</style>\n",
       "<table border=\"1\" class=\"dataframe\">\n",
       "  <thead>\n",
       "    <tr style=\"text-align: right;\">\n",
       "      <th></th>\n",
       "      <th>count</th>\n",
       "      <th>mean</th>\n",
       "      <th>std</th>\n",
       "      <th>min</th>\n",
       "      <th>25%</th>\n",
       "      <th>50%</th>\n",
       "      <th>75%</th>\n",
       "      <th>max</th>\n",
       "    </tr>\n",
       "  </thead>\n",
       "  <tbody>\n",
       "    <tr>\n",
       "      <th>RAW_GCBS1</th>\n",
       "      <td>962.0</td>\n",
       "      <td>3.598753</td>\n",
       "      <td>1.366737</td>\n",
       "      <td>1.0</td>\n",
       "      <td>3.0</td>\n",
       "      <td>4.0</td>\n",
       "      <td>5.0</td>\n",
       "      <td>5.0</td>\n",
       "    </tr>\n",
       "    <tr>\n",
       "      <th>RAW_GCBS2</th>\n",
       "      <td>962.0</td>\n",
       "      <td>3.099792</td>\n",
       "      <td>1.444938</td>\n",
       "      <td>1.0</td>\n",
       "      <td>2.0</td>\n",
       "      <td>3.0</td>\n",
       "      <td>4.0</td>\n",
       "      <td>5.0</td>\n",
       "    </tr>\n",
       "    <tr>\n",
       "      <th>RAW_GCBS3</th>\n",
       "      <td>962.0</td>\n",
       "      <td>1.918919</td>\n",
       "      <td>1.281289</td>\n",
       "      <td>1.0</td>\n",
       "      <td>1.0</td>\n",
       "      <td>1.0</td>\n",
       "      <td>3.0</td>\n",
       "      <td>5.0</td>\n",
       "    </tr>\n",
       "    <tr>\n",
       "      <th>RAW_GCBS4</th>\n",
       "      <td>962.0</td>\n",
       "      <td>2.663202</td>\n",
       "      <td>1.414536</td>\n",
       "      <td>1.0</td>\n",
       "      <td>1.0</td>\n",
       "      <td>3.0</td>\n",
       "      <td>4.0</td>\n",
       "      <td>5.0</td>\n",
       "    </tr>\n",
       "    <tr>\n",
       "      <th>RAW_GCBS5</th>\n",
       "      <td>962.0</td>\n",
       "      <td>3.330561</td>\n",
       "      <td>1.424069</td>\n",
       "      <td>1.0</td>\n",
       "      <td>2.0</td>\n",
       "      <td>4.0</td>\n",
       "      <td>5.0</td>\n",
       "      <td>5.0</td>\n",
       "    </tr>\n",
       "    <tr>\n",
       "      <th>RAW_GCBS6</th>\n",
       "      <td>962.0</td>\n",
       "      <td>3.185031</td>\n",
       "      <td>1.440121</td>\n",
       "      <td>1.0</td>\n",
       "      <td>2.0</td>\n",
       "      <td>3.0</td>\n",
       "      <td>4.0</td>\n",
       "      <td>5.0</td>\n",
       "    </tr>\n",
       "    <tr>\n",
       "      <th>RAW_GCBS7</th>\n",
       "      <td>962.0</td>\n",
       "      <td>2.794179</td>\n",
       "      <td>1.501732</td>\n",
       "      <td>1.0</td>\n",
       "      <td>1.0</td>\n",
       "      <td>3.0</td>\n",
       "      <td>4.0</td>\n",
       "      <td>5.0</td>\n",
       "    </tr>\n",
       "    <tr>\n",
       "      <th>RAW_GCBS8</th>\n",
       "      <td>962.0</td>\n",
       "      <td>2.386694</td>\n",
       "      <td>1.517895</td>\n",
       "      <td>1.0</td>\n",
       "      <td>1.0</td>\n",
       "      <td>2.0</td>\n",
       "      <td>4.0</td>\n",
       "      <td>5.0</td>\n",
       "    </tr>\n",
       "    <tr>\n",
       "      <th>RAW_GCBS9</th>\n",
       "      <td>962.0</td>\n",
       "      <td>2.286902</td>\n",
       "      <td>1.406398</td>\n",
       "      <td>1.0</td>\n",
       "      <td>1.0</td>\n",
       "      <td>2.0</td>\n",
       "      <td>3.0</td>\n",
       "      <td>5.0</td>\n",
       "    </tr>\n",
       "    <tr>\n",
       "      <th>RAW_GCBS10</th>\n",
       "      <td>962.0</td>\n",
       "      <td>3.576923</td>\n",
       "      <td>1.316195</td>\n",
       "      <td>1.0</td>\n",
       "      <td>3.0</td>\n",
       "      <td>4.0</td>\n",
       "      <td>5.0</td>\n",
       "      <td>5.0</td>\n",
       "    </tr>\n",
       "    <tr>\n",
       "      <th>RAW_GCBS11</th>\n",
       "      <td>962.0</td>\n",
       "      <td>3.365904</td>\n",
       "      <td>1.306034</td>\n",
       "      <td>1.0</td>\n",
       "      <td>2.0</td>\n",
       "      <td>4.0</td>\n",
       "      <td>4.0</td>\n",
       "      <td>5.0</td>\n",
       "    </tr>\n",
       "    <tr>\n",
       "      <th>RAW_GCBS12</th>\n",
       "      <td>962.0</td>\n",
       "      <td>2.776507</td>\n",
       "      <td>1.482099</td>\n",
       "      <td>1.0</td>\n",
       "      <td>1.0</td>\n",
       "      <td>3.0</td>\n",
       "      <td>4.0</td>\n",
       "      <td>5.0</td>\n",
       "    </tr>\n",
       "    <tr>\n",
       "      <th>RAW_GCBS13</th>\n",
       "      <td>962.0</td>\n",
       "      <td>1.990644</td>\n",
       "      <td>1.275282</td>\n",
       "      <td>1.0</td>\n",
       "      <td>1.0</td>\n",
       "      <td>1.0</td>\n",
       "      <td>3.0</td>\n",
       "      <td>5.0</td>\n",
       "    </tr>\n",
       "    <tr>\n",
       "      <th>RAW_GCBS14</th>\n",
       "      <td>962.0</td>\n",
       "      <td>2.979210</td>\n",
       "      <td>1.433066</td>\n",
       "      <td>1.0</td>\n",
       "      <td>2.0</td>\n",
       "      <td>3.0</td>\n",
       "      <td>4.0</td>\n",
       "      <td>5.0</td>\n",
       "    </tr>\n",
       "    <tr>\n",
       "      <th>RAW_GCBS15</th>\n",
       "      <td>962.0</td>\n",
       "      <td>4.339917</td>\n",
       "      <td>0.947008</td>\n",
       "      <td>1.0</td>\n",
       "      <td>4.0</td>\n",
       "      <td>5.0</td>\n",
       "      <td>5.0</td>\n",
       "      <td>5.0</td>\n",
       "    </tr>\n",
       "    <tr>\n",
       "      <th>RAW_TIPI1</th>\n",
       "      <td>962.0</td>\n",
       "      <td>3.460499</td>\n",
       "      <td>1.954476</td>\n",
       "      <td>0.0</td>\n",
       "      <td>2.0</td>\n",
       "      <td>3.0</td>\n",
       "      <td>5.0</td>\n",
       "      <td>7.0</td>\n",
       "    </tr>\n",
       "    <tr>\n",
       "      <th>RAW_TIPI2</th>\n",
       "      <td>962.0</td>\n",
       "      <td>4.287942</td>\n",
       "      <td>1.862953</td>\n",
       "      <td>0.0</td>\n",
       "      <td>3.0</td>\n",
       "      <td>5.0</td>\n",
       "      <td>6.0</td>\n",
       "      <td>7.0</td>\n",
       "    </tr>\n",
       "    <tr>\n",
       "      <th>RAW_TIPI3</th>\n",
       "      <td>962.0</td>\n",
       "      <td>4.874220</td>\n",
       "      <td>1.712955</td>\n",
       "      <td>0.0</td>\n",
       "      <td>4.0</td>\n",
       "      <td>5.0</td>\n",
       "      <td>6.0</td>\n",
       "      <td>7.0</td>\n",
       "    </tr>\n",
       "    <tr>\n",
       "      <th>RAW_TIPI4</th>\n",
       "      <td>962.0</td>\n",
       "      <td>4.243243</td>\n",
       "      <td>2.020983</td>\n",
       "      <td>0.0</td>\n",
       "      <td>2.0</td>\n",
       "      <td>5.0</td>\n",
       "      <td>6.0</td>\n",
       "      <td>7.0</td>\n",
       "    </tr>\n",
       "    <tr>\n",
       "      <th>RAW_TIPI5</th>\n",
       "      <td>962.0</td>\n",
       "      <td>5.618503</td>\n",
       "      <td>1.345974</td>\n",
       "      <td>0.0</td>\n",
       "      <td>5.0</td>\n",
       "      <td>6.0</td>\n",
       "      <td>7.0</td>\n",
       "      <td>7.0</td>\n",
       "    </tr>\n",
       "    <tr>\n",
       "      <th>RAW_TIPI6</th>\n",
       "      <td>962.0</td>\n",
       "      <td>5.079002</td>\n",
       "      <td>1.771551</td>\n",
       "      <td>0.0</td>\n",
       "      <td>4.0</td>\n",
       "      <td>5.0</td>\n",
       "      <td>6.0</td>\n",
       "      <td>7.0</td>\n",
       "    </tr>\n",
       "    <tr>\n",
       "      <th>RAW_TIPI7</th>\n",
       "      <td>962.0</td>\n",
       "      <td>5.165281</td>\n",
       "      <td>1.598881</td>\n",
       "      <td>0.0</td>\n",
       "      <td>4.0</td>\n",
       "      <td>6.0</td>\n",
       "      <td>6.0</td>\n",
       "      <td>7.0</td>\n",
       "    </tr>\n",
       "    <tr>\n",
       "      <th>RAW_TIPI8</th>\n",
       "      <td>962.0</td>\n",
       "      <td>3.889813</td>\n",
       "      <td>1.901946</td>\n",
       "      <td>0.0</td>\n",
       "      <td>2.0</td>\n",
       "      <td>4.0</td>\n",
       "      <td>5.0</td>\n",
       "      <td>7.0</td>\n",
       "    </tr>\n",
       "    <tr>\n",
       "      <th>RAW_TIPI9</th>\n",
       "      <td>962.0</td>\n",
       "      <td>4.558212</td>\n",
       "      <td>1.848373</td>\n",
       "      <td>0.0</td>\n",
       "      <td>3.0</td>\n",
       "      <td>5.0</td>\n",
       "      <td>6.0</td>\n",
       "      <td>7.0</td>\n",
       "    </tr>\n",
       "    <tr>\n",
       "      <th>RAW_TIPI10</th>\n",
       "      <td>962.0</td>\n",
       "      <td>2.459459</td>\n",
       "      <td>1.541287</td>\n",
       "      <td>0.0</td>\n",
       "      <td>1.0</td>\n",
       "      <td>2.0</td>\n",
       "      <td>3.0</td>\n",
       "      <td>7.0</td>\n",
       "    </tr>\n",
       "    <tr>\n",
       "      <th>DEMO_age</th>\n",
       "      <td>962.0</td>\n",
       "      <td>32.017672</td>\n",
       "      <td>13.627370</td>\n",
       "      <td>18.0</td>\n",
       "      <td>21.0</td>\n",
       "      <td>27.0</td>\n",
       "      <td>41.0</td>\n",
       "      <td>75.0</td>\n",
       "    </tr>\n",
       "    <tr>\n",
       "      <th>DEMO_familysize</th>\n",
       "      <td>946.0</td>\n",
       "      <td>2.603594</td>\n",
       "      <td>1.228561</td>\n",
       "      <td>1.0</td>\n",
       "      <td>2.0</td>\n",
       "      <td>2.0</td>\n",
       "      <td>3.0</td>\n",
       "      <td>9.0</td>\n",
       "    </tr>\n",
       "    <tr>\n",
       "      <th>GCBS_Government_Malfeasance</th>\n",
       "      <td>962.0</td>\n",
       "      <td>10.149688</td>\n",
       "      <td>3.474666</td>\n",
       "      <td>3.0</td>\n",
       "      <td>8.0</td>\n",
       "      <td>11.0</td>\n",
       "      <td>13.0</td>\n",
       "      <td>15.0</td>\n",
       "    </tr>\n",
       "    <tr>\n",
       "      <th>GCBS_Malevolent_Global_Conspiracies</th>\n",
       "      <td>962.0</td>\n",
       "      <td>8.670478</td>\n",
       "      <td>3.995646</td>\n",
       "      <td>3.0</td>\n",
       "      <td>5.0</td>\n",
       "      <td>9.0</td>\n",
       "      <td>12.0</td>\n",
       "      <td>15.0</td>\n",
       "    </tr>\n",
       "    <tr>\n",
       "      <th>GCBS_Extraterrestrial_Coverup</th>\n",
       "      <td>962.0</td>\n",
       "      <td>6.296258</td>\n",
       "      <td>3.681741</td>\n",
       "      <td>3.0</td>\n",
       "      <td>3.0</td>\n",
       "      <td>5.0</td>\n",
       "      <td>9.0</td>\n",
       "      <td>15.0</td>\n",
       "    </tr>\n",
       "    <tr>\n",
       "      <th>GCBS_Personal_Wellbeing</th>\n",
       "      <td>962.0</td>\n",
       "      <td>7.929314</td>\n",
       "      <td>3.578348</td>\n",
       "      <td>3.0</td>\n",
       "      <td>5.0</td>\n",
       "      <td>8.0</td>\n",
       "      <td>11.0</td>\n",
       "      <td>15.0</td>\n",
       "    </tr>\n",
       "    <tr>\n",
       "      <th>GCBS_Control_Of_Information</th>\n",
       "      <td>962.0</td>\n",
       "      <td>11.247401</td>\n",
       "      <td>2.817206</td>\n",
       "      <td>3.0</td>\n",
       "      <td>9.0</td>\n",
       "      <td>12.0</td>\n",
       "      <td>13.0</td>\n",
       "      <td>15.0</td>\n",
       "    </tr>\n",
       "    <tr>\n",
       "      <th>GCBS_Overall</th>\n",
       "      <td>962.0</td>\n",
       "      <td>44.293139</td>\n",
       "      <td>14.362750</td>\n",
       "      <td>16.0</td>\n",
       "      <td>33.0</td>\n",
       "      <td>44.0</td>\n",
       "      <td>55.0</td>\n",
       "      <td>74.0</td>\n",
       "    </tr>\n",
       "    <tr>\n",
       "      <th>TIPI_Extraversion</th>\n",
       "      <td>962.0</td>\n",
       "      <td>6.381497</td>\n",
       "      <td>3.338825</td>\n",
       "      <td>1.0</td>\n",
       "      <td>4.0</td>\n",
       "      <td>6.0</td>\n",
       "      <td>9.0</td>\n",
       "      <td>14.0</td>\n",
       "    </tr>\n",
       "    <tr>\n",
       "      <th>TIPI_Agreeableness</th>\n",
       "      <td>962.0</td>\n",
       "      <td>8.877339</td>\n",
       "      <td>2.722995</td>\n",
       "      <td>2.0</td>\n",
       "      <td>7.0</td>\n",
       "      <td>9.0</td>\n",
       "      <td>11.0</td>\n",
       "      <td>14.0</td>\n",
       "    </tr>\n",
       "    <tr>\n",
       "      <th>TIPI_Conscientiousness</th>\n",
       "      <td>962.0</td>\n",
       "      <td>8.984407</td>\n",
       "      <td>3.084783</td>\n",
       "      <td>2.0</td>\n",
       "      <td>7.0</td>\n",
       "      <td>9.0</td>\n",
       "      <td>11.0</td>\n",
       "      <td>14.0</td>\n",
       "    </tr>\n",
       "    <tr>\n",
       "      <th>TIPI_Emotional_Stability</th>\n",
       "      <td>962.0</td>\n",
       "      <td>8.314969</td>\n",
       "      <td>3.461031</td>\n",
       "      <td>2.0</td>\n",
       "      <td>6.0</td>\n",
       "      <td>8.0</td>\n",
       "      <td>11.0</td>\n",
       "      <td>14.0</td>\n",
       "    </tr>\n",
       "    <tr>\n",
       "      <th>TIPI_Openness</th>\n",
       "      <td>962.0</td>\n",
       "      <td>11.159044</td>\n",
       "      <td>2.264660</td>\n",
       "      <td>3.0</td>\n",
       "      <td>10.0</td>\n",
       "      <td>12.0</td>\n",
       "      <td>13.0</td>\n",
       "      <td>14.0</td>\n",
       "    </tr>\n",
       "  </tbody>\n",
       "</table>\n",
       "</div>"
      ],
      "text/plain": [
       "                                     count       mean        std   min   25%  \\\n",
       "RAW_GCBS1                            962.0   3.598753   1.366737   1.0   3.0   \n",
       "RAW_GCBS2                            962.0   3.099792   1.444938   1.0   2.0   \n",
       "RAW_GCBS3                            962.0   1.918919   1.281289   1.0   1.0   \n",
       "RAW_GCBS4                            962.0   2.663202   1.414536   1.0   1.0   \n",
       "RAW_GCBS5                            962.0   3.330561   1.424069   1.0   2.0   \n",
       "RAW_GCBS6                            962.0   3.185031   1.440121   1.0   2.0   \n",
       "RAW_GCBS7                            962.0   2.794179   1.501732   1.0   1.0   \n",
       "RAW_GCBS8                            962.0   2.386694   1.517895   1.0   1.0   \n",
       "RAW_GCBS9                            962.0   2.286902   1.406398   1.0   1.0   \n",
       "RAW_GCBS10                           962.0   3.576923   1.316195   1.0   3.0   \n",
       "RAW_GCBS11                           962.0   3.365904   1.306034   1.0   2.0   \n",
       "RAW_GCBS12                           962.0   2.776507   1.482099   1.0   1.0   \n",
       "RAW_GCBS13                           962.0   1.990644   1.275282   1.0   1.0   \n",
       "RAW_GCBS14                           962.0   2.979210   1.433066   1.0   2.0   \n",
       "RAW_GCBS15                           962.0   4.339917   0.947008   1.0   4.0   \n",
       "RAW_TIPI1                            962.0   3.460499   1.954476   0.0   2.0   \n",
       "RAW_TIPI2                            962.0   4.287942   1.862953   0.0   3.0   \n",
       "RAW_TIPI3                            962.0   4.874220   1.712955   0.0   4.0   \n",
       "RAW_TIPI4                            962.0   4.243243   2.020983   0.0   2.0   \n",
       "RAW_TIPI5                            962.0   5.618503   1.345974   0.0   5.0   \n",
       "RAW_TIPI6                            962.0   5.079002   1.771551   0.0   4.0   \n",
       "RAW_TIPI7                            962.0   5.165281   1.598881   0.0   4.0   \n",
       "RAW_TIPI8                            962.0   3.889813   1.901946   0.0   2.0   \n",
       "RAW_TIPI9                            962.0   4.558212   1.848373   0.0   3.0   \n",
       "RAW_TIPI10                           962.0   2.459459   1.541287   0.0   1.0   \n",
       "DEMO_age                             962.0  32.017672  13.627370  18.0  21.0   \n",
       "DEMO_familysize                      946.0   2.603594   1.228561   1.0   2.0   \n",
       "GCBS_Government_Malfeasance          962.0  10.149688   3.474666   3.0   8.0   \n",
       "GCBS_Malevolent_Global_Conspiracies  962.0   8.670478   3.995646   3.0   5.0   \n",
       "GCBS_Extraterrestrial_Coverup        962.0   6.296258   3.681741   3.0   3.0   \n",
       "GCBS_Personal_Wellbeing              962.0   7.929314   3.578348   3.0   5.0   \n",
       "GCBS_Control_Of_Information          962.0  11.247401   2.817206   3.0   9.0   \n",
       "GCBS_Overall                         962.0  44.293139  14.362750  16.0  33.0   \n",
       "TIPI_Extraversion                    962.0   6.381497   3.338825   1.0   4.0   \n",
       "TIPI_Agreeableness                   962.0   8.877339   2.722995   2.0   7.0   \n",
       "TIPI_Conscientiousness               962.0   8.984407   3.084783   2.0   7.0   \n",
       "TIPI_Emotional_Stability             962.0   8.314969   3.461031   2.0   6.0   \n",
       "TIPI_Openness                        962.0  11.159044   2.264660   3.0  10.0   \n",
       "\n",
       "                                      50%   75%   max  \n",
       "RAW_GCBS1                             4.0   5.0   5.0  \n",
       "RAW_GCBS2                             3.0   4.0   5.0  \n",
       "RAW_GCBS3                             1.0   3.0   5.0  \n",
       "RAW_GCBS4                             3.0   4.0   5.0  \n",
       "RAW_GCBS5                             4.0   5.0   5.0  \n",
       "RAW_GCBS6                             3.0   4.0   5.0  \n",
       "RAW_GCBS7                             3.0   4.0   5.0  \n",
       "RAW_GCBS8                             2.0   4.0   5.0  \n",
       "RAW_GCBS9                             2.0   3.0   5.0  \n",
       "RAW_GCBS10                            4.0   5.0   5.0  \n",
       "RAW_GCBS11                            4.0   4.0   5.0  \n",
       "RAW_GCBS12                            3.0   4.0   5.0  \n",
       "RAW_GCBS13                            1.0   3.0   5.0  \n",
       "RAW_GCBS14                            3.0   4.0   5.0  \n",
       "RAW_GCBS15                            5.0   5.0   5.0  \n",
       "RAW_TIPI1                             3.0   5.0   7.0  \n",
       "RAW_TIPI2                             5.0   6.0   7.0  \n",
       "RAW_TIPI3                             5.0   6.0   7.0  \n",
       "RAW_TIPI4                             5.0   6.0   7.0  \n",
       "RAW_TIPI5                             6.0   7.0   7.0  \n",
       "RAW_TIPI6                             5.0   6.0   7.0  \n",
       "RAW_TIPI7                             6.0   6.0   7.0  \n",
       "RAW_TIPI8                             4.0   5.0   7.0  \n",
       "RAW_TIPI9                             5.0   6.0   7.0  \n",
       "RAW_TIPI10                            2.0   3.0   7.0  \n",
       "DEMO_age                             27.0  41.0  75.0  \n",
       "DEMO_familysize                       2.0   3.0   9.0  \n",
       "GCBS_Government_Malfeasance          11.0  13.0  15.0  \n",
       "GCBS_Malevolent_Global_Conspiracies   9.0  12.0  15.0  \n",
       "GCBS_Extraterrestrial_Coverup         5.0   9.0  15.0  \n",
       "GCBS_Personal_Wellbeing               8.0  11.0  15.0  \n",
       "GCBS_Control_Of_Information          12.0  13.0  15.0  \n",
       "GCBS_Overall                         44.0  55.0  74.0  \n",
       "TIPI_Extraversion                     6.0   9.0  14.0  \n",
       "TIPI_Agreeableness                    9.0  11.0  14.0  \n",
       "TIPI_Conscientiousness                9.0  11.0  14.0  \n",
       "TIPI_Emotional_Stability              8.0  11.0  14.0  \n",
       "TIPI_Openness                        12.0  13.0  14.0  "
      ]
     },
     "execution_count": 28,
     "metadata": {},
     "output_type": "execute_result"
    }
   ],
   "source": [
    "gcbs_clean_df.describe().T"
   ]
  },
  {
   "cell_type": "markdown",
   "metadata": {
    "id": "0iErVJy9dumh"
   },
   "source": [
    "# Data quality\n",
    "\n",
    "Alpha di cronbach\n",
    "\n",
    "The reliability of a two-item scale: Pearson, Cronbach,\n",
    "or Spearman-Brown? -- per cronbach su scale da due item (per questo tipo di scale cronbach sottostima)\n",
    "\n",
    "Eisinga, Rob; Grotenhuis, Manfred te; Pelzer, Ben (2013). *The reliability of a two-item scale: Pearson, Cronbach, or Spearman-Brown?. International Journal of Public Health, 58(4), 637–642.* [doi:10.1007/s00038-012-0416-3](https://link.springer.com/article/10.1007%2Fs00038-012-0416-3)"
   ]
  },
  {
   "cell_type": "code",
   "execution_count": 29,
   "metadata": {
    "id": "SkP0yFjIaHQA"
   },
   "outputs": [],
   "source": [
    "%%capture\n",
    "!pip install pingouin\n",
    "pd.options.display.max_colwidth = 100"
   ]
  },
  {
   "cell_type": "code",
   "execution_count": 30,
   "metadata": {
    "id": "WE6mv03IzH3z"
   },
   "outputs": [],
   "source": [
    "def getCronbachDict(scale_name,df, ci=.95):\n",
    "\n",
    "  import pingouin as pg\n",
    "  cron = pg.cronbach_alpha(data=df)\n",
    "\n",
    "  if cron[0] >= 0.9:\n",
    "    internal_consistency = 'Excellent'\n",
    "  elif cron[0] >= 0.8:\n",
    "    internal_consistency = 'Good'\n",
    "  elif cron[0] >= 0.7:\n",
    "    internal_consistency = 'Acceptable'\n",
    "  elif cron[0] >= 0.6:\n",
    "    internal_consistency = 'Questionable'\n",
    "  elif cron[0] >= 0.5:\n",
    "    internal_consistency = 'Poor'\n",
    "  else:\n",
    "    internal_consistency = 'Unacceptable'\n",
    "\n",
    "  if len(df.columns) == 2:\n",
    "    note = 'When items = 2, coefficient alpha almost always underestimates true reliability'\n",
    "  else:\n",
    "    note = ''\n",
    "\n",
    "  return {\n",
    "      'scale':scale_name,\n",
    "      'scale_items':len(df.columns),\n",
    "      'sample_size':len(df),\n",
    "      'cronbach_alpha':round(cron[0],3),\n",
    "      'ci_lower':cron[1][0],\n",
    "      'ci_upper':cron[1][1],\n",
    "      'ci':ci,\n",
    "      'internal_consistency':internal_consistency,\n",
    "      'note':note\n",
    "  }"
   ]
  },
  {
   "cell_type": "code",
   "execution_count": 31,
   "metadata": {
    "id": "Y1KNl2ZU09sQ"
   },
   "outputs": [],
   "source": [
    "cronbach_dict_list = []"
   ]
  },
  {
   "cell_type": "code",
   "execution_count": 32,
   "metadata": {
    "id": "rCz2lOja0FdW"
   },
   "outputs": [],
   "source": [
    "cronbach_dict_list.append(getCronbachDict('GCBS_Overall',gcbs_clean_df[['RAW_GCBS1','RAW_GCBS2','RAW_GCBS3','RAW_GCBS4','RAW_GCBS5','RAW_GCBS6','RAW_GCBS7','RAW_GCBS8','RAW_GCBS9','RAW_GCBS10','RAW_GCBS11','RAW_GCBS12','RAW_GCBS13','RAW_GCBS14','RAW_GCBS15']]))\n",
    "cronbach_dict_list.append(getCronbachDict('GCBS_Government_Malfeasance',gcbs_clean_df[['RAW_GCBS1','RAW_GCBS6','RAW_GCBS11']]))\n",
    "cronbach_dict_list.append(getCronbachDict('GCBS_Malevolent_Global_Conspiracies',gcbs_clean_df[['RAW_GCBS2','RAW_GCBS7','RAW_GCBS12']]))\n",
    "cronbach_dict_list.append(getCronbachDict('GCBS_Extraterrestrial_Coverup',gcbs_clean_df[['RAW_GCBS3','RAW_GCBS8','RAW_GCBS13']]))\n",
    "cronbach_dict_list.append(getCronbachDict('GCBS_Personal_Wellbeing',gcbs_clean_df[['RAW_GCBS4','RAW_GCBS9','RAW_GCBS14']]))\n",
    "cronbach_dict_list.append(getCronbachDict('GCBS_Control_Of_Information',gcbs_clean_df[['RAW_GCBS5','RAW_GCBS10','RAW_GCBS15']]))"
   ]
  },
  {
   "cell_type": "code",
   "execution_count": 33,
   "metadata": {
    "id": "ACCX2I1F5PmB"
   },
   "outputs": [],
   "source": [
    "# spiegare perchè rev\n",
    "for column in ['RAW_TIPI2','RAW_TIPI4','RAW_TIPI6','RAW_TIPI8','RAW_TIPI10']:\n",
    "  gcbs_clean_df['{}_REV'.format(column)] = 8-gcbs_clean_df[column]\n",
    "\n",
    "cronbach_dict_list.append(getCronbachDict('TIPI_Overall',gcbs_clean_df[['RAW_TIPI1','RAW_TIPI2_REV','RAW_TIPI3','RAW_TIPI4_REV','RAW_TIPI5','RAW_TIPI6_REV','RAW_TIPI7','RAW_TIPI8_REV','RAW_TIPI9','RAW_TIPI10_REV']]))\n",
    "cronbach_dict_list.append(getCronbachDict('TIPI_Extraversion',gcbs_clean_df[['RAW_TIPI1','RAW_TIPI6_REV']]))\n",
    "cronbach_dict_list.append(getCronbachDict('TIPI_Agreeableness',gcbs_clean_df[['RAW_TIPI2_REV','RAW_TIPI7']]))\n",
    "cronbach_dict_list.append(getCronbachDict('TIPI_Conscientiousness',gcbs_clean_df[['RAW_TIPI3','RAW_TIPI8_REV']]))\n",
    "cronbach_dict_list.append(getCronbachDict('TIPI_Emotional_Stability',gcbs_clean_df[['RAW_TIPI4_REV','RAW_TIPI9']]))\n",
    "cronbach_dict_list.append(getCronbachDict('TIPI_Openness',gcbs_clean_df[['RAW_TIPI5','RAW_TIPI10_REV']]))\n",
    "\n",
    "# cancellare rev"
   ]
  },
  {
   "cell_type": "code",
   "execution_count": 34,
   "metadata": {
    "colab": {
     "base_uri": "https://localhost:8080/",
     "height": 426
    },
    "id": "O3HZxUYX760S",
    "outputId": "57501124-5bb1-4a77-cf9e-edb19eb0153b"
   },
   "outputs": [
    {
     "data": {
      "text/html": [
       "<div>\n",
       "<style scoped>\n",
       "    .dataframe tbody tr th:only-of-type {\n",
       "        vertical-align: middle;\n",
       "    }\n",
       "\n",
       "    .dataframe tbody tr th {\n",
       "        vertical-align: top;\n",
       "    }\n",
       "\n",
       "    .dataframe thead th {\n",
       "        text-align: right;\n",
       "    }\n",
       "</style>\n",
       "<table border=\"1\" class=\"dataframe\">\n",
       "  <thead>\n",
       "    <tr style=\"text-align: right;\">\n",
       "      <th></th>\n",
       "      <th>scale</th>\n",
       "      <th>scale_items</th>\n",
       "      <th>sample_size</th>\n",
       "      <th>cronbach_alpha</th>\n",
       "      <th>ci_lower</th>\n",
       "      <th>ci_upper</th>\n",
       "      <th>ci</th>\n",
       "      <th>internal_consistency</th>\n",
       "      <th>note</th>\n",
       "    </tr>\n",
       "  </thead>\n",
       "  <tbody>\n",
       "    <tr>\n",
       "      <th>0</th>\n",
       "      <td>GCBS_Overall</td>\n",
       "      <td>15</td>\n",
       "      <td>962</td>\n",
       "      <td>0.924</td>\n",
       "      <td>0.916</td>\n",
       "      <td>0.931</td>\n",
       "      <td>0.95</td>\n",
       "      <td>Excellent</td>\n",
       "      <td></td>\n",
       "    </tr>\n",
       "    <tr>\n",
       "      <th>1</th>\n",
       "      <td>GCBS_Government_Malfeasance</td>\n",
       "      <td>3</td>\n",
       "      <td>962</td>\n",
       "      <td>0.798</td>\n",
       "      <td>0.775</td>\n",
       "      <td>0.819</td>\n",
       "      <td>0.95</td>\n",
       "      <td>Acceptable</td>\n",
       "      <td></td>\n",
       "    </tr>\n",
       "    <tr>\n",
       "      <th>2</th>\n",
       "      <td>GCBS_Malevolent_Global_Conspiracies</td>\n",
       "      <td>3</td>\n",
       "      <td>962</td>\n",
       "      <td>0.886</td>\n",
       "      <td>0.872</td>\n",
       "      <td>0.898</td>\n",
       "      <td>0.95</td>\n",
       "      <td>Good</td>\n",
       "      <td></td>\n",
       "    </tr>\n",
       "    <tr>\n",
       "      <th>3</th>\n",
       "      <td>GCBS_Extraterrestrial_Coverup</td>\n",
       "      <td>3</td>\n",
       "      <td>962</td>\n",
       "      <td>0.883</td>\n",
       "      <td>0.870</td>\n",
       "      <td>0.896</td>\n",
       "      <td>0.95</td>\n",
       "      <td>Good</td>\n",
       "      <td></td>\n",
       "    </tr>\n",
       "    <tr>\n",
       "      <th>4</th>\n",
       "      <td>GCBS_Personal_Wellbeing</td>\n",
       "      <td>3</td>\n",
       "      <td>962</td>\n",
       "      <td>0.793</td>\n",
       "      <td>0.770</td>\n",
       "      <td>0.815</td>\n",
       "      <td>0.95</td>\n",
       "      <td>Acceptable</td>\n",
       "      <td></td>\n",
       "    </tr>\n",
       "    <tr>\n",
       "      <th>5</th>\n",
       "      <td>GCBS_Control_Of_Information</td>\n",
       "      <td>3</td>\n",
       "      <td>962</td>\n",
       "      <td>0.620</td>\n",
       "      <td>0.576</td>\n",
       "      <td>0.660</td>\n",
       "      <td>0.95</td>\n",
       "      <td>Questionable</td>\n",
       "      <td></td>\n",
       "    </tr>\n",
       "    <tr>\n",
       "      <th>6</th>\n",
       "      <td>TIPI_Overall</td>\n",
       "      <td>10</td>\n",
       "      <td>962</td>\n",
       "      <td>0.636</td>\n",
       "      <td>0.600</td>\n",
       "      <td>0.669</td>\n",
       "      <td>0.95</td>\n",
       "      <td>Questionable</td>\n",
       "      <td></td>\n",
       "    </tr>\n",
       "    <tr>\n",
       "      <th>7</th>\n",
       "      <td>TIPI_Extraversion</td>\n",
       "      <td>2</td>\n",
       "      <td>962</td>\n",
       "      <td>0.752</td>\n",
       "      <td>0.718</td>\n",
       "      <td>0.781</td>\n",
       "      <td>0.95</td>\n",
       "      <td>Acceptable</td>\n",
       "      <td>When items = 2, coefficient alpha almost always underestimates true reliability</td>\n",
       "    </tr>\n",
       "    <tr>\n",
       "      <th>8</th>\n",
       "      <td>TIPI_Agreeableness</td>\n",
       "      <td>2</td>\n",
       "      <td>962</td>\n",
       "      <td>0.374</td>\n",
       "      <td>0.290</td>\n",
       "      <td>0.449</td>\n",
       "      <td>0.95</td>\n",
       "      <td>Unacceptable</td>\n",
       "      <td>When items = 2, coefficient alpha almost always underestimates true reliability</td>\n",
       "    </tr>\n",
       "    <tr>\n",
       "      <th>9</th>\n",
       "      <td>TIPI_Conscientiousness</td>\n",
       "      <td>2</td>\n",
       "      <td>962</td>\n",
       "      <td>0.623</td>\n",
       "      <td>0.572</td>\n",
       "      <td>0.668</td>\n",
       "      <td>0.95</td>\n",
       "      <td>Questionable</td>\n",
       "      <td>When items = 2, coefficient alpha almost always underestimates true reliability</td>\n",
       "    </tr>\n",
       "    <tr>\n",
       "      <th>10</th>\n",
       "      <td>TIPI_Emotional_Stability</td>\n",
       "      <td>2</td>\n",
       "      <td>962</td>\n",
       "      <td>0.748</td>\n",
       "      <td>0.714</td>\n",
       "      <td>0.778</td>\n",
       "      <td>0.95</td>\n",
       "      <td>Acceptable</td>\n",
       "      <td>When items = 2, coefficient alpha almost always underestimates true reliability</td>\n",
       "    </tr>\n",
       "    <tr>\n",
       "      <th>11</th>\n",
       "      <td>TIPI_Openness</td>\n",
       "      <td>2</td>\n",
       "      <td>962</td>\n",
       "      <td>0.367</td>\n",
       "      <td>0.282</td>\n",
       "      <td>0.442</td>\n",
       "      <td>0.95</td>\n",
       "      <td>Unacceptable</td>\n",
       "      <td>When items = 2, coefficient alpha almost always underestimates true reliability</td>\n",
       "    </tr>\n",
       "  </tbody>\n",
       "</table>\n",
       "</div>"
      ],
      "text/plain": [
       "                                  scale  scale_items  sample_size  \\\n",
       "0                          GCBS_Overall           15          962   \n",
       "1           GCBS_Government_Malfeasance            3          962   \n",
       "2   GCBS_Malevolent_Global_Conspiracies            3          962   \n",
       "3         GCBS_Extraterrestrial_Coverup            3          962   \n",
       "4               GCBS_Personal_Wellbeing            3          962   \n",
       "5           GCBS_Control_Of_Information            3          962   \n",
       "6                          TIPI_Overall           10          962   \n",
       "7                     TIPI_Extraversion            2          962   \n",
       "8                    TIPI_Agreeableness            2          962   \n",
       "9                TIPI_Conscientiousness            2          962   \n",
       "10             TIPI_Emotional_Stability            2          962   \n",
       "11                        TIPI_Openness            2          962   \n",
       "\n",
       "    cronbach_alpha  ci_lower  ci_upper    ci internal_consistency  \\\n",
       "0            0.924     0.916     0.931  0.95            Excellent   \n",
       "1            0.798     0.775     0.819  0.95           Acceptable   \n",
       "2            0.886     0.872     0.898  0.95                 Good   \n",
       "3            0.883     0.870     0.896  0.95                 Good   \n",
       "4            0.793     0.770     0.815  0.95           Acceptable   \n",
       "5            0.620     0.576     0.660  0.95         Questionable   \n",
       "6            0.636     0.600     0.669  0.95         Questionable   \n",
       "7            0.752     0.718     0.781  0.95           Acceptable   \n",
       "8            0.374     0.290     0.449  0.95         Unacceptable   \n",
       "9            0.623     0.572     0.668  0.95         Questionable   \n",
       "10           0.748     0.714     0.778  0.95           Acceptable   \n",
       "11           0.367     0.282     0.442  0.95         Unacceptable   \n",
       "\n",
       "                                                                               note  \n",
       "0                                                                                    \n",
       "1                                                                                    \n",
       "2                                                                                    \n",
       "3                                                                                    \n",
       "4                                                                                    \n",
       "5                                                                                    \n",
       "6                                                                                    \n",
       "7   When items = 2, coefficient alpha almost always underestimates true reliability  \n",
       "8   When items = 2, coefficient alpha almost always underestimates true reliability  \n",
       "9   When items = 2, coefficient alpha almost always underestimates true reliability  \n",
       "10  When items = 2, coefficient alpha almost always underestimates true reliability  \n",
       "11  When items = 2, coefficient alpha almost always underestimates true reliability  "
      ]
     },
     "execution_count": 34,
     "metadata": {},
     "output_type": "execute_result"
    }
   ],
   "source": [
    "cronbach_df  = pd.DataFrame(cronbach_dict_list)\n",
    "cronbach_df"
   ]
  },
  {
   "cell_type": "markdown",
   "metadata": {
    "id": "XSyMwlYUKwW9"
   },
   "source": [
    "# Data Exploration"
   ]
  },
  {
   "cell_type": "code",
   "execution_count": 35,
   "metadata": {
    "colab": {
     "base_uri": "https://localhost:8080/",
     "height": 17
    },
    "id": "7EG2Zh_OmVbE",
    "outputId": "cfd9971a-7a1d-4ba9-ea96-c501a4deff5b"
   },
   "outputs": [
    {
     "data": {
      "text/html": [
       "        <script type=\"text/javascript\">\n",
       "        window.PlotlyConfig = {MathJaxConfig: 'local'};\n",
       "        if (window.MathJax) {MathJax.Hub.Config({SVG: {font: \"STIX-Web\"}});}\n",
       "        if (typeof require !== 'undefined') {\n",
       "        require.undef(\"plotly\");\n",
       "        requirejs.config({\n",
       "            paths: {\n",
       "                'plotly': ['https://cdn.plot.ly/plotly-2.6.3.min']\n",
       "            }\n",
       "        });\n",
       "        require(['plotly'], function(Plotly) {\n",
       "            window._Plotly = Plotly;\n",
       "        });\n",
       "        }\n",
       "        </script>\n",
       "        "
      ]
     },
     "metadata": {},
     "output_type": "display_data"
    }
   ],
   "source": [
    "import matplotlib.pyplot as plt\n",
    "\n",
    "#importing plotly and cufflinks in offline mode\n",
    "import cufflinks as cf\n",
    "import plotly.offline\n",
    "cf.go_offline()\n",
    "cf.set_config_file(offline=False, world_readable=True)"
   ]
  },
  {
   "cell_type": "markdown",
   "metadata": {
    "id": "hdkdnARxK0fR"
   },
   "source": [
    "### Sample description"
   ]
  },
  {
   "cell_type": "code",
   "execution_count": 36,
   "metadata": {
    "colab": {
     "base_uri": "https://localhost:8080/",
     "height": 542
    },
    "id": "i4BosFph6hC6",
    "outputId": "6db7f6f8-acbd-4690-ed1a-af377ef51169"
   },
   "outputs": [
    {
     "data": {
      "application/vnd.plotly.v1+json": {
       "config": {
        "linkText": "Export to plot.ly",
        "plotlyServerURL": "https://plot.ly",
        "showLink": true
       },
       "data": [
        {
         "histfunc": "count",
         "histnorm": "",
         "marker": {
          "color": "rgba(12, 128, 128, 1.0)",
          "line": {
           "color": "#4D5663",
           "width": 1.3
          }
         },
         "name": "DEMO_age",
         "opacity": 0.75,
         "orientation": "v",
         "type": "histogram",
         "x": [
          28,
          37,
          23,
          32,
          35,
          18,
          46,
          44,
          45,
          41,
          26,
          18,
          34,
          24,
          22,
          62,
          34,
          35,
          18,
          29,
          19,
          25,
          18,
          21,
          35,
          24,
          28,
          28,
          23,
          24,
          30,
          24,
          29,
          21,
          21,
          28,
          42,
          47,
          51,
          19,
          73,
          23,
          27,
          21,
          37,
          18,
          74,
          46,
          18,
          40,
          22,
          35,
          41,
          26,
          32,
          25,
          18,
          29,
          23,
          38,
          19,
          19,
          29,
          24,
          36,
          41,
          23,
          36,
          46,
          29,
          22,
          39,
          42,
          43,
          27,
          35,
          60,
          31,
          30,
          45,
          18,
          50,
          43,
          27,
          26,
          38,
          21,
          38,
          21,
          45,
          23,
          33,
          36,
          23,
          39,
          21,
          28,
          33,
          18,
          24,
          25,
          38,
          26,
          57,
          25,
          20,
          48,
          18,
          22,
          18,
          18,
          26,
          28,
          34,
          58,
          19,
          20,
          18,
          52,
          20,
          36,
          67,
          18,
          43,
          37,
          28,
          38,
          33,
          43,
          19,
          49,
          65,
          36,
          32,
          24,
          42,
          30,
          31,
          29,
          18,
          19,
          21,
          50,
          62,
          21,
          50,
          29,
          23,
          21,
          18,
          21,
          58,
          18,
          19,
          21,
          18,
          22,
          24,
          20,
          20,
          20,
          20,
          18,
          35,
          49,
          19,
          68,
          19,
          47,
          25,
          35,
          28,
          36,
          42,
          23,
          32,
          47,
          24,
          18,
          75,
          20,
          25,
          35,
          32,
          39,
          19,
          23,
          58,
          46,
          20,
          22,
          34,
          19,
          42,
          25,
          19,
          56,
          19,
          27,
          21,
          38,
          27,
          45,
          25,
          19,
          42,
          20,
          18,
          20,
          49,
          18,
          31,
          18,
          33,
          21,
          39,
          31,
          22,
          19,
          62,
          33,
          18,
          20,
          19,
          30,
          20,
          26,
          23,
          25,
          19,
          18,
          25,
          18,
          47,
          23,
          32,
          28,
          50,
          25,
          59,
          44,
          46,
          46,
          61,
          28,
          22,
          56,
          42,
          45,
          33,
          53,
          23,
          22,
          49,
          48,
          31,
          26,
          31,
          28,
          41,
          39,
          39,
          30,
          36,
          60,
          51,
          44,
          57,
          60,
          32,
          19,
          55,
          44,
          39,
          33,
          51,
          43,
          18,
          45,
          21,
          32,
          18,
          33,
          24,
          19,
          25,
          18,
          28,
          21,
          31,
          26,
          18,
          60,
          39,
          20,
          21,
          22,
          35,
          61,
          64,
          18,
          49,
          33,
          44,
          38,
          55,
          22,
          60,
          28,
          66,
          21,
          19,
          18,
          35,
          32,
          60,
          19,
          53,
          60,
          22,
          59,
          51,
          23,
          35,
          24,
          41,
          55,
          18,
          49,
          21,
          42,
          59,
          55,
          31,
          42,
          64,
          53,
          18,
          73,
          25,
          26,
          27,
          38,
          24,
          21,
          21,
          28,
          22,
          18,
          41,
          22,
          47,
          20,
          26,
          25,
          47,
          20,
          40,
          20,
          41,
          31,
          21,
          20,
          22,
          19,
          45,
          39,
          21,
          25,
          19,
          22,
          18,
          19,
          18,
          33,
          34,
          39,
          51,
          20,
          38,
          26,
          18,
          25,
          38,
          27,
          40,
          24,
          35,
          18,
          24,
          50,
          20,
          23,
          21,
          30,
          22,
          18,
          18,
          29,
          19,
          41,
          19,
          63,
          40,
          25,
          49,
          63,
          28,
          60,
          18,
          22,
          22,
          20,
          20,
          43,
          47,
          21,
          18,
          27,
          22,
          32,
          18,
          18,
          19,
          27,
          42,
          19,
          54,
          71,
          27,
          38,
          33,
          55,
          47,
          22,
          30,
          45,
          62,
          29,
          36,
          70,
          46,
          19,
          44,
          43,
          54,
          34,
          18,
          62,
          60,
          30,
          49,
          19,
          19,
          21,
          19,
          21,
          67,
          24,
          55,
          18,
          44,
          24,
          61,
          18,
          51,
          24,
          21,
          36,
          30,
          32,
          47,
          23,
          32,
          52,
          60,
          20,
          49,
          27,
          25,
          26,
          69,
          31,
          47,
          24,
          54,
          19,
          18,
          57,
          51,
          26,
          19,
          41,
          25,
          44,
          48,
          75,
          68,
          64,
          41,
          26,
          47,
          22,
          55,
          24,
          59,
          20,
          23,
          38,
          32,
          28,
          19,
          23,
          26,
          31,
          33,
          28,
          21,
          28,
          60,
          31,
          21,
          59,
          60,
          20,
          22,
          26,
          19,
          18,
          30,
          38,
          28,
          18,
          47,
          21,
          20,
          25,
          53,
          21,
          22,
          18,
          23,
          18,
          21,
          20,
          35,
          19,
          22,
          22,
          18,
          27,
          21,
          21,
          29,
          22,
          18,
          25,
          35,
          37,
          18,
          64,
          19,
          18,
          23,
          41,
          30,
          19,
          26,
          27,
          23,
          23,
          23,
          46,
          23,
          37,
          23,
          62,
          39,
          30,
          36,
          56,
          55,
          28,
          48,
          34,
          21,
          20,
          35,
          32,
          45,
          23,
          30,
          19,
          22,
          27,
          23,
          22,
          18,
          23,
          28,
          25,
          21,
          30,
          23,
          47,
          44,
          29,
          18,
          20,
          18,
          18,
          18,
          18,
          25,
          35,
          57,
          35,
          46,
          32,
          32,
          23,
          28,
          21,
          45,
          33,
          52,
          19,
          34,
          18,
          53,
          46,
          18,
          19,
          21,
          55,
          22,
          38,
          65,
          21,
          20,
          19,
          43,
          23,
          19,
          33,
          51,
          36,
          20,
          55,
          55,
          18,
          38,
          18,
          20,
          35,
          43,
          31,
          22,
          50,
          26,
          33,
          33,
          74,
          29,
          36,
          19,
          30,
          18,
          23,
          22,
          31,
          19,
          29,
          22,
          18,
          55,
          23,
          53,
          57,
          20,
          23,
          31,
          42,
          25,
          46,
          40,
          37,
          19,
          50,
          18,
          18,
          22,
          54,
          20,
          30,
          41,
          18,
          19,
          27,
          47,
          20,
          20,
          19,
          53,
          45,
          26,
          21,
          58,
          21,
          22,
          58,
          19,
          19,
          31,
          29,
          23,
          20,
          18,
          47,
          69,
          33,
          25,
          19,
          23,
          21,
          18,
          18,
          23,
          21,
          30,
          18,
          52,
          47,
          52,
          41,
          32,
          23,
          20,
          30,
          23,
          60,
          24,
          26,
          31,
          44,
          25,
          21,
          35,
          22,
          29,
          18,
          45,
          42,
          42,
          20,
          23,
          60,
          19,
          55,
          43,
          43,
          26,
          21,
          36,
          40,
          65,
          39,
          21,
          20,
          28,
          28,
          19,
          65,
          57,
          33,
          19,
          32,
          20,
          18,
          25,
          29,
          37,
          29,
          24,
          34,
          19,
          19,
          40,
          19,
          19,
          18,
          18,
          29,
          19,
          24,
          20,
          22,
          18,
          22,
          20,
          44,
          26,
          36,
          27,
          22,
          18,
          34,
          34,
          20,
          18,
          28,
          32,
          25,
          26,
          27,
          20,
          19,
          37,
          61,
          18,
          18,
          19,
          20,
          27,
          21,
          59,
          45,
          32,
          18,
          18,
          19,
          56,
          36,
          29,
          51,
          25,
          32,
          34,
          21,
          20,
          26,
          72,
          32,
          49,
          24,
          26,
          18,
          27,
          26,
          50,
          24,
          21,
          49,
          45,
          42,
          24,
          20,
          24,
          18,
          39,
          53,
          28,
          20,
          42,
          29,
          42,
          47,
          20,
          19,
          49,
          20,
          58,
          21,
          35,
          20,
          18,
          20,
          24,
          22,
          22,
          35,
          35,
          57,
          18,
          20,
          32,
          34,
          34,
          23,
          18,
          24,
          23,
          33,
          28,
          25,
          18,
          52,
          19,
          18,
          20,
          24,
          55,
          24,
          24,
          18,
          48,
          49,
          21,
          54,
          27,
          22,
          22,
          58,
          20,
          24,
          53,
          28,
          23,
          68,
          37,
          31,
          32,
          20,
          21,
          24,
          25,
          42,
          21,
          20,
          32,
          38,
          25,
          53,
          50,
          34,
          36,
          41,
          42,
          72,
          24,
          42,
          20,
          19,
          19,
          53,
          23,
          31,
          21,
          37,
          26,
          44,
          23,
          19,
          47,
          29,
          54,
          25,
          20,
          24,
          30,
          21,
          34
         ]
        }
       ],
       "layout": {
        "barmode": "overlay",
        "legend": {
         "bgcolor": "#FFFFFF",
         "font": {
          "color": "#4D5663"
         }
        },
        "paper_bgcolor": "#FFFFFF",
        "plot_bgcolor": "#FFFFFF",
        "template": {
         "data": {
          "bar": [
           {
            "error_x": {
             "color": "#2a3f5f"
            },
            "error_y": {
             "color": "#2a3f5f"
            },
            "marker": {
             "line": {
              "color": "#E5ECF6",
              "width": 0.5
             },
             "pattern": {
              "fillmode": "overlay",
              "size": 10,
              "solidity": 0.2
             }
            },
            "type": "bar"
           }
          ],
          "barpolar": [
           {
            "marker": {
             "line": {
              "color": "#E5ECF6",
              "width": 0.5
             },
             "pattern": {
              "fillmode": "overlay",
              "size": 10,
              "solidity": 0.2
             }
            },
            "type": "barpolar"
           }
          ],
          "carpet": [
           {
            "aaxis": {
             "endlinecolor": "#2a3f5f",
             "gridcolor": "white",
             "linecolor": "white",
             "minorgridcolor": "white",
             "startlinecolor": "#2a3f5f"
            },
            "baxis": {
             "endlinecolor": "#2a3f5f",
             "gridcolor": "white",
             "linecolor": "white",
             "minorgridcolor": "white",
             "startlinecolor": "#2a3f5f"
            },
            "type": "carpet"
           }
          ],
          "choropleth": [
           {
            "colorbar": {
             "outlinewidth": 0,
             "ticks": ""
            },
            "type": "choropleth"
           }
          ],
          "contour": [
           {
            "colorbar": {
             "outlinewidth": 0,
             "ticks": ""
            },
            "colorscale": [
             [
              0,
              "#0d0887"
             ],
             [
              0.1111111111111111,
              "#46039f"
             ],
             [
              0.2222222222222222,
              "#7201a8"
             ],
             [
              0.3333333333333333,
              "#9c179e"
             ],
             [
              0.4444444444444444,
              "#bd3786"
             ],
             [
              0.5555555555555556,
              "#d8576b"
             ],
             [
              0.6666666666666666,
              "#ed7953"
             ],
             [
              0.7777777777777778,
              "#fb9f3a"
             ],
             [
              0.8888888888888888,
              "#fdca26"
             ],
             [
              1,
              "#f0f921"
             ]
            ],
            "type": "contour"
           }
          ],
          "contourcarpet": [
           {
            "colorbar": {
             "outlinewidth": 0,
             "ticks": ""
            },
            "type": "contourcarpet"
           }
          ],
          "heatmap": [
           {
            "colorbar": {
             "outlinewidth": 0,
             "ticks": ""
            },
            "colorscale": [
             [
              0,
              "#0d0887"
             ],
             [
              0.1111111111111111,
              "#46039f"
             ],
             [
              0.2222222222222222,
              "#7201a8"
             ],
             [
              0.3333333333333333,
              "#9c179e"
             ],
             [
              0.4444444444444444,
              "#bd3786"
             ],
             [
              0.5555555555555556,
              "#d8576b"
             ],
             [
              0.6666666666666666,
              "#ed7953"
             ],
             [
              0.7777777777777778,
              "#fb9f3a"
             ],
             [
              0.8888888888888888,
              "#fdca26"
             ],
             [
              1,
              "#f0f921"
             ]
            ],
            "type": "heatmap"
           }
          ],
          "heatmapgl": [
           {
            "colorbar": {
             "outlinewidth": 0,
             "ticks": ""
            },
            "colorscale": [
             [
              0,
              "#0d0887"
             ],
             [
              0.1111111111111111,
              "#46039f"
             ],
             [
              0.2222222222222222,
              "#7201a8"
             ],
             [
              0.3333333333333333,
              "#9c179e"
             ],
             [
              0.4444444444444444,
              "#bd3786"
             ],
             [
              0.5555555555555556,
              "#d8576b"
             ],
             [
              0.6666666666666666,
              "#ed7953"
             ],
             [
              0.7777777777777778,
              "#fb9f3a"
             ],
             [
              0.8888888888888888,
              "#fdca26"
             ],
             [
              1,
              "#f0f921"
             ]
            ],
            "type": "heatmapgl"
           }
          ],
          "histogram": [
           {
            "marker": {
             "pattern": {
              "fillmode": "overlay",
              "size": 10,
              "solidity": 0.2
             }
            },
            "type": "histogram"
           }
          ],
          "histogram2d": [
           {
            "colorbar": {
             "outlinewidth": 0,
             "ticks": ""
            },
            "colorscale": [
             [
              0,
              "#0d0887"
             ],
             [
              0.1111111111111111,
              "#46039f"
             ],
             [
              0.2222222222222222,
              "#7201a8"
             ],
             [
              0.3333333333333333,
              "#9c179e"
             ],
             [
              0.4444444444444444,
              "#bd3786"
             ],
             [
              0.5555555555555556,
              "#d8576b"
             ],
             [
              0.6666666666666666,
              "#ed7953"
             ],
             [
              0.7777777777777778,
              "#fb9f3a"
             ],
             [
              0.8888888888888888,
              "#fdca26"
             ],
             [
              1,
              "#f0f921"
             ]
            ],
            "type": "histogram2d"
           }
          ],
          "histogram2dcontour": [
           {
            "colorbar": {
             "outlinewidth": 0,
             "ticks": ""
            },
            "colorscale": [
             [
              0,
              "#0d0887"
             ],
             [
              0.1111111111111111,
              "#46039f"
             ],
             [
              0.2222222222222222,
              "#7201a8"
             ],
             [
              0.3333333333333333,
              "#9c179e"
             ],
             [
              0.4444444444444444,
              "#bd3786"
             ],
             [
              0.5555555555555556,
              "#d8576b"
             ],
             [
              0.6666666666666666,
              "#ed7953"
             ],
             [
              0.7777777777777778,
              "#fb9f3a"
             ],
             [
              0.8888888888888888,
              "#fdca26"
             ],
             [
              1,
              "#f0f921"
             ]
            ],
            "type": "histogram2dcontour"
           }
          ],
          "mesh3d": [
           {
            "colorbar": {
             "outlinewidth": 0,
             "ticks": ""
            },
            "type": "mesh3d"
           }
          ],
          "parcoords": [
           {
            "line": {
             "colorbar": {
              "outlinewidth": 0,
              "ticks": ""
             }
            },
            "type": "parcoords"
           }
          ],
          "pie": [
           {
            "automargin": true,
            "type": "pie"
           }
          ],
          "scatter": [
           {
            "marker": {
             "colorbar": {
              "outlinewidth": 0,
              "ticks": ""
             }
            },
            "type": "scatter"
           }
          ],
          "scatter3d": [
           {
            "line": {
             "colorbar": {
              "outlinewidth": 0,
              "ticks": ""
             }
            },
            "marker": {
             "colorbar": {
              "outlinewidth": 0,
              "ticks": ""
             }
            },
            "type": "scatter3d"
           }
          ],
          "scattercarpet": [
           {
            "marker": {
             "colorbar": {
              "outlinewidth": 0,
              "ticks": ""
             }
            },
            "type": "scattercarpet"
           }
          ],
          "scattergeo": [
           {
            "marker": {
             "colorbar": {
              "outlinewidth": 0,
              "ticks": ""
             }
            },
            "type": "scattergeo"
           }
          ],
          "scattergl": [
           {
            "marker": {
             "colorbar": {
              "outlinewidth": 0,
              "ticks": ""
             }
            },
            "type": "scattergl"
           }
          ],
          "scattermapbox": [
           {
            "marker": {
             "colorbar": {
              "outlinewidth": 0,
              "ticks": ""
             }
            },
            "type": "scattermapbox"
           }
          ],
          "scatterpolar": [
           {
            "marker": {
             "colorbar": {
              "outlinewidth": 0,
              "ticks": ""
             }
            },
            "type": "scatterpolar"
           }
          ],
          "scatterpolargl": [
           {
            "marker": {
             "colorbar": {
              "outlinewidth": 0,
              "ticks": ""
             }
            },
            "type": "scatterpolargl"
           }
          ],
          "scatterternary": [
           {
            "marker": {
             "colorbar": {
              "outlinewidth": 0,
              "ticks": ""
             }
            },
            "type": "scatterternary"
           }
          ],
          "surface": [
           {
            "colorbar": {
             "outlinewidth": 0,
             "ticks": ""
            },
            "colorscale": [
             [
              0,
              "#0d0887"
             ],
             [
              0.1111111111111111,
              "#46039f"
             ],
             [
              0.2222222222222222,
              "#7201a8"
             ],
             [
              0.3333333333333333,
              "#9c179e"
             ],
             [
              0.4444444444444444,
              "#bd3786"
             ],
             [
              0.5555555555555556,
              "#d8576b"
             ],
             [
              0.6666666666666666,
              "#ed7953"
             ],
             [
              0.7777777777777778,
              "#fb9f3a"
             ],
             [
              0.8888888888888888,
              "#fdca26"
             ],
             [
              1,
              "#f0f921"
             ]
            ],
            "type": "surface"
           }
          ],
          "table": [
           {
            "cells": {
             "fill": {
              "color": "#EBF0F8"
             },
             "line": {
              "color": "white"
             }
            },
            "header": {
             "fill": {
              "color": "#C8D4E3"
             },
             "line": {
              "color": "white"
             }
            },
            "type": "table"
           }
          ]
         },
         "layout": {
          "annotationdefaults": {
           "arrowcolor": "#2a3f5f",
           "arrowhead": 0,
           "arrowwidth": 1
          },
          "autotypenumbers": "strict",
          "coloraxis": {
           "colorbar": {
            "outlinewidth": 0,
            "ticks": ""
           }
          },
          "colorscale": {
           "diverging": [
            [
             0,
             "#8e0152"
            ],
            [
             0.1,
             "#c51b7d"
            ],
            [
             0.2,
             "#de77ae"
            ],
            [
             0.3,
             "#f1b6da"
            ],
            [
             0.4,
             "#fde0ef"
            ],
            [
             0.5,
             "#f7f7f7"
            ],
            [
             0.6,
             "#e6f5d0"
            ],
            [
             0.7,
             "#b8e186"
            ],
            [
             0.8,
             "#7fbc41"
            ],
            [
             0.9,
             "#4d9221"
            ],
            [
             1,
             "#276419"
            ]
           ],
           "sequential": [
            [
             0,
             "#0d0887"
            ],
            [
             0.1111111111111111,
             "#46039f"
            ],
            [
             0.2222222222222222,
             "#7201a8"
            ],
            [
             0.3333333333333333,
             "#9c179e"
            ],
            [
             0.4444444444444444,
             "#bd3786"
            ],
            [
             0.5555555555555556,
             "#d8576b"
            ],
            [
             0.6666666666666666,
             "#ed7953"
            ],
            [
             0.7777777777777778,
             "#fb9f3a"
            ],
            [
             0.8888888888888888,
             "#fdca26"
            ],
            [
             1,
             "#f0f921"
            ]
           ],
           "sequentialminus": [
            [
             0,
             "#0d0887"
            ],
            [
             0.1111111111111111,
             "#46039f"
            ],
            [
             0.2222222222222222,
             "#7201a8"
            ],
            [
             0.3333333333333333,
             "#9c179e"
            ],
            [
             0.4444444444444444,
             "#bd3786"
            ],
            [
             0.5555555555555556,
             "#d8576b"
            ],
            [
             0.6666666666666666,
             "#ed7953"
            ],
            [
             0.7777777777777778,
             "#fb9f3a"
            ],
            [
             0.8888888888888888,
             "#fdca26"
            ],
            [
             1,
             "#f0f921"
            ]
           ]
          },
          "colorway": [
           "#636efa",
           "#EF553B",
           "#00cc96",
           "#ab63fa",
           "#FFA15A",
           "#19d3f3",
           "#FF6692",
           "#B6E880",
           "#FF97FF",
           "#FECB52"
          ],
          "font": {
           "color": "#2a3f5f"
          },
          "geo": {
           "bgcolor": "white",
           "lakecolor": "white",
           "landcolor": "#E5ECF6",
           "showlakes": true,
           "showland": true,
           "subunitcolor": "white"
          },
          "hoverlabel": {
           "align": "left"
          },
          "hovermode": "closest",
          "mapbox": {
           "style": "light"
          },
          "paper_bgcolor": "white",
          "plot_bgcolor": "#E5ECF6",
          "polar": {
           "angularaxis": {
            "gridcolor": "white",
            "linecolor": "white",
            "ticks": ""
           },
           "bgcolor": "#E5ECF6",
           "radialaxis": {
            "gridcolor": "white",
            "linecolor": "white",
            "ticks": ""
           }
          },
          "scene": {
           "xaxis": {
            "backgroundcolor": "#E5ECF6",
            "gridcolor": "white",
            "gridwidth": 2,
            "linecolor": "white",
            "showbackground": true,
            "ticks": "",
            "zerolinecolor": "white"
           },
           "yaxis": {
            "backgroundcolor": "#E5ECF6",
            "gridcolor": "white",
            "gridwidth": 2,
            "linecolor": "white",
            "showbackground": true,
            "ticks": "",
            "zerolinecolor": "white"
           },
           "zaxis": {
            "backgroundcolor": "#E5ECF6",
            "gridcolor": "white",
            "gridwidth": 2,
            "linecolor": "white",
            "showbackground": true,
            "ticks": "",
            "zerolinecolor": "white"
           }
          },
          "shapedefaults": {
           "line": {
            "color": "#2a3f5f"
           }
          },
          "ternary": {
           "aaxis": {
            "gridcolor": "white",
            "linecolor": "white",
            "ticks": ""
           },
           "baxis": {
            "gridcolor": "white",
            "linecolor": "white",
            "ticks": ""
           },
           "bgcolor": "#E5ECF6",
           "caxis": {
            "gridcolor": "white",
            "linecolor": "white",
            "ticks": ""
           }
          },
          "title": {
           "x": 0.05
          },
          "xaxis": {
           "automargin": true,
           "gridcolor": "white",
           "linecolor": "white",
           "ticks": "",
           "title": {
            "standoff": 15
           },
           "zerolinecolor": "white",
           "zerolinewidth": 2
          },
          "yaxis": {
           "automargin": true,
           "gridcolor": "white",
           "linecolor": "white",
           "ticks": "",
           "title": {
            "standoff": 15
           },
           "zerolinecolor": "white",
           "zerolinewidth": 2
          }
         }
        },
        "title": {
         "font": {
          "color": "#4D5663"
         },
         "text": "Age Distribtution (N=962)"
        },
        "xaxis": {
         "gridcolor": "#E1E5ED",
         "showgrid": true,
         "tickfont": {
          "color": "#4D5663"
         },
         "title": {
          "font": {
           "color": "#4D5663"
          },
          "text": "Age"
         },
         "zerolinecolor": "#E1E5ED"
        },
        "yaxis": {
         "gridcolor": "#E1E5ED",
         "showgrid": true,
         "tickfont": {
          "color": "#4D5663"
         },
         "title": {
          "font": {
           "color": "#4D5663"
          },
          "text": "Count"
         },
         "zerolinecolor": "#E1E5ED"
        }
       }
      },
      "text/html": [
       "<div>                            <div id=\"8c84126f-7a6d-4702-8faa-c3cee30b4158\" class=\"plotly-graph-div\" style=\"height:525px; width:100%;\"></div>            <script type=\"text/javascript\">                require([\"plotly\"], function(Plotly) {                    window.PLOTLYENV=window.PLOTLYENV || {};\n",
       "                    window.PLOTLYENV.BASE_URL='https://plot.ly';                                    if (document.getElementById(\"8c84126f-7a6d-4702-8faa-c3cee30b4158\")) {                    Plotly.newPlot(                        \"8c84126f-7a6d-4702-8faa-c3cee30b4158\",                        [{\"histfunc\":\"count\",\"histnorm\":\"\",\"marker\":{\"color\":\"rgba(12, 128, 128, 1.0)\",\"line\":{\"color\":\"#4D5663\",\"width\":1.3}},\"name\":\"DEMO_age\",\"opacity\":0.75,\"orientation\":\"v\",\"x\":[28.0,37.0,23.0,32.0,35.0,18.0,46.0,44.0,45.0,41.0,26.0,18.0,34.0,24.0,22.0,62.0,34.0,35.0,18.0,29.0,19.0,25.0,18.0,21.0,35.0,24.0,28.0,28.0,23.0,24.0,30.0,24.0,29.0,21.0,21.0,28.0,42.0,47.0,51.0,19.0,73.0,23.0,27.0,21.0,37.0,18.0,74.0,46.0,18.0,40.0,22.0,35.0,41.0,26.0,32.0,25.0,18.0,29.0,23.0,38.0,19.0,19.0,29.0,24.0,36.0,41.0,23.0,36.0,46.0,29.0,22.0,39.0,42.0,43.0,27.0,35.0,60.0,31.0,30.0,45.0,18.0,50.0,43.0,27.0,26.0,38.0,21.0,38.0,21.0,45.0,23.0,33.0,36.0,23.0,39.0,21.0,28.0,33.0,18.0,24.0,25.0,38.0,26.0,57.0,25.0,20.0,48.0,18.0,22.0,18.0,18.0,26.0,28.0,34.0,58.0,19.0,20.0,18.0,52.0,20.0,36.0,67.0,18.0,43.0,37.0,28.0,38.0,33.0,43.0,19.0,49.0,65.0,36.0,32.0,24.0,42.0,30.0,31.0,29.0,18.0,19.0,21.0,50.0,62.0,21.0,50.0,29.0,23.0,21.0,18.0,21.0,58.0,18.0,19.0,21.0,18.0,22.0,24.0,20.0,20.0,20.0,20.0,18.0,35.0,49.0,19.0,68.0,19.0,47.0,25.0,35.0,28.0,36.0,42.0,23.0,32.0,47.0,24.0,18.0,75.0,20.0,25.0,35.0,32.0,39.0,19.0,23.0,58.0,46.0,20.0,22.0,34.0,19.0,42.0,25.0,19.0,56.0,19.0,27.0,21.0,38.0,27.0,45.0,25.0,19.0,42.0,20.0,18.0,20.0,49.0,18.0,31.0,18.0,33.0,21.0,39.0,31.0,22.0,19.0,62.0,33.0,18.0,20.0,19.0,30.0,20.0,26.0,23.0,25.0,19.0,18.0,25.0,18.0,47.0,23.0,32.0,28.0,50.0,25.0,59.0,44.0,46.0,46.0,61.0,28.0,22.0,56.0,42.0,45.0,33.0,53.0,23.0,22.0,49.0,48.0,31.0,26.0,31.0,28.0,41.0,39.0,39.0,30.0,36.0,60.0,51.0,44.0,57.0,60.0,32.0,19.0,55.0,44.0,39.0,33.0,51.0,43.0,18.0,45.0,21.0,32.0,18.0,33.0,24.0,19.0,25.0,18.0,28.0,21.0,31.0,26.0,18.0,60.0,39.0,20.0,21.0,22.0,35.0,61.0,64.0,18.0,49.0,33.0,44.0,38.0,55.0,22.0,60.0,28.0,66.0,21.0,19.0,18.0,35.0,32.0,60.0,19.0,53.0,60.0,22.0,59.0,51.0,23.0,35.0,24.0,41.0,55.0,18.0,49.0,21.0,42.0,59.0,55.0,31.0,42.0,64.0,53.0,18.0,73.0,25.0,26.0,27.0,38.0,24.0,21.0,21.0,28.0,22.0,18.0,41.0,22.0,47.0,20.0,26.0,25.0,47.0,20.0,40.0,20.0,41.0,31.0,21.0,20.0,22.0,19.0,45.0,39.0,21.0,25.0,19.0,22.0,18.0,19.0,18.0,33.0,34.0,39.0,51.0,20.0,38.0,26.0,18.0,25.0,38.0,27.0,40.0,24.0,35.0,18.0,24.0,50.0,20.0,23.0,21.0,30.0,22.0,18.0,18.0,29.0,19.0,41.0,19.0,63.0,40.0,25.0,49.0,63.0,28.0,60.0,18.0,22.0,22.0,20.0,20.0,43.0,47.0,21.0,18.0,27.0,22.0,32.0,18.0,18.0,19.0,27.0,42.0,19.0,54.0,71.0,27.0,38.0,33.0,55.0,47.0,22.0,30.0,45.0,62.0,29.0,36.0,70.0,46.0,19.0,44.0,43.0,54.0,34.0,18.0,62.0,60.0,30.0,49.0,19.0,19.0,21.0,19.0,21.0,67.0,24.0,55.0,18.0,44.0,24.0,61.0,18.0,51.0,24.0,21.0,36.0,30.0,32.0,47.0,23.0,32.0,52.0,60.0,20.0,49.0,27.0,25.0,26.0,69.0,31.0,47.0,24.0,54.0,19.0,18.0,57.0,51.0,26.0,19.0,41.0,25.0,44.0,48.0,75.0,68.0,64.0,41.0,26.0,47.0,22.0,55.0,24.0,59.0,20.0,23.0,38.0,32.0,28.0,19.0,23.0,26.0,31.0,33.0,28.0,21.0,28.0,60.0,31.0,21.0,59.0,60.0,20.0,22.0,26.0,19.0,18.0,30.0,38.0,28.0,18.0,47.0,21.0,20.0,25.0,53.0,21.0,22.0,18.0,23.0,18.0,21.0,20.0,35.0,19.0,22.0,22.0,18.0,27.0,21.0,21.0,29.0,22.0,18.0,25.0,35.0,37.0,18.0,64.0,19.0,18.0,23.0,41.0,30.0,19.0,26.0,27.0,23.0,23.0,23.0,46.0,23.0,37.0,23.0,62.0,39.0,30.0,36.0,56.0,55.0,28.0,48.0,34.0,21.0,20.0,35.0,32.0,45.0,23.0,30.0,19.0,22.0,27.0,23.0,22.0,18.0,23.0,28.0,25.0,21.0,30.0,23.0,47.0,44.0,29.0,18.0,20.0,18.0,18.0,18.0,18.0,25.0,35.0,57.0,35.0,46.0,32.0,32.0,23.0,28.0,21.0,45.0,33.0,52.0,19.0,34.0,18.0,53.0,46.0,18.0,19.0,21.0,55.0,22.0,38.0,65.0,21.0,20.0,19.0,43.0,23.0,19.0,33.0,51.0,36.0,20.0,55.0,55.0,18.0,38.0,18.0,20.0,35.0,43.0,31.0,22.0,50.0,26.0,33.0,33.0,74.0,29.0,36.0,19.0,30.0,18.0,23.0,22.0,31.0,19.0,29.0,22.0,18.0,55.0,23.0,53.0,57.0,20.0,23.0,31.0,42.0,25.0,46.0,40.0,37.0,19.0,50.0,18.0,18.0,22.0,54.0,20.0,30.0,41.0,18.0,19.0,27.0,47.0,20.0,20.0,19.0,53.0,45.0,26.0,21.0,58.0,21.0,22.0,58.0,19.0,19.0,31.0,29.0,23.0,20.0,18.0,47.0,69.0,33.0,25.0,19.0,23.0,21.0,18.0,18.0,23.0,21.0,30.0,18.0,52.0,47.0,52.0,41.0,32.0,23.0,20.0,30.0,23.0,60.0,24.0,26.0,31.0,44.0,25.0,21.0,35.0,22.0,29.0,18.0,45.0,42.0,42.0,20.0,23.0,60.0,19.0,55.0,43.0,43.0,26.0,21.0,36.0,40.0,65.0,39.0,21.0,20.0,28.0,28.0,19.0,65.0,57.0,33.0,19.0,32.0,20.0,18.0,25.0,29.0,37.0,29.0,24.0,34.0,19.0,19.0,40.0,19.0,19.0,18.0,18.0,29.0,19.0,24.0,20.0,22.0,18.0,22.0,20.0,44.0,26.0,36.0,27.0,22.0,18.0,34.0,34.0,20.0,18.0,28.0,32.0,25.0,26.0,27.0,20.0,19.0,37.0,61.0,18.0,18.0,19.0,20.0,27.0,21.0,59.0,45.0,32.0,18.0,18.0,19.0,56.0,36.0,29.0,51.0,25.0,32.0,34.0,21.0,20.0,26.0,72.0,32.0,49.0,24.0,26.0,18.0,27.0,26.0,50.0,24.0,21.0,49.0,45.0,42.0,24.0,20.0,24.0,18.0,39.0,53.0,28.0,20.0,42.0,29.0,42.0,47.0,20.0,19.0,49.0,20.0,58.0,21.0,35.0,20.0,18.0,20.0,24.0,22.0,22.0,35.0,35.0,57.0,18.0,20.0,32.0,34.0,34.0,23.0,18.0,24.0,23.0,33.0,28.0,25.0,18.0,52.0,19.0,18.0,20.0,24.0,55.0,24.0,24.0,18.0,48.0,49.0,21.0,54.0,27.0,22.0,22.0,58.0,20.0,24.0,53.0,28.0,23.0,68.0,37.0,31.0,32.0,20.0,21.0,24.0,25.0,42.0,21.0,20.0,32.0,38.0,25.0,53.0,50.0,34.0,36.0,41.0,42.0,72.0,24.0,42.0,20.0,19.0,19.0,53.0,23.0,31.0,21.0,37.0,26.0,44.0,23.0,19.0,47.0,29.0,54.0,25.0,20.0,24.0,30.0,21.0,34.0],\"type\":\"histogram\"}],                        {\"barmode\":\"overlay\",\"legend\":{\"bgcolor\":\"#FFFFFF\",\"font\":{\"color\":\"#4D5663\"}},\"paper_bgcolor\":\"#FFFFFF\",\"plot_bgcolor\":\"#FFFFFF\",\"template\":{\"data\":{\"barpolar\":[{\"marker\":{\"line\":{\"color\":\"#E5ECF6\",\"width\":0.5},\"pattern\":{\"fillmode\":\"overlay\",\"size\":10,\"solidity\":0.2}},\"type\":\"barpolar\"}],\"bar\":[{\"error_x\":{\"color\":\"#2a3f5f\"},\"error_y\":{\"color\":\"#2a3f5f\"},\"marker\":{\"line\":{\"color\":\"#E5ECF6\",\"width\":0.5},\"pattern\":{\"fillmode\":\"overlay\",\"size\":10,\"solidity\":0.2}},\"type\":\"bar\"}],\"carpet\":[{\"aaxis\":{\"endlinecolor\":\"#2a3f5f\",\"gridcolor\":\"white\",\"linecolor\":\"white\",\"minorgridcolor\":\"white\",\"startlinecolor\":\"#2a3f5f\"},\"baxis\":{\"endlinecolor\":\"#2a3f5f\",\"gridcolor\":\"white\",\"linecolor\":\"white\",\"minorgridcolor\":\"white\",\"startlinecolor\":\"#2a3f5f\"},\"type\":\"carpet\"}],\"choropleth\":[{\"colorbar\":{\"outlinewidth\":0,\"ticks\":\"\"},\"type\":\"choropleth\"}],\"contourcarpet\":[{\"colorbar\":{\"outlinewidth\":0,\"ticks\":\"\"},\"type\":\"contourcarpet\"}],\"contour\":[{\"colorbar\":{\"outlinewidth\":0,\"ticks\":\"\"},\"colorscale\":[[0.0,\"#0d0887\"],[0.1111111111111111,\"#46039f\"],[0.2222222222222222,\"#7201a8\"],[0.3333333333333333,\"#9c179e\"],[0.4444444444444444,\"#bd3786\"],[0.5555555555555556,\"#d8576b\"],[0.6666666666666666,\"#ed7953\"],[0.7777777777777778,\"#fb9f3a\"],[0.8888888888888888,\"#fdca26\"],[1.0,\"#f0f921\"]],\"type\":\"contour\"}],\"heatmapgl\":[{\"colorbar\":{\"outlinewidth\":0,\"ticks\":\"\"},\"colorscale\":[[0.0,\"#0d0887\"],[0.1111111111111111,\"#46039f\"],[0.2222222222222222,\"#7201a8\"],[0.3333333333333333,\"#9c179e\"],[0.4444444444444444,\"#bd3786\"],[0.5555555555555556,\"#d8576b\"],[0.6666666666666666,\"#ed7953\"],[0.7777777777777778,\"#fb9f3a\"],[0.8888888888888888,\"#fdca26\"],[1.0,\"#f0f921\"]],\"type\":\"heatmapgl\"}],\"heatmap\":[{\"colorbar\":{\"outlinewidth\":0,\"ticks\":\"\"},\"colorscale\":[[0.0,\"#0d0887\"],[0.1111111111111111,\"#46039f\"],[0.2222222222222222,\"#7201a8\"],[0.3333333333333333,\"#9c179e\"],[0.4444444444444444,\"#bd3786\"],[0.5555555555555556,\"#d8576b\"],[0.6666666666666666,\"#ed7953\"],[0.7777777777777778,\"#fb9f3a\"],[0.8888888888888888,\"#fdca26\"],[1.0,\"#f0f921\"]],\"type\":\"heatmap\"}],\"histogram2dcontour\":[{\"colorbar\":{\"outlinewidth\":0,\"ticks\":\"\"},\"colorscale\":[[0.0,\"#0d0887\"],[0.1111111111111111,\"#46039f\"],[0.2222222222222222,\"#7201a8\"],[0.3333333333333333,\"#9c179e\"],[0.4444444444444444,\"#bd3786\"],[0.5555555555555556,\"#d8576b\"],[0.6666666666666666,\"#ed7953\"],[0.7777777777777778,\"#fb9f3a\"],[0.8888888888888888,\"#fdca26\"],[1.0,\"#f0f921\"]],\"type\":\"histogram2dcontour\"}],\"histogram2d\":[{\"colorbar\":{\"outlinewidth\":0,\"ticks\":\"\"},\"colorscale\":[[0.0,\"#0d0887\"],[0.1111111111111111,\"#46039f\"],[0.2222222222222222,\"#7201a8\"],[0.3333333333333333,\"#9c179e\"],[0.4444444444444444,\"#bd3786\"],[0.5555555555555556,\"#d8576b\"],[0.6666666666666666,\"#ed7953\"],[0.7777777777777778,\"#fb9f3a\"],[0.8888888888888888,\"#fdca26\"],[1.0,\"#f0f921\"]],\"type\":\"histogram2d\"}],\"histogram\":[{\"marker\":{\"pattern\":{\"fillmode\":\"overlay\",\"size\":10,\"solidity\":0.2}},\"type\":\"histogram\"}],\"mesh3d\":[{\"colorbar\":{\"outlinewidth\":0,\"ticks\":\"\"},\"type\":\"mesh3d\"}],\"parcoords\":[{\"line\":{\"colorbar\":{\"outlinewidth\":0,\"ticks\":\"\"}},\"type\":\"parcoords\"}],\"pie\":[{\"automargin\":true,\"type\":\"pie\"}],\"scatter3d\":[{\"line\":{\"colorbar\":{\"outlinewidth\":0,\"ticks\":\"\"}},\"marker\":{\"colorbar\":{\"outlinewidth\":0,\"ticks\":\"\"}},\"type\":\"scatter3d\"}],\"scattercarpet\":[{\"marker\":{\"colorbar\":{\"outlinewidth\":0,\"ticks\":\"\"}},\"type\":\"scattercarpet\"}],\"scattergeo\":[{\"marker\":{\"colorbar\":{\"outlinewidth\":0,\"ticks\":\"\"}},\"type\":\"scattergeo\"}],\"scattergl\":[{\"marker\":{\"colorbar\":{\"outlinewidth\":0,\"ticks\":\"\"}},\"type\":\"scattergl\"}],\"scattermapbox\":[{\"marker\":{\"colorbar\":{\"outlinewidth\":0,\"ticks\":\"\"}},\"type\":\"scattermapbox\"}],\"scatterpolargl\":[{\"marker\":{\"colorbar\":{\"outlinewidth\":0,\"ticks\":\"\"}},\"type\":\"scatterpolargl\"}],\"scatterpolar\":[{\"marker\":{\"colorbar\":{\"outlinewidth\":0,\"ticks\":\"\"}},\"type\":\"scatterpolar\"}],\"scatter\":[{\"marker\":{\"colorbar\":{\"outlinewidth\":0,\"ticks\":\"\"}},\"type\":\"scatter\"}],\"scatterternary\":[{\"marker\":{\"colorbar\":{\"outlinewidth\":0,\"ticks\":\"\"}},\"type\":\"scatterternary\"}],\"surface\":[{\"colorbar\":{\"outlinewidth\":0,\"ticks\":\"\"},\"colorscale\":[[0.0,\"#0d0887\"],[0.1111111111111111,\"#46039f\"],[0.2222222222222222,\"#7201a8\"],[0.3333333333333333,\"#9c179e\"],[0.4444444444444444,\"#bd3786\"],[0.5555555555555556,\"#d8576b\"],[0.6666666666666666,\"#ed7953\"],[0.7777777777777778,\"#fb9f3a\"],[0.8888888888888888,\"#fdca26\"],[1.0,\"#f0f921\"]],\"type\":\"surface\"}],\"table\":[{\"cells\":{\"fill\":{\"color\":\"#EBF0F8\"},\"line\":{\"color\":\"white\"}},\"header\":{\"fill\":{\"color\":\"#C8D4E3\"},\"line\":{\"color\":\"white\"}},\"type\":\"table\"}]},\"layout\":{\"annotationdefaults\":{\"arrowcolor\":\"#2a3f5f\",\"arrowhead\":0,\"arrowwidth\":1},\"autotypenumbers\":\"strict\",\"coloraxis\":{\"colorbar\":{\"outlinewidth\":0,\"ticks\":\"\"}},\"colorscale\":{\"diverging\":[[0,\"#8e0152\"],[0.1,\"#c51b7d\"],[0.2,\"#de77ae\"],[0.3,\"#f1b6da\"],[0.4,\"#fde0ef\"],[0.5,\"#f7f7f7\"],[0.6,\"#e6f5d0\"],[0.7,\"#b8e186\"],[0.8,\"#7fbc41\"],[0.9,\"#4d9221\"],[1,\"#276419\"]],\"sequential\":[[0.0,\"#0d0887\"],[0.1111111111111111,\"#46039f\"],[0.2222222222222222,\"#7201a8\"],[0.3333333333333333,\"#9c179e\"],[0.4444444444444444,\"#bd3786\"],[0.5555555555555556,\"#d8576b\"],[0.6666666666666666,\"#ed7953\"],[0.7777777777777778,\"#fb9f3a\"],[0.8888888888888888,\"#fdca26\"],[1.0,\"#f0f921\"]],\"sequentialminus\":[[0.0,\"#0d0887\"],[0.1111111111111111,\"#46039f\"],[0.2222222222222222,\"#7201a8\"],[0.3333333333333333,\"#9c179e\"],[0.4444444444444444,\"#bd3786\"],[0.5555555555555556,\"#d8576b\"],[0.6666666666666666,\"#ed7953\"],[0.7777777777777778,\"#fb9f3a\"],[0.8888888888888888,\"#fdca26\"],[1.0,\"#f0f921\"]]},\"colorway\":[\"#636efa\",\"#EF553B\",\"#00cc96\",\"#ab63fa\",\"#FFA15A\",\"#19d3f3\",\"#FF6692\",\"#B6E880\",\"#FF97FF\",\"#FECB52\"],\"font\":{\"color\":\"#2a3f5f\"},\"geo\":{\"bgcolor\":\"white\",\"lakecolor\":\"white\",\"landcolor\":\"#E5ECF6\",\"showlakes\":true,\"showland\":true,\"subunitcolor\":\"white\"},\"hoverlabel\":{\"align\":\"left\"},\"hovermode\":\"closest\",\"mapbox\":{\"style\":\"light\"},\"paper_bgcolor\":\"white\",\"plot_bgcolor\":\"#E5ECF6\",\"polar\":{\"angularaxis\":{\"gridcolor\":\"white\",\"linecolor\":\"white\",\"ticks\":\"\"},\"bgcolor\":\"#E5ECF6\",\"radialaxis\":{\"gridcolor\":\"white\",\"linecolor\":\"white\",\"ticks\":\"\"}},\"scene\":{\"xaxis\":{\"backgroundcolor\":\"#E5ECF6\",\"gridcolor\":\"white\",\"gridwidth\":2,\"linecolor\":\"white\",\"showbackground\":true,\"ticks\":\"\",\"zerolinecolor\":\"white\"},\"yaxis\":{\"backgroundcolor\":\"#E5ECF6\",\"gridcolor\":\"white\",\"gridwidth\":2,\"linecolor\":\"white\",\"showbackground\":true,\"ticks\":\"\",\"zerolinecolor\":\"white\"},\"zaxis\":{\"backgroundcolor\":\"#E5ECF6\",\"gridcolor\":\"white\",\"gridwidth\":2,\"linecolor\":\"white\",\"showbackground\":true,\"ticks\":\"\",\"zerolinecolor\":\"white\"}},\"shapedefaults\":{\"line\":{\"color\":\"#2a3f5f\"}},\"ternary\":{\"aaxis\":{\"gridcolor\":\"white\",\"linecolor\":\"white\",\"ticks\":\"\"},\"baxis\":{\"gridcolor\":\"white\",\"linecolor\":\"white\",\"ticks\":\"\"},\"bgcolor\":\"#E5ECF6\",\"caxis\":{\"gridcolor\":\"white\",\"linecolor\":\"white\",\"ticks\":\"\"}},\"title\":{\"x\":0.05},\"xaxis\":{\"automargin\":true,\"gridcolor\":\"white\",\"linecolor\":\"white\",\"ticks\":\"\",\"title\":{\"standoff\":15},\"zerolinecolor\":\"white\",\"zerolinewidth\":2},\"yaxis\":{\"automargin\":true,\"gridcolor\":\"white\",\"linecolor\":\"white\",\"ticks\":\"\",\"title\":{\"standoff\":15},\"zerolinecolor\":\"white\",\"zerolinewidth\":2}}},\"title\":{\"font\":{\"color\":\"#4D5663\"},\"text\":\"Age Distribtution (N=962)\"},\"xaxis\":{\"gridcolor\":\"#E1E5ED\",\"showgrid\":true,\"tickfont\":{\"color\":\"#4D5663\"},\"title\":{\"font\":{\"color\":\"#4D5663\"},\"text\":\"Age\"},\"zerolinecolor\":\"#E1E5ED\"},\"yaxis\":{\"gridcolor\":\"#E1E5ED\",\"showgrid\":true,\"tickfont\":{\"color\":\"#4D5663\"},\"title\":{\"font\":{\"color\":\"#4D5663\"},\"text\":\"Count\"},\"zerolinecolor\":\"#E1E5ED\"}},                        {\"showLink\": true, \"linkText\": \"Export to plot.ly\", \"plotlyServerURL\": \"https://plot.ly\", \"responsive\": true}                    ).then(function(){\n",
       "                            \n",
       "var gd = document.getElementById('8c84126f-7a6d-4702-8faa-c3cee30b4158');\n",
       "var x = new MutationObserver(function (mutations, observer) {{\n",
       "        var display = window.getComputedStyle(gd).display;\n",
       "        if (!display || display === 'none') {{\n",
       "            console.log([gd, 'removed!']);\n",
       "            Plotly.purge(gd);\n",
       "            observer.disconnect();\n",
       "        }}\n",
       "}});\n",
       "\n",
       "// Listen for the removal of the full notebook cells\n",
       "var notebookContainer = gd.closest('#notebook-container');\n",
       "if (notebookContainer) {{\n",
       "    x.observe(notebookContainer, {childList: true});\n",
       "}}\n",
       "\n",
       "// Listen for the clearing of the current output cell\n",
       "var outputEl = gd.closest('.output');\n",
       "if (outputEl) {{\n",
       "    x.observe(outputEl, {childList: true});\n",
       "}}\n",
       "\n",
       "                        })                };                });            </script>        </div>"
      ]
     },
     "metadata": {},
     "output_type": "display_data"
    }
   ],
   "source": [
    "total_responses = sum(gcbs_clean_df['DEMO_age'].value_counts())\n",
    "gcbs_clean_df['DEMO_age'].iplot(kind='hist', opacity=0.75, color='rgb(12, 128, 128)', title='Age Distribtution (N={})'.format(total_responses), yTitle='Count', xTitle='Age', bargap = 0, theme='white')"
   ]
  },
  {
   "cell_type": "code",
   "execution_count": 37,
   "metadata": {},
   "outputs": [
    {
     "data": {
      "application/vnd.plotly.v1+json": {
       "config": {
        "linkText": "Export to plot.ly",
        "plotlyServerURL": "https://plot.ly",
        "showLink": true
       },
       "data": [
        {
         "marker": {
          "color": "rgba(255, 153, 51, 0.6)",
          "line": {
           "color": "rgba(255, 153, 51, 1.0)",
           "width": 1
          }
         },
         "name": "DEMO_education",
         "orientation": "v",
         "text": "",
         "type": "bar",
         "x": [
          "Less than high school",
          "High school",
          "University degree",
          "Graduate degree"
         ],
         "y": [
          33,
          437,
          331,
          146
         ]
        }
       ],
       "layout": {
        "legend": {
         "bgcolor": "#FFFFFF",
         "font": {
          "color": "#4D5663"
         }
        },
        "paper_bgcolor": "#FFFFFF",
        "plot_bgcolor": "#FFFFFF",
        "template": {
         "data": {
          "bar": [
           {
            "error_x": {
             "color": "#2a3f5f"
            },
            "error_y": {
             "color": "#2a3f5f"
            },
            "marker": {
             "line": {
              "color": "#E5ECF6",
              "width": 0.5
             },
             "pattern": {
              "fillmode": "overlay",
              "size": 10,
              "solidity": 0.2
             }
            },
            "type": "bar"
           }
          ],
          "barpolar": [
           {
            "marker": {
             "line": {
              "color": "#E5ECF6",
              "width": 0.5
             },
             "pattern": {
              "fillmode": "overlay",
              "size": 10,
              "solidity": 0.2
             }
            },
            "type": "barpolar"
           }
          ],
          "carpet": [
           {
            "aaxis": {
             "endlinecolor": "#2a3f5f",
             "gridcolor": "white",
             "linecolor": "white",
             "minorgridcolor": "white",
             "startlinecolor": "#2a3f5f"
            },
            "baxis": {
             "endlinecolor": "#2a3f5f",
             "gridcolor": "white",
             "linecolor": "white",
             "minorgridcolor": "white",
             "startlinecolor": "#2a3f5f"
            },
            "type": "carpet"
           }
          ],
          "choropleth": [
           {
            "colorbar": {
             "outlinewidth": 0,
             "ticks": ""
            },
            "type": "choropleth"
           }
          ],
          "contour": [
           {
            "colorbar": {
             "outlinewidth": 0,
             "ticks": ""
            },
            "colorscale": [
             [
              0,
              "#0d0887"
             ],
             [
              0.1111111111111111,
              "#46039f"
             ],
             [
              0.2222222222222222,
              "#7201a8"
             ],
             [
              0.3333333333333333,
              "#9c179e"
             ],
             [
              0.4444444444444444,
              "#bd3786"
             ],
             [
              0.5555555555555556,
              "#d8576b"
             ],
             [
              0.6666666666666666,
              "#ed7953"
             ],
             [
              0.7777777777777778,
              "#fb9f3a"
             ],
             [
              0.8888888888888888,
              "#fdca26"
             ],
             [
              1,
              "#f0f921"
             ]
            ],
            "type": "contour"
           }
          ],
          "contourcarpet": [
           {
            "colorbar": {
             "outlinewidth": 0,
             "ticks": ""
            },
            "type": "contourcarpet"
           }
          ],
          "heatmap": [
           {
            "colorbar": {
             "outlinewidth": 0,
             "ticks": ""
            },
            "colorscale": [
             [
              0,
              "#0d0887"
             ],
             [
              0.1111111111111111,
              "#46039f"
             ],
             [
              0.2222222222222222,
              "#7201a8"
             ],
             [
              0.3333333333333333,
              "#9c179e"
             ],
             [
              0.4444444444444444,
              "#bd3786"
             ],
             [
              0.5555555555555556,
              "#d8576b"
             ],
             [
              0.6666666666666666,
              "#ed7953"
             ],
             [
              0.7777777777777778,
              "#fb9f3a"
             ],
             [
              0.8888888888888888,
              "#fdca26"
             ],
             [
              1,
              "#f0f921"
             ]
            ],
            "type": "heatmap"
           }
          ],
          "heatmapgl": [
           {
            "colorbar": {
             "outlinewidth": 0,
             "ticks": ""
            },
            "colorscale": [
             [
              0,
              "#0d0887"
             ],
             [
              0.1111111111111111,
              "#46039f"
             ],
             [
              0.2222222222222222,
              "#7201a8"
             ],
             [
              0.3333333333333333,
              "#9c179e"
             ],
             [
              0.4444444444444444,
              "#bd3786"
             ],
             [
              0.5555555555555556,
              "#d8576b"
             ],
             [
              0.6666666666666666,
              "#ed7953"
             ],
             [
              0.7777777777777778,
              "#fb9f3a"
             ],
             [
              0.8888888888888888,
              "#fdca26"
             ],
             [
              1,
              "#f0f921"
             ]
            ],
            "type": "heatmapgl"
           }
          ],
          "histogram": [
           {
            "marker": {
             "pattern": {
              "fillmode": "overlay",
              "size": 10,
              "solidity": 0.2
             }
            },
            "type": "histogram"
           }
          ],
          "histogram2d": [
           {
            "colorbar": {
             "outlinewidth": 0,
             "ticks": ""
            },
            "colorscale": [
             [
              0,
              "#0d0887"
             ],
             [
              0.1111111111111111,
              "#46039f"
             ],
             [
              0.2222222222222222,
              "#7201a8"
             ],
             [
              0.3333333333333333,
              "#9c179e"
             ],
             [
              0.4444444444444444,
              "#bd3786"
             ],
             [
              0.5555555555555556,
              "#d8576b"
             ],
             [
              0.6666666666666666,
              "#ed7953"
             ],
             [
              0.7777777777777778,
              "#fb9f3a"
             ],
             [
              0.8888888888888888,
              "#fdca26"
             ],
             [
              1,
              "#f0f921"
             ]
            ],
            "type": "histogram2d"
           }
          ],
          "histogram2dcontour": [
           {
            "colorbar": {
             "outlinewidth": 0,
             "ticks": ""
            },
            "colorscale": [
             [
              0,
              "#0d0887"
             ],
             [
              0.1111111111111111,
              "#46039f"
             ],
             [
              0.2222222222222222,
              "#7201a8"
             ],
             [
              0.3333333333333333,
              "#9c179e"
             ],
             [
              0.4444444444444444,
              "#bd3786"
             ],
             [
              0.5555555555555556,
              "#d8576b"
             ],
             [
              0.6666666666666666,
              "#ed7953"
             ],
             [
              0.7777777777777778,
              "#fb9f3a"
             ],
             [
              0.8888888888888888,
              "#fdca26"
             ],
             [
              1,
              "#f0f921"
             ]
            ],
            "type": "histogram2dcontour"
           }
          ],
          "mesh3d": [
           {
            "colorbar": {
             "outlinewidth": 0,
             "ticks": ""
            },
            "type": "mesh3d"
           }
          ],
          "parcoords": [
           {
            "line": {
             "colorbar": {
              "outlinewidth": 0,
              "ticks": ""
             }
            },
            "type": "parcoords"
           }
          ],
          "pie": [
           {
            "automargin": true,
            "type": "pie"
           }
          ],
          "scatter": [
           {
            "marker": {
             "colorbar": {
              "outlinewidth": 0,
              "ticks": ""
             }
            },
            "type": "scatter"
           }
          ],
          "scatter3d": [
           {
            "line": {
             "colorbar": {
              "outlinewidth": 0,
              "ticks": ""
             }
            },
            "marker": {
             "colorbar": {
              "outlinewidth": 0,
              "ticks": ""
             }
            },
            "type": "scatter3d"
           }
          ],
          "scattercarpet": [
           {
            "marker": {
             "colorbar": {
              "outlinewidth": 0,
              "ticks": ""
             }
            },
            "type": "scattercarpet"
           }
          ],
          "scattergeo": [
           {
            "marker": {
             "colorbar": {
              "outlinewidth": 0,
              "ticks": ""
             }
            },
            "type": "scattergeo"
           }
          ],
          "scattergl": [
           {
            "marker": {
             "colorbar": {
              "outlinewidth": 0,
              "ticks": ""
             }
            },
            "type": "scattergl"
           }
          ],
          "scattermapbox": [
           {
            "marker": {
             "colorbar": {
              "outlinewidth": 0,
              "ticks": ""
             }
            },
            "type": "scattermapbox"
           }
          ],
          "scatterpolar": [
           {
            "marker": {
             "colorbar": {
              "outlinewidth": 0,
              "ticks": ""
             }
            },
            "type": "scatterpolar"
           }
          ],
          "scatterpolargl": [
           {
            "marker": {
             "colorbar": {
              "outlinewidth": 0,
              "ticks": ""
             }
            },
            "type": "scatterpolargl"
           }
          ],
          "scatterternary": [
           {
            "marker": {
             "colorbar": {
              "outlinewidth": 0,
              "ticks": ""
             }
            },
            "type": "scatterternary"
           }
          ],
          "surface": [
           {
            "colorbar": {
             "outlinewidth": 0,
             "ticks": ""
            },
            "colorscale": [
             [
              0,
              "#0d0887"
             ],
             [
              0.1111111111111111,
              "#46039f"
             ],
             [
              0.2222222222222222,
              "#7201a8"
             ],
             [
              0.3333333333333333,
              "#9c179e"
             ],
             [
              0.4444444444444444,
              "#bd3786"
             ],
             [
              0.5555555555555556,
              "#d8576b"
             ],
             [
              0.6666666666666666,
              "#ed7953"
             ],
             [
              0.7777777777777778,
              "#fb9f3a"
             ],
             [
              0.8888888888888888,
              "#fdca26"
             ],
             [
              1,
              "#f0f921"
             ]
            ],
            "type": "surface"
           }
          ],
          "table": [
           {
            "cells": {
             "fill": {
              "color": "#EBF0F8"
             },
             "line": {
              "color": "white"
             }
            },
            "header": {
             "fill": {
              "color": "#C8D4E3"
             },
             "line": {
              "color": "white"
             }
            },
            "type": "table"
           }
          ]
         },
         "layout": {
          "annotationdefaults": {
           "arrowcolor": "#2a3f5f",
           "arrowhead": 0,
           "arrowwidth": 1
          },
          "autotypenumbers": "strict",
          "coloraxis": {
           "colorbar": {
            "outlinewidth": 0,
            "ticks": ""
           }
          },
          "colorscale": {
           "diverging": [
            [
             0,
             "#8e0152"
            ],
            [
             0.1,
             "#c51b7d"
            ],
            [
             0.2,
             "#de77ae"
            ],
            [
             0.3,
             "#f1b6da"
            ],
            [
             0.4,
             "#fde0ef"
            ],
            [
             0.5,
             "#f7f7f7"
            ],
            [
             0.6,
             "#e6f5d0"
            ],
            [
             0.7,
             "#b8e186"
            ],
            [
             0.8,
             "#7fbc41"
            ],
            [
             0.9,
             "#4d9221"
            ],
            [
             1,
             "#276419"
            ]
           ],
           "sequential": [
            [
             0,
             "#0d0887"
            ],
            [
             0.1111111111111111,
             "#46039f"
            ],
            [
             0.2222222222222222,
             "#7201a8"
            ],
            [
             0.3333333333333333,
             "#9c179e"
            ],
            [
             0.4444444444444444,
             "#bd3786"
            ],
            [
             0.5555555555555556,
             "#d8576b"
            ],
            [
             0.6666666666666666,
             "#ed7953"
            ],
            [
             0.7777777777777778,
             "#fb9f3a"
            ],
            [
             0.8888888888888888,
             "#fdca26"
            ],
            [
             1,
             "#f0f921"
            ]
           ],
           "sequentialminus": [
            [
             0,
             "#0d0887"
            ],
            [
             0.1111111111111111,
             "#46039f"
            ],
            [
             0.2222222222222222,
             "#7201a8"
            ],
            [
             0.3333333333333333,
             "#9c179e"
            ],
            [
             0.4444444444444444,
             "#bd3786"
            ],
            [
             0.5555555555555556,
             "#d8576b"
            ],
            [
             0.6666666666666666,
             "#ed7953"
            ],
            [
             0.7777777777777778,
             "#fb9f3a"
            ],
            [
             0.8888888888888888,
             "#fdca26"
            ],
            [
             1,
             "#f0f921"
            ]
           ]
          },
          "colorway": [
           "#636efa",
           "#EF553B",
           "#00cc96",
           "#ab63fa",
           "#FFA15A",
           "#19d3f3",
           "#FF6692",
           "#B6E880",
           "#FF97FF",
           "#FECB52"
          ],
          "font": {
           "color": "#2a3f5f"
          },
          "geo": {
           "bgcolor": "white",
           "lakecolor": "white",
           "landcolor": "#E5ECF6",
           "showlakes": true,
           "showland": true,
           "subunitcolor": "white"
          },
          "hoverlabel": {
           "align": "left"
          },
          "hovermode": "closest",
          "mapbox": {
           "style": "light"
          },
          "paper_bgcolor": "white",
          "plot_bgcolor": "#E5ECF6",
          "polar": {
           "angularaxis": {
            "gridcolor": "white",
            "linecolor": "white",
            "ticks": ""
           },
           "bgcolor": "#E5ECF6",
           "radialaxis": {
            "gridcolor": "white",
            "linecolor": "white",
            "ticks": ""
           }
          },
          "scene": {
           "xaxis": {
            "backgroundcolor": "#E5ECF6",
            "gridcolor": "white",
            "gridwidth": 2,
            "linecolor": "white",
            "showbackground": true,
            "ticks": "",
            "zerolinecolor": "white"
           },
           "yaxis": {
            "backgroundcolor": "#E5ECF6",
            "gridcolor": "white",
            "gridwidth": 2,
            "linecolor": "white",
            "showbackground": true,
            "ticks": "",
            "zerolinecolor": "white"
           },
           "zaxis": {
            "backgroundcolor": "#E5ECF6",
            "gridcolor": "white",
            "gridwidth": 2,
            "linecolor": "white",
            "showbackground": true,
            "ticks": "",
            "zerolinecolor": "white"
           }
          },
          "shapedefaults": {
           "line": {
            "color": "#2a3f5f"
           }
          },
          "ternary": {
           "aaxis": {
            "gridcolor": "white",
            "linecolor": "white",
            "ticks": ""
           },
           "baxis": {
            "gridcolor": "white",
            "linecolor": "white",
            "ticks": ""
           },
           "bgcolor": "#E5ECF6",
           "caxis": {
            "gridcolor": "white",
            "linecolor": "white",
            "ticks": ""
           }
          },
          "title": {
           "x": 0.05
          },
          "xaxis": {
           "automargin": true,
           "gridcolor": "white",
           "linecolor": "white",
           "ticks": "",
           "title": {
            "standoff": 15
           },
           "zerolinecolor": "white",
           "zerolinewidth": 2
          },
          "yaxis": {
           "automargin": true,
           "gridcolor": "white",
           "linecolor": "white",
           "ticks": "",
           "title": {
            "standoff": 15
           },
           "zerolinecolor": "white",
           "zerolinewidth": 2
          }
         }
        },
        "title": {
         "font": {
          "color": "#4D5663"
         },
         "text": "Education (N=947)"
        },
        "xaxis": {
         "gridcolor": "#E1E5ED",
         "showgrid": true,
         "tickfont": {
          "color": "#4D5663"
         },
         "title": {
          "font": {
           "color": "#4D5663"
          },
          "text": ""
         },
         "zerolinecolor": "#E1E5ED"
        },
        "yaxis": {
         "gridcolor": "#E1E5ED",
         "showgrid": true,
         "tickfont": {
          "color": "#4D5663"
         },
         "title": {
          "font": {
           "color": "#4D5663"
          },
          "text": ""
         },
         "zerolinecolor": "#E1E5ED"
        }
       }
      },
      "text/html": [
       "<div>                            <div id=\"fff7b9b9-fb5a-45c9-aae4-3b6a87fe91f2\" class=\"plotly-graph-div\" style=\"height:525px; width:100%;\"></div>            <script type=\"text/javascript\">                require([\"plotly\"], function(Plotly) {                    window.PLOTLYENV=window.PLOTLYENV || {};\n",
       "                    window.PLOTLYENV.BASE_URL='https://plot.ly';                                    if (document.getElementById(\"fff7b9b9-fb5a-45c9-aae4-3b6a87fe91f2\")) {                    Plotly.newPlot(                        \"fff7b9b9-fb5a-45c9-aae4-3b6a87fe91f2\",                        [{\"marker\":{\"color\":\"rgba(255, 153, 51, 0.6)\",\"line\":{\"color\":\"rgba(255, 153, 51, 1.0)\",\"width\":1}},\"name\":\"DEMO_education\",\"orientation\":\"v\",\"text\":\"\",\"x\":[\"Less than high school\",\"High school\",\"University degree\",\"Graduate degree\"],\"y\":[33,437,331,146],\"type\":\"bar\"}],                        {\"legend\":{\"bgcolor\":\"#FFFFFF\",\"font\":{\"color\":\"#4D5663\"}},\"paper_bgcolor\":\"#FFFFFF\",\"plot_bgcolor\":\"#FFFFFF\",\"template\":{\"data\":{\"barpolar\":[{\"marker\":{\"line\":{\"color\":\"#E5ECF6\",\"width\":0.5},\"pattern\":{\"fillmode\":\"overlay\",\"size\":10,\"solidity\":0.2}},\"type\":\"barpolar\"}],\"bar\":[{\"error_x\":{\"color\":\"#2a3f5f\"},\"error_y\":{\"color\":\"#2a3f5f\"},\"marker\":{\"line\":{\"color\":\"#E5ECF6\",\"width\":0.5},\"pattern\":{\"fillmode\":\"overlay\",\"size\":10,\"solidity\":0.2}},\"type\":\"bar\"}],\"carpet\":[{\"aaxis\":{\"endlinecolor\":\"#2a3f5f\",\"gridcolor\":\"white\",\"linecolor\":\"white\",\"minorgridcolor\":\"white\",\"startlinecolor\":\"#2a3f5f\"},\"baxis\":{\"endlinecolor\":\"#2a3f5f\",\"gridcolor\":\"white\",\"linecolor\":\"white\",\"minorgridcolor\":\"white\",\"startlinecolor\":\"#2a3f5f\"},\"type\":\"carpet\"}],\"choropleth\":[{\"colorbar\":{\"outlinewidth\":0,\"ticks\":\"\"},\"type\":\"choropleth\"}],\"contourcarpet\":[{\"colorbar\":{\"outlinewidth\":0,\"ticks\":\"\"},\"type\":\"contourcarpet\"}],\"contour\":[{\"colorbar\":{\"outlinewidth\":0,\"ticks\":\"\"},\"colorscale\":[[0.0,\"#0d0887\"],[0.1111111111111111,\"#46039f\"],[0.2222222222222222,\"#7201a8\"],[0.3333333333333333,\"#9c179e\"],[0.4444444444444444,\"#bd3786\"],[0.5555555555555556,\"#d8576b\"],[0.6666666666666666,\"#ed7953\"],[0.7777777777777778,\"#fb9f3a\"],[0.8888888888888888,\"#fdca26\"],[1.0,\"#f0f921\"]],\"type\":\"contour\"}],\"heatmapgl\":[{\"colorbar\":{\"outlinewidth\":0,\"ticks\":\"\"},\"colorscale\":[[0.0,\"#0d0887\"],[0.1111111111111111,\"#46039f\"],[0.2222222222222222,\"#7201a8\"],[0.3333333333333333,\"#9c179e\"],[0.4444444444444444,\"#bd3786\"],[0.5555555555555556,\"#d8576b\"],[0.6666666666666666,\"#ed7953\"],[0.7777777777777778,\"#fb9f3a\"],[0.8888888888888888,\"#fdca26\"],[1.0,\"#f0f921\"]],\"type\":\"heatmapgl\"}],\"heatmap\":[{\"colorbar\":{\"outlinewidth\":0,\"ticks\":\"\"},\"colorscale\":[[0.0,\"#0d0887\"],[0.1111111111111111,\"#46039f\"],[0.2222222222222222,\"#7201a8\"],[0.3333333333333333,\"#9c179e\"],[0.4444444444444444,\"#bd3786\"],[0.5555555555555556,\"#d8576b\"],[0.6666666666666666,\"#ed7953\"],[0.7777777777777778,\"#fb9f3a\"],[0.8888888888888888,\"#fdca26\"],[1.0,\"#f0f921\"]],\"type\":\"heatmap\"}],\"histogram2dcontour\":[{\"colorbar\":{\"outlinewidth\":0,\"ticks\":\"\"},\"colorscale\":[[0.0,\"#0d0887\"],[0.1111111111111111,\"#46039f\"],[0.2222222222222222,\"#7201a8\"],[0.3333333333333333,\"#9c179e\"],[0.4444444444444444,\"#bd3786\"],[0.5555555555555556,\"#d8576b\"],[0.6666666666666666,\"#ed7953\"],[0.7777777777777778,\"#fb9f3a\"],[0.8888888888888888,\"#fdca26\"],[1.0,\"#f0f921\"]],\"type\":\"histogram2dcontour\"}],\"histogram2d\":[{\"colorbar\":{\"outlinewidth\":0,\"ticks\":\"\"},\"colorscale\":[[0.0,\"#0d0887\"],[0.1111111111111111,\"#46039f\"],[0.2222222222222222,\"#7201a8\"],[0.3333333333333333,\"#9c179e\"],[0.4444444444444444,\"#bd3786\"],[0.5555555555555556,\"#d8576b\"],[0.6666666666666666,\"#ed7953\"],[0.7777777777777778,\"#fb9f3a\"],[0.8888888888888888,\"#fdca26\"],[1.0,\"#f0f921\"]],\"type\":\"histogram2d\"}],\"histogram\":[{\"marker\":{\"pattern\":{\"fillmode\":\"overlay\",\"size\":10,\"solidity\":0.2}},\"type\":\"histogram\"}],\"mesh3d\":[{\"colorbar\":{\"outlinewidth\":0,\"ticks\":\"\"},\"type\":\"mesh3d\"}],\"parcoords\":[{\"line\":{\"colorbar\":{\"outlinewidth\":0,\"ticks\":\"\"}},\"type\":\"parcoords\"}],\"pie\":[{\"automargin\":true,\"type\":\"pie\"}],\"scatter3d\":[{\"line\":{\"colorbar\":{\"outlinewidth\":0,\"ticks\":\"\"}},\"marker\":{\"colorbar\":{\"outlinewidth\":0,\"ticks\":\"\"}},\"type\":\"scatter3d\"}],\"scattercarpet\":[{\"marker\":{\"colorbar\":{\"outlinewidth\":0,\"ticks\":\"\"}},\"type\":\"scattercarpet\"}],\"scattergeo\":[{\"marker\":{\"colorbar\":{\"outlinewidth\":0,\"ticks\":\"\"}},\"type\":\"scattergeo\"}],\"scattergl\":[{\"marker\":{\"colorbar\":{\"outlinewidth\":0,\"ticks\":\"\"}},\"type\":\"scattergl\"}],\"scattermapbox\":[{\"marker\":{\"colorbar\":{\"outlinewidth\":0,\"ticks\":\"\"}},\"type\":\"scattermapbox\"}],\"scatterpolargl\":[{\"marker\":{\"colorbar\":{\"outlinewidth\":0,\"ticks\":\"\"}},\"type\":\"scatterpolargl\"}],\"scatterpolar\":[{\"marker\":{\"colorbar\":{\"outlinewidth\":0,\"ticks\":\"\"}},\"type\":\"scatterpolar\"}],\"scatter\":[{\"marker\":{\"colorbar\":{\"outlinewidth\":0,\"ticks\":\"\"}},\"type\":\"scatter\"}],\"scatterternary\":[{\"marker\":{\"colorbar\":{\"outlinewidth\":0,\"ticks\":\"\"}},\"type\":\"scatterternary\"}],\"surface\":[{\"colorbar\":{\"outlinewidth\":0,\"ticks\":\"\"},\"colorscale\":[[0.0,\"#0d0887\"],[0.1111111111111111,\"#46039f\"],[0.2222222222222222,\"#7201a8\"],[0.3333333333333333,\"#9c179e\"],[0.4444444444444444,\"#bd3786\"],[0.5555555555555556,\"#d8576b\"],[0.6666666666666666,\"#ed7953\"],[0.7777777777777778,\"#fb9f3a\"],[0.8888888888888888,\"#fdca26\"],[1.0,\"#f0f921\"]],\"type\":\"surface\"}],\"table\":[{\"cells\":{\"fill\":{\"color\":\"#EBF0F8\"},\"line\":{\"color\":\"white\"}},\"header\":{\"fill\":{\"color\":\"#C8D4E3\"},\"line\":{\"color\":\"white\"}},\"type\":\"table\"}]},\"layout\":{\"annotationdefaults\":{\"arrowcolor\":\"#2a3f5f\",\"arrowhead\":0,\"arrowwidth\":1},\"autotypenumbers\":\"strict\",\"coloraxis\":{\"colorbar\":{\"outlinewidth\":0,\"ticks\":\"\"}},\"colorscale\":{\"diverging\":[[0,\"#8e0152\"],[0.1,\"#c51b7d\"],[0.2,\"#de77ae\"],[0.3,\"#f1b6da\"],[0.4,\"#fde0ef\"],[0.5,\"#f7f7f7\"],[0.6,\"#e6f5d0\"],[0.7,\"#b8e186\"],[0.8,\"#7fbc41\"],[0.9,\"#4d9221\"],[1,\"#276419\"]],\"sequential\":[[0.0,\"#0d0887\"],[0.1111111111111111,\"#46039f\"],[0.2222222222222222,\"#7201a8\"],[0.3333333333333333,\"#9c179e\"],[0.4444444444444444,\"#bd3786\"],[0.5555555555555556,\"#d8576b\"],[0.6666666666666666,\"#ed7953\"],[0.7777777777777778,\"#fb9f3a\"],[0.8888888888888888,\"#fdca26\"],[1.0,\"#f0f921\"]],\"sequentialminus\":[[0.0,\"#0d0887\"],[0.1111111111111111,\"#46039f\"],[0.2222222222222222,\"#7201a8\"],[0.3333333333333333,\"#9c179e\"],[0.4444444444444444,\"#bd3786\"],[0.5555555555555556,\"#d8576b\"],[0.6666666666666666,\"#ed7953\"],[0.7777777777777778,\"#fb9f3a\"],[0.8888888888888888,\"#fdca26\"],[1.0,\"#f0f921\"]]},\"colorway\":[\"#636efa\",\"#EF553B\",\"#00cc96\",\"#ab63fa\",\"#FFA15A\",\"#19d3f3\",\"#FF6692\",\"#B6E880\",\"#FF97FF\",\"#FECB52\"],\"font\":{\"color\":\"#2a3f5f\"},\"geo\":{\"bgcolor\":\"white\",\"lakecolor\":\"white\",\"landcolor\":\"#E5ECF6\",\"showlakes\":true,\"showland\":true,\"subunitcolor\":\"white\"},\"hoverlabel\":{\"align\":\"left\"},\"hovermode\":\"closest\",\"mapbox\":{\"style\":\"light\"},\"paper_bgcolor\":\"white\",\"plot_bgcolor\":\"#E5ECF6\",\"polar\":{\"angularaxis\":{\"gridcolor\":\"white\",\"linecolor\":\"white\",\"ticks\":\"\"},\"bgcolor\":\"#E5ECF6\",\"radialaxis\":{\"gridcolor\":\"white\",\"linecolor\":\"white\",\"ticks\":\"\"}},\"scene\":{\"xaxis\":{\"backgroundcolor\":\"#E5ECF6\",\"gridcolor\":\"white\",\"gridwidth\":2,\"linecolor\":\"white\",\"showbackground\":true,\"ticks\":\"\",\"zerolinecolor\":\"white\"},\"yaxis\":{\"backgroundcolor\":\"#E5ECF6\",\"gridcolor\":\"white\",\"gridwidth\":2,\"linecolor\":\"white\",\"showbackground\":true,\"ticks\":\"\",\"zerolinecolor\":\"white\"},\"zaxis\":{\"backgroundcolor\":\"#E5ECF6\",\"gridcolor\":\"white\",\"gridwidth\":2,\"linecolor\":\"white\",\"showbackground\":true,\"ticks\":\"\",\"zerolinecolor\":\"white\"}},\"shapedefaults\":{\"line\":{\"color\":\"#2a3f5f\"}},\"ternary\":{\"aaxis\":{\"gridcolor\":\"white\",\"linecolor\":\"white\",\"ticks\":\"\"},\"baxis\":{\"gridcolor\":\"white\",\"linecolor\":\"white\",\"ticks\":\"\"},\"bgcolor\":\"#E5ECF6\",\"caxis\":{\"gridcolor\":\"white\",\"linecolor\":\"white\",\"ticks\":\"\"}},\"title\":{\"x\":0.05},\"xaxis\":{\"automargin\":true,\"gridcolor\":\"white\",\"linecolor\":\"white\",\"ticks\":\"\",\"title\":{\"standoff\":15},\"zerolinecolor\":\"white\",\"zerolinewidth\":2},\"yaxis\":{\"automargin\":true,\"gridcolor\":\"white\",\"linecolor\":\"white\",\"ticks\":\"\",\"title\":{\"standoff\":15},\"zerolinecolor\":\"white\",\"zerolinewidth\":2}}},\"title\":{\"font\":{\"color\":\"#4D5663\"},\"text\":\"Education (N=947)\"},\"xaxis\":{\"gridcolor\":\"#E1E5ED\",\"showgrid\":true,\"tickfont\":{\"color\":\"#4D5663\"},\"title\":{\"font\":{\"color\":\"#4D5663\"},\"text\":\"\"},\"zerolinecolor\":\"#E1E5ED\"},\"yaxis\":{\"gridcolor\":\"#E1E5ED\",\"showgrid\":true,\"tickfont\":{\"color\":\"#4D5663\"},\"title\":{\"font\":{\"color\":\"#4D5663\"},\"text\":\"\"},\"zerolinecolor\":\"#E1E5ED\"}},                        {\"showLink\": true, \"linkText\": \"Export to plot.ly\", \"plotlyServerURL\": \"https://plot.ly\", \"responsive\": true}                    ).then(function(){\n",
       "                            \n",
       "var gd = document.getElementById('fff7b9b9-fb5a-45c9-aae4-3b6a87fe91f2');\n",
       "var x = new MutationObserver(function (mutations, observer) {{\n",
       "        var display = window.getComputedStyle(gd).display;\n",
       "        if (!display || display === 'none') {{\n",
       "            console.log([gd, 'removed!']);\n",
       "            Plotly.purge(gd);\n",
       "            observer.disconnect();\n",
       "        }}\n",
       "}});\n",
       "\n",
       "// Listen for the removal of the full notebook cells\n",
       "var notebookContainer = gd.closest('#notebook-container');\n",
       "if (notebookContainer) {{\n",
       "    x.observe(notebookContainer, {childList: true});\n",
       "}}\n",
       "\n",
       "// Listen for the clearing of the current output cell\n",
       "var outputEl = gd.closest('.output');\n",
       "if (outputEl) {{\n",
       "    x.observe(outputEl, {childList: true});\n",
       "}}\n",
       "\n",
       "                        })                };                });            </script>        </div>"
      ]
     },
     "metadata": {},
     "output_type": "display_data"
    }
   ],
   "source": [
    "total_responses = sum(gcbs_clean_df['DEMO_education'].value_counts())\n",
    "gcbs_clean_df['DEMO_education'].value_counts().sort_index(ascending=True).iplot(kind='bar', title='Education (N={})'.format(total_responses), theme='white')"
   ]
  },
  {
   "cell_type": "code",
   "execution_count": 38,
   "metadata": {},
   "outputs": [
    {
     "data": {
      "application/vnd.plotly.v1+json": {
       "config": {
        "linkText": "Export to plot.ly",
        "plotlyServerURL": "https://plot.ly",
        "showLink": true
       },
       "data": [
        {
         "marker": {
          "color": "rgba(255, 153, 51, 0.6)",
          "line": {
           "color": "rgba(255, 153, 51, 1.0)",
           "width": 1
          }
         },
         "name": "DEMO_familysize",
         "orientation": "v",
         "text": "",
         "type": "bar",
         "x": [
          1,
          2,
          3,
          4,
          5,
          6,
          7,
          8,
          9
         ],
         "y": [
          129,
          401,
          251,
          93,
          41,
          19,
          9,
          2,
          1
         ]
        }
       ],
       "layout": {
        "legend": {
         "bgcolor": "#FFFFFF",
         "font": {
          "color": "#4D5663"
         }
        },
        "paper_bgcolor": "#FFFFFF",
        "plot_bgcolor": "#FFFFFF",
        "template": {
         "data": {
          "bar": [
           {
            "error_x": {
             "color": "#2a3f5f"
            },
            "error_y": {
             "color": "#2a3f5f"
            },
            "marker": {
             "line": {
              "color": "#E5ECF6",
              "width": 0.5
             },
             "pattern": {
              "fillmode": "overlay",
              "size": 10,
              "solidity": 0.2
             }
            },
            "type": "bar"
           }
          ],
          "barpolar": [
           {
            "marker": {
             "line": {
              "color": "#E5ECF6",
              "width": 0.5
             },
             "pattern": {
              "fillmode": "overlay",
              "size": 10,
              "solidity": 0.2
             }
            },
            "type": "barpolar"
           }
          ],
          "carpet": [
           {
            "aaxis": {
             "endlinecolor": "#2a3f5f",
             "gridcolor": "white",
             "linecolor": "white",
             "minorgridcolor": "white",
             "startlinecolor": "#2a3f5f"
            },
            "baxis": {
             "endlinecolor": "#2a3f5f",
             "gridcolor": "white",
             "linecolor": "white",
             "minorgridcolor": "white",
             "startlinecolor": "#2a3f5f"
            },
            "type": "carpet"
           }
          ],
          "choropleth": [
           {
            "colorbar": {
             "outlinewidth": 0,
             "ticks": ""
            },
            "type": "choropleth"
           }
          ],
          "contour": [
           {
            "colorbar": {
             "outlinewidth": 0,
             "ticks": ""
            },
            "colorscale": [
             [
              0,
              "#0d0887"
             ],
             [
              0.1111111111111111,
              "#46039f"
             ],
             [
              0.2222222222222222,
              "#7201a8"
             ],
             [
              0.3333333333333333,
              "#9c179e"
             ],
             [
              0.4444444444444444,
              "#bd3786"
             ],
             [
              0.5555555555555556,
              "#d8576b"
             ],
             [
              0.6666666666666666,
              "#ed7953"
             ],
             [
              0.7777777777777778,
              "#fb9f3a"
             ],
             [
              0.8888888888888888,
              "#fdca26"
             ],
             [
              1,
              "#f0f921"
             ]
            ],
            "type": "contour"
           }
          ],
          "contourcarpet": [
           {
            "colorbar": {
             "outlinewidth": 0,
             "ticks": ""
            },
            "type": "contourcarpet"
           }
          ],
          "heatmap": [
           {
            "colorbar": {
             "outlinewidth": 0,
             "ticks": ""
            },
            "colorscale": [
             [
              0,
              "#0d0887"
             ],
             [
              0.1111111111111111,
              "#46039f"
             ],
             [
              0.2222222222222222,
              "#7201a8"
             ],
             [
              0.3333333333333333,
              "#9c179e"
             ],
             [
              0.4444444444444444,
              "#bd3786"
             ],
             [
              0.5555555555555556,
              "#d8576b"
             ],
             [
              0.6666666666666666,
              "#ed7953"
             ],
             [
              0.7777777777777778,
              "#fb9f3a"
             ],
             [
              0.8888888888888888,
              "#fdca26"
             ],
             [
              1,
              "#f0f921"
             ]
            ],
            "type": "heatmap"
           }
          ],
          "heatmapgl": [
           {
            "colorbar": {
             "outlinewidth": 0,
             "ticks": ""
            },
            "colorscale": [
             [
              0,
              "#0d0887"
             ],
             [
              0.1111111111111111,
              "#46039f"
             ],
             [
              0.2222222222222222,
              "#7201a8"
             ],
             [
              0.3333333333333333,
              "#9c179e"
             ],
             [
              0.4444444444444444,
              "#bd3786"
             ],
             [
              0.5555555555555556,
              "#d8576b"
             ],
             [
              0.6666666666666666,
              "#ed7953"
             ],
             [
              0.7777777777777778,
              "#fb9f3a"
             ],
             [
              0.8888888888888888,
              "#fdca26"
             ],
             [
              1,
              "#f0f921"
             ]
            ],
            "type": "heatmapgl"
           }
          ],
          "histogram": [
           {
            "marker": {
             "pattern": {
              "fillmode": "overlay",
              "size": 10,
              "solidity": 0.2
             }
            },
            "type": "histogram"
           }
          ],
          "histogram2d": [
           {
            "colorbar": {
             "outlinewidth": 0,
             "ticks": ""
            },
            "colorscale": [
             [
              0,
              "#0d0887"
             ],
             [
              0.1111111111111111,
              "#46039f"
             ],
             [
              0.2222222222222222,
              "#7201a8"
             ],
             [
              0.3333333333333333,
              "#9c179e"
             ],
             [
              0.4444444444444444,
              "#bd3786"
             ],
             [
              0.5555555555555556,
              "#d8576b"
             ],
             [
              0.6666666666666666,
              "#ed7953"
             ],
             [
              0.7777777777777778,
              "#fb9f3a"
             ],
             [
              0.8888888888888888,
              "#fdca26"
             ],
             [
              1,
              "#f0f921"
             ]
            ],
            "type": "histogram2d"
           }
          ],
          "histogram2dcontour": [
           {
            "colorbar": {
             "outlinewidth": 0,
             "ticks": ""
            },
            "colorscale": [
             [
              0,
              "#0d0887"
             ],
             [
              0.1111111111111111,
              "#46039f"
             ],
             [
              0.2222222222222222,
              "#7201a8"
             ],
             [
              0.3333333333333333,
              "#9c179e"
             ],
             [
              0.4444444444444444,
              "#bd3786"
             ],
             [
              0.5555555555555556,
              "#d8576b"
             ],
             [
              0.6666666666666666,
              "#ed7953"
             ],
             [
              0.7777777777777778,
              "#fb9f3a"
             ],
             [
              0.8888888888888888,
              "#fdca26"
             ],
             [
              1,
              "#f0f921"
             ]
            ],
            "type": "histogram2dcontour"
           }
          ],
          "mesh3d": [
           {
            "colorbar": {
             "outlinewidth": 0,
             "ticks": ""
            },
            "type": "mesh3d"
           }
          ],
          "parcoords": [
           {
            "line": {
             "colorbar": {
              "outlinewidth": 0,
              "ticks": ""
             }
            },
            "type": "parcoords"
           }
          ],
          "pie": [
           {
            "automargin": true,
            "type": "pie"
           }
          ],
          "scatter": [
           {
            "marker": {
             "colorbar": {
              "outlinewidth": 0,
              "ticks": ""
             }
            },
            "type": "scatter"
           }
          ],
          "scatter3d": [
           {
            "line": {
             "colorbar": {
              "outlinewidth": 0,
              "ticks": ""
             }
            },
            "marker": {
             "colorbar": {
              "outlinewidth": 0,
              "ticks": ""
             }
            },
            "type": "scatter3d"
           }
          ],
          "scattercarpet": [
           {
            "marker": {
             "colorbar": {
              "outlinewidth": 0,
              "ticks": ""
             }
            },
            "type": "scattercarpet"
           }
          ],
          "scattergeo": [
           {
            "marker": {
             "colorbar": {
              "outlinewidth": 0,
              "ticks": ""
             }
            },
            "type": "scattergeo"
           }
          ],
          "scattergl": [
           {
            "marker": {
             "colorbar": {
              "outlinewidth": 0,
              "ticks": ""
             }
            },
            "type": "scattergl"
           }
          ],
          "scattermapbox": [
           {
            "marker": {
             "colorbar": {
              "outlinewidth": 0,
              "ticks": ""
             }
            },
            "type": "scattermapbox"
           }
          ],
          "scatterpolar": [
           {
            "marker": {
             "colorbar": {
              "outlinewidth": 0,
              "ticks": ""
             }
            },
            "type": "scatterpolar"
           }
          ],
          "scatterpolargl": [
           {
            "marker": {
             "colorbar": {
              "outlinewidth": 0,
              "ticks": ""
             }
            },
            "type": "scatterpolargl"
           }
          ],
          "scatterternary": [
           {
            "marker": {
             "colorbar": {
              "outlinewidth": 0,
              "ticks": ""
             }
            },
            "type": "scatterternary"
           }
          ],
          "surface": [
           {
            "colorbar": {
             "outlinewidth": 0,
             "ticks": ""
            },
            "colorscale": [
             [
              0,
              "#0d0887"
             ],
             [
              0.1111111111111111,
              "#46039f"
             ],
             [
              0.2222222222222222,
              "#7201a8"
             ],
             [
              0.3333333333333333,
              "#9c179e"
             ],
             [
              0.4444444444444444,
              "#bd3786"
             ],
             [
              0.5555555555555556,
              "#d8576b"
             ],
             [
              0.6666666666666666,
              "#ed7953"
             ],
             [
              0.7777777777777778,
              "#fb9f3a"
             ],
             [
              0.8888888888888888,
              "#fdca26"
             ],
             [
              1,
              "#f0f921"
             ]
            ],
            "type": "surface"
           }
          ],
          "table": [
           {
            "cells": {
             "fill": {
              "color": "#EBF0F8"
             },
             "line": {
              "color": "white"
             }
            },
            "header": {
             "fill": {
              "color": "#C8D4E3"
             },
             "line": {
              "color": "white"
             }
            },
            "type": "table"
           }
          ]
         },
         "layout": {
          "annotationdefaults": {
           "arrowcolor": "#2a3f5f",
           "arrowhead": 0,
           "arrowwidth": 1
          },
          "autotypenumbers": "strict",
          "coloraxis": {
           "colorbar": {
            "outlinewidth": 0,
            "ticks": ""
           }
          },
          "colorscale": {
           "diverging": [
            [
             0,
             "#8e0152"
            ],
            [
             0.1,
             "#c51b7d"
            ],
            [
             0.2,
             "#de77ae"
            ],
            [
             0.3,
             "#f1b6da"
            ],
            [
             0.4,
             "#fde0ef"
            ],
            [
             0.5,
             "#f7f7f7"
            ],
            [
             0.6,
             "#e6f5d0"
            ],
            [
             0.7,
             "#b8e186"
            ],
            [
             0.8,
             "#7fbc41"
            ],
            [
             0.9,
             "#4d9221"
            ],
            [
             1,
             "#276419"
            ]
           ],
           "sequential": [
            [
             0,
             "#0d0887"
            ],
            [
             0.1111111111111111,
             "#46039f"
            ],
            [
             0.2222222222222222,
             "#7201a8"
            ],
            [
             0.3333333333333333,
             "#9c179e"
            ],
            [
             0.4444444444444444,
             "#bd3786"
            ],
            [
             0.5555555555555556,
             "#d8576b"
            ],
            [
             0.6666666666666666,
             "#ed7953"
            ],
            [
             0.7777777777777778,
             "#fb9f3a"
            ],
            [
             0.8888888888888888,
             "#fdca26"
            ],
            [
             1,
             "#f0f921"
            ]
           ],
           "sequentialminus": [
            [
             0,
             "#0d0887"
            ],
            [
             0.1111111111111111,
             "#46039f"
            ],
            [
             0.2222222222222222,
             "#7201a8"
            ],
            [
             0.3333333333333333,
             "#9c179e"
            ],
            [
             0.4444444444444444,
             "#bd3786"
            ],
            [
             0.5555555555555556,
             "#d8576b"
            ],
            [
             0.6666666666666666,
             "#ed7953"
            ],
            [
             0.7777777777777778,
             "#fb9f3a"
            ],
            [
             0.8888888888888888,
             "#fdca26"
            ],
            [
             1,
             "#f0f921"
            ]
           ]
          },
          "colorway": [
           "#636efa",
           "#EF553B",
           "#00cc96",
           "#ab63fa",
           "#FFA15A",
           "#19d3f3",
           "#FF6692",
           "#B6E880",
           "#FF97FF",
           "#FECB52"
          ],
          "font": {
           "color": "#2a3f5f"
          },
          "geo": {
           "bgcolor": "white",
           "lakecolor": "white",
           "landcolor": "#E5ECF6",
           "showlakes": true,
           "showland": true,
           "subunitcolor": "white"
          },
          "hoverlabel": {
           "align": "left"
          },
          "hovermode": "closest",
          "mapbox": {
           "style": "light"
          },
          "paper_bgcolor": "white",
          "plot_bgcolor": "#E5ECF6",
          "polar": {
           "angularaxis": {
            "gridcolor": "white",
            "linecolor": "white",
            "ticks": ""
           },
           "bgcolor": "#E5ECF6",
           "radialaxis": {
            "gridcolor": "white",
            "linecolor": "white",
            "ticks": ""
           }
          },
          "scene": {
           "xaxis": {
            "backgroundcolor": "#E5ECF6",
            "gridcolor": "white",
            "gridwidth": 2,
            "linecolor": "white",
            "showbackground": true,
            "ticks": "",
            "zerolinecolor": "white"
           },
           "yaxis": {
            "backgroundcolor": "#E5ECF6",
            "gridcolor": "white",
            "gridwidth": 2,
            "linecolor": "white",
            "showbackground": true,
            "ticks": "",
            "zerolinecolor": "white"
           },
           "zaxis": {
            "backgroundcolor": "#E5ECF6",
            "gridcolor": "white",
            "gridwidth": 2,
            "linecolor": "white",
            "showbackground": true,
            "ticks": "",
            "zerolinecolor": "white"
           }
          },
          "shapedefaults": {
           "line": {
            "color": "#2a3f5f"
           }
          },
          "ternary": {
           "aaxis": {
            "gridcolor": "white",
            "linecolor": "white",
            "ticks": ""
           },
           "baxis": {
            "gridcolor": "white",
            "linecolor": "white",
            "ticks": ""
           },
           "bgcolor": "#E5ECF6",
           "caxis": {
            "gridcolor": "white",
            "linecolor": "white",
            "ticks": ""
           }
          },
          "title": {
           "x": 0.05
          },
          "xaxis": {
           "automargin": true,
           "gridcolor": "white",
           "linecolor": "white",
           "ticks": "",
           "title": {
            "standoff": 15
           },
           "zerolinecolor": "white",
           "zerolinewidth": 2
          },
          "yaxis": {
           "automargin": true,
           "gridcolor": "white",
           "linecolor": "white",
           "ticks": "",
           "title": {
            "standoff": 15
           },
           "zerolinecolor": "white",
           "zerolinewidth": 2
          }
         }
        },
        "title": {
         "font": {
          "color": "#4D5663"
         },
         "text": "Family size (N=946)"
        },
        "xaxis": {
         "gridcolor": "#E1E5ED",
         "showgrid": true,
         "tickfont": {
          "color": "#4D5663"
         },
         "title": {
          "font": {
           "color": "#4D5663"
          },
          "text": ""
         },
         "zerolinecolor": "#E1E5ED"
        },
        "yaxis": {
         "gridcolor": "#E1E5ED",
         "showgrid": true,
         "tickfont": {
          "color": "#4D5663"
         },
         "title": {
          "font": {
           "color": "#4D5663"
          },
          "text": ""
         },
         "zerolinecolor": "#E1E5ED"
        }
       }
      },
      "text/html": [
       "<div>                            <div id=\"92ebdcf7-7bb5-4718-9937-3c97129cac37\" class=\"plotly-graph-div\" style=\"height:525px; width:100%;\"></div>            <script type=\"text/javascript\">                require([\"plotly\"], function(Plotly) {                    window.PLOTLYENV=window.PLOTLYENV || {};\n",
       "                    window.PLOTLYENV.BASE_URL='https://plot.ly';                                    if (document.getElementById(\"92ebdcf7-7bb5-4718-9937-3c97129cac37\")) {                    Plotly.newPlot(                        \"92ebdcf7-7bb5-4718-9937-3c97129cac37\",                        [{\"marker\":{\"color\":\"rgba(255, 153, 51, 0.6)\",\"line\":{\"color\":\"rgba(255, 153, 51, 1.0)\",\"width\":1}},\"name\":\"DEMO_familysize\",\"orientation\":\"v\",\"text\":\"\",\"x\":[1,2,3,4,5,6,7,8,9],\"y\":[129,401,251,93,41,19,9,2,1],\"type\":\"bar\"}],                        {\"legend\":{\"bgcolor\":\"#FFFFFF\",\"font\":{\"color\":\"#4D5663\"}},\"paper_bgcolor\":\"#FFFFFF\",\"plot_bgcolor\":\"#FFFFFF\",\"template\":{\"data\":{\"barpolar\":[{\"marker\":{\"line\":{\"color\":\"#E5ECF6\",\"width\":0.5},\"pattern\":{\"fillmode\":\"overlay\",\"size\":10,\"solidity\":0.2}},\"type\":\"barpolar\"}],\"bar\":[{\"error_x\":{\"color\":\"#2a3f5f\"},\"error_y\":{\"color\":\"#2a3f5f\"},\"marker\":{\"line\":{\"color\":\"#E5ECF6\",\"width\":0.5},\"pattern\":{\"fillmode\":\"overlay\",\"size\":10,\"solidity\":0.2}},\"type\":\"bar\"}],\"carpet\":[{\"aaxis\":{\"endlinecolor\":\"#2a3f5f\",\"gridcolor\":\"white\",\"linecolor\":\"white\",\"minorgridcolor\":\"white\",\"startlinecolor\":\"#2a3f5f\"},\"baxis\":{\"endlinecolor\":\"#2a3f5f\",\"gridcolor\":\"white\",\"linecolor\":\"white\",\"minorgridcolor\":\"white\",\"startlinecolor\":\"#2a3f5f\"},\"type\":\"carpet\"}],\"choropleth\":[{\"colorbar\":{\"outlinewidth\":0,\"ticks\":\"\"},\"type\":\"choropleth\"}],\"contourcarpet\":[{\"colorbar\":{\"outlinewidth\":0,\"ticks\":\"\"},\"type\":\"contourcarpet\"}],\"contour\":[{\"colorbar\":{\"outlinewidth\":0,\"ticks\":\"\"},\"colorscale\":[[0.0,\"#0d0887\"],[0.1111111111111111,\"#46039f\"],[0.2222222222222222,\"#7201a8\"],[0.3333333333333333,\"#9c179e\"],[0.4444444444444444,\"#bd3786\"],[0.5555555555555556,\"#d8576b\"],[0.6666666666666666,\"#ed7953\"],[0.7777777777777778,\"#fb9f3a\"],[0.8888888888888888,\"#fdca26\"],[1.0,\"#f0f921\"]],\"type\":\"contour\"}],\"heatmapgl\":[{\"colorbar\":{\"outlinewidth\":0,\"ticks\":\"\"},\"colorscale\":[[0.0,\"#0d0887\"],[0.1111111111111111,\"#46039f\"],[0.2222222222222222,\"#7201a8\"],[0.3333333333333333,\"#9c179e\"],[0.4444444444444444,\"#bd3786\"],[0.5555555555555556,\"#d8576b\"],[0.6666666666666666,\"#ed7953\"],[0.7777777777777778,\"#fb9f3a\"],[0.8888888888888888,\"#fdca26\"],[1.0,\"#f0f921\"]],\"type\":\"heatmapgl\"}],\"heatmap\":[{\"colorbar\":{\"outlinewidth\":0,\"ticks\":\"\"},\"colorscale\":[[0.0,\"#0d0887\"],[0.1111111111111111,\"#46039f\"],[0.2222222222222222,\"#7201a8\"],[0.3333333333333333,\"#9c179e\"],[0.4444444444444444,\"#bd3786\"],[0.5555555555555556,\"#d8576b\"],[0.6666666666666666,\"#ed7953\"],[0.7777777777777778,\"#fb9f3a\"],[0.8888888888888888,\"#fdca26\"],[1.0,\"#f0f921\"]],\"type\":\"heatmap\"}],\"histogram2dcontour\":[{\"colorbar\":{\"outlinewidth\":0,\"ticks\":\"\"},\"colorscale\":[[0.0,\"#0d0887\"],[0.1111111111111111,\"#46039f\"],[0.2222222222222222,\"#7201a8\"],[0.3333333333333333,\"#9c179e\"],[0.4444444444444444,\"#bd3786\"],[0.5555555555555556,\"#d8576b\"],[0.6666666666666666,\"#ed7953\"],[0.7777777777777778,\"#fb9f3a\"],[0.8888888888888888,\"#fdca26\"],[1.0,\"#f0f921\"]],\"type\":\"histogram2dcontour\"}],\"histogram2d\":[{\"colorbar\":{\"outlinewidth\":0,\"ticks\":\"\"},\"colorscale\":[[0.0,\"#0d0887\"],[0.1111111111111111,\"#46039f\"],[0.2222222222222222,\"#7201a8\"],[0.3333333333333333,\"#9c179e\"],[0.4444444444444444,\"#bd3786\"],[0.5555555555555556,\"#d8576b\"],[0.6666666666666666,\"#ed7953\"],[0.7777777777777778,\"#fb9f3a\"],[0.8888888888888888,\"#fdca26\"],[1.0,\"#f0f921\"]],\"type\":\"histogram2d\"}],\"histogram\":[{\"marker\":{\"pattern\":{\"fillmode\":\"overlay\",\"size\":10,\"solidity\":0.2}},\"type\":\"histogram\"}],\"mesh3d\":[{\"colorbar\":{\"outlinewidth\":0,\"ticks\":\"\"},\"type\":\"mesh3d\"}],\"parcoords\":[{\"line\":{\"colorbar\":{\"outlinewidth\":0,\"ticks\":\"\"}},\"type\":\"parcoords\"}],\"pie\":[{\"automargin\":true,\"type\":\"pie\"}],\"scatter3d\":[{\"line\":{\"colorbar\":{\"outlinewidth\":0,\"ticks\":\"\"}},\"marker\":{\"colorbar\":{\"outlinewidth\":0,\"ticks\":\"\"}},\"type\":\"scatter3d\"}],\"scattercarpet\":[{\"marker\":{\"colorbar\":{\"outlinewidth\":0,\"ticks\":\"\"}},\"type\":\"scattercarpet\"}],\"scattergeo\":[{\"marker\":{\"colorbar\":{\"outlinewidth\":0,\"ticks\":\"\"}},\"type\":\"scattergeo\"}],\"scattergl\":[{\"marker\":{\"colorbar\":{\"outlinewidth\":0,\"ticks\":\"\"}},\"type\":\"scattergl\"}],\"scattermapbox\":[{\"marker\":{\"colorbar\":{\"outlinewidth\":0,\"ticks\":\"\"}},\"type\":\"scattermapbox\"}],\"scatterpolargl\":[{\"marker\":{\"colorbar\":{\"outlinewidth\":0,\"ticks\":\"\"}},\"type\":\"scatterpolargl\"}],\"scatterpolar\":[{\"marker\":{\"colorbar\":{\"outlinewidth\":0,\"ticks\":\"\"}},\"type\":\"scatterpolar\"}],\"scatter\":[{\"marker\":{\"colorbar\":{\"outlinewidth\":0,\"ticks\":\"\"}},\"type\":\"scatter\"}],\"scatterternary\":[{\"marker\":{\"colorbar\":{\"outlinewidth\":0,\"ticks\":\"\"}},\"type\":\"scatterternary\"}],\"surface\":[{\"colorbar\":{\"outlinewidth\":0,\"ticks\":\"\"},\"colorscale\":[[0.0,\"#0d0887\"],[0.1111111111111111,\"#46039f\"],[0.2222222222222222,\"#7201a8\"],[0.3333333333333333,\"#9c179e\"],[0.4444444444444444,\"#bd3786\"],[0.5555555555555556,\"#d8576b\"],[0.6666666666666666,\"#ed7953\"],[0.7777777777777778,\"#fb9f3a\"],[0.8888888888888888,\"#fdca26\"],[1.0,\"#f0f921\"]],\"type\":\"surface\"}],\"table\":[{\"cells\":{\"fill\":{\"color\":\"#EBF0F8\"},\"line\":{\"color\":\"white\"}},\"header\":{\"fill\":{\"color\":\"#C8D4E3\"},\"line\":{\"color\":\"white\"}},\"type\":\"table\"}]},\"layout\":{\"annotationdefaults\":{\"arrowcolor\":\"#2a3f5f\",\"arrowhead\":0,\"arrowwidth\":1},\"autotypenumbers\":\"strict\",\"coloraxis\":{\"colorbar\":{\"outlinewidth\":0,\"ticks\":\"\"}},\"colorscale\":{\"diverging\":[[0,\"#8e0152\"],[0.1,\"#c51b7d\"],[0.2,\"#de77ae\"],[0.3,\"#f1b6da\"],[0.4,\"#fde0ef\"],[0.5,\"#f7f7f7\"],[0.6,\"#e6f5d0\"],[0.7,\"#b8e186\"],[0.8,\"#7fbc41\"],[0.9,\"#4d9221\"],[1,\"#276419\"]],\"sequential\":[[0.0,\"#0d0887\"],[0.1111111111111111,\"#46039f\"],[0.2222222222222222,\"#7201a8\"],[0.3333333333333333,\"#9c179e\"],[0.4444444444444444,\"#bd3786\"],[0.5555555555555556,\"#d8576b\"],[0.6666666666666666,\"#ed7953\"],[0.7777777777777778,\"#fb9f3a\"],[0.8888888888888888,\"#fdca26\"],[1.0,\"#f0f921\"]],\"sequentialminus\":[[0.0,\"#0d0887\"],[0.1111111111111111,\"#46039f\"],[0.2222222222222222,\"#7201a8\"],[0.3333333333333333,\"#9c179e\"],[0.4444444444444444,\"#bd3786\"],[0.5555555555555556,\"#d8576b\"],[0.6666666666666666,\"#ed7953\"],[0.7777777777777778,\"#fb9f3a\"],[0.8888888888888888,\"#fdca26\"],[1.0,\"#f0f921\"]]},\"colorway\":[\"#636efa\",\"#EF553B\",\"#00cc96\",\"#ab63fa\",\"#FFA15A\",\"#19d3f3\",\"#FF6692\",\"#B6E880\",\"#FF97FF\",\"#FECB52\"],\"font\":{\"color\":\"#2a3f5f\"},\"geo\":{\"bgcolor\":\"white\",\"lakecolor\":\"white\",\"landcolor\":\"#E5ECF6\",\"showlakes\":true,\"showland\":true,\"subunitcolor\":\"white\"},\"hoverlabel\":{\"align\":\"left\"},\"hovermode\":\"closest\",\"mapbox\":{\"style\":\"light\"},\"paper_bgcolor\":\"white\",\"plot_bgcolor\":\"#E5ECF6\",\"polar\":{\"angularaxis\":{\"gridcolor\":\"white\",\"linecolor\":\"white\",\"ticks\":\"\"},\"bgcolor\":\"#E5ECF6\",\"radialaxis\":{\"gridcolor\":\"white\",\"linecolor\":\"white\",\"ticks\":\"\"}},\"scene\":{\"xaxis\":{\"backgroundcolor\":\"#E5ECF6\",\"gridcolor\":\"white\",\"gridwidth\":2,\"linecolor\":\"white\",\"showbackground\":true,\"ticks\":\"\",\"zerolinecolor\":\"white\"},\"yaxis\":{\"backgroundcolor\":\"#E5ECF6\",\"gridcolor\":\"white\",\"gridwidth\":2,\"linecolor\":\"white\",\"showbackground\":true,\"ticks\":\"\",\"zerolinecolor\":\"white\"},\"zaxis\":{\"backgroundcolor\":\"#E5ECF6\",\"gridcolor\":\"white\",\"gridwidth\":2,\"linecolor\":\"white\",\"showbackground\":true,\"ticks\":\"\",\"zerolinecolor\":\"white\"}},\"shapedefaults\":{\"line\":{\"color\":\"#2a3f5f\"}},\"ternary\":{\"aaxis\":{\"gridcolor\":\"white\",\"linecolor\":\"white\",\"ticks\":\"\"},\"baxis\":{\"gridcolor\":\"white\",\"linecolor\":\"white\",\"ticks\":\"\"},\"bgcolor\":\"#E5ECF6\",\"caxis\":{\"gridcolor\":\"white\",\"linecolor\":\"white\",\"ticks\":\"\"}},\"title\":{\"x\":0.05},\"xaxis\":{\"automargin\":true,\"gridcolor\":\"white\",\"linecolor\":\"white\",\"ticks\":\"\",\"title\":{\"standoff\":15},\"zerolinecolor\":\"white\",\"zerolinewidth\":2},\"yaxis\":{\"automargin\":true,\"gridcolor\":\"white\",\"linecolor\":\"white\",\"ticks\":\"\",\"title\":{\"standoff\":15},\"zerolinecolor\":\"white\",\"zerolinewidth\":2}}},\"title\":{\"font\":{\"color\":\"#4D5663\"},\"text\":\"Family size (N=946)\"},\"xaxis\":{\"gridcolor\":\"#E1E5ED\",\"showgrid\":true,\"tickfont\":{\"color\":\"#4D5663\"},\"title\":{\"font\":{\"color\":\"#4D5663\"},\"text\":\"\"},\"zerolinecolor\":\"#E1E5ED\"},\"yaxis\":{\"gridcolor\":\"#E1E5ED\",\"showgrid\":true,\"tickfont\":{\"color\":\"#4D5663\"},\"title\":{\"font\":{\"color\":\"#4D5663\"},\"text\":\"\"},\"zerolinecolor\":\"#E1E5ED\"}},                        {\"showLink\": true, \"linkText\": \"Export to plot.ly\", \"plotlyServerURL\": \"https://plot.ly\", \"responsive\": true}                    ).then(function(){\n",
       "                            \n",
       "var gd = document.getElementById('92ebdcf7-7bb5-4718-9937-3c97129cac37');\n",
       "var x = new MutationObserver(function (mutations, observer) {{\n",
       "        var display = window.getComputedStyle(gd).display;\n",
       "        if (!display || display === 'none') {{\n",
       "            console.log([gd, 'removed!']);\n",
       "            Plotly.purge(gd);\n",
       "            observer.disconnect();\n",
       "        }}\n",
       "}});\n",
       "\n",
       "// Listen for the removal of the full notebook cells\n",
       "var notebookContainer = gd.closest('#notebook-container');\n",
       "if (notebookContainer) {{\n",
       "    x.observe(notebookContainer, {childList: true});\n",
       "}}\n",
       "\n",
       "// Listen for the clearing of the current output cell\n",
       "var outputEl = gd.closest('.output');\n",
       "if (outputEl) {{\n",
       "    x.observe(outputEl, {childList: true});\n",
       "}}\n",
       "\n",
       "                        })                };                });            </script>        </div>"
      ]
     },
     "metadata": {},
     "output_type": "display_data"
    }
   ],
   "source": [
    "family_distribution = gcbs_clean_df['DEMO_familysize'].value_counts().sort_index(ascending=True)\n",
    "family_distribution.index = [int(i) for i in list(family_distribution.index)]\n",
    "total_responses = sum(family_distribution)\n",
    "family_distribution.iplot(kind='bar', title='Family size (N={})'.format(total_responses), theme='white')"
   ]
  },
  {
   "cell_type": "code",
   "execution_count": 39,
   "metadata": {},
   "outputs": [
    {
     "data": {
      "application/vnd.plotly.v1+json": {
       "config": {
        "linkText": "Export to plot.ly",
        "plotlyServerURL": "https://plot.ly",
        "showLink": true
       },
       "data": [
        {
         "hole": 0.3,
         "labels": [
          "Suburban",
          "Urban (town, city)",
          "Rural (country side)"
         ],
         "marker": {
          "colors": [
           "rgba(255, 153, 51, 1.0)",
           "rgba(55, 128, 191, 1.0)",
           "rgba(50, 171, 96, 1.0)"
          ]
         },
         "name": "",
         "type": "pie",
         "values": [
          419,
          333,
          199
         ]
        }
       ],
       "layout": {
        "legend": {
         "bgcolor": "#FFFFFF",
         "font": {
          "color": "#4D5663"
         }
        },
        "paper_bgcolor": "#FFFFFF",
        "plot_bgcolor": "#FFFFFF",
        "title": "Area (N=951)",
        "titlefont": {
         "color": "#4D5663"
        }
       }
      },
      "text/html": [
       "<div>                            <div id=\"e2725ba9-5a1a-40cf-b7ed-ef28e85c58a1\" class=\"plotly-graph-div\" style=\"height:525px; width:100%;\"></div>            <script type=\"text/javascript\">                require([\"plotly\"], function(Plotly) {                    window.PLOTLYENV=window.PLOTLYENV || {};\n",
       "                    window.PLOTLYENV.BASE_URL='https://plot.ly';                                    if (document.getElementById(\"e2725ba9-5a1a-40cf-b7ed-ef28e85c58a1\")) {                    Plotly.newPlot(                        \"e2725ba9-5a1a-40cf-b7ed-ef28e85c58a1\",                        [{\"hole\":0.3,\"labels\":[\"Suburban\",\"Urban (town, city)\",\"Rural (country side)\"],\"marker\":{\"colors\":[\"rgba(255, 153, 51, 1.0)\",\"rgba(55, 128, 191, 1.0)\",\"rgba(50, 171, 96, 1.0)\"]},\"name\":\"\",\"values\":[419,333,199],\"type\":\"pie\"}],                        {\"legend\":{\"bgcolor\":\"#FFFFFF\",\"font\":{\"color\":\"#4D5663\"}},\"paper_bgcolor\":\"#FFFFFF\",\"plot_bgcolor\":\"#FFFFFF\",\"titlefont\":{\"color\":\"#4D5663\"},\"title\":\"Area (N=951)\"},                        {\"showLink\": true, \"linkText\": \"Export to plot.ly\", \"plotlyServerURL\": \"https://plot.ly\", \"responsive\": true}                    ).then(function(){\n",
       "                            \n",
       "var gd = document.getElementById('e2725ba9-5a1a-40cf-b7ed-ef28e85c58a1');\n",
       "var x = new MutationObserver(function (mutations, observer) {{\n",
       "        var display = window.getComputedStyle(gd).display;\n",
       "        if (!display || display === 'none') {{\n",
       "            console.log([gd, 'removed!']);\n",
       "            Plotly.purge(gd);\n",
       "            observer.disconnect();\n",
       "        }}\n",
       "}});\n",
       "\n",
       "// Listen for the removal of the full notebook cells\n",
       "var notebookContainer = gd.closest('#notebook-container');\n",
       "if (notebookContainer) {{\n",
       "    x.observe(notebookContainer, {childList: true});\n",
       "}}\n",
       "\n",
       "// Listen for the clearing of the current output cell\n",
       "var outputEl = gd.closest('.output');\n",
       "if (outputEl) {{\n",
       "    x.observe(outputEl, {childList: true});\n",
       "}}\n",
       "\n",
       "                        })                };                });            </script>        </div>"
      ]
     },
     "metadata": {},
     "output_type": "display_data"
    }
   ],
   "source": [
    "total_responses = sum(gcbs_clean_df['DEMO_urban'].value_counts())\n",
    "urban_df = gcbs_clean_df['DEMO_urban'].value_counts().rename_axis('DEMO_urban').reset_index(name='counts')\n",
    "urban_df.iplot(kind='pie', labels='DEMO_urban', values='counts', title='Area (N={})'.format(total_responses), hoverinfo=\"label+percent+name\", hole=0.3, theme='white')"
   ]
  },
  {
   "cell_type": "code",
   "execution_count": 40,
   "metadata": {},
   "outputs": [
    {
     "data": {
      "application/vnd.plotly.v1+json": {
       "config": {
        "linkText": "Export to plot.ly",
        "plotlyServerURL": "https://plot.ly",
        "showLink": true
       },
       "data": [
        {
         "hole": 0.3,
         "labels": [
          "Male",
          "Female",
          "Other"
         ],
         "marker": {
          "colors": [
           "rgba(255, 153, 51, 1.0)",
           "rgba(55, 128, 191, 1.0)",
           "rgba(50, 171, 96, 1.0)"
          ]
         },
         "name": "",
         "type": "pie",
         "values": [
          547,
          373,
          40
         ]
        }
       ],
       "layout": {
        "legend": {
         "bgcolor": "#FFFFFF",
         "font": {
          "color": "#4D5663"
         }
        },
        "paper_bgcolor": "#FFFFFF",
        "plot_bgcolor": "#FFFFFF",
        "title": "Gender (N=960)",
        "titlefont": {
         "color": "#4D5663"
        }
       }
      },
      "text/html": [
       "<div>                            <div id=\"b0369d0b-061a-4e0e-9e07-2c51aad7e463\" class=\"plotly-graph-div\" style=\"height:525px; width:100%;\"></div>            <script type=\"text/javascript\">                require([\"plotly\"], function(Plotly) {                    window.PLOTLYENV=window.PLOTLYENV || {};\n",
       "                    window.PLOTLYENV.BASE_URL='https://plot.ly';                                    if (document.getElementById(\"b0369d0b-061a-4e0e-9e07-2c51aad7e463\")) {                    Plotly.newPlot(                        \"b0369d0b-061a-4e0e-9e07-2c51aad7e463\",                        [{\"hole\":0.3,\"labels\":[\"Male\",\"Female\",\"Other\"],\"marker\":{\"colors\":[\"rgba(255, 153, 51, 1.0)\",\"rgba(55, 128, 191, 1.0)\",\"rgba(50, 171, 96, 1.0)\"]},\"name\":\"\",\"values\":[547,373,40],\"type\":\"pie\"}],                        {\"legend\":{\"bgcolor\":\"#FFFFFF\",\"font\":{\"color\":\"#4D5663\"}},\"paper_bgcolor\":\"#FFFFFF\",\"plot_bgcolor\":\"#FFFFFF\",\"titlefont\":{\"color\":\"#4D5663\"},\"title\":\"Gender (N=960)\"},                        {\"showLink\": true, \"linkText\": \"Export to plot.ly\", \"plotlyServerURL\": \"https://plot.ly\", \"responsive\": true}                    ).then(function(){\n",
       "                            \n",
       "var gd = document.getElementById('b0369d0b-061a-4e0e-9e07-2c51aad7e463');\n",
       "var x = new MutationObserver(function (mutations, observer) {{\n",
       "        var display = window.getComputedStyle(gd).display;\n",
       "        if (!display || display === 'none') {{\n",
       "            console.log([gd, 'removed!']);\n",
       "            Plotly.purge(gd);\n",
       "            observer.disconnect();\n",
       "        }}\n",
       "}});\n",
       "\n",
       "// Listen for the removal of the full notebook cells\n",
       "var notebookContainer = gd.closest('#notebook-container');\n",
       "if (notebookContainer) {{\n",
       "    x.observe(notebookContainer, {childList: true});\n",
       "}}\n",
       "\n",
       "// Listen for the clearing of the current output cell\n",
       "var outputEl = gd.closest('.output');\n",
       "if (outputEl) {{\n",
       "    x.observe(outputEl, {childList: true});\n",
       "}}\n",
       "\n",
       "                        })                };                });            </script>        </div>"
      ]
     },
     "metadata": {},
     "output_type": "display_data"
    }
   ],
   "source": [
    "total_responses = sum(gcbs_clean_df['DEMO_gender'].value_counts())\n",
    "gender_df = gcbs_clean_df['DEMO_gender'].value_counts().rename_axis('DEMO_gender').reset_index(name='counts')\n",
    "gender_df.iplot(kind='pie', labels='DEMO_gender', values='counts', title='Gender (N={})'.format(total_responses), hoverinfo=\"label+percent+name\", hole=0.3, theme='white')"
   ]
  },
  {
   "cell_type": "code",
   "execution_count": 41,
   "metadata": {},
   "outputs": [
    {
     "data": {
      "application/vnd.plotly.v1+json": {
       "config": {
        "linkText": "Export to plot.ly",
        "plotlyServerURL": "https://plot.ly",
        "showLink": true
       },
       "data": [
        {
         "hole": 0.3,
         "labels": [
          "Native English speaker",
          "Non-native English speaker"
         ],
         "marker": {
          "colors": [
           "rgba(255, 153, 51, 1.0)",
           "rgba(55, 128, 191, 1.0)"
          ]
         },
         "name": "",
         "type": "pie",
         "values": [
          671,
          288
         ]
        }
       ],
       "layout": {
        "legend": {
         "bgcolor": "#FFFFFF",
         "font": {
          "color": "#4D5663"
         }
        },
        "paper_bgcolor": "#FFFFFF",
        "plot_bgcolor": "#FFFFFF",
        "title": "Language (N=959)",
        "titlefont": {
         "color": "#4D5663"
        }
       }
      },
      "text/html": [
       "<div>                            <div id=\"db066aff-2c10-4c78-bddd-6346f4b3d9a3\" class=\"plotly-graph-div\" style=\"height:525px; width:100%;\"></div>            <script type=\"text/javascript\">                require([\"plotly\"], function(Plotly) {                    window.PLOTLYENV=window.PLOTLYENV || {};\n",
       "                    window.PLOTLYENV.BASE_URL='https://plot.ly';                                    if (document.getElementById(\"db066aff-2c10-4c78-bddd-6346f4b3d9a3\")) {                    Plotly.newPlot(                        \"db066aff-2c10-4c78-bddd-6346f4b3d9a3\",                        [{\"hole\":0.3,\"labels\":[\"Native English speaker\",\"Non-native English speaker\"],\"marker\":{\"colors\":[\"rgba(255, 153, 51, 1.0)\",\"rgba(55, 128, 191, 1.0)\"]},\"name\":\"\",\"values\":[671,288],\"type\":\"pie\"}],                        {\"legend\":{\"bgcolor\":\"#FFFFFF\",\"font\":{\"color\":\"#4D5663\"}},\"paper_bgcolor\":\"#FFFFFF\",\"plot_bgcolor\":\"#FFFFFF\",\"titlefont\":{\"color\":\"#4D5663\"},\"title\":\"Language (N=959)\"},                        {\"showLink\": true, \"linkText\": \"Export to plot.ly\", \"plotlyServerURL\": \"https://plot.ly\", \"responsive\": true}                    ).then(function(){\n",
       "                            \n",
       "var gd = document.getElementById('db066aff-2c10-4c78-bddd-6346f4b3d9a3');\n",
       "var x = new MutationObserver(function (mutations, observer) {{\n",
       "        var display = window.getComputedStyle(gd).display;\n",
       "        if (!display || display === 'none') {{\n",
       "            console.log([gd, 'removed!']);\n",
       "            Plotly.purge(gd);\n",
       "            observer.disconnect();\n",
       "        }}\n",
       "}});\n",
       "\n",
       "// Listen for the removal of the full notebook cells\n",
       "var notebookContainer = gd.closest('#notebook-container');\n",
       "if (notebookContainer) {{\n",
       "    x.observe(notebookContainer, {childList: true});\n",
       "}}\n",
       "\n",
       "// Listen for the clearing of the current output cell\n",
       "var outputEl = gd.closest('.output');\n",
       "if (outputEl) {{\n",
       "    x.observe(outputEl, {childList: true});\n",
       "}}\n",
       "\n",
       "                        })                };                });            </script>        </div>"
      ]
     },
     "metadata": {},
     "output_type": "display_data"
    }
   ],
   "source": [
    "total_responses = sum(gcbs_clean_df['DEMO_engnat'].value_counts())\n",
    "lang_df = gcbs_clean_df['DEMO_engnat'].value_counts().rename_axis('DEMO_engnat').reset_index(name='counts')\n",
    "lang_df.iplot(kind='pie', labels='DEMO_engnat', values='counts', title='Language (N={})'.format(total_responses), hoverinfo=\"label+percent+name\", hole=0.3, theme='white')"
   ]
  },
  {
   "cell_type": "code",
   "execution_count": 42,
   "metadata": {},
   "outputs": [
    {
     "data": {
      "application/vnd.plotly.v1+json": {
       "config": {
        "linkText": "Export to plot.ly",
        "plotlyServerURL": "https://plot.ly",
        "showLink": true
       },
       "data": [
        {
         "hole": 0.3,
         "labels": [
          "Right-handed",
          "Left-handed",
          "Ambidextrous"
         ],
         "marker": {
          "colors": [
           "rgba(255, 153, 51, 1.0)",
           "rgba(55, 128, 191, 1.0)",
           "rgba(50, 171, 96, 1.0)"
          ]
         },
         "name": "",
         "type": "pie",
         "values": [
          822,
          111,
          23
         ]
        }
       ],
       "layout": {
        "legend": {
         "bgcolor": "#FFFFFF",
         "font": {
          "color": "#4D5663"
         }
        },
        "paper_bgcolor": "#FFFFFF",
        "plot_bgcolor": "#FFFFFF",
        "title": "Hand preference (N=956)",
        "titlefont": {
         "color": "#4D5663"
        }
       }
      },
      "text/html": [
       "<div>                            <div id=\"ba338bb0-c3e2-49bd-a002-a7c32fe1163f\" class=\"plotly-graph-div\" style=\"height:525px; width:100%;\"></div>            <script type=\"text/javascript\">                require([\"plotly\"], function(Plotly) {                    window.PLOTLYENV=window.PLOTLYENV || {};\n",
       "                    window.PLOTLYENV.BASE_URL='https://plot.ly';                                    if (document.getElementById(\"ba338bb0-c3e2-49bd-a002-a7c32fe1163f\")) {                    Plotly.newPlot(                        \"ba338bb0-c3e2-49bd-a002-a7c32fe1163f\",                        [{\"hole\":0.3,\"labels\":[\"Right-handed\",\"Left-handed\",\"Ambidextrous\"],\"marker\":{\"colors\":[\"rgba(255, 153, 51, 1.0)\",\"rgba(55, 128, 191, 1.0)\",\"rgba(50, 171, 96, 1.0)\"]},\"name\":\"\",\"values\":[822,111,23],\"type\":\"pie\"}],                        {\"legend\":{\"bgcolor\":\"#FFFFFF\",\"font\":{\"color\":\"#4D5663\"}},\"paper_bgcolor\":\"#FFFFFF\",\"plot_bgcolor\":\"#FFFFFF\",\"titlefont\":{\"color\":\"#4D5663\"},\"title\":\"Hand preference (N=956)\"},                        {\"showLink\": true, \"linkText\": \"Export to plot.ly\", \"plotlyServerURL\": \"https://plot.ly\", \"responsive\": true}                    ).then(function(){\n",
       "                            \n",
       "var gd = document.getElementById('ba338bb0-c3e2-49bd-a002-a7c32fe1163f');\n",
       "var x = new MutationObserver(function (mutations, observer) {{\n",
       "        var display = window.getComputedStyle(gd).display;\n",
       "        if (!display || display === 'none') {{\n",
       "            console.log([gd, 'removed!']);\n",
       "            Plotly.purge(gd);\n",
       "            observer.disconnect();\n",
       "        }}\n",
       "}});\n",
       "\n",
       "// Listen for the removal of the full notebook cells\n",
       "var notebookContainer = gd.closest('#notebook-container');\n",
       "if (notebookContainer) {{\n",
       "    x.observe(notebookContainer, {childList: true});\n",
       "}}\n",
       "\n",
       "// Listen for the clearing of the current output cell\n",
       "var outputEl = gd.closest('.output');\n",
       "if (outputEl) {{\n",
       "    x.observe(outputEl, {childList: true});\n",
       "}}\n",
       "\n",
       "                        })                };                });            </script>        </div>"
      ]
     },
     "metadata": {},
     "output_type": "display_data"
    }
   ],
   "source": [
    "total_responses = sum(gcbs_clean_df['DEMO_hand'].value_counts())\n",
    "hand_df = gcbs_clean_df['DEMO_hand'].value_counts().rename_axis('DEMO_hand').reset_index(name='counts')\n",
    "hand_df.iplot(kind='pie', labels='DEMO_hand', values='counts', title='Hand preference (N={})'.format(total_responses), hoverinfo=\"label+percent+name\", hole=0.3, theme='white')"
   ]
  },
  {
   "cell_type": "code",
   "execution_count": 43,
   "metadata": {},
   "outputs": [
    {
     "data": {
      "application/vnd.plotly.v1+json": {
       "config": {
        "linkText": "Export to plot.ly",
        "plotlyServerURL": "https://plot.ly",
        "showLink": true
       },
       "data": [
        {
         "hole": 0.3,
         "labels": [
          "Atheist",
          "Agnostic",
          "Other",
          "Christian (Other)",
          "Christian (Catholic)",
          "Christian (Protestant)",
          "Buddhist",
          "Muslim",
          "Hindu",
          "Christian (Mormon)",
          "Jewish"
         ],
         "marker": {
          "colors": [
           "rgba(255, 153, 51, 1.0)",
           "rgba(55, 128, 191, 1.0)",
           "rgba(50, 171, 96, 1.0)",
           "rgba(128, 0, 128, 1.0)",
           "rgba(219, 64, 82, 1.0)",
           "rgba(0, 128, 128, 1.0)",
           "rgba(255, 255, 51, 1.0)",
           "rgba(128, 128, 0, 1.0)",
           "rgba(251, 128, 114, 1.0)",
           "rgba(128, 177, 211, 1.0)",
           "rgba(128, 177, 211, 0.8999999999999999)"
          ]
         },
         "name": "",
         "type": "pie",
         "values": [
          276,
          252,
          113,
          96,
          76,
          72,
          24,
          18,
          12,
          9,
          7
         ]
        }
       ],
       "layout": {
        "legend": {
         "bgcolor": "#FFFFFF",
         "font": {
          "color": "#4D5663"
         }
        },
        "paper_bgcolor": "#FFFFFF",
        "plot_bgcolor": "#FFFFFF",
        "title": "Religion (N=955)",
        "titlefont": {
         "color": "#4D5663"
        }
       }
      },
      "text/html": [
       "<div>                            <div id=\"33747313-5969-4401-ba4c-6f2f692de0a1\" class=\"plotly-graph-div\" style=\"height:525px; width:100%;\"></div>            <script type=\"text/javascript\">                require([\"plotly\"], function(Plotly) {                    window.PLOTLYENV=window.PLOTLYENV || {};\n",
       "                    window.PLOTLYENV.BASE_URL='https://plot.ly';                                    if (document.getElementById(\"33747313-5969-4401-ba4c-6f2f692de0a1\")) {                    Plotly.newPlot(                        \"33747313-5969-4401-ba4c-6f2f692de0a1\",                        [{\"hole\":0.3,\"labels\":[\"Atheist\",\"Agnostic\",\"Other\",\"Christian (Other)\",\"Christian (Catholic)\",\"Christian (Protestant)\",\"Buddhist\",\"Muslim\",\"Hindu\",\"Christian (Mormon)\",\"Jewish\"],\"marker\":{\"colors\":[\"rgba(255, 153, 51, 1.0)\",\"rgba(55, 128, 191, 1.0)\",\"rgba(50, 171, 96, 1.0)\",\"rgba(128, 0, 128, 1.0)\",\"rgba(219, 64, 82, 1.0)\",\"rgba(0, 128, 128, 1.0)\",\"rgba(255, 255, 51, 1.0)\",\"rgba(128, 128, 0, 1.0)\",\"rgba(251, 128, 114, 1.0)\",\"rgba(128, 177, 211, 1.0)\",\"rgba(128, 177, 211, 0.8999999999999999)\"]},\"name\":\"\",\"values\":[276,252,113,96,76,72,24,18,12,9,7],\"type\":\"pie\"}],                        {\"legend\":{\"bgcolor\":\"#FFFFFF\",\"font\":{\"color\":\"#4D5663\"}},\"paper_bgcolor\":\"#FFFFFF\",\"plot_bgcolor\":\"#FFFFFF\",\"titlefont\":{\"color\":\"#4D5663\"},\"title\":\"Religion (N=955)\"},                        {\"showLink\": true, \"linkText\": \"Export to plot.ly\", \"plotlyServerURL\": \"https://plot.ly\", \"responsive\": true}                    ).then(function(){\n",
       "                            \n",
       "var gd = document.getElementById('33747313-5969-4401-ba4c-6f2f692de0a1');\n",
       "var x = new MutationObserver(function (mutations, observer) {{\n",
       "        var display = window.getComputedStyle(gd).display;\n",
       "        if (!display || display === 'none') {{\n",
       "            console.log([gd, 'removed!']);\n",
       "            Plotly.purge(gd);\n",
       "            observer.disconnect();\n",
       "        }}\n",
       "}});\n",
       "\n",
       "// Listen for the removal of the full notebook cells\n",
       "var notebookContainer = gd.closest('#notebook-container');\n",
       "if (notebookContainer) {{\n",
       "    x.observe(notebookContainer, {childList: true});\n",
       "}}\n",
       "\n",
       "// Listen for the clearing of the current output cell\n",
       "var outputEl = gd.closest('.output');\n",
       "if (outputEl) {{\n",
       "    x.observe(outputEl, {childList: true});\n",
       "}}\n",
       "\n",
       "                        })                };                });            </script>        </div>"
      ]
     },
     "metadata": {},
     "output_type": "display_data"
    }
   ],
   "source": [
    "total_responses = sum(gcbs_clean_df['DEMO_religion'].value_counts()[gcbs_clean_df['DEMO_religion'].value_counts()> 0])\n",
    "religion_df = gcbs_clean_df['DEMO_religion'].value_counts()[gcbs_clean_df['DEMO_religion'].value_counts()> 0].rename_axis('DEMO_religion').reset_index(name='counts')\n",
    "religion_df.iplot(kind='pie', labels='DEMO_religion', values='counts', title='Religion (N={})'.format(total_responses), hoverinfo=\"label+percent+name\", hole=0.3, theme='white')"
   ]
  },
  {
   "cell_type": "code",
   "execution_count": 44,
   "metadata": {},
   "outputs": [
    {
     "data": {
      "application/vnd.plotly.v1+json": {
       "config": {
        "linkText": "Export to plot.ly",
        "plotlyServerURL": "https://plot.ly",
        "showLink": true
       },
       "data": [
        {
         "hole": 0.3,
         "labels": [
          "Heterosexual",
          "Bisexual",
          "Homosexual",
          "Other",
          "Asexual"
         ],
         "marker": {
          "colors": [
           "rgba(255, 153, 51, 1.0)",
           "rgba(55, 128, 191, 1.0)",
           "rgba(50, 171, 96, 1.0)",
           "rgba(128, 0, 128, 1.0)",
           "rgba(219, 64, 82, 1.0)"
          ]
         },
         "name": "",
         "type": "pie",
         "values": [
          685,
          139,
          49,
          41,
          38
         ]
        }
       ],
       "layout": {
        "legend": {
         "bgcolor": "#FFFFFF",
         "font": {
          "color": "#4D5663"
         }
        },
        "paper_bgcolor": "#FFFFFF",
        "plot_bgcolor": "#FFFFFF",
        "title": "Sexual orientation (N=952)",
        "titlefont": {
         "color": "#4D5663"
        }
       }
      },
      "text/html": [
       "<div>                            <div id=\"2d1f3df5-a979-435f-a874-24a43d4e973d\" class=\"plotly-graph-div\" style=\"height:525px; width:100%;\"></div>            <script type=\"text/javascript\">                require([\"plotly\"], function(Plotly) {                    window.PLOTLYENV=window.PLOTLYENV || {};\n",
       "                    window.PLOTLYENV.BASE_URL='https://plot.ly';                                    if (document.getElementById(\"2d1f3df5-a979-435f-a874-24a43d4e973d\")) {                    Plotly.newPlot(                        \"2d1f3df5-a979-435f-a874-24a43d4e973d\",                        [{\"hole\":0.3,\"labels\":[\"Heterosexual\",\"Bisexual\",\"Homosexual\",\"Other\",\"Asexual\"],\"marker\":{\"colors\":[\"rgba(255, 153, 51, 1.0)\",\"rgba(55, 128, 191, 1.0)\",\"rgba(50, 171, 96, 1.0)\",\"rgba(128, 0, 128, 1.0)\",\"rgba(219, 64, 82, 1.0)\"]},\"name\":\"\",\"values\":[685,139,49,41,38],\"type\":\"pie\"}],                        {\"legend\":{\"bgcolor\":\"#FFFFFF\",\"font\":{\"color\":\"#4D5663\"}},\"paper_bgcolor\":\"#FFFFFF\",\"plot_bgcolor\":\"#FFFFFF\",\"titlefont\":{\"color\":\"#4D5663\"},\"title\":\"Sexual orientation (N=952)\"},                        {\"showLink\": true, \"linkText\": \"Export to plot.ly\", \"plotlyServerURL\": \"https://plot.ly\", \"responsive\": true}                    ).then(function(){\n",
       "                            \n",
       "var gd = document.getElementById('2d1f3df5-a979-435f-a874-24a43d4e973d');\n",
       "var x = new MutationObserver(function (mutations, observer) {{\n",
       "        var display = window.getComputedStyle(gd).display;\n",
       "        if (!display || display === 'none') {{\n",
       "            console.log([gd, 'removed!']);\n",
       "            Plotly.purge(gd);\n",
       "            observer.disconnect();\n",
       "        }}\n",
       "}});\n",
       "\n",
       "// Listen for the removal of the full notebook cells\n",
       "var notebookContainer = gd.closest('#notebook-container');\n",
       "if (notebookContainer) {{\n",
       "    x.observe(notebookContainer, {childList: true});\n",
       "}}\n",
       "\n",
       "// Listen for the clearing of the current output cell\n",
       "var outputEl = gd.closest('.output');\n",
       "if (outputEl) {{\n",
       "    x.observe(outputEl, {childList: true});\n",
       "}}\n",
       "\n",
       "                        })                };                });            </script>        </div>"
      ]
     },
     "metadata": {},
     "output_type": "display_data"
    }
   ],
   "source": [
    "total_responses = sum(gcbs_clean_df['DEMO_orientation'].value_counts())\n",
    "orientation_df = gcbs_clean_df['DEMO_orientation'].value_counts().rename_axis('DEMO_orientation').reset_index(name='counts')\n",
    "orientation_df.iplot(kind='pie', labels='DEMO_orientation', values='counts', title='Sexual orientation (N={})'.format(total_responses), hoverinfo=\"label+percent+name\", hole=0.3, theme='white')"
   ]
  },
  {
   "cell_type": "code",
   "execution_count": 45,
   "metadata": {},
   "outputs": [
    {
     "data": {
      "application/vnd.plotly.v1+json": {
       "config": {
        "linkText": "Export to plot.ly",
        "plotlyServerURL": "https://plot.ly",
        "showLink": true
       },
       "data": [
        {
         "hole": 0.3,
         "labels": [
          "White",
          "Other",
          "Asian",
          "Black",
          "Arab"
         ],
         "marker": {
          "colors": [
           "rgba(255, 153, 51, 1.0)",
           "rgba(55, 128, 191, 1.0)",
           "rgba(50, 171, 96, 1.0)",
           "rgba(128, 0, 128, 1.0)",
           "rgba(219, 64, 82, 1.0)"
          ]
         },
         "name": "",
         "type": "pie",
         "values": [
          775,
          103,
          53,
          14,
          7
         ]
        }
       ],
       "layout": {
        "legend": {
         "bgcolor": "#FFFFFF",
         "font": {
          "color": "#4D5663"
         }
        },
        "paper_bgcolor": "#FFFFFF",
        "plot_bgcolor": "#FFFFFF",
        "title": "Race (N=952)",
        "titlefont": {
         "color": "#4D5663"
        }
       }
      },
      "text/html": [
       "<div>                            <div id=\"9f759fe4-1be1-4df3-9d87-45decf8b349d\" class=\"plotly-graph-div\" style=\"height:525px; width:100%;\"></div>            <script type=\"text/javascript\">                require([\"plotly\"], function(Plotly) {                    window.PLOTLYENV=window.PLOTLYENV || {};\n",
       "                    window.PLOTLYENV.BASE_URL='https://plot.ly';                                    if (document.getElementById(\"9f759fe4-1be1-4df3-9d87-45decf8b349d\")) {                    Plotly.newPlot(                        \"9f759fe4-1be1-4df3-9d87-45decf8b349d\",                        [{\"hole\":0.3,\"labels\":[\"White\",\"Other\",\"Asian\",\"Black\",\"Arab\"],\"marker\":{\"colors\":[\"rgba(255, 153, 51, 1.0)\",\"rgba(55, 128, 191, 1.0)\",\"rgba(50, 171, 96, 1.0)\",\"rgba(128, 0, 128, 1.0)\",\"rgba(219, 64, 82, 1.0)\"]},\"name\":\"\",\"values\":[775,103,53,14,7],\"type\":\"pie\"}],                        {\"legend\":{\"bgcolor\":\"#FFFFFF\",\"font\":{\"color\":\"#4D5663\"}},\"paper_bgcolor\":\"#FFFFFF\",\"plot_bgcolor\":\"#FFFFFF\",\"titlefont\":{\"color\":\"#4D5663\"},\"title\":\"Race (N=952)\"},                        {\"showLink\": true, \"linkText\": \"Export to plot.ly\", \"plotlyServerURL\": \"https://plot.ly\", \"responsive\": true}                    ).then(function(){\n",
       "                            \n",
       "var gd = document.getElementById('9f759fe4-1be1-4df3-9d87-45decf8b349d');\n",
       "var x = new MutationObserver(function (mutations, observer) {{\n",
       "        var display = window.getComputedStyle(gd).display;\n",
       "        if (!display || display === 'none') {{\n",
       "            console.log([gd, 'removed!']);\n",
       "            Plotly.purge(gd);\n",
       "            observer.disconnect();\n",
       "        }}\n",
       "}});\n",
       "\n",
       "// Listen for the removal of the full notebook cells\n",
       "var notebookContainer = gd.closest('#notebook-container');\n",
       "if (notebookContainer) {{\n",
       "    x.observe(notebookContainer, {childList: true});\n",
       "}}\n",
       "\n",
       "// Listen for the clearing of the current output cell\n",
       "var outputEl = gd.closest('.output');\n",
       "if (outputEl) {{\n",
       "    x.observe(outputEl, {childList: true});\n",
       "}}\n",
       "\n",
       "                        })                };                });            </script>        </div>"
      ]
     },
     "metadata": {},
     "output_type": "display_data"
    }
   ],
   "source": [
    "total_responses = sum(gcbs_clean_df['DEMO_race'].value_counts())\n",
    "race_df = gcbs_clean_df['DEMO_race'].value_counts().rename_axis('DEMO_race').reset_index(name='counts')\n",
    "race_df.iplot(kind='pie', labels='DEMO_race', values='counts', title='Race (N={})'.format(total_responses), hoverinfo=\"label+percent+name\", hole=0.3, theme='white')"
   ]
  },
  {
   "cell_type": "code",
   "execution_count": 46,
   "metadata": {},
   "outputs": [
    {
     "data": {
      "application/vnd.plotly.v1+json": {
       "config": {
        "linkText": "Export to plot.ly",
        "plotlyServerURL": "https://plot.ly",
        "showLink": true
       },
       "data": [
        {
         "hole": 0.3,
         "labels": [
          "No",
          "Yes"
         ],
         "marker": {
          "colors": [
           "rgba(255, 153, 51, 1.0)",
           "rgba(55, 128, 191, 1.0)"
          ]
         },
         "name": "",
         "type": "pie",
         "values": [
          568,
          383
         ]
        }
       ],
       "layout": {
        "legend": {
         "bgcolor": "#FFFFFF",
         "font": {
          "color": "#4D5663"
         }
        },
        "paper_bgcolor": "#FFFFFF",
        "plot_bgcolor": "#FFFFFF",
        "title": "Voted (N=951)",
        "titlefont": {
         "color": "#4D5663"
        }
       }
      },
      "text/html": [
       "<div>                            <div id=\"d35810ba-a899-454b-873b-f764a3ed2846\" class=\"plotly-graph-div\" style=\"height:525px; width:100%;\"></div>            <script type=\"text/javascript\">                require([\"plotly\"], function(Plotly) {                    window.PLOTLYENV=window.PLOTLYENV || {};\n",
       "                    window.PLOTLYENV.BASE_URL='https://plot.ly';                                    if (document.getElementById(\"d35810ba-a899-454b-873b-f764a3ed2846\")) {                    Plotly.newPlot(                        \"d35810ba-a899-454b-873b-f764a3ed2846\",                        [{\"hole\":0.3,\"labels\":[\"No\",\"Yes\"],\"marker\":{\"colors\":[\"rgba(255, 153, 51, 1.0)\",\"rgba(55, 128, 191, 1.0)\"]},\"name\":\"\",\"values\":[568,383],\"type\":\"pie\"}],                        {\"legend\":{\"bgcolor\":\"#FFFFFF\",\"font\":{\"color\":\"#4D5663\"}},\"paper_bgcolor\":\"#FFFFFF\",\"plot_bgcolor\":\"#FFFFFF\",\"titlefont\":{\"color\":\"#4D5663\"},\"title\":\"Voted (N=951)\"},                        {\"showLink\": true, \"linkText\": \"Export to plot.ly\", \"plotlyServerURL\": \"https://plot.ly\", \"responsive\": true}                    ).then(function(){\n",
       "                            \n",
       "var gd = document.getElementById('d35810ba-a899-454b-873b-f764a3ed2846');\n",
       "var x = new MutationObserver(function (mutations, observer) {{\n",
       "        var display = window.getComputedStyle(gd).display;\n",
       "        if (!display || display === 'none') {{\n",
       "            console.log([gd, 'removed!']);\n",
       "            Plotly.purge(gd);\n",
       "            observer.disconnect();\n",
       "        }}\n",
       "}});\n",
       "\n",
       "// Listen for the removal of the full notebook cells\n",
       "var notebookContainer = gd.closest('#notebook-container');\n",
       "if (notebookContainer) {{\n",
       "    x.observe(notebookContainer, {childList: true});\n",
       "}}\n",
       "\n",
       "// Listen for the clearing of the current output cell\n",
       "var outputEl = gd.closest('.output');\n",
       "if (outputEl) {{\n",
       "    x.observe(outputEl, {childList: true});\n",
       "}}\n",
       "\n",
       "                        })                };                });            </script>        </div>"
      ]
     },
     "metadata": {},
     "output_type": "display_data"
    }
   ],
   "source": [
    "total_responses = sum(gcbs_clean_df['DEMO_voted'].value_counts())\n",
    "vote_df = gcbs_clean_df['DEMO_voted'].value_counts().rename_axis('DEMO_voted').reset_index(name='counts')\n",
    "vote_df.iplot(kind='pie', labels='DEMO_voted', values='counts', title='Voted (N={})'.format(total_responses), hoverinfo=\"label+percent+name\", hole=0.3, theme='white')"
   ]
  },
  {
   "cell_type": "code",
   "execution_count": 47,
   "metadata": {},
   "outputs": [
    {
     "data": {
      "application/vnd.plotly.v1+json": {
       "config": {
        "linkText": "Export to plot.ly",
        "plotlyServerURL": "https://plot.ly",
        "showLink": true
       },
       "data": [
        {
         "hole": 0.3,
         "labels": [
          "Never married",
          "Currently married",
          "Previously married"
         ],
         "marker": {
          "colors": [
           "rgba(255, 153, 51, 1.0)",
           "rgba(55, 128, 191, 1.0)",
           "rgba(50, 171, 96, 1.0)"
          ]
         },
         "name": "",
         "type": "pie",
         "values": [
          678,
          213,
          67
         ]
        }
       ],
       "layout": {
        "legend": {
         "bgcolor": "#FFFFFF",
         "font": {
          "color": "#4D5663"
         }
        },
        "paper_bgcolor": "#FFFFFF",
        "plot_bgcolor": "#FFFFFF",
        "title": "Married (N=958)",
        "titlefont": {
         "color": "#4D5663"
        }
       }
      },
      "text/html": [
       "<div>                            <div id=\"8cc473e2-6c2b-44a9-960f-a986c30dbaee\" class=\"plotly-graph-div\" style=\"height:525px; width:100%;\"></div>            <script type=\"text/javascript\">                require([\"plotly\"], function(Plotly) {                    window.PLOTLYENV=window.PLOTLYENV || {};\n",
       "                    window.PLOTLYENV.BASE_URL='https://plot.ly';                                    if (document.getElementById(\"8cc473e2-6c2b-44a9-960f-a986c30dbaee\")) {                    Plotly.newPlot(                        \"8cc473e2-6c2b-44a9-960f-a986c30dbaee\",                        [{\"hole\":0.3,\"labels\":[\"Never married\",\"Currently married\",\"Previously married\"],\"marker\":{\"colors\":[\"rgba(255, 153, 51, 1.0)\",\"rgba(55, 128, 191, 1.0)\",\"rgba(50, 171, 96, 1.0)\"]},\"name\":\"\",\"values\":[678,213,67],\"type\":\"pie\"}],                        {\"legend\":{\"bgcolor\":\"#FFFFFF\",\"font\":{\"color\":\"#4D5663\"}},\"paper_bgcolor\":\"#FFFFFF\",\"plot_bgcolor\":\"#FFFFFF\",\"titlefont\":{\"color\":\"#4D5663\"},\"title\":\"Married (N=958)\"},                        {\"showLink\": true, \"linkText\": \"Export to plot.ly\", \"plotlyServerURL\": \"https://plot.ly\", \"responsive\": true}                    ).then(function(){\n",
       "                            \n",
       "var gd = document.getElementById('8cc473e2-6c2b-44a9-960f-a986c30dbaee');\n",
       "var x = new MutationObserver(function (mutations, observer) {{\n",
       "        var display = window.getComputedStyle(gd).display;\n",
       "        if (!display || display === 'none') {{\n",
       "            console.log([gd, 'removed!']);\n",
       "            Plotly.purge(gd);\n",
       "            observer.disconnect();\n",
       "        }}\n",
       "}});\n",
       "\n",
       "// Listen for the removal of the full notebook cells\n",
       "var notebookContainer = gd.closest('#notebook-container');\n",
       "if (notebookContainer) {{\n",
       "    x.observe(notebookContainer, {childList: true});\n",
       "}}\n",
       "\n",
       "// Listen for the clearing of the current output cell\n",
       "var outputEl = gd.closest('.output');\n",
       "if (outputEl) {{\n",
       "    x.observe(outputEl, {childList: true});\n",
       "}}\n",
       "\n",
       "                        })                };                });            </script>        </div>"
      ]
     },
     "metadata": {},
     "output_type": "display_data"
    }
   ],
   "source": [
    "total_responses = sum(gcbs_clean_df['DEMO_married'].value_counts())\n",
    "married_df = gcbs_clean_df['DEMO_married'].value_counts().rename_axis('DEMO_married').reset_index(name='counts')\n",
    "married_df.iplot(kind='pie', labels='DEMO_married', values='counts', title='Married (N={})'.format(total_responses), hoverinfo=\"label+percent+name\", hole=0.3, theme='white')"
   ]
  },
  {
   "cell_type": "code",
   "execution_count": 48,
   "metadata": {},
   "outputs": [
    {
     "data": {
      "application/vnd.plotly.v1+json": {
       "config": {
        "linkText": "Export to plot.ly",
        "plotlyServerURL": "https://plot.ly",
        "showLink": true
       },
       "data": [
        {
         "hole": 0.3,
         "labels": [
          "Literature, Language, and Social Science",
          "Science and Math",
          "Business",
          "Arts",
          "Environment",
          "More than one major (different field)"
         ],
         "marker": {
          "colors": [
           "rgba(255, 153, 51, 1.0)",
           "rgba(55, 128, 191, 1.0)",
           "rgba(50, 171, 96, 1.0)",
           "rgba(128, 0, 128, 1.0)",
           "rgba(219, 64, 82, 1.0)",
           "rgba(0, 128, 128, 1.0)"
          ]
         },
         "name": "",
         "type": "pie",
         "values": [
          190,
          150,
          37,
          29,
          28,
          11
         ]
        }
       ],
       "layout": {
        "legend": {
         "bgcolor": "#FFFFFF",
         "font": {
          "color": "#4D5663"
         }
        },
        "paper_bgcolor": "#FFFFFF",
        "plot_bgcolor": "#FFFFFF",
        "title": "Major (N=445)",
        "titlefont": {
         "color": "#4D5663"
        }
       }
      },
      "text/html": [
       "<div>                            <div id=\"6230add6-d001-47c5-a75f-0a7a856ad650\" class=\"plotly-graph-div\" style=\"height:525px; width:100%;\"></div>            <script type=\"text/javascript\">                require([\"plotly\"], function(Plotly) {                    window.PLOTLYENV=window.PLOTLYENV || {};\n",
       "                    window.PLOTLYENV.BASE_URL='https://plot.ly';                                    if (document.getElementById(\"6230add6-d001-47c5-a75f-0a7a856ad650\")) {                    Plotly.newPlot(                        \"6230add6-d001-47c5-a75f-0a7a856ad650\",                        [{\"hole\":0.3,\"labels\":[\"Literature, Language, and Social Science\",\"Science and Math\",\"Business\",\"Arts\",\"Environment\",\"More than one major (different field)\"],\"marker\":{\"colors\":[\"rgba(255, 153, 51, 1.0)\",\"rgba(55, 128, 191, 1.0)\",\"rgba(50, 171, 96, 1.0)\",\"rgba(128, 0, 128, 1.0)\",\"rgba(219, 64, 82, 1.0)\",\"rgba(0, 128, 128, 1.0)\"]},\"name\":\"\",\"values\":[190,150,37,29,28,11],\"type\":\"pie\"}],                        {\"legend\":{\"bgcolor\":\"#FFFFFF\",\"font\":{\"color\":\"#4D5663\"}},\"paper_bgcolor\":\"#FFFFFF\",\"plot_bgcolor\":\"#FFFFFF\",\"titlefont\":{\"color\":\"#4D5663\"},\"title\":\"Major (N=445)\"},                        {\"showLink\": true, \"linkText\": \"Export to plot.ly\", \"plotlyServerURL\": \"https://plot.ly\", \"responsive\": true}                    ).then(function(){\n",
       "                            \n",
       "var gd = document.getElementById('6230add6-d001-47c5-a75f-0a7a856ad650');\n",
       "var x = new MutationObserver(function (mutations, observer) {{\n",
       "        var display = window.getComputedStyle(gd).display;\n",
       "        if (!display || display === 'none') {{\n",
       "            console.log([gd, 'removed!']);\n",
       "            Plotly.purge(gd);\n",
       "            observer.disconnect();\n",
       "        }}\n",
       "}});\n",
       "\n",
       "// Listen for the removal of the full notebook cells\n",
       "var notebookContainer = gd.closest('#notebook-container');\n",
       "if (notebookContainer) {{\n",
       "    x.observe(notebookContainer, {childList: true});\n",
       "}}\n",
       "\n",
       "// Listen for the clearing of the current output cell\n",
       "var outputEl = gd.closest('.output');\n",
       "if (outputEl) {{\n",
       "    x.observe(outputEl, {childList: true});\n",
       "}}\n",
       "\n",
       "                        })                };                });            </script>        </div>"
      ]
     },
     "metadata": {},
     "output_type": "display_data"
    }
   ],
   "source": [
    "total_responses = sum(gcbs_clean_df['DEMO_major_cluster'].value_counts())\n",
    "major_df = gcbs_clean_df['DEMO_major_cluster'].value_counts().rename_axis('DEMO_major_cluster').reset_index(name='counts')\n",
    "major_df.iplot(kind='pie', labels='DEMO_major_cluster', values='counts', title='Major (N={})'.format(total_responses), hoverinfo=\"label+percent+name\", hole=0.3, theme='white')"
   ]
  },
  {
   "cell_type": "markdown",
   "metadata": {
    "id": "7jsUwoJCK8-3"
   },
   "source": [
    "### Univariate analysis\n",
    "\n",
    "***Research questions:***\n",
    "* *Are beliefs in conspiracy theories normally distributed among the sample?*\n",
    "* *What is the strongest conspiracy theory among Government Malfeasance, Extraterrestrial Cover-up, Malevolent Global Conspiracies, Personal Wellbeing, and Control of Information?*"
   ]
  },
  {
   "cell_type": "code",
   "execution_count": 49,
   "metadata": {},
   "outputs": [
    {
     "data": {
      "application/vnd.plotly.v1+json": {
       "config": {
        "linkText": "Export to plot.ly",
        "plotlyServerURL": "https://plot.ly",
        "showLink": true
       },
       "data": [
        {
         "histfunc": "count",
         "histnorm": "",
         "marker": {
          "color": "rgba(12, 128, 128, 1.0)",
          "line": {
           "color": "#4D5663",
           "width": 1.3
          }
         },
         "name": "GCBS_Overall",
         "opacity": 0.75,
         "orientation": "v",
         "type": "histogram",
         "x": [
          68,
          59,
          66,
          57,
          42,
          19,
          26,
          49,
          47,
          72,
          29,
          36,
          58,
          43,
          46,
          40,
          30,
          27,
          56,
          26,
          29,
          45,
          45,
          65,
          74,
          34,
          26,
          54,
          26,
          66,
          54,
          37,
          53,
          27,
          40,
          43,
          26,
          34,
          38,
          37,
          21,
          19,
          47,
          52,
          27,
          62,
          40,
          33,
          40,
          50,
          62,
          27,
          63,
          51,
          50,
          64,
          59,
          32,
          27,
          54,
          70,
          19,
          39,
          41,
          27,
          68,
          66,
          54,
          44,
          27,
          36,
          55,
          34,
          41,
          46,
          50,
          43,
          53,
          51,
          59,
          45,
          41,
          34,
          27,
          70,
          25,
          20,
          31,
          32,
          46,
          41,
          56,
          34,
          43,
          35,
          48,
          20,
          63,
          59,
          66,
          53,
          57,
          35,
          33,
          44,
          64,
          42,
          60,
          55,
          61,
          55,
          41,
          33,
          43,
          55,
          34,
          59,
          56,
          26,
          17,
          59,
          26,
          63,
          53,
          62,
          43,
          64,
          37,
          32,
          26,
          39,
          53,
          56,
          38,
          43,
          31,
          50,
          52,
          39,
          50,
          41,
          33,
          31,
          73,
          28,
          38,
          42,
          54,
          46,
          49,
          33,
          37,
          60,
          22,
          48,
          44,
          19,
          37,
          43,
          42,
          46,
          58,
          52,
          33,
          48,
          19,
          56,
          44,
          44,
          56,
          25,
          21,
          35,
          47,
          48,
          73,
          69,
          57,
          46,
          21,
          44,
          37,
          32,
          51,
          19,
          43,
          56,
          71,
          33,
          18,
          48,
          49,
          40,
          42,
          46,
          55,
          37,
          50,
          50,
          46,
          16,
          45,
          51,
          39,
          28,
          42,
          31,
          53,
          47,
          32,
          39,
          57,
          65,
          51,
          49,
          53,
          50,
          26,
          29,
          60,
          23,
          36,
          17,
          38,
          36,
          32,
          64,
          32,
          56,
          49,
          23,
          51,
          67,
          30,
          41,
          51,
          24,
          70,
          22,
          59,
          49,
          55,
          62,
          71,
          60,
          41,
          61,
          50,
          72,
          65,
          74,
          69,
          63,
          67,
          71,
          68,
          65,
          58,
          53,
          68,
          60,
          61,
          58,
          57,
          73,
          66,
          47,
          61,
          71,
          70,
          58,
          64,
          49,
          47,
          18,
          63,
          24,
          58,
          29,
          63,
          32,
          49,
          36,
          68,
          52,
          49,
          35,
          67,
          48,
          64,
          43,
          52,
          61,
          38,
          28,
          25,
          71,
          73,
          35,
          33,
          47,
          59,
          50,
          49,
          44,
          48,
          73,
          71,
          58,
          55,
          52,
          60,
          47,
          23,
          50,
          21,
          48,
          59,
          52,
          42,
          25,
          39,
          52,
          30,
          68,
          50,
          67,
          54,
          56,
          31,
          30,
          61,
          54,
          24,
          47,
          74,
          64,
          65,
          17,
          28,
          46,
          36,
          18,
          28,
          65,
          59,
          49,
          51,
          72,
          49,
          37,
          56,
          37,
          55,
          44,
          49,
          31,
          43,
          36,
          65,
          18,
          34,
          34,
          40,
          20,
          31,
          30,
          36,
          56,
          20,
          34,
          39,
          69,
          62,
          39,
          51,
          52,
          63,
          50,
          56,
          26,
          38,
          36,
          42,
          35,
          29,
          63,
          40,
          32,
          42,
          35,
          53,
          19,
          30,
          32,
          55,
          47,
          31,
          47,
          19,
          27,
          50,
          63,
          54,
          47,
          35,
          67,
          42,
          19,
          23,
          48,
          65,
          68,
          37,
          65,
          40,
          45,
          20,
          66,
          25,
          25,
          65,
          60,
          45,
          19,
          16,
          42,
          69,
          32,
          43,
          44,
          26,
          67,
          52,
          28,
          53,
          20,
          36,
          39,
          40,
          73,
          34,
          31,
          66,
          49,
          36,
          53,
          36,
          41,
          72,
          39,
          74,
          60,
          61,
          58,
          55,
          47,
          26,
          64,
          60,
          67,
          40,
          47,
          50,
          32,
          51,
          26,
          65,
          35,
          27,
          26,
          39,
          25,
          48,
          25,
          30,
          35,
          32,
          22,
          28,
          45,
          17,
          67,
          45,
          23,
          33,
          28,
          29,
          36,
          27,
          32,
          39,
          26,
          30,
          69,
          24,
          46,
          33,
          62,
          61,
          34,
          44,
          21,
          25,
          35,
          57,
          27,
          64,
          27,
          48,
          69,
          41,
          39,
          33,
          25,
          47,
          46,
          71,
          69,
          69,
          55,
          39,
          47,
          60,
          67,
          48,
          48,
          47,
          51,
          53,
          51,
          20,
          48,
          45,
          54,
          58,
          35,
          46,
          46,
          37,
          46,
          51,
          56,
          35,
          56,
          40,
          39,
          22,
          66,
          25,
          39,
          43,
          38,
          65,
          29,
          68,
          45,
          27,
          42,
          24,
          40,
          42,
          42,
          38,
          25,
          58,
          21,
          42,
          33,
          46,
          20,
          64,
          46,
          27,
          46,
          60,
          33,
          45,
          27,
          37,
          36,
          57,
          59,
          28,
          69,
          33,
          37,
          30,
          51,
          43,
          27,
          42,
          51,
          48,
          20,
          51,
          43,
          45,
          28,
          73,
          52,
          65,
          21,
          29,
          43,
          61,
          32,
          48,
          74,
          52,
          36,
          31,
          62,
          25,
          20,
          44,
          33,
          36,
          26,
          53,
          45,
          70,
          37,
          48,
          30,
          68,
          51,
          31,
          27,
          60,
          21,
          45,
          50,
          47,
          64,
          39,
          72,
          20,
          26,
          47,
          30,
          31,
          40,
          48,
          41,
          44,
          19,
          73,
          44,
          33,
          55,
          61,
          68,
          60,
          28,
          43,
          39,
          71,
          62,
          49,
          40,
          48,
          52,
          25,
          28,
          66,
          50,
          20,
          24,
          26,
          34,
          47,
          52,
          37,
          52,
          33,
          59,
          73,
          25,
          29,
          67,
          40,
          34,
          47,
          48,
          56,
          53,
          34,
          46,
          52,
          43,
          34,
          71,
          46,
          36,
          62,
          49,
          56,
          46,
          27,
          24,
          52,
          45,
          48,
          57,
          48,
          45,
          45,
          35,
          52,
          43,
          48,
          23,
          47,
          17,
          55,
          23,
          69,
          53,
          28,
          59,
          27,
          46,
          37,
          35,
          38,
          43,
          39,
          52,
          26,
          57,
          53,
          16,
          60,
          40,
          53,
          40,
          31,
          65,
          27,
          59,
          43,
          29,
          27,
          40,
          26,
          35,
          30,
          26,
          31,
          34,
          21,
          53,
          49,
          60,
          30,
          28,
          45,
          19,
          55,
          31,
          36,
          54,
          53,
          28,
          20,
          57,
          45,
          52,
          46,
          51,
          60,
          53,
          56,
          34,
          50,
          37,
          73,
          27,
          29,
          61,
          49,
          29,
          32,
          59,
          51,
          51,
          71,
          23,
          35,
          41,
          29,
          23,
          41,
          30,
          41,
          21,
          42,
          44,
          34,
          58,
          29,
          21,
          41,
          42,
          22,
          43,
          37,
          45,
          61,
          43,
          52,
          49,
          56,
          21,
          64,
          59,
          31,
          52,
          64,
          34,
          36,
          48,
          59,
          45,
          62,
          43,
          22,
          47,
          50,
          30,
          69,
          38,
          26,
          73,
          61,
          47,
          68,
          66,
          65,
          62,
          25,
          62,
          41,
          41,
          47,
          42,
          63,
          30,
          26,
          44,
          38,
          41,
          49,
          57,
          56,
          40,
          35,
          58,
          39,
          37,
          57,
          52,
          53,
          32,
          41,
          54,
          43,
          54,
          23,
          50,
          70,
          38,
          33,
          36,
          44,
          36,
          37,
          33,
          35,
          45,
          23,
          20,
          41,
          61,
          40,
          39,
          53,
          63,
          25,
          62,
          64,
          27,
          24,
          53,
          36,
          26,
          54,
          56,
          37,
          34,
          40,
          44,
          47,
          41,
          24,
          47,
          64,
          24,
          45,
          59,
          41,
          56,
          43,
          32,
          49,
          44,
          24,
          33,
          49,
          36,
          65,
          58,
          41,
          33,
          40,
          48,
          61,
          33,
          29,
          42,
          44,
          68,
          61,
          25,
          25,
          37,
          27,
          19,
          41,
          35,
          38,
          45,
          31,
          22,
          44,
          53,
          45,
          61,
          26,
          56,
          30,
          45,
          43,
          30,
          41,
          54,
          57,
          70,
          48,
          39,
          57
         ]
        }
       ],
       "layout": {
        "barmode": "overlay",
        "legend": {
         "bgcolor": "#FFFFFF",
         "font": {
          "color": "#4D5663"
         }
        },
        "paper_bgcolor": "#FFFFFF",
        "plot_bgcolor": "#FFFFFF",
        "template": {
         "data": {
          "bar": [
           {
            "error_x": {
             "color": "#2a3f5f"
            },
            "error_y": {
             "color": "#2a3f5f"
            },
            "marker": {
             "line": {
              "color": "#E5ECF6",
              "width": 0.5
             },
             "pattern": {
              "fillmode": "overlay",
              "size": 10,
              "solidity": 0.2
             }
            },
            "type": "bar"
           }
          ],
          "barpolar": [
           {
            "marker": {
             "line": {
              "color": "#E5ECF6",
              "width": 0.5
             },
             "pattern": {
              "fillmode": "overlay",
              "size": 10,
              "solidity": 0.2
             }
            },
            "type": "barpolar"
           }
          ],
          "carpet": [
           {
            "aaxis": {
             "endlinecolor": "#2a3f5f",
             "gridcolor": "white",
             "linecolor": "white",
             "minorgridcolor": "white",
             "startlinecolor": "#2a3f5f"
            },
            "baxis": {
             "endlinecolor": "#2a3f5f",
             "gridcolor": "white",
             "linecolor": "white",
             "minorgridcolor": "white",
             "startlinecolor": "#2a3f5f"
            },
            "type": "carpet"
           }
          ],
          "choropleth": [
           {
            "colorbar": {
             "outlinewidth": 0,
             "ticks": ""
            },
            "type": "choropleth"
           }
          ],
          "contour": [
           {
            "colorbar": {
             "outlinewidth": 0,
             "ticks": ""
            },
            "colorscale": [
             [
              0,
              "#0d0887"
             ],
             [
              0.1111111111111111,
              "#46039f"
             ],
             [
              0.2222222222222222,
              "#7201a8"
             ],
             [
              0.3333333333333333,
              "#9c179e"
             ],
             [
              0.4444444444444444,
              "#bd3786"
             ],
             [
              0.5555555555555556,
              "#d8576b"
             ],
             [
              0.6666666666666666,
              "#ed7953"
             ],
             [
              0.7777777777777778,
              "#fb9f3a"
             ],
             [
              0.8888888888888888,
              "#fdca26"
             ],
             [
              1,
              "#f0f921"
             ]
            ],
            "type": "contour"
           }
          ],
          "contourcarpet": [
           {
            "colorbar": {
             "outlinewidth": 0,
             "ticks": ""
            },
            "type": "contourcarpet"
           }
          ],
          "heatmap": [
           {
            "colorbar": {
             "outlinewidth": 0,
             "ticks": ""
            },
            "colorscale": [
             [
              0,
              "#0d0887"
             ],
             [
              0.1111111111111111,
              "#46039f"
             ],
             [
              0.2222222222222222,
              "#7201a8"
             ],
             [
              0.3333333333333333,
              "#9c179e"
             ],
             [
              0.4444444444444444,
              "#bd3786"
             ],
             [
              0.5555555555555556,
              "#d8576b"
             ],
             [
              0.6666666666666666,
              "#ed7953"
             ],
             [
              0.7777777777777778,
              "#fb9f3a"
             ],
             [
              0.8888888888888888,
              "#fdca26"
             ],
             [
              1,
              "#f0f921"
             ]
            ],
            "type": "heatmap"
           }
          ],
          "heatmapgl": [
           {
            "colorbar": {
             "outlinewidth": 0,
             "ticks": ""
            },
            "colorscale": [
             [
              0,
              "#0d0887"
             ],
             [
              0.1111111111111111,
              "#46039f"
             ],
             [
              0.2222222222222222,
              "#7201a8"
             ],
             [
              0.3333333333333333,
              "#9c179e"
             ],
             [
              0.4444444444444444,
              "#bd3786"
             ],
             [
              0.5555555555555556,
              "#d8576b"
             ],
             [
              0.6666666666666666,
              "#ed7953"
             ],
             [
              0.7777777777777778,
              "#fb9f3a"
             ],
             [
              0.8888888888888888,
              "#fdca26"
             ],
             [
              1,
              "#f0f921"
             ]
            ],
            "type": "heatmapgl"
           }
          ],
          "histogram": [
           {
            "marker": {
             "pattern": {
              "fillmode": "overlay",
              "size": 10,
              "solidity": 0.2
             }
            },
            "type": "histogram"
           }
          ],
          "histogram2d": [
           {
            "colorbar": {
             "outlinewidth": 0,
             "ticks": ""
            },
            "colorscale": [
             [
              0,
              "#0d0887"
             ],
             [
              0.1111111111111111,
              "#46039f"
             ],
             [
              0.2222222222222222,
              "#7201a8"
             ],
             [
              0.3333333333333333,
              "#9c179e"
             ],
             [
              0.4444444444444444,
              "#bd3786"
             ],
             [
              0.5555555555555556,
              "#d8576b"
             ],
             [
              0.6666666666666666,
              "#ed7953"
             ],
             [
              0.7777777777777778,
              "#fb9f3a"
             ],
             [
              0.8888888888888888,
              "#fdca26"
             ],
             [
              1,
              "#f0f921"
             ]
            ],
            "type": "histogram2d"
           }
          ],
          "histogram2dcontour": [
           {
            "colorbar": {
             "outlinewidth": 0,
             "ticks": ""
            },
            "colorscale": [
             [
              0,
              "#0d0887"
             ],
             [
              0.1111111111111111,
              "#46039f"
             ],
             [
              0.2222222222222222,
              "#7201a8"
             ],
             [
              0.3333333333333333,
              "#9c179e"
             ],
             [
              0.4444444444444444,
              "#bd3786"
             ],
             [
              0.5555555555555556,
              "#d8576b"
             ],
             [
              0.6666666666666666,
              "#ed7953"
             ],
             [
              0.7777777777777778,
              "#fb9f3a"
             ],
             [
              0.8888888888888888,
              "#fdca26"
             ],
             [
              1,
              "#f0f921"
             ]
            ],
            "type": "histogram2dcontour"
           }
          ],
          "mesh3d": [
           {
            "colorbar": {
             "outlinewidth": 0,
             "ticks": ""
            },
            "type": "mesh3d"
           }
          ],
          "parcoords": [
           {
            "line": {
             "colorbar": {
              "outlinewidth": 0,
              "ticks": ""
             }
            },
            "type": "parcoords"
           }
          ],
          "pie": [
           {
            "automargin": true,
            "type": "pie"
           }
          ],
          "scatter": [
           {
            "marker": {
             "colorbar": {
              "outlinewidth": 0,
              "ticks": ""
             }
            },
            "type": "scatter"
           }
          ],
          "scatter3d": [
           {
            "line": {
             "colorbar": {
              "outlinewidth": 0,
              "ticks": ""
             }
            },
            "marker": {
             "colorbar": {
              "outlinewidth": 0,
              "ticks": ""
             }
            },
            "type": "scatter3d"
           }
          ],
          "scattercarpet": [
           {
            "marker": {
             "colorbar": {
              "outlinewidth": 0,
              "ticks": ""
             }
            },
            "type": "scattercarpet"
           }
          ],
          "scattergeo": [
           {
            "marker": {
             "colorbar": {
              "outlinewidth": 0,
              "ticks": ""
             }
            },
            "type": "scattergeo"
           }
          ],
          "scattergl": [
           {
            "marker": {
             "colorbar": {
              "outlinewidth": 0,
              "ticks": ""
             }
            },
            "type": "scattergl"
           }
          ],
          "scattermapbox": [
           {
            "marker": {
             "colorbar": {
              "outlinewidth": 0,
              "ticks": ""
             }
            },
            "type": "scattermapbox"
           }
          ],
          "scatterpolar": [
           {
            "marker": {
             "colorbar": {
              "outlinewidth": 0,
              "ticks": ""
             }
            },
            "type": "scatterpolar"
           }
          ],
          "scatterpolargl": [
           {
            "marker": {
             "colorbar": {
              "outlinewidth": 0,
              "ticks": ""
             }
            },
            "type": "scatterpolargl"
           }
          ],
          "scatterternary": [
           {
            "marker": {
             "colorbar": {
              "outlinewidth": 0,
              "ticks": ""
             }
            },
            "type": "scatterternary"
           }
          ],
          "surface": [
           {
            "colorbar": {
             "outlinewidth": 0,
             "ticks": ""
            },
            "colorscale": [
             [
              0,
              "#0d0887"
             ],
             [
              0.1111111111111111,
              "#46039f"
             ],
             [
              0.2222222222222222,
              "#7201a8"
             ],
             [
              0.3333333333333333,
              "#9c179e"
             ],
             [
              0.4444444444444444,
              "#bd3786"
             ],
             [
              0.5555555555555556,
              "#d8576b"
             ],
             [
              0.6666666666666666,
              "#ed7953"
             ],
             [
              0.7777777777777778,
              "#fb9f3a"
             ],
             [
              0.8888888888888888,
              "#fdca26"
             ],
             [
              1,
              "#f0f921"
             ]
            ],
            "type": "surface"
           }
          ],
          "table": [
           {
            "cells": {
             "fill": {
              "color": "#EBF0F8"
             },
             "line": {
              "color": "white"
             }
            },
            "header": {
             "fill": {
              "color": "#C8D4E3"
             },
             "line": {
              "color": "white"
             }
            },
            "type": "table"
           }
          ]
         },
         "layout": {
          "annotationdefaults": {
           "arrowcolor": "#2a3f5f",
           "arrowhead": 0,
           "arrowwidth": 1
          },
          "autotypenumbers": "strict",
          "coloraxis": {
           "colorbar": {
            "outlinewidth": 0,
            "ticks": ""
           }
          },
          "colorscale": {
           "diverging": [
            [
             0,
             "#8e0152"
            ],
            [
             0.1,
             "#c51b7d"
            ],
            [
             0.2,
             "#de77ae"
            ],
            [
             0.3,
             "#f1b6da"
            ],
            [
             0.4,
             "#fde0ef"
            ],
            [
             0.5,
             "#f7f7f7"
            ],
            [
             0.6,
             "#e6f5d0"
            ],
            [
             0.7,
             "#b8e186"
            ],
            [
             0.8,
             "#7fbc41"
            ],
            [
             0.9,
             "#4d9221"
            ],
            [
             1,
             "#276419"
            ]
           ],
           "sequential": [
            [
             0,
             "#0d0887"
            ],
            [
             0.1111111111111111,
             "#46039f"
            ],
            [
             0.2222222222222222,
             "#7201a8"
            ],
            [
             0.3333333333333333,
             "#9c179e"
            ],
            [
             0.4444444444444444,
             "#bd3786"
            ],
            [
             0.5555555555555556,
             "#d8576b"
            ],
            [
             0.6666666666666666,
             "#ed7953"
            ],
            [
             0.7777777777777778,
             "#fb9f3a"
            ],
            [
             0.8888888888888888,
             "#fdca26"
            ],
            [
             1,
             "#f0f921"
            ]
           ],
           "sequentialminus": [
            [
             0,
             "#0d0887"
            ],
            [
             0.1111111111111111,
             "#46039f"
            ],
            [
             0.2222222222222222,
             "#7201a8"
            ],
            [
             0.3333333333333333,
             "#9c179e"
            ],
            [
             0.4444444444444444,
             "#bd3786"
            ],
            [
             0.5555555555555556,
             "#d8576b"
            ],
            [
             0.6666666666666666,
             "#ed7953"
            ],
            [
             0.7777777777777778,
             "#fb9f3a"
            ],
            [
             0.8888888888888888,
             "#fdca26"
            ],
            [
             1,
             "#f0f921"
            ]
           ]
          },
          "colorway": [
           "#636efa",
           "#EF553B",
           "#00cc96",
           "#ab63fa",
           "#FFA15A",
           "#19d3f3",
           "#FF6692",
           "#B6E880",
           "#FF97FF",
           "#FECB52"
          ],
          "font": {
           "color": "#2a3f5f"
          },
          "geo": {
           "bgcolor": "white",
           "lakecolor": "white",
           "landcolor": "#E5ECF6",
           "showlakes": true,
           "showland": true,
           "subunitcolor": "white"
          },
          "hoverlabel": {
           "align": "left"
          },
          "hovermode": "closest",
          "mapbox": {
           "style": "light"
          },
          "paper_bgcolor": "white",
          "plot_bgcolor": "#E5ECF6",
          "polar": {
           "angularaxis": {
            "gridcolor": "white",
            "linecolor": "white",
            "ticks": ""
           },
           "bgcolor": "#E5ECF6",
           "radialaxis": {
            "gridcolor": "white",
            "linecolor": "white",
            "ticks": ""
           }
          },
          "scene": {
           "xaxis": {
            "backgroundcolor": "#E5ECF6",
            "gridcolor": "white",
            "gridwidth": 2,
            "linecolor": "white",
            "showbackground": true,
            "ticks": "",
            "zerolinecolor": "white"
           },
           "yaxis": {
            "backgroundcolor": "#E5ECF6",
            "gridcolor": "white",
            "gridwidth": 2,
            "linecolor": "white",
            "showbackground": true,
            "ticks": "",
            "zerolinecolor": "white"
           },
           "zaxis": {
            "backgroundcolor": "#E5ECF6",
            "gridcolor": "white",
            "gridwidth": 2,
            "linecolor": "white",
            "showbackground": true,
            "ticks": "",
            "zerolinecolor": "white"
           }
          },
          "shapedefaults": {
           "line": {
            "color": "#2a3f5f"
           }
          },
          "ternary": {
           "aaxis": {
            "gridcolor": "white",
            "linecolor": "white",
            "ticks": ""
           },
           "baxis": {
            "gridcolor": "white",
            "linecolor": "white",
            "ticks": ""
           },
           "bgcolor": "#E5ECF6",
           "caxis": {
            "gridcolor": "white",
            "linecolor": "white",
            "ticks": ""
           }
          },
          "title": {
           "x": 0.05
          },
          "xaxis": {
           "automargin": true,
           "gridcolor": "white",
           "linecolor": "white",
           "ticks": "",
           "title": {
            "standoff": 15
           },
           "zerolinecolor": "white",
           "zerolinewidth": 2
          },
          "yaxis": {
           "automargin": true,
           "gridcolor": "white",
           "linecolor": "white",
           "ticks": "",
           "title": {
            "standoff": 15
           },
           "zerolinecolor": "white",
           "zerolinewidth": 2
          }
         }
        },
        "title": {
         "font": {
          "color": "#4D5663"
         },
         "text": "Generic Conspiracist Beliefs Scale Distribution"
        },
        "xaxis": {
         "gridcolor": "#E1E5ED",
         "showgrid": true,
         "tickfont": {
          "color": "#4D5663"
         },
         "title": {
          "font": {
           "color": "#4D5663"
          },
          "text": "GCBS score (overall)"
         },
         "zerolinecolor": "#E1E5ED"
        },
        "yaxis": {
         "gridcolor": "#E1E5ED",
         "showgrid": true,
         "tickfont": {
          "color": "#4D5663"
         },
         "title": {
          "font": {
           "color": "#4D5663"
          },
          "text": "Count"
         },
         "zerolinecolor": "#E1E5ED"
        }
       }
      },
      "text/html": [
       "<div>                            <div id=\"c9b27d2f-9160-4734-a987-da18f5cec70f\" class=\"plotly-graph-div\" style=\"height:525px; width:100%;\"></div>            <script type=\"text/javascript\">                require([\"plotly\"], function(Plotly) {                    window.PLOTLYENV=window.PLOTLYENV || {};\n",
       "                    window.PLOTLYENV.BASE_URL='https://plot.ly';                                    if (document.getElementById(\"c9b27d2f-9160-4734-a987-da18f5cec70f\")) {                    Plotly.newPlot(                        \"c9b27d2f-9160-4734-a987-da18f5cec70f\",                        [{\"histfunc\":\"count\",\"histnorm\":\"\",\"marker\":{\"color\":\"rgba(12, 128, 128, 1.0)\",\"line\":{\"color\":\"#4D5663\",\"width\":1.3}},\"name\":\"GCBS_Overall\",\"opacity\":0.75,\"orientation\":\"v\",\"x\":[68,59,66,57,42,19,26,49,47,72,29,36,58,43,46,40,30,27,56,26,29,45,45,65,74,34,26,54,26,66,54,37,53,27,40,43,26,34,38,37,21,19,47,52,27,62,40,33,40,50,62,27,63,51,50,64,59,32,27,54,70,19,39,41,27,68,66,54,44,27,36,55,34,41,46,50,43,53,51,59,45,41,34,27,70,25,20,31,32,46,41,56,34,43,35,48,20,63,59,66,53,57,35,33,44,64,42,60,55,61,55,41,33,43,55,34,59,56,26,17,59,26,63,53,62,43,64,37,32,26,39,53,56,38,43,31,50,52,39,50,41,33,31,73,28,38,42,54,46,49,33,37,60,22,48,44,19,37,43,42,46,58,52,33,48,19,56,44,44,56,25,21,35,47,48,73,69,57,46,21,44,37,32,51,19,43,56,71,33,18,48,49,40,42,46,55,37,50,50,46,16,45,51,39,28,42,31,53,47,32,39,57,65,51,49,53,50,26,29,60,23,36,17,38,36,32,64,32,56,49,23,51,67,30,41,51,24,70,22,59,49,55,62,71,60,41,61,50,72,65,74,69,63,67,71,68,65,58,53,68,60,61,58,57,73,66,47,61,71,70,58,64,49,47,18,63,24,58,29,63,32,49,36,68,52,49,35,67,48,64,43,52,61,38,28,25,71,73,35,33,47,59,50,49,44,48,73,71,58,55,52,60,47,23,50,21,48,59,52,42,25,39,52,30,68,50,67,54,56,31,30,61,54,24,47,74,64,65,17,28,46,36,18,28,65,59,49,51,72,49,37,56,37,55,44,49,31,43,36,65,18,34,34,40,20,31,30,36,56,20,34,39,69,62,39,51,52,63,50,56,26,38,36,42,35,29,63,40,32,42,35,53,19,30,32,55,47,31,47,19,27,50,63,54,47,35,67,42,19,23,48,65,68,37,65,40,45,20,66,25,25,65,60,45,19,16,42,69,32,43,44,26,67,52,28,53,20,36,39,40,73,34,31,66,49,36,53,36,41,72,39,74,60,61,58,55,47,26,64,60,67,40,47,50,32,51,26,65,35,27,26,39,25,48,25,30,35,32,22,28,45,17,67,45,23,33,28,29,36,27,32,39,26,30,69,24,46,33,62,61,34,44,21,25,35,57,27,64,27,48,69,41,39,33,25,47,46,71,69,69,55,39,47,60,67,48,48,47,51,53,51,20,48,45,54,58,35,46,46,37,46,51,56,35,56,40,39,22,66,25,39,43,38,65,29,68,45,27,42,24,40,42,42,38,25,58,21,42,33,46,20,64,46,27,46,60,33,45,27,37,36,57,59,28,69,33,37,30,51,43,27,42,51,48,20,51,43,45,28,73,52,65,21,29,43,61,32,48,74,52,36,31,62,25,20,44,33,36,26,53,45,70,37,48,30,68,51,31,27,60,21,45,50,47,64,39,72,20,26,47,30,31,40,48,41,44,19,73,44,33,55,61,68,60,28,43,39,71,62,49,40,48,52,25,28,66,50,20,24,26,34,47,52,37,52,33,59,73,25,29,67,40,34,47,48,56,53,34,46,52,43,34,71,46,36,62,49,56,46,27,24,52,45,48,57,48,45,45,35,52,43,48,23,47,17,55,23,69,53,28,59,27,46,37,35,38,43,39,52,26,57,53,16,60,40,53,40,31,65,27,59,43,29,27,40,26,35,30,26,31,34,21,53,49,60,30,28,45,19,55,31,36,54,53,28,20,57,45,52,46,51,60,53,56,34,50,37,73,27,29,61,49,29,32,59,51,51,71,23,35,41,29,23,41,30,41,21,42,44,34,58,29,21,41,42,22,43,37,45,61,43,52,49,56,21,64,59,31,52,64,34,36,48,59,45,62,43,22,47,50,30,69,38,26,73,61,47,68,66,65,62,25,62,41,41,47,42,63,30,26,44,38,41,49,57,56,40,35,58,39,37,57,52,53,32,41,54,43,54,23,50,70,38,33,36,44,36,37,33,35,45,23,20,41,61,40,39,53,63,25,62,64,27,24,53,36,26,54,56,37,34,40,44,47,41,24,47,64,24,45,59,41,56,43,32,49,44,24,33,49,36,65,58,41,33,40,48,61,33,29,42,44,68,61,25,25,37,27,19,41,35,38,45,31,22,44,53,45,61,26,56,30,45,43,30,41,54,57,70,48,39,57],\"type\":\"histogram\"}],                        {\"barmode\":\"overlay\",\"legend\":{\"bgcolor\":\"#FFFFFF\",\"font\":{\"color\":\"#4D5663\"}},\"paper_bgcolor\":\"#FFFFFF\",\"plot_bgcolor\":\"#FFFFFF\",\"template\":{\"data\":{\"barpolar\":[{\"marker\":{\"line\":{\"color\":\"#E5ECF6\",\"width\":0.5},\"pattern\":{\"fillmode\":\"overlay\",\"size\":10,\"solidity\":0.2}},\"type\":\"barpolar\"}],\"bar\":[{\"error_x\":{\"color\":\"#2a3f5f\"},\"error_y\":{\"color\":\"#2a3f5f\"},\"marker\":{\"line\":{\"color\":\"#E5ECF6\",\"width\":0.5},\"pattern\":{\"fillmode\":\"overlay\",\"size\":10,\"solidity\":0.2}},\"type\":\"bar\"}],\"carpet\":[{\"aaxis\":{\"endlinecolor\":\"#2a3f5f\",\"gridcolor\":\"white\",\"linecolor\":\"white\",\"minorgridcolor\":\"white\",\"startlinecolor\":\"#2a3f5f\"},\"baxis\":{\"endlinecolor\":\"#2a3f5f\",\"gridcolor\":\"white\",\"linecolor\":\"white\",\"minorgridcolor\":\"white\",\"startlinecolor\":\"#2a3f5f\"},\"type\":\"carpet\"}],\"choropleth\":[{\"colorbar\":{\"outlinewidth\":0,\"ticks\":\"\"},\"type\":\"choropleth\"}],\"contourcarpet\":[{\"colorbar\":{\"outlinewidth\":0,\"ticks\":\"\"},\"type\":\"contourcarpet\"}],\"contour\":[{\"colorbar\":{\"outlinewidth\":0,\"ticks\":\"\"},\"colorscale\":[[0.0,\"#0d0887\"],[0.1111111111111111,\"#46039f\"],[0.2222222222222222,\"#7201a8\"],[0.3333333333333333,\"#9c179e\"],[0.4444444444444444,\"#bd3786\"],[0.5555555555555556,\"#d8576b\"],[0.6666666666666666,\"#ed7953\"],[0.7777777777777778,\"#fb9f3a\"],[0.8888888888888888,\"#fdca26\"],[1.0,\"#f0f921\"]],\"type\":\"contour\"}],\"heatmapgl\":[{\"colorbar\":{\"outlinewidth\":0,\"ticks\":\"\"},\"colorscale\":[[0.0,\"#0d0887\"],[0.1111111111111111,\"#46039f\"],[0.2222222222222222,\"#7201a8\"],[0.3333333333333333,\"#9c179e\"],[0.4444444444444444,\"#bd3786\"],[0.5555555555555556,\"#d8576b\"],[0.6666666666666666,\"#ed7953\"],[0.7777777777777778,\"#fb9f3a\"],[0.8888888888888888,\"#fdca26\"],[1.0,\"#f0f921\"]],\"type\":\"heatmapgl\"}],\"heatmap\":[{\"colorbar\":{\"outlinewidth\":0,\"ticks\":\"\"},\"colorscale\":[[0.0,\"#0d0887\"],[0.1111111111111111,\"#46039f\"],[0.2222222222222222,\"#7201a8\"],[0.3333333333333333,\"#9c179e\"],[0.4444444444444444,\"#bd3786\"],[0.5555555555555556,\"#d8576b\"],[0.6666666666666666,\"#ed7953\"],[0.7777777777777778,\"#fb9f3a\"],[0.8888888888888888,\"#fdca26\"],[1.0,\"#f0f921\"]],\"type\":\"heatmap\"}],\"histogram2dcontour\":[{\"colorbar\":{\"outlinewidth\":0,\"ticks\":\"\"},\"colorscale\":[[0.0,\"#0d0887\"],[0.1111111111111111,\"#46039f\"],[0.2222222222222222,\"#7201a8\"],[0.3333333333333333,\"#9c179e\"],[0.4444444444444444,\"#bd3786\"],[0.5555555555555556,\"#d8576b\"],[0.6666666666666666,\"#ed7953\"],[0.7777777777777778,\"#fb9f3a\"],[0.8888888888888888,\"#fdca26\"],[1.0,\"#f0f921\"]],\"type\":\"histogram2dcontour\"}],\"histogram2d\":[{\"colorbar\":{\"outlinewidth\":0,\"ticks\":\"\"},\"colorscale\":[[0.0,\"#0d0887\"],[0.1111111111111111,\"#46039f\"],[0.2222222222222222,\"#7201a8\"],[0.3333333333333333,\"#9c179e\"],[0.4444444444444444,\"#bd3786\"],[0.5555555555555556,\"#d8576b\"],[0.6666666666666666,\"#ed7953\"],[0.7777777777777778,\"#fb9f3a\"],[0.8888888888888888,\"#fdca26\"],[1.0,\"#f0f921\"]],\"type\":\"histogram2d\"}],\"histogram\":[{\"marker\":{\"pattern\":{\"fillmode\":\"overlay\",\"size\":10,\"solidity\":0.2}},\"type\":\"histogram\"}],\"mesh3d\":[{\"colorbar\":{\"outlinewidth\":0,\"ticks\":\"\"},\"type\":\"mesh3d\"}],\"parcoords\":[{\"line\":{\"colorbar\":{\"outlinewidth\":0,\"ticks\":\"\"}},\"type\":\"parcoords\"}],\"pie\":[{\"automargin\":true,\"type\":\"pie\"}],\"scatter3d\":[{\"line\":{\"colorbar\":{\"outlinewidth\":0,\"ticks\":\"\"}},\"marker\":{\"colorbar\":{\"outlinewidth\":0,\"ticks\":\"\"}},\"type\":\"scatter3d\"}],\"scattercarpet\":[{\"marker\":{\"colorbar\":{\"outlinewidth\":0,\"ticks\":\"\"}},\"type\":\"scattercarpet\"}],\"scattergeo\":[{\"marker\":{\"colorbar\":{\"outlinewidth\":0,\"ticks\":\"\"}},\"type\":\"scattergeo\"}],\"scattergl\":[{\"marker\":{\"colorbar\":{\"outlinewidth\":0,\"ticks\":\"\"}},\"type\":\"scattergl\"}],\"scattermapbox\":[{\"marker\":{\"colorbar\":{\"outlinewidth\":0,\"ticks\":\"\"}},\"type\":\"scattermapbox\"}],\"scatterpolargl\":[{\"marker\":{\"colorbar\":{\"outlinewidth\":0,\"ticks\":\"\"}},\"type\":\"scatterpolargl\"}],\"scatterpolar\":[{\"marker\":{\"colorbar\":{\"outlinewidth\":0,\"ticks\":\"\"}},\"type\":\"scatterpolar\"}],\"scatter\":[{\"marker\":{\"colorbar\":{\"outlinewidth\":0,\"ticks\":\"\"}},\"type\":\"scatter\"}],\"scatterternary\":[{\"marker\":{\"colorbar\":{\"outlinewidth\":0,\"ticks\":\"\"}},\"type\":\"scatterternary\"}],\"surface\":[{\"colorbar\":{\"outlinewidth\":0,\"ticks\":\"\"},\"colorscale\":[[0.0,\"#0d0887\"],[0.1111111111111111,\"#46039f\"],[0.2222222222222222,\"#7201a8\"],[0.3333333333333333,\"#9c179e\"],[0.4444444444444444,\"#bd3786\"],[0.5555555555555556,\"#d8576b\"],[0.6666666666666666,\"#ed7953\"],[0.7777777777777778,\"#fb9f3a\"],[0.8888888888888888,\"#fdca26\"],[1.0,\"#f0f921\"]],\"type\":\"surface\"}],\"table\":[{\"cells\":{\"fill\":{\"color\":\"#EBF0F8\"},\"line\":{\"color\":\"white\"}},\"header\":{\"fill\":{\"color\":\"#C8D4E3\"},\"line\":{\"color\":\"white\"}},\"type\":\"table\"}]},\"layout\":{\"annotationdefaults\":{\"arrowcolor\":\"#2a3f5f\",\"arrowhead\":0,\"arrowwidth\":1},\"autotypenumbers\":\"strict\",\"coloraxis\":{\"colorbar\":{\"outlinewidth\":0,\"ticks\":\"\"}},\"colorscale\":{\"diverging\":[[0,\"#8e0152\"],[0.1,\"#c51b7d\"],[0.2,\"#de77ae\"],[0.3,\"#f1b6da\"],[0.4,\"#fde0ef\"],[0.5,\"#f7f7f7\"],[0.6,\"#e6f5d0\"],[0.7,\"#b8e186\"],[0.8,\"#7fbc41\"],[0.9,\"#4d9221\"],[1,\"#276419\"]],\"sequential\":[[0.0,\"#0d0887\"],[0.1111111111111111,\"#46039f\"],[0.2222222222222222,\"#7201a8\"],[0.3333333333333333,\"#9c179e\"],[0.4444444444444444,\"#bd3786\"],[0.5555555555555556,\"#d8576b\"],[0.6666666666666666,\"#ed7953\"],[0.7777777777777778,\"#fb9f3a\"],[0.8888888888888888,\"#fdca26\"],[1.0,\"#f0f921\"]],\"sequentialminus\":[[0.0,\"#0d0887\"],[0.1111111111111111,\"#46039f\"],[0.2222222222222222,\"#7201a8\"],[0.3333333333333333,\"#9c179e\"],[0.4444444444444444,\"#bd3786\"],[0.5555555555555556,\"#d8576b\"],[0.6666666666666666,\"#ed7953\"],[0.7777777777777778,\"#fb9f3a\"],[0.8888888888888888,\"#fdca26\"],[1.0,\"#f0f921\"]]},\"colorway\":[\"#636efa\",\"#EF553B\",\"#00cc96\",\"#ab63fa\",\"#FFA15A\",\"#19d3f3\",\"#FF6692\",\"#B6E880\",\"#FF97FF\",\"#FECB52\"],\"font\":{\"color\":\"#2a3f5f\"},\"geo\":{\"bgcolor\":\"white\",\"lakecolor\":\"white\",\"landcolor\":\"#E5ECF6\",\"showlakes\":true,\"showland\":true,\"subunitcolor\":\"white\"},\"hoverlabel\":{\"align\":\"left\"},\"hovermode\":\"closest\",\"mapbox\":{\"style\":\"light\"},\"paper_bgcolor\":\"white\",\"plot_bgcolor\":\"#E5ECF6\",\"polar\":{\"angularaxis\":{\"gridcolor\":\"white\",\"linecolor\":\"white\",\"ticks\":\"\"},\"bgcolor\":\"#E5ECF6\",\"radialaxis\":{\"gridcolor\":\"white\",\"linecolor\":\"white\",\"ticks\":\"\"}},\"scene\":{\"xaxis\":{\"backgroundcolor\":\"#E5ECF6\",\"gridcolor\":\"white\",\"gridwidth\":2,\"linecolor\":\"white\",\"showbackground\":true,\"ticks\":\"\",\"zerolinecolor\":\"white\"},\"yaxis\":{\"backgroundcolor\":\"#E5ECF6\",\"gridcolor\":\"white\",\"gridwidth\":2,\"linecolor\":\"white\",\"showbackground\":true,\"ticks\":\"\",\"zerolinecolor\":\"white\"},\"zaxis\":{\"backgroundcolor\":\"#E5ECF6\",\"gridcolor\":\"white\",\"gridwidth\":2,\"linecolor\":\"white\",\"showbackground\":true,\"ticks\":\"\",\"zerolinecolor\":\"white\"}},\"shapedefaults\":{\"line\":{\"color\":\"#2a3f5f\"}},\"ternary\":{\"aaxis\":{\"gridcolor\":\"white\",\"linecolor\":\"white\",\"ticks\":\"\"},\"baxis\":{\"gridcolor\":\"white\",\"linecolor\":\"white\",\"ticks\":\"\"},\"bgcolor\":\"#E5ECF6\",\"caxis\":{\"gridcolor\":\"white\",\"linecolor\":\"white\",\"ticks\":\"\"}},\"title\":{\"x\":0.05},\"xaxis\":{\"automargin\":true,\"gridcolor\":\"white\",\"linecolor\":\"white\",\"ticks\":\"\",\"title\":{\"standoff\":15},\"zerolinecolor\":\"white\",\"zerolinewidth\":2},\"yaxis\":{\"automargin\":true,\"gridcolor\":\"white\",\"linecolor\":\"white\",\"ticks\":\"\",\"title\":{\"standoff\":15},\"zerolinecolor\":\"white\",\"zerolinewidth\":2}}},\"title\":{\"font\":{\"color\":\"#4D5663\"},\"text\":\"Generic Conspiracist Beliefs Scale Distribution\"},\"xaxis\":{\"gridcolor\":\"#E1E5ED\",\"showgrid\":true,\"tickfont\":{\"color\":\"#4D5663\"},\"title\":{\"font\":{\"color\":\"#4D5663\"},\"text\":\"GCBS score (overall)\"},\"zerolinecolor\":\"#E1E5ED\"},\"yaxis\":{\"gridcolor\":\"#E1E5ED\",\"showgrid\":true,\"tickfont\":{\"color\":\"#4D5663\"},\"title\":{\"font\":{\"color\":\"#4D5663\"},\"text\":\"Count\"},\"zerolinecolor\":\"#E1E5ED\"}},                        {\"showLink\": true, \"linkText\": \"Export to plot.ly\", \"plotlyServerURL\": \"https://plot.ly\", \"responsive\": true}                    ).then(function(){\n",
       "                            \n",
       "var gd = document.getElementById('c9b27d2f-9160-4734-a987-da18f5cec70f');\n",
       "var x = new MutationObserver(function (mutations, observer) {{\n",
       "        var display = window.getComputedStyle(gd).display;\n",
       "        if (!display || display === 'none') {{\n",
       "            console.log([gd, 'removed!']);\n",
       "            Plotly.purge(gd);\n",
       "            observer.disconnect();\n",
       "        }}\n",
       "}});\n",
       "\n",
       "// Listen for the removal of the full notebook cells\n",
       "var notebookContainer = gd.closest('#notebook-container');\n",
       "if (notebookContainer) {{\n",
       "    x.observe(notebookContainer, {childList: true});\n",
       "}}\n",
       "\n",
       "// Listen for the clearing of the current output cell\n",
       "var outputEl = gd.closest('.output');\n",
       "if (outputEl) {{\n",
       "    x.observe(outputEl, {childList: true});\n",
       "}}\n",
       "\n",
       "                        })                };                });            </script>        </div>"
      ]
     },
     "metadata": {},
     "output_type": "display_data"
    }
   ],
   "source": [
    "gcbs_clean_df['GCBS_Overall'].iplot(kind='hist', opacity=0.75, color='rgb(12, 128, 128)', title='Generic Conspiracist Beliefs Scale Distribution'.format(total_responses), yTitle='Count', xTitle='GCBS score (overall)', bargap = 0, theme='white')"
   ]
  },
  {
   "cell_type": "code",
   "execution_count": 50,
   "metadata": {},
   "outputs": [
    {
     "data": {
      "application/vnd.plotly.v1+json": {
       "config": {
        "linkText": "Export to plot.ly",
        "plotlyServerURL": "https://plot.ly",
        "showLink": true
       },
       "data": [
        {
         "histfunc": "count",
         "histnorm": "",
         "marker": {
          "color": "rgba(12, 128, 128, 1.0)",
          "line": {
           "color": "#4D5663",
           "width": 1.3
          }
         },
         "name": "GCBS_Government_Malfeasance",
         "opacity": 0.75,
         "orientation": "v",
         "type": "histogram",
         "x": [
          15,
          15,
          15,
          14,
          10,
          5,
          7,
          12,
          11,
          15,
          10,
          12,
          15,
          10,
          11,
          6,
          6,
          8,
          11,
          5,
          4,
          11,
          7,
          15,
          15,
          8,
          8,
          9,
          6,
          15,
          14,
          11,
          9,
          11,
          10,
          11,
          8,
          8,
          4,
          9,
          3,
          3,
          13,
          13,
          8,
          14,
          6,
          11,
          8,
          15,
          14,
          6,
          13,
          10,
          13,
          13,
          12,
          8,
          7,
          14,
          15,
          3,
          10,
          13,
          7,
          15,
          15,
          14,
          9,
          6,
          10,
          12,
          8,
          9,
          13,
          11,
          10,
          15,
          13,
          15,
          10,
          7,
          8,
          6,
          15,
          5,
          5,
          8,
          11,
          12,
          9,
          11,
          8,
          12,
          11,
          14,
          3,
          15,
          13,
          15,
          14,
          9,
          11,
          8,
          11,
          13,
          7,
          13,
          13,
          15,
          11,
          10,
          8,
          6,
          13,
          8,
          13,
          13,
          7,
          4,
          12,
          6,
          13,
          15,
          14,
          15,
          15,
          10,
          8,
          11,
          12,
          14,
          13,
          12,
          10,
          8,
          13,
          13,
          5,
          12,
          8,
          10,
          6,
          15,
          5,
          10,
          11,
          15,
          10,
          12,
          9,
          7,
          12,
          4,
          7,
          11,
          4,
          8,
          9,
          11,
          13,
          14,
          9,
          10,
          12,
          3,
          14,
          11,
          11,
          9,
          9,
          9,
          7,
          13,
          9,
          13,
          15,
          14,
          15,
          3,
          13,
          10,
          9,
          12,
          3,
          11,
          12,
          14,
          7,
          3,
          8,
          12,
          11,
          9,
          13,
          12,
          9,
          12,
          8,
          12,
          3,
          12,
          12,
          10,
          8,
          10,
          8,
          8,
          12,
          6,
          8,
          13,
          15,
          11,
          13,
          12,
          8,
          4,
          5,
          13,
          4,
          10,
          5,
          8,
          15,
          9,
          13,
          7,
          15,
          15,
          5,
          10,
          13,
          5,
          12,
          13,
          3,
          15,
          5,
          15,
          10,
          12,
          14,
          15,
          11,
          11,
          12,
          9,
          15,
          15,
          15,
          15,
          15,
          15,
          15,
          15,
          10,
          12,
          13,
          15,
          12,
          13,
          11,
          9,
          15,
          15,
          11,
          14,
          15,
          15,
          12,
          13,
          11,
          12,
          3,
          12,
          6,
          14,
          5,
          14,
          7,
          11,
          14,
          13,
          11,
          11,
          10,
          15,
          10,
          14,
          8,
          13,
          15,
          11,
          6,
          3,
          15,
          15,
          6,
          6,
          10,
          15,
          10,
          10,
          10,
          12,
          15,
          15,
          14,
          14,
          8,
          12,
          10,
          5,
          14,
          6,
          11,
          15,
          11,
          11,
          7,
          9,
          11,
          10,
          15,
          12,
          15,
          11,
          13,
          10,
          8,
          15,
          14,
          3,
          6,
          15,
          15,
          14,
          3,
          6,
          10,
          10,
          5,
          9,
          15,
          14,
          13,
          11,
          15,
          11,
          8,
          11,
          8,
          15,
          9,
          9,
          10,
          11,
          9,
          15,
          3,
          12,
          10,
          11,
          6,
          6,
          8,
          12,
          9,
          4,
          10,
          11,
          14,
          15,
          8,
          15,
          11,
          12,
          10,
          11,
          8,
          9,
          11,
          11,
          12,
          10,
          11,
          4,
          10,
          9,
          8,
          10,
          5,
          6,
          6,
          12,
          12,
          10,
          7,
          4,
          3,
          12,
          14,
          14,
          13,
          10,
          15,
          7,
          3,
          4,
          12,
          14,
          15,
          10,
          14,
          7,
          8,
          4,
          15,
          3,
          5,
          13,
          12,
          14,
          4,
          3,
          12,
          14,
          10,
          10,
          12,
          6,
          14,
          8,
          9,
          10,
          3,
          6,
          11,
          13,
          15,
          6,
          6,
          15,
          10,
          7,
          13,
          11,
          13,
          14,
          11,
          15,
          15,
          12,
          14,
          13,
          9,
          4,
          14,
          11,
          15,
          5,
          14,
          14,
          10,
          10,
          8,
          15,
          9,
          4,
          8,
          4,
          6,
          12,
          9,
          9,
          7,
          5,
          4,
          4,
          8,
          3,
          15,
          11,
          6,
          8,
          6,
          6,
          8,
          7,
          8,
          11,
          4,
          3,
          15,
          5,
          8,
          12,
          14,
          13,
          6,
          10,
          3,
          5,
          10,
          12,
          7,
          14,
          7,
          9,
          15,
          11,
          7,
          9,
          7,
          11,
          14,
          15,
          15,
          15,
          11,
          10,
          9,
          13,
          15,
          12,
          13,
          14,
          8,
          10,
          11,
          4,
          10,
          12,
          11,
          12,
          9,
          11,
          9,
          11,
          11,
          12,
          14,
          12,
          11,
          11,
          10,
          5,
          15,
          5,
          9,
          11,
          11,
          15,
          9,
          14,
          13,
          6,
          9,
          3,
          6,
          8,
          7,
          12,
          5,
          14,
          5,
          10,
          10,
          13,
          4,
          15,
          8,
          8,
          9,
          14,
          5,
          8,
          5,
          9,
          8,
          12,
          11,
          5,
          15,
          5,
          12,
          7,
          11,
          8,
          11,
          7,
          12,
          12,
          3,
          13,
          3,
          9,
          5,
          15,
          13,
          13,
          5,
          11,
          12,
          11,
          9,
          11,
          15,
          10,
          10,
          10,
          12,
          3,
          3,
          9,
          8,
          10,
          3,
          13,
          14,
          15,
          12,
          9,
          9,
          15,
          10,
          11,
          7,
          14,
          5,
          9,
          11,
          9,
          12,
          10,
          14,
          3,
          11,
          11,
          9,
          12,
          15,
          9,
          10,
          12,
          3,
          15,
          8,
          8,
          11,
          13,
          14,
          14,
          4,
          8,
          8,
          14,
          15,
          9,
          10,
          13,
          11,
          6,
          5,
          15,
          12,
          6,
          3,
          7,
          11,
          14,
          11,
          10,
          14,
          7,
          15,
          15,
          6,
          9,
          13,
          11,
          8,
          12,
          10,
          15,
          10,
          12,
          11,
          12,
          12,
          7,
          15,
          13,
          10,
          13,
          12,
          13,
          10,
          5,
          3,
          14,
          8,
          7,
          13,
          10,
          11,
          9,
          9,
          13,
          9,
          13,
          6,
          11,
          3,
          13,
          4,
          15,
          13,
          10,
          11,
          8,
          12,
          9,
          10,
          10,
          12,
          5,
          15,
          6,
          14,
          15,
          3,
          12,
          8,
          12,
          6,
          8,
          15,
          7,
          11,
          12,
          9,
          6,
          8,
          5,
          8,
          7,
          7,
          9,
          7,
          4,
          10,
          11,
          11,
          6,
          6,
          8,
          5,
          7,
          5,
          8,
          15,
          14,
          6,
          7,
          13,
          12,
          13,
          12,
          15,
          13,
          12,
          15,
          11,
          14,
          13,
          15,
          5,
          9,
          13,
          12,
          8,
          7,
          11,
          11,
          11,
          15,
          6,
          6,
          13,
          6,
          3,
          12,
          10,
          10,
          4,
          8,
          8,
          9,
          11,
          4,
          3,
          11,
          8,
          3,
          11,
          7,
          12,
          15,
          11,
          12,
          14,
          13,
          3,
          14,
          14,
          9,
          15,
          13,
          8,
          11,
          9,
          15,
          14,
          14,
          10,
          7,
          12,
          12,
          6,
          15,
          8,
          5,
          15,
          15,
          13,
          15,
          15,
          14,
          15,
          3,
          12,
          8,
          9,
          10,
          12,
          15,
          9,
          8,
          12,
          14,
          12,
          13,
          14,
          10,
          11,
          13,
          11,
          9,
          6,
          14,
          12,
          15,
          4,
          7,
          12,
          10,
          13,
          4,
          12,
          15,
          11,
          10,
          6,
          6,
          10,
          10,
          7,
          8,
          11,
          7,
          3,
          8,
          15,
          9,
          5,
          13,
          14,
          6,
          11,
          13,
          7,
          8,
          14,
          8,
          3,
          13,
          15,
          8,
          8,
          7,
          13,
          12,
          9,
          8,
          11,
          15,
          4,
          8,
          15,
          6,
          14,
          8,
          7,
          13,
          10,
          5,
          5,
          13,
          11,
          15,
          15,
          9,
          7,
          6,
          13,
          13,
          9,
          5,
          9,
          10,
          15,
          10,
          6,
          6,
          11,
          8,
          3,
          8,
          9,
          6,
          10,
          7,
          4,
          9,
          13,
          9,
          14,
          3,
          15,
          8,
          13,
          9,
          7,
          10,
          11,
          12,
          14,
          9,
          12,
          11
         ]
        }
       ],
       "layout": {
        "barmode": "overlay",
        "legend": {
         "bgcolor": "#FFFFFF",
         "font": {
          "color": "#4D5663"
         }
        },
        "paper_bgcolor": "#FFFFFF",
        "plot_bgcolor": "#FFFFFF",
        "template": {
         "data": {
          "bar": [
           {
            "error_x": {
             "color": "#2a3f5f"
            },
            "error_y": {
             "color": "#2a3f5f"
            },
            "marker": {
             "line": {
              "color": "#E5ECF6",
              "width": 0.5
             },
             "pattern": {
              "fillmode": "overlay",
              "size": 10,
              "solidity": 0.2
             }
            },
            "type": "bar"
           }
          ],
          "barpolar": [
           {
            "marker": {
             "line": {
              "color": "#E5ECF6",
              "width": 0.5
             },
             "pattern": {
              "fillmode": "overlay",
              "size": 10,
              "solidity": 0.2
             }
            },
            "type": "barpolar"
           }
          ],
          "carpet": [
           {
            "aaxis": {
             "endlinecolor": "#2a3f5f",
             "gridcolor": "white",
             "linecolor": "white",
             "minorgridcolor": "white",
             "startlinecolor": "#2a3f5f"
            },
            "baxis": {
             "endlinecolor": "#2a3f5f",
             "gridcolor": "white",
             "linecolor": "white",
             "minorgridcolor": "white",
             "startlinecolor": "#2a3f5f"
            },
            "type": "carpet"
           }
          ],
          "choropleth": [
           {
            "colorbar": {
             "outlinewidth": 0,
             "ticks": ""
            },
            "type": "choropleth"
           }
          ],
          "contour": [
           {
            "colorbar": {
             "outlinewidth": 0,
             "ticks": ""
            },
            "colorscale": [
             [
              0,
              "#0d0887"
             ],
             [
              0.1111111111111111,
              "#46039f"
             ],
             [
              0.2222222222222222,
              "#7201a8"
             ],
             [
              0.3333333333333333,
              "#9c179e"
             ],
             [
              0.4444444444444444,
              "#bd3786"
             ],
             [
              0.5555555555555556,
              "#d8576b"
             ],
             [
              0.6666666666666666,
              "#ed7953"
             ],
             [
              0.7777777777777778,
              "#fb9f3a"
             ],
             [
              0.8888888888888888,
              "#fdca26"
             ],
             [
              1,
              "#f0f921"
             ]
            ],
            "type": "contour"
           }
          ],
          "contourcarpet": [
           {
            "colorbar": {
             "outlinewidth": 0,
             "ticks": ""
            },
            "type": "contourcarpet"
           }
          ],
          "heatmap": [
           {
            "colorbar": {
             "outlinewidth": 0,
             "ticks": ""
            },
            "colorscale": [
             [
              0,
              "#0d0887"
             ],
             [
              0.1111111111111111,
              "#46039f"
             ],
             [
              0.2222222222222222,
              "#7201a8"
             ],
             [
              0.3333333333333333,
              "#9c179e"
             ],
             [
              0.4444444444444444,
              "#bd3786"
             ],
             [
              0.5555555555555556,
              "#d8576b"
             ],
             [
              0.6666666666666666,
              "#ed7953"
             ],
             [
              0.7777777777777778,
              "#fb9f3a"
             ],
             [
              0.8888888888888888,
              "#fdca26"
             ],
             [
              1,
              "#f0f921"
             ]
            ],
            "type": "heatmap"
           }
          ],
          "heatmapgl": [
           {
            "colorbar": {
             "outlinewidth": 0,
             "ticks": ""
            },
            "colorscale": [
             [
              0,
              "#0d0887"
             ],
             [
              0.1111111111111111,
              "#46039f"
             ],
             [
              0.2222222222222222,
              "#7201a8"
             ],
             [
              0.3333333333333333,
              "#9c179e"
             ],
             [
              0.4444444444444444,
              "#bd3786"
             ],
             [
              0.5555555555555556,
              "#d8576b"
             ],
             [
              0.6666666666666666,
              "#ed7953"
             ],
             [
              0.7777777777777778,
              "#fb9f3a"
             ],
             [
              0.8888888888888888,
              "#fdca26"
             ],
             [
              1,
              "#f0f921"
             ]
            ],
            "type": "heatmapgl"
           }
          ],
          "histogram": [
           {
            "marker": {
             "pattern": {
              "fillmode": "overlay",
              "size": 10,
              "solidity": 0.2
             }
            },
            "type": "histogram"
           }
          ],
          "histogram2d": [
           {
            "colorbar": {
             "outlinewidth": 0,
             "ticks": ""
            },
            "colorscale": [
             [
              0,
              "#0d0887"
             ],
             [
              0.1111111111111111,
              "#46039f"
             ],
             [
              0.2222222222222222,
              "#7201a8"
             ],
             [
              0.3333333333333333,
              "#9c179e"
             ],
             [
              0.4444444444444444,
              "#bd3786"
             ],
             [
              0.5555555555555556,
              "#d8576b"
             ],
             [
              0.6666666666666666,
              "#ed7953"
             ],
             [
              0.7777777777777778,
              "#fb9f3a"
             ],
             [
              0.8888888888888888,
              "#fdca26"
             ],
             [
              1,
              "#f0f921"
             ]
            ],
            "type": "histogram2d"
           }
          ],
          "histogram2dcontour": [
           {
            "colorbar": {
             "outlinewidth": 0,
             "ticks": ""
            },
            "colorscale": [
             [
              0,
              "#0d0887"
             ],
             [
              0.1111111111111111,
              "#46039f"
             ],
             [
              0.2222222222222222,
              "#7201a8"
             ],
             [
              0.3333333333333333,
              "#9c179e"
             ],
             [
              0.4444444444444444,
              "#bd3786"
             ],
             [
              0.5555555555555556,
              "#d8576b"
             ],
             [
              0.6666666666666666,
              "#ed7953"
             ],
             [
              0.7777777777777778,
              "#fb9f3a"
             ],
             [
              0.8888888888888888,
              "#fdca26"
             ],
             [
              1,
              "#f0f921"
             ]
            ],
            "type": "histogram2dcontour"
           }
          ],
          "mesh3d": [
           {
            "colorbar": {
             "outlinewidth": 0,
             "ticks": ""
            },
            "type": "mesh3d"
           }
          ],
          "parcoords": [
           {
            "line": {
             "colorbar": {
              "outlinewidth": 0,
              "ticks": ""
             }
            },
            "type": "parcoords"
           }
          ],
          "pie": [
           {
            "automargin": true,
            "type": "pie"
           }
          ],
          "scatter": [
           {
            "marker": {
             "colorbar": {
              "outlinewidth": 0,
              "ticks": ""
             }
            },
            "type": "scatter"
           }
          ],
          "scatter3d": [
           {
            "line": {
             "colorbar": {
              "outlinewidth": 0,
              "ticks": ""
             }
            },
            "marker": {
             "colorbar": {
              "outlinewidth": 0,
              "ticks": ""
             }
            },
            "type": "scatter3d"
           }
          ],
          "scattercarpet": [
           {
            "marker": {
             "colorbar": {
              "outlinewidth": 0,
              "ticks": ""
             }
            },
            "type": "scattercarpet"
           }
          ],
          "scattergeo": [
           {
            "marker": {
             "colorbar": {
              "outlinewidth": 0,
              "ticks": ""
             }
            },
            "type": "scattergeo"
           }
          ],
          "scattergl": [
           {
            "marker": {
             "colorbar": {
              "outlinewidth": 0,
              "ticks": ""
             }
            },
            "type": "scattergl"
           }
          ],
          "scattermapbox": [
           {
            "marker": {
             "colorbar": {
              "outlinewidth": 0,
              "ticks": ""
             }
            },
            "type": "scattermapbox"
           }
          ],
          "scatterpolar": [
           {
            "marker": {
             "colorbar": {
              "outlinewidth": 0,
              "ticks": ""
             }
            },
            "type": "scatterpolar"
           }
          ],
          "scatterpolargl": [
           {
            "marker": {
             "colorbar": {
              "outlinewidth": 0,
              "ticks": ""
             }
            },
            "type": "scatterpolargl"
           }
          ],
          "scatterternary": [
           {
            "marker": {
             "colorbar": {
              "outlinewidth": 0,
              "ticks": ""
             }
            },
            "type": "scatterternary"
           }
          ],
          "surface": [
           {
            "colorbar": {
             "outlinewidth": 0,
             "ticks": ""
            },
            "colorscale": [
             [
              0,
              "#0d0887"
             ],
             [
              0.1111111111111111,
              "#46039f"
             ],
             [
              0.2222222222222222,
              "#7201a8"
             ],
             [
              0.3333333333333333,
              "#9c179e"
             ],
             [
              0.4444444444444444,
              "#bd3786"
             ],
             [
              0.5555555555555556,
              "#d8576b"
             ],
             [
              0.6666666666666666,
              "#ed7953"
             ],
             [
              0.7777777777777778,
              "#fb9f3a"
             ],
             [
              0.8888888888888888,
              "#fdca26"
             ],
             [
              1,
              "#f0f921"
             ]
            ],
            "type": "surface"
           }
          ],
          "table": [
           {
            "cells": {
             "fill": {
              "color": "#EBF0F8"
             },
             "line": {
              "color": "white"
             }
            },
            "header": {
             "fill": {
              "color": "#C8D4E3"
             },
             "line": {
              "color": "white"
             }
            },
            "type": "table"
           }
          ]
         },
         "layout": {
          "annotationdefaults": {
           "arrowcolor": "#2a3f5f",
           "arrowhead": 0,
           "arrowwidth": 1
          },
          "autotypenumbers": "strict",
          "coloraxis": {
           "colorbar": {
            "outlinewidth": 0,
            "ticks": ""
           }
          },
          "colorscale": {
           "diverging": [
            [
             0,
             "#8e0152"
            ],
            [
             0.1,
             "#c51b7d"
            ],
            [
             0.2,
             "#de77ae"
            ],
            [
             0.3,
             "#f1b6da"
            ],
            [
             0.4,
             "#fde0ef"
            ],
            [
             0.5,
             "#f7f7f7"
            ],
            [
             0.6,
             "#e6f5d0"
            ],
            [
             0.7,
             "#b8e186"
            ],
            [
             0.8,
             "#7fbc41"
            ],
            [
             0.9,
             "#4d9221"
            ],
            [
             1,
             "#276419"
            ]
           ],
           "sequential": [
            [
             0,
             "#0d0887"
            ],
            [
             0.1111111111111111,
             "#46039f"
            ],
            [
             0.2222222222222222,
             "#7201a8"
            ],
            [
             0.3333333333333333,
             "#9c179e"
            ],
            [
             0.4444444444444444,
             "#bd3786"
            ],
            [
             0.5555555555555556,
             "#d8576b"
            ],
            [
             0.6666666666666666,
             "#ed7953"
            ],
            [
             0.7777777777777778,
             "#fb9f3a"
            ],
            [
             0.8888888888888888,
             "#fdca26"
            ],
            [
             1,
             "#f0f921"
            ]
           ],
           "sequentialminus": [
            [
             0,
             "#0d0887"
            ],
            [
             0.1111111111111111,
             "#46039f"
            ],
            [
             0.2222222222222222,
             "#7201a8"
            ],
            [
             0.3333333333333333,
             "#9c179e"
            ],
            [
             0.4444444444444444,
             "#bd3786"
            ],
            [
             0.5555555555555556,
             "#d8576b"
            ],
            [
             0.6666666666666666,
             "#ed7953"
            ],
            [
             0.7777777777777778,
             "#fb9f3a"
            ],
            [
             0.8888888888888888,
             "#fdca26"
            ],
            [
             1,
             "#f0f921"
            ]
           ]
          },
          "colorway": [
           "#636efa",
           "#EF553B",
           "#00cc96",
           "#ab63fa",
           "#FFA15A",
           "#19d3f3",
           "#FF6692",
           "#B6E880",
           "#FF97FF",
           "#FECB52"
          ],
          "font": {
           "color": "#2a3f5f"
          },
          "geo": {
           "bgcolor": "white",
           "lakecolor": "white",
           "landcolor": "#E5ECF6",
           "showlakes": true,
           "showland": true,
           "subunitcolor": "white"
          },
          "hoverlabel": {
           "align": "left"
          },
          "hovermode": "closest",
          "mapbox": {
           "style": "light"
          },
          "paper_bgcolor": "white",
          "plot_bgcolor": "#E5ECF6",
          "polar": {
           "angularaxis": {
            "gridcolor": "white",
            "linecolor": "white",
            "ticks": ""
           },
           "bgcolor": "#E5ECF6",
           "radialaxis": {
            "gridcolor": "white",
            "linecolor": "white",
            "ticks": ""
           }
          },
          "scene": {
           "xaxis": {
            "backgroundcolor": "#E5ECF6",
            "gridcolor": "white",
            "gridwidth": 2,
            "linecolor": "white",
            "showbackground": true,
            "ticks": "",
            "zerolinecolor": "white"
           },
           "yaxis": {
            "backgroundcolor": "#E5ECF6",
            "gridcolor": "white",
            "gridwidth": 2,
            "linecolor": "white",
            "showbackground": true,
            "ticks": "",
            "zerolinecolor": "white"
           },
           "zaxis": {
            "backgroundcolor": "#E5ECF6",
            "gridcolor": "white",
            "gridwidth": 2,
            "linecolor": "white",
            "showbackground": true,
            "ticks": "",
            "zerolinecolor": "white"
           }
          },
          "shapedefaults": {
           "line": {
            "color": "#2a3f5f"
           }
          },
          "ternary": {
           "aaxis": {
            "gridcolor": "white",
            "linecolor": "white",
            "ticks": ""
           },
           "baxis": {
            "gridcolor": "white",
            "linecolor": "white",
            "ticks": ""
           },
           "bgcolor": "#E5ECF6",
           "caxis": {
            "gridcolor": "white",
            "linecolor": "white",
            "ticks": ""
           }
          },
          "title": {
           "x": 0.05
          },
          "xaxis": {
           "automargin": true,
           "gridcolor": "white",
           "linecolor": "white",
           "ticks": "",
           "title": {
            "standoff": 15
           },
           "zerolinecolor": "white",
           "zerolinewidth": 2
          },
          "yaxis": {
           "automargin": true,
           "gridcolor": "white",
           "linecolor": "white",
           "ticks": "",
           "title": {
            "standoff": 15
           },
           "zerolinecolor": "white",
           "zerolinewidth": 2
          }
         }
        },
        "title": {
         "font": {
          "color": "#4D5663"
         },
         "text": "Government Malfeasance Subscale Distribution"
        },
        "xaxis": {
         "gridcolor": "#E1E5ED",
         "showgrid": true,
         "tickfont": {
          "color": "#4D5663"
         },
         "title": {
          "font": {
           "color": "#4D5663"
          },
          "text": "GCBS score (overall)"
         },
         "zerolinecolor": "#E1E5ED"
        },
        "yaxis": {
         "gridcolor": "#E1E5ED",
         "showgrid": true,
         "tickfont": {
          "color": "#4D5663"
         },
         "title": {
          "font": {
           "color": "#4D5663"
          },
          "text": "Count"
         },
         "zerolinecolor": "#E1E5ED"
        }
       }
      },
      "text/html": [
       "<div>                            <div id=\"3c260730-70ee-48fe-b631-ce6a297833f8\" class=\"plotly-graph-div\" style=\"height:525px; width:100%;\"></div>            <script type=\"text/javascript\">                require([\"plotly\"], function(Plotly) {                    window.PLOTLYENV=window.PLOTLYENV || {};\n",
       "                    window.PLOTLYENV.BASE_URL='https://plot.ly';                                    if (document.getElementById(\"3c260730-70ee-48fe-b631-ce6a297833f8\")) {                    Plotly.newPlot(                        \"3c260730-70ee-48fe-b631-ce6a297833f8\",                        [{\"histfunc\":\"count\",\"histnorm\":\"\",\"marker\":{\"color\":\"rgba(12, 128, 128, 1.0)\",\"line\":{\"color\":\"#4D5663\",\"width\":1.3}},\"name\":\"GCBS_Government_Malfeasance\",\"opacity\":0.75,\"orientation\":\"v\",\"x\":[15,15,15,14,10,5,7,12,11,15,10,12,15,10,11,6,6,8,11,5,4,11,7,15,15,8,8,9,6,15,14,11,9,11,10,11,8,8,4,9,3,3,13,13,8,14,6,11,8,15,14,6,13,10,13,13,12,8,7,14,15,3,10,13,7,15,15,14,9,6,10,12,8,9,13,11,10,15,13,15,10,7,8,6,15,5,5,8,11,12,9,11,8,12,11,14,3,15,13,15,14,9,11,8,11,13,7,13,13,15,11,10,8,6,13,8,13,13,7,4,12,6,13,15,14,15,15,10,8,11,12,14,13,12,10,8,13,13,5,12,8,10,6,15,5,10,11,15,10,12,9,7,12,4,7,11,4,8,9,11,13,14,9,10,12,3,14,11,11,9,9,9,7,13,9,13,15,14,15,3,13,10,9,12,3,11,12,14,7,3,8,12,11,9,13,12,9,12,8,12,3,12,12,10,8,10,8,8,12,6,8,13,15,11,13,12,8,4,5,13,4,10,5,8,15,9,13,7,15,15,5,10,13,5,12,13,3,15,5,15,10,12,14,15,11,11,12,9,15,15,15,15,15,15,15,15,10,12,13,15,12,13,11,9,15,15,11,14,15,15,12,13,11,12,3,12,6,14,5,14,7,11,14,13,11,11,10,15,10,14,8,13,15,11,6,3,15,15,6,6,10,15,10,10,10,12,15,15,14,14,8,12,10,5,14,6,11,15,11,11,7,9,11,10,15,12,15,11,13,10,8,15,14,3,6,15,15,14,3,6,10,10,5,9,15,14,13,11,15,11,8,11,8,15,9,9,10,11,9,15,3,12,10,11,6,6,8,12,9,4,10,11,14,15,8,15,11,12,10,11,8,9,11,11,12,10,11,4,10,9,8,10,5,6,6,12,12,10,7,4,3,12,14,14,13,10,15,7,3,4,12,14,15,10,14,7,8,4,15,3,5,13,12,14,4,3,12,14,10,10,12,6,14,8,9,10,3,6,11,13,15,6,6,15,10,7,13,11,13,14,11,15,15,12,14,13,9,4,14,11,15,5,14,14,10,10,8,15,9,4,8,4,6,12,9,9,7,5,4,4,8,3,15,11,6,8,6,6,8,7,8,11,4,3,15,5,8,12,14,13,6,10,3,5,10,12,7,14,7,9,15,11,7,9,7,11,14,15,15,15,11,10,9,13,15,12,13,14,8,10,11,4,10,12,11,12,9,11,9,11,11,12,14,12,11,11,10,5,15,5,9,11,11,15,9,14,13,6,9,3,6,8,7,12,5,14,5,10,10,13,4,15,8,8,9,14,5,8,5,9,8,12,11,5,15,5,12,7,11,8,11,7,12,12,3,13,3,9,5,15,13,13,5,11,12,11,9,11,15,10,10,10,12,3,3,9,8,10,3,13,14,15,12,9,9,15,10,11,7,14,5,9,11,9,12,10,14,3,11,11,9,12,15,9,10,12,3,15,8,8,11,13,14,14,4,8,8,14,15,9,10,13,11,6,5,15,12,6,3,7,11,14,11,10,14,7,15,15,6,9,13,11,8,12,10,15,10,12,11,12,12,7,15,13,10,13,12,13,10,5,3,14,8,7,13,10,11,9,9,13,9,13,6,11,3,13,4,15,13,10,11,8,12,9,10,10,12,5,15,6,14,15,3,12,8,12,6,8,15,7,11,12,9,6,8,5,8,7,7,9,7,4,10,11,11,6,6,8,5,7,5,8,15,14,6,7,13,12,13,12,15,13,12,15,11,14,13,15,5,9,13,12,8,7,11,11,11,15,6,6,13,6,3,12,10,10,4,8,8,9,11,4,3,11,8,3,11,7,12,15,11,12,14,13,3,14,14,9,15,13,8,11,9,15,14,14,10,7,12,12,6,15,8,5,15,15,13,15,15,14,15,3,12,8,9,10,12,15,9,8,12,14,12,13,14,10,11,13,11,9,6,14,12,15,4,7,12,10,13,4,12,15,11,10,6,6,10,10,7,8,11,7,3,8,15,9,5,13,14,6,11,13,7,8,14,8,3,13,15,8,8,7,13,12,9,8,11,15,4,8,15,6,14,8,7,13,10,5,5,13,11,15,15,9,7,6,13,13,9,5,9,10,15,10,6,6,11,8,3,8,9,6,10,7,4,9,13,9,14,3,15,8,13,9,7,10,11,12,14,9,12,11],\"type\":\"histogram\"}],                        {\"barmode\":\"overlay\",\"legend\":{\"bgcolor\":\"#FFFFFF\",\"font\":{\"color\":\"#4D5663\"}},\"paper_bgcolor\":\"#FFFFFF\",\"plot_bgcolor\":\"#FFFFFF\",\"template\":{\"data\":{\"barpolar\":[{\"marker\":{\"line\":{\"color\":\"#E5ECF6\",\"width\":0.5},\"pattern\":{\"fillmode\":\"overlay\",\"size\":10,\"solidity\":0.2}},\"type\":\"barpolar\"}],\"bar\":[{\"error_x\":{\"color\":\"#2a3f5f\"},\"error_y\":{\"color\":\"#2a3f5f\"},\"marker\":{\"line\":{\"color\":\"#E5ECF6\",\"width\":0.5},\"pattern\":{\"fillmode\":\"overlay\",\"size\":10,\"solidity\":0.2}},\"type\":\"bar\"}],\"carpet\":[{\"aaxis\":{\"endlinecolor\":\"#2a3f5f\",\"gridcolor\":\"white\",\"linecolor\":\"white\",\"minorgridcolor\":\"white\",\"startlinecolor\":\"#2a3f5f\"},\"baxis\":{\"endlinecolor\":\"#2a3f5f\",\"gridcolor\":\"white\",\"linecolor\":\"white\",\"minorgridcolor\":\"white\",\"startlinecolor\":\"#2a3f5f\"},\"type\":\"carpet\"}],\"choropleth\":[{\"colorbar\":{\"outlinewidth\":0,\"ticks\":\"\"},\"type\":\"choropleth\"}],\"contourcarpet\":[{\"colorbar\":{\"outlinewidth\":0,\"ticks\":\"\"},\"type\":\"contourcarpet\"}],\"contour\":[{\"colorbar\":{\"outlinewidth\":0,\"ticks\":\"\"},\"colorscale\":[[0.0,\"#0d0887\"],[0.1111111111111111,\"#46039f\"],[0.2222222222222222,\"#7201a8\"],[0.3333333333333333,\"#9c179e\"],[0.4444444444444444,\"#bd3786\"],[0.5555555555555556,\"#d8576b\"],[0.6666666666666666,\"#ed7953\"],[0.7777777777777778,\"#fb9f3a\"],[0.8888888888888888,\"#fdca26\"],[1.0,\"#f0f921\"]],\"type\":\"contour\"}],\"heatmapgl\":[{\"colorbar\":{\"outlinewidth\":0,\"ticks\":\"\"},\"colorscale\":[[0.0,\"#0d0887\"],[0.1111111111111111,\"#46039f\"],[0.2222222222222222,\"#7201a8\"],[0.3333333333333333,\"#9c179e\"],[0.4444444444444444,\"#bd3786\"],[0.5555555555555556,\"#d8576b\"],[0.6666666666666666,\"#ed7953\"],[0.7777777777777778,\"#fb9f3a\"],[0.8888888888888888,\"#fdca26\"],[1.0,\"#f0f921\"]],\"type\":\"heatmapgl\"}],\"heatmap\":[{\"colorbar\":{\"outlinewidth\":0,\"ticks\":\"\"},\"colorscale\":[[0.0,\"#0d0887\"],[0.1111111111111111,\"#46039f\"],[0.2222222222222222,\"#7201a8\"],[0.3333333333333333,\"#9c179e\"],[0.4444444444444444,\"#bd3786\"],[0.5555555555555556,\"#d8576b\"],[0.6666666666666666,\"#ed7953\"],[0.7777777777777778,\"#fb9f3a\"],[0.8888888888888888,\"#fdca26\"],[1.0,\"#f0f921\"]],\"type\":\"heatmap\"}],\"histogram2dcontour\":[{\"colorbar\":{\"outlinewidth\":0,\"ticks\":\"\"},\"colorscale\":[[0.0,\"#0d0887\"],[0.1111111111111111,\"#46039f\"],[0.2222222222222222,\"#7201a8\"],[0.3333333333333333,\"#9c179e\"],[0.4444444444444444,\"#bd3786\"],[0.5555555555555556,\"#d8576b\"],[0.6666666666666666,\"#ed7953\"],[0.7777777777777778,\"#fb9f3a\"],[0.8888888888888888,\"#fdca26\"],[1.0,\"#f0f921\"]],\"type\":\"histogram2dcontour\"}],\"histogram2d\":[{\"colorbar\":{\"outlinewidth\":0,\"ticks\":\"\"},\"colorscale\":[[0.0,\"#0d0887\"],[0.1111111111111111,\"#46039f\"],[0.2222222222222222,\"#7201a8\"],[0.3333333333333333,\"#9c179e\"],[0.4444444444444444,\"#bd3786\"],[0.5555555555555556,\"#d8576b\"],[0.6666666666666666,\"#ed7953\"],[0.7777777777777778,\"#fb9f3a\"],[0.8888888888888888,\"#fdca26\"],[1.0,\"#f0f921\"]],\"type\":\"histogram2d\"}],\"histogram\":[{\"marker\":{\"pattern\":{\"fillmode\":\"overlay\",\"size\":10,\"solidity\":0.2}},\"type\":\"histogram\"}],\"mesh3d\":[{\"colorbar\":{\"outlinewidth\":0,\"ticks\":\"\"},\"type\":\"mesh3d\"}],\"parcoords\":[{\"line\":{\"colorbar\":{\"outlinewidth\":0,\"ticks\":\"\"}},\"type\":\"parcoords\"}],\"pie\":[{\"automargin\":true,\"type\":\"pie\"}],\"scatter3d\":[{\"line\":{\"colorbar\":{\"outlinewidth\":0,\"ticks\":\"\"}},\"marker\":{\"colorbar\":{\"outlinewidth\":0,\"ticks\":\"\"}},\"type\":\"scatter3d\"}],\"scattercarpet\":[{\"marker\":{\"colorbar\":{\"outlinewidth\":0,\"ticks\":\"\"}},\"type\":\"scattercarpet\"}],\"scattergeo\":[{\"marker\":{\"colorbar\":{\"outlinewidth\":0,\"ticks\":\"\"}},\"type\":\"scattergeo\"}],\"scattergl\":[{\"marker\":{\"colorbar\":{\"outlinewidth\":0,\"ticks\":\"\"}},\"type\":\"scattergl\"}],\"scattermapbox\":[{\"marker\":{\"colorbar\":{\"outlinewidth\":0,\"ticks\":\"\"}},\"type\":\"scattermapbox\"}],\"scatterpolargl\":[{\"marker\":{\"colorbar\":{\"outlinewidth\":0,\"ticks\":\"\"}},\"type\":\"scatterpolargl\"}],\"scatterpolar\":[{\"marker\":{\"colorbar\":{\"outlinewidth\":0,\"ticks\":\"\"}},\"type\":\"scatterpolar\"}],\"scatter\":[{\"marker\":{\"colorbar\":{\"outlinewidth\":0,\"ticks\":\"\"}},\"type\":\"scatter\"}],\"scatterternary\":[{\"marker\":{\"colorbar\":{\"outlinewidth\":0,\"ticks\":\"\"}},\"type\":\"scatterternary\"}],\"surface\":[{\"colorbar\":{\"outlinewidth\":0,\"ticks\":\"\"},\"colorscale\":[[0.0,\"#0d0887\"],[0.1111111111111111,\"#46039f\"],[0.2222222222222222,\"#7201a8\"],[0.3333333333333333,\"#9c179e\"],[0.4444444444444444,\"#bd3786\"],[0.5555555555555556,\"#d8576b\"],[0.6666666666666666,\"#ed7953\"],[0.7777777777777778,\"#fb9f3a\"],[0.8888888888888888,\"#fdca26\"],[1.0,\"#f0f921\"]],\"type\":\"surface\"}],\"table\":[{\"cells\":{\"fill\":{\"color\":\"#EBF0F8\"},\"line\":{\"color\":\"white\"}},\"header\":{\"fill\":{\"color\":\"#C8D4E3\"},\"line\":{\"color\":\"white\"}},\"type\":\"table\"}]},\"layout\":{\"annotationdefaults\":{\"arrowcolor\":\"#2a3f5f\",\"arrowhead\":0,\"arrowwidth\":1},\"autotypenumbers\":\"strict\",\"coloraxis\":{\"colorbar\":{\"outlinewidth\":0,\"ticks\":\"\"}},\"colorscale\":{\"diverging\":[[0,\"#8e0152\"],[0.1,\"#c51b7d\"],[0.2,\"#de77ae\"],[0.3,\"#f1b6da\"],[0.4,\"#fde0ef\"],[0.5,\"#f7f7f7\"],[0.6,\"#e6f5d0\"],[0.7,\"#b8e186\"],[0.8,\"#7fbc41\"],[0.9,\"#4d9221\"],[1,\"#276419\"]],\"sequential\":[[0.0,\"#0d0887\"],[0.1111111111111111,\"#46039f\"],[0.2222222222222222,\"#7201a8\"],[0.3333333333333333,\"#9c179e\"],[0.4444444444444444,\"#bd3786\"],[0.5555555555555556,\"#d8576b\"],[0.6666666666666666,\"#ed7953\"],[0.7777777777777778,\"#fb9f3a\"],[0.8888888888888888,\"#fdca26\"],[1.0,\"#f0f921\"]],\"sequentialminus\":[[0.0,\"#0d0887\"],[0.1111111111111111,\"#46039f\"],[0.2222222222222222,\"#7201a8\"],[0.3333333333333333,\"#9c179e\"],[0.4444444444444444,\"#bd3786\"],[0.5555555555555556,\"#d8576b\"],[0.6666666666666666,\"#ed7953\"],[0.7777777777777778,\"#fb9f3a\"],[0.8888888888888888,\"#fdca26\"],[1.0,\"#f0f921\"]]},\"colorway\":[\"#636efa\",\"#EF553B\",\"#00cc96\",\"#ab63fa\",\"#FFA15A\",\"#19d3f3\",\"#FF6692\",\"#B6E880\",\"#FF97FF\",\"#FECB52\"],\"font\":{\"color\":\"#2a3f5f\"},\"geo\":{\"bgcolor\":\"white\",\"lakecolor\":\"white\",\"landcolor\":\"#E5ECF6\",\"showlakes\":true,\"showland\":true,\"subunitcolor\":\"white\"},\"hoverlabel\":{\"align\":\"left\"},\"hovermode\":\"closest\",\"mapbox\":{\"style\":\"light\"},\"paper_bgcolor\":\"white\",\"plot_bgcolor\":\"#E5ECF6\",\"polar\":{\"angularaxis\":{\"gridcolor\":\"white\",\"linecolor\":\"white\",\"ticks\":\"\"},\"bgcolor\":\"#E5ECF6\",\"radialaxis\":{\"gridcolor\":\"white\",\"linecolor\":\"white\",\"ticks\":\"\"}},\"scene\":{\"xaxis\":{\"backgroundcolor\":\"#E5ECF6\",\"gridcolor\":\"white\",\"gridwidth\":2,\"linecolor\":\"white\",\"showbackground\":true,\"ticks\":\"\",\"zerolinecolor\":\"white\"},\"yaxis\":{\"backgroundcolor\":\"#E5ECF6\",\"gridcolor\":\"white\",\"gridwidth\":2,\"linecolor\":\"white\",\"showbackground\":true,\"ticks\":\"\",\"zerolinecolor\":\"white\"},\"zaxis\":{\"backgroundcolor\":\"#E5ECF6\",\"gridcolor\":\"white\",\"gridwidth\":2,\"linecolor\":\"white\",\"showbackground\":true,\"ticks\":\"\",\"zerolinecolor\":\"white\"}},\"shapedefaults\":{\"line\":{\"color\":\"#2a3f5f\"}},\"ternary\":{\"aaxis\":{\"gridcolor\":\"white\",\"linecolor\":\"white\",\"ticks\":\"\"},\"baxis\":{\"gridcolor\":\"white\",\"linecolor\":\"white\",\"ticks\":\"\"},\"bgcolor\":\"#E5ECF6\",\"caxis\":{\"gridcolor\":\"white\",\"linecolor\":\"white\",\"ticks\":\"\"}},\"title\":{\"x\":0.05},\"xaxis\":{\"automargin\":true,\"gridcolor\":\"white\",\"linecolor\":\"white\",\"ticks\":\"\",\"title\":{\"standoff\":15},\"zerolinecolor\":\"white\",\"zerolinewidth\":2},\"yaxis\":{\"automargin\":true,\"gridcolor\":\"white\",\"linecolor\":\"white\",\"ticks\":\"\",\"title\":{\"standoff\":15},\"zerolinecolor\":\"white\",\"zerolinewidth\":2}}},\"title\":{\"font\":{\"color\":\"#4D5663\"},\"text\":\"Government Malfeasance Subscale Distribution\"},\"xaxis\":{\"gridcolor\":\"#E1E5ED\",\"showgrid\":true,\"tickfont\":{\"color\":\"#4D5663\"},\"title\":{\"font\":{\"color\":\"#4D5663\"},\"text\":\"GCBS score (overall)\"},\"zerolinecolor\":\"#E1E5ED\"},\"yaxis\":{\"gridcolor\":\"#E1E5ED\",\"showgrid\":true,\"tickfont\":{\"color\":\"#4D5663\"},\"title\":{\"font\":{\"color\":\"#4D5663\"},\"text\":\"Count\"},\"zerolinecolor\":\"#E1E5ED\"}},                        {\"showLink\": true, \"linkText\": \"Export to plot.ly\", \"plotlyServerURL\": \"https://plot.ly\", \"responsive\": true}                    ).then(function(){\n",
       "                            \n",
       "var gd = document.getElementById('3c260730-70ee-48fe-b631-ce6a297833f8');\n",
       "var x = new MutationObserver(function (mutations, observer) {{\n",
       "        var display = window.getComputedStyle(gd).display;\n",
       "        if (!display || display === 'none') {{\n",
       "            console.log([gd, 'removed!']);\n",
       "            Plotly.purge(gd);\n",
       "            observer.disconnect();\n",
       "        }}\n",
       "}});\n",
       "\n",
       "// Listen for the removal of the full notebook cells\n",
       "var notebookContainer = gd.closest('#notebook-container');\n",
       "if (notebookContainer) {{\n",
       "    x.observe(notebookContainer, {childList: true});\n",
       "}}\n",
       "\n",
       "// Listen for the clearing of the current output cell\n",
       "var outputEl = gd.closest('.output');\n",
       "if (outputEl) {{\n",
       "    x.observe(outputEl, {childList: true});\n",
       "}}\n",
       "\n",
       "                        })                };                });            </script>        </div>"
      ]
     },
     "metadata": {},
     "output_type": "display_data"
    }
   ],
   "source": [
    "gcbs_clean_df['GCBS_Government_Malfeasance'].iplot(kind='hist', opacity=0.75, color='rgb(12, 128, 128)', title='Government Malfeasance Subscale Distribution'.format(total_responses), yTitle='Count', xTitle='GCBS score (overall)', bargap = 0, theme='white')"
   ]
  },
  {
   "cell_type": "code",
   "execution_count": 51,
   "metadata": {},
   "outputs": [
    {
     "data": {
      "application/vnd.plotly.v1+json": {
       "config": {
        "linkText": "Export to plot.ly",
        "plotlyServerURL": "https://plot.ly",
        "showLink": true
       },
       "data": [
        {
         "histfunc": "count",
         "histnorm": "",
         "marker": {
          "color": "rgba(12, 128, 128, 1.0)",
          "line": {
           "color": "#4D5663",
           "width": 1.3
          }
         },
         "name": "GCBS_Malevolent_Global_Conspiracies",
         "opacity": 0.75,
         "orientation": "v",
         "type": "histogram",
         "x": [
          15,
          13,
          14,
          10,
          9,
          3,
          5,
          6,
          13,
          15,
          3,
          3,
          5,
          12,
          7,
          10,
          4,
          5,
          10,
          4,
          3,
          9,
          6,
          13,
          15,
          6,
          3,
          9,
          7,
          14,
          7,
          4,
          12,
          3,
          6,
          10,
          5,
          6,
          8,
          7,
          3,
          4,
          11,
          12,
          3,
          10,
          9,
          4,
          7,
          11,
          14,
          6,
          13,
          14,
          10,
          14,
          14,
          5,
          4,
          15,
          15,
          4,
          7,
          3,
          5,
          13,
          13,
          14,
          8,
          3,
          5,
          13,
          5,
          7,
          8,
          14,
          13,
          11,
          10,
          15,
          9,
          13,
          6,
          4,
          12,
          5,
          3,
          6,
          3,
          10,
          7,
          13,
          5,
          13,
          4,
          8,
          4,
          15,
          15,
          15,
          15,
          13,
          8,
          8,
          9,
          9,
          6,
          9,
          12,
          10,
          10,
          10,
          5,
          10,
          14,
          4,
          12,
          12,
          3,
          3,
          13,
          4,
          13,
          13,
          14,
          9,
          15,
          8,
          4,
          3,
          6,
          10,
          12,
          5,
          12,
          8,
          11,
          15,
          12,
          12,
          5,
          3,
          3,
          15,
          3,
          8,
          9,
          7,
          9,
          3,
          5,
          11,
          10,
          3,
          9,
          4,
          3,
          11,
          3,
          10,
          9,
          10,
          11,
          7,
          11,
          3,
          6,
          3,
          11,
          12,
          3,
          3,
          3,
          7,
          12,
          15,
          14,
          9,
          8,
          4,
          3,
          5,
          7,
          12,
          3,
          10,
          11,
          15,
          5,
          4,
          7,
          12,
          5,
          12,
          13,
          11,
          4,
          7,
          11,
          5,
          3,
          12,
          12,
          3,
          5,
          5,
          5,
          11,
          8,
          12,
          3,
          13,
          14,
          11,
          14,
          10,
          6,
          5,
          3,
          14,
          4,
          5,
          3,
          5,
          4,
          3,
          15,
          7,
          13,
          12,
          4,
          11,
          13,
          6,
          6,
          11,
          3,
          14,
          3,
          13,
          11,
          9,
          15,
          14,
          10,
          7,
          11,
          11,
          15,
          13,
          15,
          15,
          15,
          15,
          15,
          15,
          15,
          14,
          14,
          15,
          14,
          13,
          14,
          13,
          15,
          13,
          5,
          10,
          15,
          15,
          10,
          12,
          10,
          8,
          5,
          14,
          5,
          9,
          5,
          15,
          11,
          10,
          8,
          15,
          7,
          10,
          7,
          13,
          15,
          13,
          12,
          10,
          15,
          8,
          3,
          4,
          15,
          15,
          6,
          7,
          11,
          15,
          12,
          9,
          9,
          11,
          15,
          15,
          10,
          12,
          9,
          12,
          11,
          3,
          12,
          3,
          8,
          15,
          9,
          14,
          3,
          11,
          14,
          5,
          15,
          11,
          15,
          15,
          13,
          3,
          6,
          15,
          9,
          3,
          7,
          15,
          15,
          15,
          3,
          5,
          7,
          4,
          3,
          5,
          8,
          15,
          15,
          8,
          14,
          6,
          8,
          10,
          3,
          15,
          8,
          9,
          5,
          9,
          10,
          15,
          3,
          7,
          4,
          8,
          3,
          7,
          5,
          4,
          8,
          3,
          4,
          10,
          14,
          15,
          7,
          11,
          11,
          12,
          10,
          12,
          4,
          11,
          8,
          8,
          4,
          7,
          15,
          7,
          4,
          7,
          3,
          8,
          4,
          4,
          8,
          12,
          11,
          3,
          10,
          3,
          5,
          10,
          15,
          14,
          12,
          9,
          15,
          11,
          3,
          3,
          10,
          12,
          15,
          10,
          15,
          8,
          9,
          3,
          12,
          6,
          3,
          13,
          10,
          4,
          4,
          3,
          8,
          15,
          4,
          4,
          5,
          3,
          12,
          13,
          4,
          10,
          3,
          9,
          7,
          5,
          15,
          8,
          4,
          14,
          8,
          7,
          12,
          6,
          7,
          13,
          7,
          14,
          10,
          12,
          15,
          9,
          6,
          4,
          12,
          13,
          15,
          9,
          8,
          14,
          4,
          11,
          4,
          13,
          7,
          5,
          3,
          8,
          5,
          4,
          3,
          4,
          9,
          5,
          3,
          5,
          12,
          3,
          15,
          6,
          4,
          6,
          9,
          3,
          7,
          5,
          4,
          8,
          3,
          10,
          15,
          7,
          12,
          3,
          14,
          8,
          8,
          3,
          4,
          5,
          4,
          8,
          5,
          12,
          3,
          12,
          15,
          8,
          6,
          5,
          3,
          9,
          9,
          13,
          15,
          14,
          11,
          14,
          8,
          12,
          14,
          10,
          11,
          9,
          10,
          15,
          10,
          4,
          5,
          9,
          14,
          8,
          6,
          13,
          15,
          4,
          9,
          10,
          11,
          5,
          12,
          8,
          8,
          5,
          15,
          5,
          7,
          6,
          5,
          11,
          4,
          13,
          9,
          3,
          7,
          9,
          5,
          11,
          14,
          4,
          3,
          12,
          3,
          11,
          6,
          13,
          3,
          15,
          9,
          5,
          10,
          10,
          5,
          11,
          4,
          9,
          7,
          12,
          13,
          5,
          13,
          7,
          6,
          7,
          8,
          8,
          3,
          10,
          14,
          10,
          4,
          8,
          10,
          7,
          3,
          15,
          8,
          12,
          3,
          3,
          8,
          12,
          5,
          8,
          14,
          14,
          6,
          3,
          14,
          5,
          3,
          9,
          4,
          8,
          5,
          13,
          4,
          15,
          6,
          11,
          3,
          15,
          13,
          4,
          3,
          15,
          3,
          13,
          12,
          6,
          14,
          8,
          15,
          3,
          3,
          7,
          4,
          3,
          4,
          15,
          9,
          8,
          3,
          13,
          12,
          4,
          11,
          13,
          13,
          14,
          5,
          8,
          6,
          14,
          11,
          9,
          12,
          9,
          12,
          3,
          4,
          12,
          11,
          3,
          4,
          5,
          5,
          8,
          13,
          10,
          11,
          9,
          14,
          15,
          5,
          3,
          13,
          8,
          6,
          11,
          12,
          12,
          9,
          3,
          11,
          10,
          11,
          3,
          11,
          6,
          8,
          13,
          7,
          12,
          8,
          4,
          5,
          13,
          6,
          11,
          15,
          9,
          10,
          10,
          11,
          6,
          10,
          6,
          5,
          11,
          3,
          13,
          4,
          15,
          9,
          4,
          12,
          3,
          10,
          4,
          4,
          6,
          9,
          10,
          6,
          4,
          15,
          7,
          3,
          14,
          6,
          10,
          12,
          7,
          15,
          7,
          12,
          10,
          3,
          4,
          9,
          5,
          3,
          6,
          4,
          5,
          3,
          3,
          14,
          6,
          10,
          6,
          7,
          9,
          3,
          13,
          7,
          3,
          10,
          14,
          5,
          3,
          11,
          8,
          12,
          5,
          3,
          11,
          12,
          9,
          7,
          4,
          6,
          15,
          4,
          3,
          12,
          13,
          6,
          6,
          13,
          9,
          11,
          15,
          4,
          6,
          3,
          3,
          3,
          5,
          7,
          10,
          3,
          5,
          11,
          3,
          14,
          5,
          6,
          5,
          10,
          4,
          11,
          3,
          12,
          13,
          8,
          11,
          11,
          15,
          5,
          10,
          13,
          7,
          10,
          12,
          7,
          3,
          9,
          15,
          11,
          12,
          12,
          3,
          11,
          12,
          7,
          15,
          10,
          3,
          15,
          15,
          9,
          14,
          14,
          15,
          14,
          5,
          13,
          6,
          7,
          7,
          3,
          15,
          3,
          3,
          8,
          3,
          6,
          9,
          13,
          10,
          7,
          4,
          13,
          8,
          8,
          12,
          13,
          3,
          6,
          7,
          11,
          4,
          8,
          3,
          6,
          15,
          6,
          8,
          8,
          7,
          7,
          6,
          8,
          9,
          12,
          6,
          5,
          12,
          9,
          7,
          9,
          11,
          12,
          5,
          10,
          15,
          3,
          3,
          15,
          9,
          7,
          11,
          13,
          11,
          8,
          7,
          7,
          6,
          4,
          3,
          10,
          15,
          4,
          9,
          9,
          12,
          13,
          12,
          8,
          14,
          8,
          3,
          7,
          12,
          8,
          5,
          15,
          6,
          9,
          11,
          8,
          15,
          4,
          6,
          8,
          11,
          15,
          15,
          6,
          5,
          6,
          3,
          3,
          4,
          10,
          7,
          10,
          3,
          6,
          6,
          12,
          9,
          15,
          4,
          10,
          3,
          10,
          8,
          3,
          8,
          12,
          12,
          15,
          14,
          11,
          15
         ]
        }
       ],
       "layout": {
        "barmode": "overlay",
        "legend": {
         "bgcolor": "#FFFFFF",
         "font": {
          "color": "#4D5663"
         }
        },
        "paper_bgcolor": "#FFFFFF",
        "plot_bgcolor": "#FFFFFF",
        "template": {
         "data": {
          "bar": [
           {
            "error_x": {
             "color": "#2a3f5f"
            },
            "error_y": {
             "color": "#2a3f5f"
            },
            "marker": {
             "line": {
              "color": "#E5ECF6",
              "width": 0.5
             },
             "pattern": {
              "fillmode": "overlay",
              "size": 10,
              "solidity": 0.2
             }
            },
            "type": "bar"
           }
          ],
          "barpolar": [
           {
            "marker": {
             "line": {
              "color": "#E5ECF6",
              "width": 0.5
             },
             "pattern": {
              "fillmode": "overlay",
              "size": 10,
              "solidity": 0.2
             }
            },
            "type": "barpolar"
           }
          ],
          "carpet": [
           {
            "aaxis": {
             "endlinecolor": "#2a3f5f",
             "gridcolor": "white",
             "linecolor": "white",
             "minorgridcolor": "white",
             "startlinecolor": "#2a3f5f"
            },
            "baxis": {
             "endlinecolor": "#2a3f5f",
             "gridcolor": "white",
             "linecolor": "white",
             "minorgridcolor": "white",
             "startlinecolor": "#2a3f5f"
            },
            "type": "carpet"
           }
          ],
          "choropleth": [
           {
            "colorbar": {
             "outlinewidth": 0,
             "ticks": ""
            },
            "type": "choropleth"
           }
          ],
          "contour": [
           {
            "colorbar": {
             "outlinewidth": 0,
             "ticks": ""
            },
            "colorscale": [
             [
              0,
              "#0d0887"
             ],
             [
              0.1111111111111111,
              "#46039f"
             ],
             [
              0.2222222222222222,
              "#7201a8"
             ],
             [
              0.3333333333333333,
              "#9c179e"
             ],
             [
              0.4444444444444444,
              "#bd3786"
             ],
             [
              0.5555555555555556,
              "#d8576b"
             ],
             [
              0.6666666666666666,
              "#ed7953"
             ],
             [
              0.7777777777777778,
              "#fb9f3a"
             ],
             [
              0.8888888888888888,
              "#fdca26"
             ],
             [
              1,
              "#f0f921"
             ]
            ],
            "type": "contour"
           }
          ],
          "contourcarpet": [
           {
            "colorbar": {
             "outlinewidth": 0,
             "ticks": ""
            },
            "type": "contourcarpet"
           }
          ],
          "heatmap": [
           {
            "colorbar": {
             "outlinewidth": 0,
             "ticks": ""
            },
            "colorscale": [
             [
              0,
              "#0d0887"
             ],
             [
              0.1111111111111111,
              "#46039f"
             ],
             [
              0.2222222222222222,
              "#7201a8"
             ],
             [
              0.3333333333333333,
              "#9c179e"
             ],
             [
              0.4444444444444444,
              "#bd3786"
             ],
             [
              0.5555555555555556,
              "#d8576b"
             ],
             [
              0.6666666666666666,
              "#ed7953"
             ],
             [
              0.7777777777777778,
              "#fb9f3a"
             ],
             [
              0.8888888888888888,
              "#fdca26"
             ],
             [
              1,
              "#f0f921"
             ]
            ],
            "type": "heatmap"
           }
          ],
          "heatmapgl": [
           {
            "colorbar": {
             "outlinewidth": 0,
             "ticks": ""
            },
            "colorscale": [
             [
              0,
              "#0d0887"
             ],
             [
              0.1111111111111111,
              "#46039f"
             ],
             [
              0.2222222222222222,
              "#7201a8"
             ],
             [
              0.3333333333333333,
              "#9c179e"
             ],
             [
              0.4444444444444444,
              "#bd3786"
             ],
             [
              0.5555555555555556,
              "#d8576b"
             ],
             [
              0.6666666666666666,
              "#ed7953"
             ],
             [
              0.7777777777777778,
              "#fb9f3a"
             ],
             [
              0.8888888888888888,
              "#fdca26"
             ],
             [
              1,
              "#f0f921"
             ]
            ],
            "type": "heatmapgl"
           }
          ],
          "histogram": [
           {
            "marker": {
             "pattern": {
              "fillmode": "overlay",
              "size": 10,
              "solidity": 0.2
             }
            },
            "type": "histogram"
           }
          ],
          "histogram2d": [
           {
            "colorbar": {
             "outlinewidth": 0,
             "ticks": ""
            },
            "colorscale": [
             [
              0,
              "#0d0887"
             ],
             [
              0.1111111111111111,
              "#46039f"
             ],
             [
              0.2222222222222222,
              "#7201a8"
             ],
             [
              0.3333333333333333,
              "#9c179e"
             ],
             [
              0.4444444444444444,
              "#bd3786"
             ],
             [
              0.5555555555555556,
              "#d8576b"
             ],
             [
              0.6666666666666666,
              "#ed7953"
             ],
             [
              0.7777777777777778,
              "#fb9f3a"
             ],
             [
              0.8888888888888888,
              "#fdca26"
             ],
             [
              1,
              "#f0f921"
             ]
            ],
            "type": "histogram2d"
           }
          ],
          "histogram2dcontour": [
           {
            "colorbar": {
             "outlinewidth": 0,
             "ticks": ""
            },
            "colorscale": [
             [
              0,
              "#0d0887"
             ],
             [
              0.1111111111111111,
              "#46039f"
             ],
             [
              0.2222222222222222,
              "#7201a8"
             ],
             [
              0.3333333333333333,
              "#9c179e"
             ],
             [
              0.4444444444444444,
              "#bd3786"
             ],
             [
              0.5555555555555556,
              "#d8576b"
             ],
             [
              0.6666666666666666,
              "#ed7953"
             ],
             [
              0.7777777777777778,
              "#fb9f3a"
             ],
             [
              0.8888888888888888,
              "#fdca26"
             ],
             [
              1,
              "#f0f921"
             ]
            ],
            "type": "histogram2dcontour"
           }
          ],
          "mesh3d": [
           {
            "colorbar": {
             "outlinewidth": 0,
             "ticks": ""
            },
            "type": "mesh3d"
           }
          ],
          "parcoords": [
           {
            "line": {
             "colorbar": {
              "outlinewidth": 0,
              "ticks": ""
             }
            },
            "type": "parcoords"
           }
          ],
          "pie": [
           {
            "automargin": true,
            "type": "pie"
           }
          ],
          "scatter": [
           {
            "marker": {
             "colorbar": {
              "outlinewidth": 0,
              "ticks": ""
             }
            },
            "type": "scatter"
           }
          ],
          "scatter3d": [
           {
            "line": {
             "colorbar": {
              "outlinewidth": 0,
              "ticks": ""
             }
            },
            "marker": {
             "colorbar": {
              "outlinewidth": 0,
              "ticks": ""
             }
            },
            "type": "scatter3d"
           }
          ],
          "scattercarpet": [
           {
            "marker": {
             "colorbar": {
              "outlinewidth": 0,
              "ticks": ""
             }
            },
            "type": "scattercarpet"
           }
          ],
          "scattergeo": [
           {
            "marker": {
             "colorbar": {
              "outlinewidth": 0,
              "ticks": ""
             }
            },
            "type": "scattergeo"
           }
          ],
          "scattergl": [
           {
            "marker": {
             "colorbar": {
              "outlinewidth": 0,
              "ticks": ""
             }
            },
            "type": "scattergl"
           }
          ],
          "scattermapbox": [
           {
            "marker": {
             "colorbar": {
              "outlinewidth": 0,
              "ticks": ""
             }
            },
            "type": "scattermapbox"
           }
          ],
          "scatterpolar": [
           {
            "marker": {
             "colorbar": {
              "outlinewidth": 0,
              "ticks": ""
             }
            },
            "type": "scatterpolar"
           }
          ],
          "scatterpolargl": [
           {
            "marker": {
             "colorbar": {
              "outlinewidth": 0,
              "ticks": ""
             }
            },
            "type": "scatterpolargl"
           }
          ],
          "scatterternary": [
           {
            "marker": {
             "colorbar": {
              "outlinewidth": 0,
              "ticks": ""
             }
            },
            "type": "scatterternary"
           }
          ],
          "surface": [
           {
            "colorbar": {
             "outlinewidth": 0,
             "ticks": ""
            },
            "colorscale": [
             [
              0,
              "#0d0887"
             ],
             [
              0.1111111111111111,
              "#46039f"
             ],
             [
              0.2222222222222222,
              "#7201a8"
             ],
             [
              0.3333333333333333,
              "#9c179e"
             ],
             [
              0.4444444444444444,
              "#bd3786"
             ],
             [
              0.5555555555555556,
              "#d8576b"
             ],
             [
              0.6666666666666666,
              "#ed7953"
             ],
             [
              0.7777777777777778,
              "#fb9f3a"
             ],
             [
              0.8888888888888888,
              "#fdca26"
             ],
             [
              1,
              "#f0f921"
             ]
            ],
            "type": "surface"
           }
          ],
          "table": [
           {
            "cells": {
             "fill": {
              "color": "#EBF0F8"
             },
             "line": {
              "color": "white"
             }
            },
            "header": {
             "fill": {
              "color": "#C8D4E3"
             },
             "line": {
              "color": "white"
             }
            },
            "type": "table"
           }
          ]
         },
         "layout": {
          "annotationdefaults": {
           "arrowcolor": "#2a3f5f",
           "arrowhead": 0,
           "arrowwidth": 1
          },
          "autotypenumbers": "strict",
          "coloraxis": {
           "colorbar": {
            "outlinewidth": 0,
            "ticks": ""
           }
          },
          "colorscale": {
           "diverging": [
            [
             0,
             "#8e0152"
            ],
            [
             0.1,
             "#c51b7d"
            ],
            [
             0.2,
             "#de77ae"
            ],
            [
             0.3,
             "#f1b6da"
            ],
            [
             0.4,
             "#fde0ef"
            ],
            [
             0.5,
             "#f7f7f7"
            ],
            [
             0.6,
             "#e6f5d0"
            ],
            [
             0.7,
             "#b8e186"
            ],
            [
             0.8,
             "#7fbc41"
            ],
            [
             0.9,
             "#4d9221"
            ],
            [
             1,
             "#276419"
            ]
           ],
           "sequential": [
            [
             0,
             "#0d0887"
            ],
            [
             0.1111111111111111,
             "#46039f"
            ],
            [
             0.2222222222222222,
             "#7201a8"
            ],
            [
             0.3333333333333333,
             "#9c179e"
            ],
            [
             0.4444444444444444,
             "#bd3786"
            ],
            [
             0.5555555555555556,
             "#d8576b"
            ],
            [
             0.6666666666666666,
             "#ed7953"
            ],
            [
             0.7777777777777778,
             "#fb9f3a"
            ],
            [
             0.8888888888888888,
             "#fdca26"
            ],
            [
             1,
             "#f0f921"
            ]
           ],
           "sequentialminus": [
            [
             0,
             "#0d0887"
            ],
            [
             0.1111111111111111,
             "#46039f"
            ],
            [
             0.2222222222222222,
             "#7201a8"
            ],
            [
             0.3333333333333333,
             "#9c179e"
            ],
            [
             0.4444444444444444,
             "#bd3786"
            ],
            [
             0.5555555555555556,
             "#d8576b"
            ],
            [
             0.6666666666666666,
             "#ed7953"
            ],
            [
             0.7777777777777778,
             "#fb9f3a"
            ],
            [
             0.8888888888888888,
             "#fdca26"
            ],
            [
             1,
             "#f0f921"
            ]
           ]
          },
          "colorway": [
           "#636efa",
           "#EF553B",
           "#00cc96",
           "#ab63fa",
           "#FFA15A",
           "#19d3f3",
           "#FF6692",
           "#B6E880",
           "#FF97FF",
           "#FECB52"
          ],
          "font": {
           "color": "#2a3f5f"
          },
          "geo": {
           "bgcolor": "white",
           "lakecolor": "white",
           "landcolor": "#E5ECF6",
           "showlakes": true,
           "showland": true,
           "subunitcolor": "white"
          },
          "hoverlabel": {
           "align": "left"
          },
          "hovermode": "closest",
          "mapbox": {
           "style": "light"
          },
          "paper_bgcolor": "white",
          "plot_bgcolor": "#E5ECF6",
          "polar": {
           "angularaxis": {
            "gridcolor": "white",
            "linecolor": "white",
            "ticks": ""
           },
           "bgcolor": "#E5ECF6",
           "radialaxis": {
            "gridcolor": "white",
            "linecolor": "white",
            "ticks": ""
           }
          },
          "scene": {
           "xaxis": {
            "backgroundcolor": "#E5ECF6",
            "gridcolor": "white",
            "gridwidth": 2,
            "linecolor": "white",
            "showbackground": true,
            "ticks": "",
            "zerolinecolor": "white"
           },
           "yaxis": {
            "backgroundcolor": "#E5ECF6",
            "gridcolor": "white",
            "gridwidth": 2,
            "linecolor": "white",
            "showbackground": true,
            "ticks": "",
            "zerolinecolor": "white"
           },
           "zaxis": {
            "backgroundcolor": "#E5ECF6",
            "gridcolor": "white",
            "gridwidth": 2,
            "linecolor": "white",
            "showbackground": true,
            "ticks": "",
            "zerolinecolor": "white"
           }
          },
          "shapedefaults": {
           "line": {
            "color": "#2a3f5f"
           }
          },
          "ternary": {
           "aaxis": {
            "gridcolor": "white",
            "linecolor": "white",
            "ticks": ""
           },
           "baxis": {
            "gridcolor": "white",
            "linecolor": "white",
            "ticks": ""
           },
           "bgcolor": "#E5ECF6",
           "caxis": {
            "gridcolor": "white",
            "linecolor": "white",
            "ticks": ""
           }
          },
          "title": {
           "x": 0.05
          },
          "xaxis": {
           "automargin": true,
           "gridcolor": "white",
           "linecolor": "white",
           "ticks": "",
           "title": {
            "standoff": 15
           },
           "zerolinecolor": "white",
           "zerolinewidth": 2
          },
          "yaxis": {
           "automargin": true,
           "gridcolor": "white",
           "linecolor": "white",
           "ticks": "",
           "title": {
            "standoff": 15
           },
           "zerolinecolor": "white",
           "zerolinewidth": 2
          }
         }
        },
        "title": {
         "font": {
          "color": "#4D5663"
         },
         "text": "Malevolent Global Conspiracies Subscale Distribution"
        },
        "xaxis": {
         "gridcolor": "#E1E5ED",
         "showgrid": true,
         "tickfont": {
          "color": "#4D5663"
         },
         "title": {
          "font": {
           "color": "#4D5663"
          },
          "text": "GCBS score (overall)"
         },
         "zerolinecolor": "#E1E5ED"
        },
        "yaxis": {
         "gridcolor": "#E1E5ED",
         "showgrid": true,
         "tickfont": {
          "color": "#4D5663"
         },
         "title": {
          "font": {
           "color": "#4D5663"
          },
          "text": "Count"
         },
         "zerolinecolor": "#E1E5ED"
        }
       }
      },
      "text/html": [
       "<div>                            <div id=\"8a13af35-a1b9-4a8a-8fad-9f53bdbc5768\" class=\"plotly-graph-div\" style=\"height:525px; width:100%;\"></div>            <script type=\"text/javascript\">                require([\"plotly\"], function(Plotly) {                    window.PLOTLYENV=window.PLOTLYENV || {};\n",
       "                    window.PLOTLYENV.BASE_URL='https://plot.ly';                                    if (document.getElementById(\"8a13af35-a1b9-4a8a-8fad-9f53bdbc5768\")) {                    Plotly.newPlot(                        \"8a13af35-a1b9-4a8a-8fad-9f53bdbc5768\",                        [{\"histfunc\":\"count\",\"histnorm\":\"\",\"marker\":{\"color\":\"rgba(12, 128, 128, 1.0)\",\"line\":{\"color\":\"#4D5663\",\"width\":1.3}},\"name\":\"GCBS_Malevolent_Global_Conspiracies\",\"opacity\":0.75,\"orientation\":\"v\",\"x\":[15,13,14,10,9,3,5,6,13,15,3,3,5,12,7,10,4,5,10,4,3,9,6,13,15,6,3,9,7,14,7,4,12,3,6,10,5,6,8,7,3,4,11,12,3,10,9,4,7,11,14,6,13,14,10,14,14,5,4,15,15,4,7,3,5,13,13,14,8,3,5,13,5,7,8,14,13,11,10,15,9,13,6,4,12,5,3,6,3,10,7,13,5,13,4,8,4,15,15,15,15,13,8,8,9,9,6,9,12,10,10,10,5,10,14,4,12,12,3,3,13,4,13,13,14,9,15,8,4,3,6,10,12,5,12,8,11,15,12,12,5,3,3,15,3,8,9,7,9,3,5,11,10,3,9,4,3,11,3,10,9,10,11,7,11,3,6,3,11,12,3,3,3,7,12,15,14,9,8,4,3,5,7,12,3,10,11,15,5,4,7,12,5,12,13,11,4,7,11,5,3,12,12,3,5,5,5,11,8,12,3,13,14,11,14,10,6,5,3,14,4,5,3,5,4,3,15,7,13,12,4,11,13,6,6,11,3,14,3,13,11,9,15,14,10,7,11,11,15,13,15,15,15,15,15,15,15,14,14,15,14,13,14,13,15,13,5,10,15,15,10,12,10,8,5,14,5,9,5,15,11,10,8,15,7,10,7,13,15,13,12,10,15,8,3,4,15,15,6,7,11,15,12,9,9,11,15,15,10,12,9,12,11,3,12,3,8,15,9,14,3,11,14,5,15,11,15,15,13,3,6,15,9,3,7,15,15,15,3,5,7,4,3,5,8,15,15,8,14,6,8,10,3,15,8,9,5,9,10,15,3,7,4,8,3,7,5,4,8,3,4,10,14,15,7,11,11,12,10,12,4,11,8,8,4,7,15,7,4,7,3,8,4,4,8,12,11,3,10,3,5,10,15,14,12,9,15,11,3,3,10,12,15,10,15,8,9,3,12,6,3,13,10,4,4,3,8,15,4,4,5,3,12,13,4,10,3,9,7,5,15,8,4,14,8,7,12,6,7,13,7,14,10,12,15,9,6,4,12,13,15,9,8,14,4,11,4,13,7,5,3,8,5,4,3,4,9,5,3,5,12,3,15,6,4,6,9,3,7,5,4,8,3,10,15,7,12,3,14,8,8,3,4,5,4,8,5,12,3,12,15,8,6,5,3,9,9,13,15,14,11,14,8,12,14,10,11,9,10,15,10,4,5,9,14,8,6,13,15,4,9,10,11,5,12,8,8,5,15,5,7,6,5,11,4,13,9,3,7,9,5,11,14,4,3,12,3,11,6,13,3,15,9,5,10,10,5,11,4,9,7,12,13,5,13,7,6,7,8,8,3,10,14,10,4,8,10,7,3,15,8,12,3,3,8,12,5,8,14,14,6,3,14,5,3,9,4,8,5,13,4,15,6,11,3,15,13,4,3,15,3,13,12,6,14,8,15,3,3,7,4,3,4,15,9,8,3,13,12,4,11,13,13,14,5,8,6,14,11,9,12,9,12,3,4,12,11,3,4,5,5,8,13,10,11,9,14,15,5,3,13,8,6,11,12,12,9,3,11,10,11,3,11,6,8,13,7,12,8,4,5,13,6,11,15,9,10,10,11,6,10,6,5,11,3,13,4,15,9,4,12,3,10,4,4,6,9,10,6,4,15,7,3,14,6,10,12,7,15,7,12,10,3,4,9,5,3,6,4,5,3,3,14,6,10,6,7,9,3,13,7,3,10,14,5,3,11,8,12,5,3,11,12,9,7,4,6,15,4,3,12,13,6,6,13,9,11,15,4,6,3,3,3,5,7,10,3,5,11,3,14,5,6,5,10,4,11,3,12,13,8,11,11,15,5,10,13,7,10,12,7,3,9,15,11,12,12,3,11,12,7,15,10,3,15,15,9,14,14,15,14,5,13,6,7,7,3,15,3,3,8,3,6,9,13,10,7,4,13,8,8,12,13,3,6,7,11,4,8,3,6,15,6,8,8,7,7,6,8,9,12,6,5,12,9,7,9,11,12,5,10,15,3,3,15,9,7,11,13,11,8,7,7,6,4,3,10,15,4,9,9,12,13,12,8,14,8,3,7,12,8,5,15,6,9,11,8,15,4,6,8,11,15,15,6,5,6,3,3,4,10,7,10,3,6,6,12,9,15,4,10,3,10,8,3,8,12,12,15,14,11,15],\"type\":\"histogram\"}],                        {\"barmode\":\"overlay\",\"legend\":{\"bgcolor\":\"#FFFFFF\",\"font\":{\"color\":\"#4D5663\"}},\"paper_bgcolor\":\"#FFFFFF\",\"plot_bgcolor\":\"#FFFFFF\",\"template\":{\"data\":{\"barpolar\":[{\"marker\":{\"line\":{\"color\":\"#E5ECF6\",\"width\":0.5},\"pattern\":{\"fillmode\":\"overlay\",\"size\":10,\"solidity\":0.2}},\"type\":\"barpolar\"}],\"bar\":[{\"error_x\":{\"color\":\"#2a3f5f\"},\"error_y\":{\"color\":\"#2a3f5f\"},\"marker\":{\"line\":{\"color\":\"#E5ECF6\",\"width\":0.5},\"pattern\":{\"fillmode\":\"overlay\",\"size\":10,\"solidity\":0.2}},\"type\":\"bar\"}],\"carpet\":[{\"aaxis\":{\"endlinecolor\":\"#2a3f5f\",\"gridcolor\":\"white\",\"linecolor\":\"white\",\"minorgridcolor\":\"white\",\"startlinecolor\":\"#2a3f5f\"},\"baxis\":{\"endlinecolor\":\"#2a3f5f\",\"gridcolor\":\"white\",\"linecolor\":\"white\",\"minorgridcolor\":\"white\",\"startlinecolor\":\"#2a3f5f\"},\"type\":\"carpet\"}],\"choropleth\":[{\"colorbar\":{\"outlinewidth\":0,\"ticks\":\"\"},\"type\":\"choropleth\"}],\"contourcarpet\":[{\"colorbar\":{\"outlinewidth\":0,\"ticks\":\"\"},\"type\":\"contourcarpet\"}],\"contour\":[{\"colorbar\":{\"outlinewidth\":0,\"ticks\":\"\"},\"colorscale\":[[0.0,\"#0d0887\"],[0.1111111111111111,\"#46039f\"],[0.2222222222222222,\"#7201a8\"],[0.3333333333333333,\"#9c179e\"],[0.4444444444444444,\"#bd3786\"],[0.5555555555555556,\"#d8576b\"],[0.6666666666666666,\"#ed7953\"],[0.7777777777777778,\"#fb9f3a\"],[0.8888888888888888,\"#fdca26\"],[1.0,\"#f0f921\"]],\"type\":\"contour\"}],\"heatmapgl\":[{\"colorbar\":{\"outlinewidth\":0,\"ticks\":\"\"},\"colorscale\":[[0.0,\"#0d0887\"],[0.1111111111111111,\"#46039f\"],[0.2222222222222222,\"#7201a8\"],[0.3333333333333333,\"#9c179e\"],[0.4444444444444444,\"#bd3786\"],[0.5555555555555556,\"#d8576b\"],[0.6666666666666666,\"#ed7953\"],[0.7777777777777778,\"#fb9f3a\"],[0.8888888888888888,\"#fdca26\"],[1.0,\"#f0f921\"]],\"type\":\"heatmapgl\"}],\"heatmap\":[{\"colorbar\":{\"outlinewidth\":0,\"ticks\":\"\"},\"colorscale\":[[0.0,\"#0d0887\"],[0.1111111111111111,\"#46039f\"],[0.2222222222222222,\"#7201a8\"],[0.3333333333333333,\"#9c179e\"],[0.4444444444444444,\"#bd3786\"],[0.5555555555555556,\"#d8576b\"],[0.6666666666666666,\"#ed7953\"],[0.7777777777777778,\"#fb9f3a\"],[0.8888888888888888,\"#fdca26\"],[1.0,\"#f0f921\"]],\"type\":\"heatmap\"}],\"histogram2dcontour\":[{\"colorbar\":{\"outlinewidth\":0,\"ticks\":\"\"},\"colorscale\":[[0.0,\"#0d0887\"],[0.1111111111111111,\"#46039f\"],[0.2222222222222222,\"#7201a8\"],[0.3333333333333333,\"#9c179e\"],[0.4444444444444444,\"#bd3786\"],[0.5555555555555556,\"#d8576b\"],[0.6666666666666666,\"#ed7953\"],[0.7777777777777778,\"#fb9f3a\"],[0.8888888888888888,\"#fdca26\"],[1.0,\"#f0f921\"]],\"type\":\"histogram2dcontour\"}],\"histogram2d\":[{\"colorbar\":{\"outlinewidth\":0,\"ticks\":\"\"},\"colorscale\":[[0.0,\"#0d0887\"],[0.1111111111111111,\"#46039f\"],[0.2222222222222222,\"#7201a8\"],[0.3333333333333333,\"#9c179e\"],[0.4444444444444444,\"#bd3786\"],[0.5555555555555556,\"#d8576b\"],[0.6666666666666666,\"#ed7953\"],[0.7777777777777778,\"#fb9f3a\"],[0.8888888888888888,\"#fdca26\"],[1.0,\"#f0f921\"]],\"type\":\"histogram2d\"}],\"histogram\":[{\"marker\":{\"pattern\":{\"fillmode\":\"overlay\",\"size\":10,\"solidity\":0.2}},\"type\":\"histogram\"}],\"mesh3d\":[{\"colorbar\":{\"outlinewidth\":0,\"ticks\":\"\"},\"type\":\"mesh3d\"}],\"parcoords\":[{\"line\":{\"colorbar\":{\"outlinewidth\":0,\"ticks\":\"\"}},\"type\":\"parcoords\"}],\"pie\":[{\"automargin\":true,\"type\":\"pie\"}],\"scatter3d\":[{\"line\":{\"colorbar\":{\"outlinewidth\":0,\"ticks\":\"\"}},\"marker\":{\"colorbar\":{\"outlinewidth\":0,\"ticks\":\"\"}},\"type\":\"scatter3d\"}],\"scattercarpet\":[{\"marker\":{\"colorbar\":{\"outlinewidth\":0,\"ticks\":\"\"}},\"type\":\"scattercarpet\"}],\"scattergeo\":[{\"marker\":{\"colorbar\":{\"outlinewidth\":0,\"ticks\":\"\"}},\"type\":\"scattergeo\"}],\"scattergl\":[{\"marker\":{\"colorbar\":{\"outlinewidth\":0,\"ticks\":\"\"}},\"type\":\"scattergl\"}],\"scattermapbox\":[{\"marker\":{\"colorbar\":{\"outlinewidth\":0,\"ticks\":\"\"}},\"type\":\"scattermapbox\"}],\"scatterpolargl\":[{\"marker\":{\"colorbar\":{\"outlinewidth\":0,\"ticks\":\"\"}},\"type\":\"scatterpolargl\"}],\"scatterpolar\":[{\"marker\":{\"colorbar\":{\"outlinewidth\":0,\"ticks\":\"\"}},\"type\":\"scatterpolar\"}],\"scatter\":[{\"marker\":{\"colorbar\":{\"outlinewidth\":0,\"ticks\":\"\"}},\"type\":\"scatter\"}],\"scatterternary\":[{\"marker\":{\"colorbar\":{\"outlinewidth\":0,\"ticks\":\"\"}},\"type\":\"scatterternary\"}],\"surface\":[{\"colorbar\":{\"outlinewidth\":0,\"ticks\":\"\"},\"colorscale\":[[0.0,\"#0d0887\"],[0.1111111111111111,\"#46039f\"],[0.2222222222222222,\"#7201a8\"],[0.3333333333333333,\"#9c179e\"],[0.4444444444444444,\"#bd3786\"],[0.5555555555555556,\"#d8576b\"],[0.6666666666666666,\"#ed7953\"],[0.7777777777777778,\"#fb9f3a\"],[0.8888888888888888,\"#fdca26\"],[1.0,\"#f0f921\"]],\"type\":\"surface\"}],\"table\":[{\"cells\":{\"fill\":{\"color\":\"#EBF0F8\"},\"line\":{\"color\":\"white\"}},\"header\":{\"fill\":{\"color\":\"#C8D4E3\"},\"line\":{\"color\":\"white\"}},\"type\":\"table\"}]},\"layout\":{\"annotationdefaults\":{\"arrowcolor\":\"#2a3f5f\",\"arrowhead\":0,\"arrowwidth\":1},\"autotypenumbers\":\"strict\",\"coloraxis\":{\"colorbar\":{\"outlinewidth\":0,\"ticks\":\"\"}},\"colorscale\":{\"diverging\":[[0,\"#8e0152\"],[0.1,\"#c51b7d\"],[0.2,\"#de77ae\"],[0.3,\"#f1b6da\"],[0.4,\"#fde0ef\"],[0.5,\"#f7f7f7\"],[0.6,\"#e6f5d0\"],[0.7,\"#b8e186\"],[0.8,\"#7fbc41\"],[0.9,\"#4d9221\"],[1,\"#276419\"]],\"sequential\":[[0.0,\"#0d0887\"],[0.1111111111111111,\"#46039f\"],[0.2222222222222222,\"#7201a8\"],[0.3333333333333333,\"#9c179e\"],[0.4444444444444444,\"#bd3786\"],[0.5555555555555556,\"#d8576b\"],[0.6666666666666666,\"#ed7953\"],[0.7777777777777778,\"#fb9f3a\"],[0.8888888888888888,\"#fdca26\"],[1.0,\"#f0f921\"]],\"sequentialminus\":[[0.0,\"#0d0887\"],[0.1111111111111111,\"#46039f\"],[0.2222222222222222,\"#7201a8\"],[0.3333333333333333,\"#9c179e\"],[0.4444444444444444,\"#bd3786\"],[0.5555555555555556,\"#d8576b\"],[0.6666666666666666,\"#ed7953\"],[0.7777777777777778,\"#fb9f3a\"],[0.8888888888888888,\"#fdca26\"],[1.0,\"#f0f921\"]]},\"colorway\":[\"#636efa\",\"#EF553B\",\"#00cc96\",\"#ab63fa\",\"#FFA15A\",\"#19d3f3\",\"#FF6692\",\"#B6E880\",\"#FF97FF\",\"#FECB52\"],\"font\":{\"color\":\"#2a3f5f\"},\"geo\":{\"bgcolor\":\"white\",\"lakecolor\":\"white\",\"landcolor\":\"#E5ECF6\",\"showlakes\":true,\"showland\":true,\"subunitcolor\":\"white\"},\"hoverlabel\":{\"align\":\"left\"},\"hovermode\":\"closest\",\"mapbox\":{\"style\":\"light\"},\"paper_bgcolor\":\"white\",\"plot_bgcolor\":\"#E5ECF6\",\"polar\":{\"angularaxis\":{\"gridcolor\":\"white\",\"linecolor\":\"white\",\"ticks\":\"\"},\"bgcolor\":\"#E5ECF6\",\"radialaxis\":{\"gridcolor\":\"white\",\"linecolor\":\"white\",\"ticks\":\"\"}},\"scene\":{\"xaxis\":{\"backgroundcolor\":\"#E5ECF6\",\"gridcolor\":\"white\",\"gridwidth\":2,\"linecolor\":\"white\",\"showbackground\":true,\"ticks\":\"\",\"zerolinecolor\":\"white\"},\"yaxis\":{\"backgroundcolor\":\"#E5ECF6\",\"gridcolor\":\"white\",\"gridwidth\":2,\"linecolor\":\"white\",\"showbackground\":true,\"ticks\":\"\",\"zerolinecolor\":\"white\"},\"zaxis\":{\"backgroundcolor\":\"#E5ECF6\",\"gridcolor\":\"white\",\"gridwidth\":2,\"linecolor\":\"white\",\"showbackground\":true,\"ticks\":\"\",\"zerolinecolor\":\"white\"}},\"shapedefaults\":{\"line\":{\"color\":\"#2a3f5f\"}},\"ternary\":{\"aaxis\":{\"gridcolor\":\"white\",\"linecolor\":\"white\",\"ticks\":\"\"},\"baxis\":{\"gridcolor\":\"white\",\"linecolor\":\"white\",\"ticks\":\"\"},\"bgcolor\":\"#E5ECF6\",\"caxis\":{\"gridcolor\":\"white\",\"linecolor\":\"white\",\"ticks\":\"\"}},\"title\":{\"x\":0.05},\"xaxis\":{\"automargin\":true,\"gridcolor\":\"white\",\"linecolor\":\"white\",\"ticks\":\"\",\"title\":{\"standoff\":15},\"zerolinecolor\":\"white\",\"zerolinewidth\":2},\"yaxis\":{\"automargin\":true,\"gridcolor\":\"white\",\"linecolor\":\"white\",\"ticks\":\"\",\"title\":{\"standoff\":15},\"zerolinecolor\":\"white\",\"zerolinewidth\":2}}},\"title\":{\"font\":{\"color\":\"#4D5663\"},\"text\":\"Malevolent Global Conspiracies Subscale Distribution\"},\"xaxis\":{\"gridcolor\":\"#E1E5ED\",\"showgrid\":true,\"tickfont\":{\"color\":\"#4D5663\"},\"title\":{\"font\":{\"color\":\"#4D5663\"},\"text\":\"GCBS score (overall)\"},\"zerolinecolor\":\"#E1E5ED\"},\"yaxis\":{\"gridcolor\":\"#E1E5ED\",\"showgrid\":true,\"tickfont\":{\"color\":\"#4D5663\"},\"title\":{\"font\":{\"color\":\"#4D5663\"},\"text\":\"Count\"},\"zerolinecolor\":\"#E1E5ED\"}},                        {\"showLink\": true, \"linkText\": \"Export to plot.ly\", \"plotlyServerURL\": \"https://plot.ly\", \"responsive\": true}                    ).then(function(){\n",
       "                            \n",
       "var gd = document.getElementById('8a13af35-a1b9-4a8a-8fad-9f53bdbc5768');\n",
       "var x = new MutationObserver(function (mutations, observer) {{\n",
       "        var display = window.getComputedStyle(gd).display;\n",
       "        if (!display || display === 'none') {{\n",
       "            console.log([gd, 'removed!']);\n",
       "            Plotly.purge(gd);\n",
       "            observer.disconnect();\n",
       "        }}\n",
       "}});\n",
       "\n",
       "// Listen for the removal of the full notebook cells\n",
       "var notebookContainer = gd.closest('#notebook-container');\n",
       "if (notebookContainer) {{\n",
       "    x.observe(notebookContainer, {childList: true});\n",
       "}}\n",
       "\n",
       "// Listen for the clearing of the current output cell\n",
       "var outputEl = gd.closest('.output');\n",
       "if (outputEl) {{\n",
       "    x.observe(outputEl, {childList: true});\n",
       "}}\n",
       "\n",
       "                        })                };                });            </script>        </div>"
      ]
     },
     "metadata": {},
     "output_type": "display_data"
    }
   ],
   "source": [
    "gcbs_clean_df['GCBS_Malevolent_Global_Conspiracies'].iplot(kind='hist', opacity=0.75, color='rgb(12, 128, 128)', title='Malevolent Global Conspiracies Subscale Distribution'.format(total_responses), yTitle='Count', xTitle='GCBS score (overall)', bargap = 0, theme='white')"
   ]
  },
  {
   "cell_type": "code",
   "execution_count": 52,
   "metadata": {},
   "outputs": [
    {
     "data": {
      "application/vnd.plotly.v1+json": {
       "config": {
        "linkText": "Export to plot.ly",
        "plotlyServerURL": "https://plot.ly",
        "showLink": true
       },
       "data": [
        {
         "histfunc": "count",
         "histnorm": "",
         "marker": {
          "color": "rgba(12, 128, 128, 1.0)",
          "line": {
           "color": "#4D5663",
           "width": 1.3
          }
         },
         "name": "GCBS_Extraterrestrial_Coverup",
         "opacity": 0.75,
         "orientation": "v",
         "type": "histogram",
         "x": [
          9,
          7,
          11,
          8,
          3,
          3,
          3,
          8,
          3,
          12,
          3,
          3,
          11,
          5,
          8,
          6,
          5,
          3,
          14,
          3,
          7,
          5,
          12,
          12,
          15,
          3,
          3,
          14,
          3,
          10,
          10,
          3,
          5,
          3,
          3,
          4,
          3,
          3,
          3,
          5,
          3,
          3,
          3,
          9,
          3,
          12,
          7,
          3,
          5,
          3,
          8,
          4,
          12,
          3,
          8,
          13,
          9,
          3,
          3,
          3,
          13,
          4,
          3,
          8,
          3,
          11,
          10,
          6,
          5,
          3,
          3,
          10,
          5,
          3,
          3,
          3,
          6,
          3,
          4,
          3,
          6,
          3,
          7,
          3,
          13,
          3,
          3,
          3,
          3,
          4,
          3,
          9,
          3,
          4,
          7,
          4,
          3,
          8,
          3,
          9,
          3,
          15,
          5,
          3,
          6,
          14,
          9,
          10,
          10,
          12,
          10,
          3,
          3,
          5,
          11,
          4,
          13,
          7,
          3,
          3,
          11,
          3,
          9,
          5,
          9,
          3,
          7,
          3,
          3,
          3,
          4,
          7,
          10,
          3,
          3,
          3,
          9,
          4,
          4,
          10,
          8,
          3,
          11,
          13,
          5,
          3,
          6,
          9,
          9,
          6,
          4,
          4,
          13,
          3,
          13,
          4,
          3,
          3,
          9,
          3,
          6,
          11,
          6,
          3,
          4,
          3,
          11,
          7,
          4,
          11,
          3,
          3,
          3,
          3,
          6,
          15,
          14,
          9,
          5,
          3,
          9,
          3,
          3,
          7,
          3,
          3,
          8,
          15,
          3,
          3,
          11,
          6,
          3,
          3,
          3,
          10,
          3,
          9,
          12,
          7,
          3,
          3,
          3,
          9,
          3,
          10,
          3,
          8,
          6,
          3,
          10,
          7,
          9,
          8,
          4,
          10,
          12,
          5,
          3,
          9,
          3,
          4,
          3,
          3,
          3,
          3,
          10,
          3,
          3,
          3,
          3,
          13,
          14,
          3,
          7,
          8,
          3,
          11,
          3,
          3,
          5,
          13,
          9,
          13,
          12,
          3,
          13,
          8,
          15,
          10,
          15,
          13,
          11,
          7,
          13,
          9,
          13,
          6,
          3,
          10,
          12,
          10,
          9,
          10,
          13,
          8,
          3,
          13,
          11,
          11,
          13,
          10,
          8,
          4,
          3,
          13,
          3,
          11,
          5,
          11,
          3,
          9,
          3,
          13,
          10,
          9,
          3,
          11,
          6,
          10,
          6,
          9,
          3,
          5,
          3,
          5,
          12,
          14,
          12,
          4,
          3,
          7,
          6,
          11,
          6,
          3,
          14,
          11,
          8,
          6,
          11,
          11,
          7,
          5,
          3,
          3,
          7,
          3,
          9,
          3,
          3,
          3,
          3,
          3,
          13,
          3,
          8,
          9,
          5,
          3,
          3,
          4,
          6,
          3,
          12,
          15,
          7,
          10,
          3,
          3,
          9,
          3,
          3,
          3,
          13,
          7,
          3,
          13,
          14,
          6,
          3,
          11,
          8,
          3,
          8,
          9,
          3,
          5,
          3,
          11,
          3,
          3,
          3,
          3,
          3,
          3,
          5,
          3,
          13,
          3,
          4,
          3,
          13,
          3,
          3,
          3,
          5,
          14,
          7,
          9,
          3,
          4,
          3,
          7,
          3,
          3,
          13,
          11,
          3,
          9,
          5,
          12,
          3,
          3,
          3,
          11,
          7,
          3,
          9,
          3,
          3,
          10,
          8,
          3,
          3,
          3,
          7,
          3,
          3,
          5,
          6,
          13,
          10,
          3,
          9,
          7,
          7,
          3,
          10,
          3,
          5,
          14,
          12,
          12,
          4,
          3,
          3,
          10,
          3,
          10,
          11,
          3,
          14,
          12,
          3,
          9,
          3,
          8,
          3,
          3,
          14,
          3,
          3,
          9,
          14,
          4,
          11,
          3,
          3,
          15,
          4,
          15,
          14,
          11,
          5,
          13,
          7,
          4,
          11,
          13,
          11,
          10,
          8,
          3,
          5,
          7,
          3,
          8,
          3,
          3,
          3,
          5,
          3,
          6,
          3,
          3,
          3,
          3,
          3,
          5,
          3,
          3,
          9,
          6,
          3,
          3,
          3,
          6,
          5,
          3,
          3,
          5,
          3,
          3,
          11,
          3,
          5,
          5,
          8,
          13,
          4,
          5,
          3,
          3,
          3,
          8,
          3,
          11,
          4,
          3,
          13,
          9,
          8,
          3,
          3,
          5,
          3,
          13,
          11,
          10,
          8,
          3,
          8,
          9,
          10,
          3,
          6,
          3,
          14,
          7,
          4,
          3,
          14,
          7,
          3,
          11,
          4,
          3,
          3,
          3,
          7,
          9,
          10,
          5,
          8,
          7,
          4,
          3,
          10,
          3,
          7,
          7,
          7,
          11,
          3,
          15,
          3,
          3,
          9,
          4,
          11,
          3,
          6,
          4,
          4,
          8,
          3,
          4,
          3,
          3,
          3,
          11,
          10,
          3,
          8,
          13,
          8,
          7,
          5,
          3,
          3,
          9,
          9,
          4,
          13,
          3,
          3,
          3,
          7,
          8,
          3,
          8,
          3,
          3,
          3,
          6,
          11,
          11,
          3,
          13,
          6,
          15,
          3,
          3,
          5,
          15,
          3,
          8,
          15,
          6,
          3,
          3,
          11,
          3,
          3,
          7,
          7,
          3,
          4,
          3,
          4,
          13,
          3,
          8,
          3,
          10,
          10,
          3,
          3,
          7,
          3,
          5,
          9,
          10,
          15,
          3,
          13,
          3,
          3,
          5,
          3,
          3,
          7,
          7,
          3,
          3,
          3,
          15,
          5,
          5,
          7,
          8,
          11,
          9,
          10,
          7,
          6,
          15,
          7,
          9,
          3,
          3,
          7,
          3,
          4,
          15,
          3,
          3,
          3,
          3,
          3,
          3,
          4,
          3,
          3,
          3,
          3,
          15,
          3,
          3,
          14,
          3,
          8,
          3,
          3,
          3,
          13,
          3,
          3,
          3,
          5,
          3,
          15,
          4,
          3,
          9,
          7,
          9,
          8,
          3,
          4,
          5,
          8,
          7,
          10,
          7,
          4,
          4,
          3,
          10,
          4,
          6,
          3,
          3,
          3,
          8,
          3,
          9,
          3,
          3,
          11,
          3,
          3,
          3,
          4,
          6,
          3,
          9,
          10,
          3,
          3,
          7,
          3,
          7,
          4,
          9,
          6,
          3,
          9,
          3,
          11,
          8,
          3,
          3,
          4,
          3,
          6,
          3,
          3,
          3,
          4,
          3,
          7,
          7,
          13,
          5,
          6,
          6,
          3,
          15,
          3,
          3,
          10,
          3,
          3,
          3,
          11,
          7,
          5,
          10,
          11,
          11,
          9,
          6,
          3,
          8,
          3,
          13,
          3,
          3,
          14,
          3,
          3,
          3,
          15,
          9,
          8,
          14,
          3,
          3,
          6,
          3,
          3,
          3,
          3,
          5,
          3,
          13,
          11,
          3,
          10,
          4,
          3,
          8,
          7,
          3,
          3,
          8,
          3,
          9,
          5,
          10,
          3,
          7,
          3,
          15,
          9,
          3,
          3,
          13,
          3,
          3,
          6,
          4,
          3,
          11,
          3,
          3,
          4,
          9,
          4,
          9,
          3,
          8,
          13,
          6,
          3,
          12,
          8,
          12,
          3,
          3,
          13,
          4,
          7,
          9,
          5,
          3,
          4,
          3,
          3,
          3,
          3,
          3,
          6,
          12,
          3,
          5,
          12,
          7,
          8,
          9,
          5,
          14,
          5,
          9,
          7,
          12,
          7,
          3,
          8,
          11,
          3,
          4,
          6,
          8,
          3,
          3,
          3,
          3,
          3,
          3,
          3,
          3,
          12,
          6,
          10,
          5,
          9,
          3,
          14,
          11,
          3,
          3,
          5,
          3,
          3,
          7,
          3,
          3,
          3,
          4,
          3,
          8,
          9,
          3,
          4,
          7,
          3,
          12,
          13,
          3,
          3,
          3,
          3,
          3,
          7,
          8,
          3,
          3,
          3,
          15,
          7,
          5,
          3,
          6,
          3,
          7,
          3,
          3,
          7,
          3,
          11,
          9,
          3,
          3,
          3,
          3,
          3,
          10,
          3,
          5,
          6,
          4,
          3,
          10,
          6,
          9,
          6,
          11,
          7,
          3,
          6,
          9,
          3,
          5,
          13,
          8,
          13,
          4,
          3,
          7
         ]
        }
       ],
       "layout": {
        "barmode": "overlay",
        "legend": {
         "bgcolor": "#FFFFFF",
         "font": {
          "color": "#4D5663"
         }
        },
        "paper_bgcolor": "#FFFFFF",
        "plot_bgcolor": "#FFFFFF",
        "template": {
         "data": {
          "bar": [
           {
            "error_x": {
             "color": "#2a3f5f"
            },
            "error_y": {
             "color": "#2a3f5f"
            },
            "marker": {
             "line": {
              "color": "#E5ECF6",
              "width": 0.5
             },
             "pattern": {
              "fillmode": "overlay",
              "size": 10,
              "solidity": 0.2
             }
            },
            "type": "bar"
           }
          ],
          "barpolar": [
           {
            "marker": {
             "line": {
              "color": "#E5ECF6",
              "width": 0.5
             },
             "pattern": {
              "fillmode": "overlay",
              "size": 10,
              "solidity": 0.2
             }
            },
            "type": "barpolar"
           }
          ],
          "carpet": [
           {
            "aaxis": {
             "endlinecolor": "#2a3f5f",
             "gridcolor": "white",
             "linecolor": "white",
             "minorgridcolor": "white",
             "startlinecolor": "#2a3f5f"
            },
            "baxis": {
             "endlinecolor": "#2a3f5f",
             "gridcolor": "white",
             "linecolor": "white",
             "minorgridcolor": "white",
             "startlinecolor": "#2a3f5f"
            },
            "type": "carpet"
           }
          ],
          "choropleth": [
           {
            "colorbar": {
             "outlinewidth": 0,
             "ticks": ""
            },
            "type": "choropleth"
           }
          ],
          "contour": [
           {
            "colorbar": {
             "outlinewidth": 0,
             "ticks": ""
            },
            "colorscale": [
             [
              0,
              "#0d0887"
             ],
             [
              0.1111111111111111,
              "#46039f"
             ],
             [
              0.2222222222222222,
              "#7201a8"
             ],
             [
              0.3333333333333333,
              "#9c179e"
             ],
             [
              0.4444444444444444,
              "#bd3786"
             ],
             [
              0.5555555555555556,
              "#d8576b"
             ],
             [
              0.6666666666666666,
              "#ed7953"
             ],
             [
              0.7777777777777778,
              "#fb9f3a"
             ],
             [
              0.8888888888888888,
              "#fdca26"
             ],
             [
              1,
              "#f0f921"
             ]
            ],
            "type": "contour"
           }
          ],
          "contourcarpet": [
           {
            "colorbar": {
             "outlinewidth": 0,
             "ticks": ""
            },
            "type": "contourcarpet"
           }
          ],
          "heatmap": [
           {
            "colorbar": {
             "outlinewidth": 0,
             "ticks": ""
            },
            "colorscale": [
             [
              0,
              "#0d0887"
             ],
             [
              0.1111111111111111,
              "#46039f"
             ],
             [
              0.2222222222222222,
              "#7201a8"
             ],
             [
              0.3333333333333333,
              "#9c179e"
             ],
             [
              0.4444444444444444,
              "#bd3786"
             ],
             [
              0.5555555555555556,
              "#d8576b"
             ],
             [
              0.6666666666666666,
              "#ed7953"
             ],
             [
              0.7777777777777778,
              "#fb9f3a"
             ],
             [
              0.8888888888888888,
              "#fdca26"
             ],
             [
              1,
              "#f0f921"
             ]
            ],
            "type": "heatmap"
           }
          ],
          "heatmapgl": [
           {
            "colorbar": {
             "outlinewidth": 0,
             "ticks": ""
            },
            "colorscale": [
             [
              0,
              "#0d0887"
             ],
             [
              0.1111111111111111,
              "#46039f"
             ],
             [
              0.2222222222222222,
              "#7201a8"
             ],
             [
              0.3333333333333333,
              "#9c179e"
             ],
             [
              0.4444444444444444,
              "#bd3786"
             ],
             [
              0.5555555555555556,
              "#d8576b"
             ],
             [
              0.6666666666666666,
              "#ed7953"
             ],
             [
              0.7777777777777778,
              "#fb9f3a"
             ],
             [
              0.8888888888888888,
              "#fdca26"
             ],
             [
              1,
              "#f0f921"
             ]
            ],
            "type": "heatmapgl"
           }
          ],
          "histogram": [
           {
            "marker": {
             "pattern": {
              "fillmode": "overlay",
              "size": 10,
              "solidity": 0.2
             }
            },
            "type": "histogram"
           }
          ],
          "histogram2d": [
           {
            "colorbar": {
             "outlinewidth": 0,
             "ticks": ""
            },
            "colorscale": [
             [
              0,
              "#0d0887"
             ],
             [
              0.1111111111111111,
              "#46039f"
             ],
             [
              0.2222222222222222,
              "#7201a8"
             ],
             [
              0.3333333333333333,
              "#9c179e"
             ],
             [
              0.4444444444444444,
              "#bd3786"
             ],
             [
              0.5555555555555556,
              "#d8576b"
             ],
             [
              0.6666666666666666,
              "#ed7953"
             ],
             [
              0.7777777777777778,
              "#fb9f3a"
             ],
             [
              0.8888888888888888,
              "#fdca26"
             ],
             [
              1,
              "#f0f921"
             ]
            ],
            "type": "histogram2d"
           }
          ],
          "histogram2dcontour": [
           {
            "colorbar": {
             "outlinewidth": 0,
             "ticks": ""
            },
            "colorscale": [
             [
              0,
              "#0d0887"
             ],
             [
              0.1111111111111111,
              "#46039f"
             ],
             [
              0.2222222222222222,
              "#7201a8"
             ],
             [
              0.3333333333333333,
              "#9c179e"
             ],
             [
              0.4444444444444444,
              "#bd3786"
             ],
             [
              0.5555555555555556,
              "#d8576b"
             ],
             [
              0.6666666666666666,
              "#ed7953"
             ],
             [
              0.7777777777777778,
              "#fb9f3a"
             ],
             [
              0.8888888888888888,
              "#fdca26"
             ],
             [
              1,
              "#f0f921"
             ]
            ],
            "type": "histogram2dcontour"
           }
          ],
          "mesh3d": [
           {
            "colorbar": {
             "outlinewidth": 0,
             "ticks": ""
            },
            "type": "mesh3d"
           }
          ],
          "parcoords": [
           {
            "line": {
             "colorbar": {
              "outlinewidth": 0,
              "ticks": ""
             }
            },
            "type": "parcoords"
           }
          ],
          "pie": [
           {
            "automargin": true,
            "type": "pie"
           }
          ],
          "scatter": [
           {
            "marker": {
             "colorbar": {
              "outlinewidth": 0,
              "ticks": ""
             }
            },
            "type": "scatter"
           }
          ],
          "scatter3d": [
           {
            "line": {
             "colorbar": {
              "outlinewidth": 0,
              "ticks": ""
             }
            },
            "marker": {
             "colorbar": {
              "outlinewidth": 0,
              "ticks": ""
             }
            },
            "type": "scatter3d"
           }
          ],
          "scattercarpet": [
           {
            "marker": {
             "colorbar": {
              "outlinewidth": 0,
              "ticks": ""
             }
            },
            "type": "scattercarpet"
           }
          ],
          "scattergeo": [
           {
            "marker": {
             "colorbar": {
              "outlinewidth": 0,
              "ticks": ""
             }
            },
            "type": "scattergeo"
           }
          ],
          "scattergl": [
           {
            "marker": {
             "colorbar": {
              "outlinewidth": 0,
              "ticks": ""
             }
            },
            "type": "scattergl"
           }
          ],
          "scattermapbox": [
           {
            "marker": {
             "colorbar": {
              "outlinewidth": 0,
              "ticks": ""
             }
            },
            "type": "scattermapbox"
           }
          ],
          "scatterpolar": [
           {
            "marker": {
             "colorbar": {
              "outlinewidth": 0,
              "ticks": ""
             }
            },
            "type": "scatterpolar"
           }
          ],
          "scatterpolargl": [
           {
            "marker": {
             "colorbar": {
              "outlinewidth": 0,
              "ticks": ""
             }
            },
            "type": "scatterpolargl"
           }
          ],
          "scatterternary": [
           {
            "marker": {
             "colorbar": {
              "outlinewidth": 0,
              "ticks": ""
             }
            },
            "type": "scatterternary"
           }
          ],
          "surface": [
           {
            "colorbar": {
             "outlinewidth": 0,
             "ticks": ""
            },
            "colorscale": [
             [
              0,
              "#0d0887"
             ],
             [
              0.1111111111111111,
              "#46039f"
             ],
             [
              0.2222222222222222,
              "#7201a8"
             ],
             [
              0.3333333333333333,
              "#9c179e"
             ],
             [
              0.4444444444444444,
              "#bd3786"
             ],
             [
              0.5555555555555556,
              "#d8576b"
             ],
             [
              0.6666666666666666,
              "#ed7953"
             ],
             [
              0.7777777777777778,
              "#fb9f3a"
             ],
             [
              0.8888888888888888,
              "#fdca26"
             ],
             [
              1,
              "#f0f921"
             ]
            ],
            "type": "surface"
           }
          ],
          "table": [
           {
            "cells": {
             "fill": {
              "color": "#EBF0F8"
             },
             "line": {
              "color": "white"
             }
            },
            "header": {
             "fill": {
              "color": "#C8D4E3"
             },
             "line": {
              "color": "white"
             }
            },
            "type": "table"
           }
          ]
         },
         "layout": {
          "annotationdefaults": {
           "arrowcolor": "#2a3f5f",
           "arrowhead": 0,
           "arrowwidth": 1
          },
          "autotypenumbers": "strict",
          "coloraxis": {
           "colorbar": {
            "outlinewidth": 0,
            "ticks": ""
           }
          },
          "colorscale": {
           "diverging": [
            [
             0,
             "#8e0152"
            ],
            [
             0.1,
             "#c51b7d"
            ],
            [
             0.2,
             "#de77ae"
            ],
            [
             0.3,
             "#f1b6da"
            ],
            [
             0.4,
             "#fde0ef"
            ],
            [
             0.5,
             "#f7f7f7"
            ],
            [
             0.6,
             "#e6f5d0"
            ],
            [
             0.7,
             "#b8e186"
            ],
            [
             0.8,
             "#7fbc41"
            ],
            [
             0.9,
             "#4d9221"
            ],
            [
             1,
             "#276419"
            ]
           ],
           "sequential": [
            [
             0,
             "#0d0887"
            ],
            [
             0.1111111111111111,
             "#46039f"
            ],
            [
             0.2222222222222222,
             "#7201a8"
            ],
            [
             0.3333333333333333,
             "#9c179e"
            ],
            [
             0.4444444444444444,
             "#bd3786"
            ],
            [
             0.5555555555555556,
             "#d8576b"
            ],
            [
             0.6666666666666666,
             "#ed7953"
            ],
            [
             0.7777777777777778,
             "#fb9f3a"
            ],
            [
             0.8888888888888888,
             "#fdca26"
            ],
            [
             1,
             "#f0f921"
            ]
           ],
           "sequentialminus": [
            [
             0,
             "#0d0887"
            ],
            [
             0.1111111111111111,
             "#46039f"
            ],
            [
             0.2222222222222222,
             "#7201a8"
            ],
            [
             0.3333333333333333,
             "#9c179e"
            ],
            [
             0.4444444444444444,
             "#bd3786"
            ],
            [
             0.5555555555555556,
             "#d8576b"
            ],
            [
             0.6666666666666666,
             "#ed7953"
            ],
            [
             0.7777777777777778,
             "#fb9f3a"
            ],
            [
             0.8888888888888888,
             "#fdca26"
            ],
            [
             1,
             "#f0f921"
            ]
           ]
          },
          "colorway": [
           "#636efa",
           "#EF553B",
           "#00cc96",
           "#ab63fa",
           "#FFA15A",
           "#19d3f3",
           "#FF6692",
           "#B6E880",
           "#FF97FF",
           "#FECB52"
          ],
          "font": {
           "color": "#2a3f5f"
          },
          "geo": {
           "bgcolor": "white",
           "lakecolor": "white",
           "landcolor": "#E5ECF6",
           "showlakes": true,
           "showland": true,
           "subunitcolor": "white"
          },
          "hoverlabel": {
           "align": "left"
          },
          "hovermode": "closest",
          "mapbox": {
           "style": "light"
          },
          "paper_bgcolor": "white",
          "plot_bgcolor": "#E5ECF6",
          "polar": {
           "angularaxis": {
            "gridcolor": "white",
            "linecolor": "white",
            "ticks": ""
           },
           "bgcolor": "#E5ECF6",
           "radialaxis": {
            "gridcolor": "white",
            "linecolor": "white",
            "ticks": ""
           }
          },
          "scene": {
           "xaxis": {
            "backgroundcolor": "#E5ECF6",
            "gridcolor": "white",
            "gridwidth": 2,
            "linecolor": "white",
            "showbackground": true,
            "ticks": "",
            "zerolinecolor": "white"
           },
           "yaxis": {
            "backgroundcolor": "#E5ECF6",
            "gridcolor": "white",
            "gridwidth": 2,
            "linecolor": "white",
            "showbackground": true,
            "ticks": "",
            "zerolinecolor": "white"
           },
           "zaxis": {
            "backgroundcolor": "#E5ECF6",
            "gridcolor": "white",
            "gridwidth": 2,
            "linecolor": "white",
            "showbackground": true,
            "ticks": "",
            "zerolinecolor": "white"
           }
          },
          "shapedefaults": {
           "line": {
            "color": "#2a3f5f"
           }
          },
          "ternary": {
           "aaxis": {
            "gridcolor": "white",
            "linecolor": "white",
            "ticks": ""
           },
           "baxis": {
            "gridcolor": "white",
            "linecolor": "white",
            "ticks": ""
           },
           "bgcolor": "#E5ECF6",
           "caxis": {
            "gridcolor": "white",
            "linecolor": "white",
            "ticks": ""
           }
          },
          "title": {
           "x": 0.05
          },
          "xaxis": {
           "automargin": true,
           "gridcolor": "white",
           "linecolor": "white",
           "ticks": "",
           "title": {
            "standoff": 15
           },
           "zerolinecolor": "white",
           "zerolinewidth": 2
          },
          "yaxis": {
           "automargin": true,
           "gridcolor": "white",
           "linecolor": "white",
           "ticks": "",
           "title": {
            "standoff": 15
           },
           "zerolinecolor": "white",
           "zerolinewidth": 2
          }
         }
        },
        "title": {
         "font": {
          "color": "#4D5663"
         },
         "text": "Extraterrestrial Coverup Subscale Distribution"
        },
        "xaxis": {
         "gridcolor": "#E1E5ED",
         "showgrid": true,
         "tickfont": {
          "color": "#4D5663"
         },
         "title": {
          "font": {
           "color": "#4D5663"
          },
          "text": "GCBS score (overall)"
         },
         "zerolinecolor": "#E1E5ED"
        },
        "yaxis": {
         "gridcolor": "#E1E5ED",
         "showgrid": true,
         "tickfont": {
          "color": "#4D5663"
         },
         "title": {
          "font": {
           "color": "#4D5663"
          },
          "text": "Count"
         },
         "zerolinecolor": "#E1E5ED"
        }
       }
      },
      "text/html": [
       "<div>                            <div id=\"b04a8955-1cf0-4dbe-9a6f-d0442369018b\" class=\"plotly-graph-div\" style=\"height:525px; width:100%;\"></div>            <script type=\"text/javascript\">                require([\"plotly\"], function(Plotly) {                    window.PLOTLYENV=window.PLOTLYENV || {};\n",
       "                    window.PLOTLYENV.BASE_URL='https://plot.ly';                                    if (document.getElementById(\"b04a8955-1cf0-4dbe-9a6f-d0442369018b\")) {                    Plotly.newPlot(                        \"b04a8955-1cf0-4dbe-9a6f-d0442369018b\",                        [{\"histfunc\":\"count\",\"histnorm\":\"\",\"marker\":{\"color\":\"rgba(12, 128, 128, 1.0)\",\"line\":{\"color\":\"#4D5663\",\"width\":1.3}},\"name\":\"GCBS_Extraterrestrial_Coverup\",\"opacity\":0.75,\"orientation\":\"v\",\"x\":[9,7,11,8,3,3,3,8,3,12,3,3,11,5,8,6,5,3,14,3,7,5,12,12,15,3,3,14,3,10,10,3,5,3,3,4,3,3,3,5,3,3,3,9,3,12,7,3,5,3,8,4,12,3,8,13,9,3,3,3,13,4,3,8,3,11,10,6,5,3,3,10,5,3,3,3,6,3,4,3,6,3,7,3,13,3,3,3,3,4,3,9,3,4,7,4,3,8,3,9,3,15,5,3,6,14,9,10,10,12,10,3,3,5,11,4,13,7,3,3,11,3,9,5,9,3,7,3,3,3,4,7,10,3,3,3,9,4,4,10,8,3,11,13,5,3,6,9,9,6,4,4,13,3,13,4,3,3,9,3,6,11,6,3,4,3,11,7,4,11,3,3,3,3,6,15,14,9,5,3,9,3,3,7,3,3,8,15,3,3,11,6,3,3,3,10,3,9,12,7,3,3,3,9,3,10,3,8,6,3,10,7,9,8,4,10,12,5,3,9,3,4,3,3,3,3,10,3,3,3,3,13,14,3,7,8,3,11,3,3,5,13,9,13,12,3,13,8,15,10,15,13,11,7,13,9,13,6,3,10,12,10,9,10,13,8,3,13,11,11,13,10,8,4,3,13,3,11,5,11,3,9,3,13,10,9,3,11,6,10,6,9,3,5,3,5,12,14,12,4,3,7,6,11,6,3,14,11,8,6,11,11,7,5,3,3,7,3,9,3,3,3,3,3,13,3,8,9,5,3,3,4,6,3,12,15,7,10,3,3,9,3,3,3,13,7,3,13,14,6,3,11,8,3,8,9,3,5,3,11,3,3,3,3,3,3,5,3,13,3,4,3,13,3,3,3,5,14,7,9,3,4,3,7,3,3,13,11,3,9,5,12,3,3,3,11,7,3,9,3,3,10,8,3,3,3,7,3,3,5,6,13,10,3,9,7,7,3,10,3,5,14,12,12,4,3,3,10,3,10,11,3,14,12,3,9,3,8,3,3,14,3,3,9,14,4,11,3,3,15,4,15,14,11,5,13,7,4,11,13,11,10,8,3,5,7,3,8,3,3,3,5,3,6,3,3,3,3,3,5,3,3,9,6,3,3,3,6,5,3,3,5,3,3,11,3,5,5,8,13,4,5,3,3,3,8,3,11,4,3,13,9,8,3,3,5,3,13,11,10,8,3,8,9,10,3,6,3,14,7,4,3,14,7,3,11,4,3,3,3,7,9,10,5,8,7,4,3,10,3,7,7,7,11,3,15,3,3,9,4,11,3,6,4,4,8,3,4,3,3,3,11,10,3,8,13,8,7,5,3,3,9,9,4,13,3,3,3,7,8,3,8,3,3,3,6,11,11,3,13,6,15,3,3,5,15,3,8,15,6,3,3,11,3,3,7,7,3,4,3,4,13,3,8,3,10,10,3,3,7,3,5,9,10,15,3,13,3,3,5,3,3,7,7,3,3,3,15,5,5,7,8,11,9,10,7,6,15,7,9,3,3,7,3,4,15,3,3,3,3,3,3,4,3,3,3,3,15,3,3,14,3,8,3,3,3,13,3,3,3,5,3,15,4,3,9,7,9,8,3,4,5,8,7,10,7,4,4,3,10,4,6,3,3,3,8,3,9,3,3,11,3,3,3,4,6,3,9,10,3,3,7,3,7,4,9,6,3,9,3,11,8,3,3,4,3,6,3,3,3,4,3,7,7,13,5,6,6,3,15,3,3,10,3,3,3,11,7,5,10,11,11,9,6,3,8,3,13,3,3,14,3,3,3,15,9,8,14,3,3,6,3,3,3,3,5,3,13,11,3,10,4,3,8,7,3,3,8,3,9,5,10,3,7,3,15,9,3,3,13,3,3,6,4,3,11,3,3,4,9,4,9,3,8,13,6,3,12,8,12,3,3,13,4,7,9,5,3,4,3,3,3,3,3,6,12,3,5,12,7,8,9,5,14,5,9,7,12,7,3,8,11,3,4,6,8,3,3,3,3,3,3,3,3,12,6,10,5,9,3,14,11,3,3,5,3,3,7,3,3,3,4,3,8,9,3,4,7,3,12,13,3,3,3,3,3,7,8,3,3,3,15,7,5,3,6,3,7,3,3,7,3,11,9,3,3,3,3,3,10,3,5,6,4,3,10,6,9,6,11,7,3,6,9,3,5,13,8,13,4,3,7],\"type\":\"histogram\"}],                        {\"barmode\":\"overlay\",\"legend\":{\"bgcolor\":\"#FFFFFF\",\"font\":{\"color\":\"#4D5663\"}},\"paper_bgcolor\":\"#FFFFFF\",\"plot_bgcolor\":\"#FFFFFF\",\"template\":{\"data\":{\"barpolar\":[{\"marker\":{\"line\":{\"color\":\"#E5ECF6\",\"width\":0.5},\"pattern\":{\"fillmode\":\"overlay\",\"size\":10,\"solidity\":0.2}},\"type\":\"barpolar\"}],\"bar\":[{\"error_x\":{\"color\":\"#2a3f5f\"},\"error_y\":{\"color\":\"#2a3f5f\"},\"marker\":{\"line\":{\"color\":\"#E5ECF6\",\"width\":0.5},\"pattern\":{\"fillmode\":\"overlay\",\"size\":10,\"solidity\":0.2}},\"type\":\"bar\"}],\"carpet\":[{\"aaxis\":{\"endlinecolor\":\"#2a3f5f\",\"gridcolor\":\"white\",\"linecolor\":\"white\",\"minorgridcolor\":\"white\",\"startlinecolor\":\"#2a3f5f\"},\"baxis\":{\"endlinecolor\":\"#2a3f5f\",\"gridcolor\":\"white\",\"linecolor\":\"white\",\"minorgridcolor\":\"white\",\"startlinecolor\":\"#2a3f5f\"},\"type\":\"carpet\"}],\"choropleth\":[{\"colorbar\":{\"outlinewidth\":0,\"ticks\":\"\"},\"type\":\"choropleth\"}],\"contourcarpet\":[{\"colorbar\":{\"outlinewidth\":0,\"ticks\":\"\"},\"type\":\"contourcarpet\"}],\"contour\":[{\"colorbar\":{\"outlinewidth\":0,\"ticks\":\"\"},\"colorscale\":[[0.0,\"#0d0887\"],[0.1111111111111111,\"#46039f\"],[0.2222222222222222,\"#7201a8\"],[0.3333333333333333,\"#9c179e\"],[0.4444444444444444,\"#bd3786\"],[0.5555555555555556,\"#d8576b\"],[0.6666666666666666,\"#ed7953\"],[0.7777777777777778,\"#fb9f3a\"],[0.8888888888888888,\"#fdca26\"],[1.0,\"#f0f921\"]],\"type\":\"contour\"}],\"heatmapgl\":[{\"colorbar\":{\"outlinewidth\":0,\"ticks\":\"\"},\"colorscale\":[[0.0,\"#0d0887\"],[0.1111111111111111,\"#46039f\"],[0.2222222222222222,\"#7201a8\"],[0.3333333333333333,\"#9c179e\"],[0.4444444444444444,\"#bd3786\"],[0.5555555555555556,\"#d8576b\"],[0.6666666666666666,\"#ed7953\"],[0.7777777777777778,\"#fb9f3a\"],[0.8888888888888888,\"#fdca26\"],[1.0,\"#f0f921\"]],\"type\":\"heatmapgl\"}],\"heatmap\":[{\"colorbar\":{\"outlinewidth\":0,\"ticks\":\"\"},\"colorscale\":[[0.0,\"#0d0887\"],[0.1111111111111111,\"#46039f\"],[0.2222222222222222,\"#7201a8\"],[0.3333333333333333,\"#9c179e\"],[0.4444444444444444,\"#bd3786\"],[0.5555555555555556,\"#d8576b\"],[0.6666666666666666,\"#ed7953\"],[0.7777777777777778,\"#fb9f3a\"],[0.8888888888888888,\"#fdca26\"],[1.0,\"#f0f921\"]],\"type\":\"heatmap\"}],\"histogram2dcontour\":[{\"colorbar\":{\"outlinewidth\":0,\"ticks\":\"\"},\"colorscale\":[[0.0,\"#0d0887\"],[0.1111111111111111,\"#46039f\"],[0.2222222222222222,\"#7201a8\"],[0.3333333333333333,\"#9c179e\"],[0.4444444444444444,\"#bd3786\"],[0.5555555555555556,\"#d8576b\"],[0.6666666666666666,\"#ed7953\"],[0.7777777777777778,\"#fb9f3a\"],[0.8888888888888888,\"#fdca26\"],[1.0,\"#f0f921\"]],\"type\":\"histogram2dcontour\"}],\"histogram2d\":[{\"colorbar\":{\"outlinewidth\":0,\"ticks\":\"\"},\"colorscale\":[[0.0,\"#0d0887\"],[0.1111111111111111,\"#46039f\"],[0.2222222222222222,\"#7201a8\"],[0.3333333333333333,\"#9c179e\"],[0.4444444444444444,\"#bd3786\"],[0.5555555555555556,\"#d8576b\"],[0.6666666666666666,\"#ed7953\"],[0.7777777777777778,\"#fb9f3a\"],[0.8888888888888888,\"#fdca26\"],[1.0,\"#f0f921\"]],\"type\":\"histogram2d\"}],\"histogram\":[{\"marker\":{\"pattern\":{\"fillmode\":\"overlay\",\"size\":10,\"solidity\":0.2}},\"type\":\"histogram\"}],\"mesh3d\":[{\"colorbar\":{\"outlinewidth\":0,\"ticks\":\"\"},\"type\":\"mesh3d\"}],\"parcoords\":[{\"line\":{\"colorbar\":{\"outlinewidth\":0,\"ticks\":\"\"}},\"type\":\"parcoords\"}],\"pie\":[{\"automargin\":true,\"type\":\"pie\"}],\"scatter3d\":[{\"line\":{\"colorbar\":{\"outlinewidth\":0,\"ticks\":\"\"}},\"marker\":{\"colorbar\":{\"outlinewidth\":0,\"ticks\":\"\"}},\"type\":\"scatter3d\"}],\"scattercarpet\":[{\"marker\":{\"colorbar\":{\"outlinewidth\":0,\"ticks\":\"\"}},\"type\":\"scattercarpet\"}],\"scattergeo\":[{\"marker\":{\"colorbar\":{\"outlinewidth\":0,\"ticks\":\"\"}},\"type\":\"scattergeo\"}],\"scattergl\":[{\"marker\":{\"colorbar\":{\"outlinewidth\":0,\"ticks\":\"\"}},\"type\":\"scattergl\"}],\"scattermapbox\":[{\"marker\":{\"colorbar\":{\"outlinewidth\":0,\"ticks\":\"\"}},\"type\":\"scattermapbox\"}],\"scatterpolargl\":[{\"marker\":{\"colorbar\":{\"outlinewidth\":0,\"ticks\":\"\"}},\"type\":\"scatterpolargl\"}],\"scatterpolar\":[{\"marker\":{\"colorbar\":{\"outlinewidth\":0,\"ticks\":\"\"}},\"type\":\"scatterpolar\"}],\"scatter\":[{\"marker\":{\"colorbar\":{\"outlinewidth\":0,\"ticks\":\"\"}},\"type\":\"scatter\"}],\"scatterternary\":[{\"marker\":{\"colorbar\":{\"outlinewidth\":0,\"ticks\":\"\"}},\"type\":\"scatterternary\"}],\"surface\":[{\"colorbar\":{\"outlinewidth\":0,\"ticks\":\"\"},\"colorscale\":[[0.0,\"#0d0887\"],[0.1111111111111111,\"#46039f\"],[0.2222222222222222,\"#7201a8\"],[0.3333333333333333,\"#9c179e\"],[0.4444444444444444,\"#bd3786\"],[0.5555555555555556,\"#d8576b\"],[0.6666666666666666,\"#ed7953\"],[0.7777777777777778,\"#fb9f3a\"],[0.8888888888888888,\"#fdca26\"],[1.0,\"#f0f921\"]],\"type\":\"surface\"}],\"table\":[{\"cells\":{\"fill\":{\"color\":\"#EBF0F8\"},\"line\":{\"color\":\"white\"}},\"header\":{\"fill\":{\"color\":\"#C8D4E3\"},\"line\":{\"color\":\"white\"}},\"type\":\"table\"}]},\"layout\":{\"annotationdefaults\":{\"arrowcolor\":\"#2a3f5f\",\"arrowhead\":0,\"arrowwidth\":1},\"autotypenumbers\":\"strict\",\"coloraxis\":{\"colorbar\":{\"outlinewidth\":0,\"ticks\":\"\"}},\"colorscale\":{\"diverging\":[[0,\"#8e0152\"],[0.1,\"#c51b7d\"],[0.2,\"#de77ae\"],[0.3,\"#f1b6da\"],[0.4,\"#fde0ef\"],[0.5,\"#f7f7f7\"],[0.6,\"#e6f5d0\"],[0.7,\"#b8e186\"],[0.8,\"#7fbc41\"],[0.9,\"#4d9221\"],[1,\"#276419\"]],\"sequential\":[[0.0,\"#0d0887\"],[0.1111111111111111,\"#46039f\"],[0.2222222222222222,\"#7201a8\"],[0.3333333333333333,\"#9c179e\"],[0.4444444444444444,\"#bd3786\"],[0.5555555555555556,\"#d8576b\"],[0.6666666666666666,\"#ed7953\"],[0.7777777777777778,\"#fb9f3a\"],[0.8888888888888888,\"#fdca26\"],[1.0,\"#f0f921\"]],\"sequentialminus\":[[0.0,\"#0d0887\"],[0.1111111111111111,\"#46039f\"],[0.2222222222222222,\"#7201a8\"],[0.3333333333333333,\"#9c179e\"],[0.4444444444444444,\"#bd3786\"],[0.5555555555555556,\"#d8576b\"],[0.6666666666666666,\"#ed7953\"],[0.7777777777777778,\"#fb9f3a\"],[0.8888888888888888,\"#fdca26\"],[1.0,\"#f0f921\"]]},\"colorway\":[\"#636efa\",\"#EF553B\",\"#00cc96\",\"#ab63fa\",\"#FFA15A\",\"#19d3f3\",\"#FF6692\",\"#B6E880\",\"#FF97FF\",\"#FECB52\"],\"font\":{\"color\":\"#2a3f5f\"},\"geo\":{\"bgcolor\":\"white\",\"lakecolor\":\"white\",\"landcolor\":\"#E5ECF6\",\"showlakes\":true,\"showland\":true,\"subunitcolor\":\"white\"},\"hoverlabel\":{\"align\":\"left\"},\"hovermode\":\"closest\",\"mapbox\":{\"style\":\"light\"},\"paper_bgcolor\":\"white\",\"plot_bgcolor\":\"#E5ECF6\",\"polar\":{\"angularaxis\":{\"gridcolor\":\"white\",\"linecolor\":\"white\",\"ticks\":\"\"},\"bgcolor\":\"#E5ECF6\",\"radialaxis\":{\"gridcolor\":\"white\",\"linecolor\":\"white\",\"ticks\":\"\"}},\"scene\":{\"xaxis\":{\"backgroundcolor\":\"#E5ECF6\",\"gridcolor\":\"white\",\"gridwidth\":2,\"linecolor\":\"white\",\"showbackground\":true,\"ticks\":\"\",\"zerolinecolor\":\"white\"},\"yaxis\":{\"backgroundcolor\":\"#E5ECF6\",\"gridcolor\":\"white\",\"gridwidth\":2,\"linecolor\":\"white\",\"showbackground\":true,\"ticks\":\"\",\"zerolinecolor\":\"white\"},\"zaxis\":{\"backgroundcolor\":\"#E5ECF6\",\"gridcolor\":\"white\",\"gridwidth\":2,\"linecolor\":\"white\",\"showbackground\":true,\"ticks\":\"\",\"zerolinecolor\":\"white\"}},\"shapedefaults\":{\"line\":{\"color\":\"#2a3f5f\"}},\"ternary\":{\"aaxis\":{\"gridcolor\":\"white\",\"linecolor\":\"white\",\"ticks\":\"\"},\"baxis\":{\"gridcolor\":\"white\",\"linecolor\":\"white\",\"ticks\":\"\"},\"bgcolor\":\"#E5ECF6\",\"caxis\":{\"gridcolor\":\"white\",\"linecolor\":\"white\",\"ticks\":\"\"}},\"title\":{\"x\":0.05},\"xaxis\":{\"automargin\":true,\"gridcolor\":\"white\",\"linecolor\":\"white\",\"ticks\":\"\",\"title\":{\"standoff\":15},\"zerolinecolor\":\"white\",\"zerolinewidth\":2},\"yaxis\":{\"automargin\":true,\"gridcolor\":\"white\",\"linecolor\":\"white\",\"ticks\":\"\",\"title\":{\"standoff\":15},\"zerolinecolor\":\"white\",\"zerolinewidth\":2}}},\"title\":{\"font\":{\"color\":\"#4D5663\"},\"text\":\"Extraterrestrial Coverup Subscale Distribution\"},\"xaxis\":{\"gridcolor\":\"#E1E5ED\",\"showgrid\":true,\"tickfont\":{\"color\":\"#4D5663\"},\"title\":{\"font\":{\"color\":\"#4D5663\"},\"text\":\"GCBS score (overall)\"},\"zerolinecolor\":\"#E1E5ED\"},\"yaxis\":{\"gridcolor\":\"#E1E5ED\",\"showgrid\":true,\"tickfont\":{\"color\":\"#4D5663\"},\"title\":{\"font\":{\"color\":\"#4D5663\"},\"text\":\"Count\"},\"zerolinecolor\":\"#E1E5ED\"}},                        {\"showLink\": true, \"linkText\": \"Export to plot.ly\", \"plotlyServerURL\": \"https://plot.ly\", \"responsive\": true}                    ).then(function(){\n",
       "                            \n",
       "var gd = document.getElementById('b04a8955-1cf0-4dbe-9a6f-d0442369018b');\n",
       "var x = new MutationObserver(function (mutations, observer) {{\n",
       "        var display = window.getComputedStyle(gd).display;\n",
       "        if (!display || display === 'none') {{\n",
       "            console.log([gd, 'removed!']);\n",
       "            Plotly.purge(gd);\n",
       "            observer.disconnect();\n",
       "        }}\n",
       "}});\n",
       "\n",
       "// Listen for the removal of the full notebook cells\n",
       "var notebookContainer = gd.closest('#notebook-container');\n",
       "if (notebookContainer) {{\n",
       "    x.observe(notebookContainer, {childList: true});\n",
       "}}\n",
       "\n",
       "// Listen for the clearing of the current output cell\n",
       "var outputEl = gd.closest('.output');\n",
       "if (outputEl) {{\n",
       "    x.observe(outputEl, {childList: true});\n",
       "}}\n",
       "\n",
       "                        })                };                });            </script>        </div>"
      ]
     },
     "metadata": {},
     "output_type": "display_data"
    }
   ],
   "source": [
    "gcbs_clean_df['GCBS_Extraterrestrial_Coverup'].iplot(kind='hist', opacity=0.75, color='rgb(12, 128, 128)', title='Extraterrestrial Coverup Subscale Distribution'.format(total_responses), yTitle='Count', xTitle='GCBS score (overall)', bargap = 0, theme='white')"
   ]
  },
  {
   "cell_type": "code",
   "execution_count": 53,
   "metadata": {},
   "outputs": [
    {
     "data": {
      "application/vnd.plotly.v1+json": {
       "config": {
        "linkText": "Export to plot.ly",
        "plotlyServerURL": "https://plot.ly",
        "showLink": true
       },
       "data": [
        {
         "histfunc": "count",
         "histnorm": "",
         "marker": {
          "color": "rgba(12, 128, 128, 1.0)",
          "line": {
           "color": "#4D5663",
           "width": 1.3
          }
         },
         "name": "GCBS_Personal_Wellbeing",
         "opacity": 0.75,
         "orientation": "v",
         "type": "histogram",
         "x": [
          14,
          10,
          12,
          12,
          8,
          3,
          4,
          11,
          7,
          15,
          6,
          10,
          13,
          5,
          8,
          8,
          4,
          5,
          9,
          5,
          5,
          8,
          13,
          12,
          14,
          8,
          4,
          9,
          3,
          15,
          9,
          8,
          12,
          4,
          8,
          5,
          3,
          5,
          8,
          8,
          3,
          3,
          9,
          10,
          4,
          13,
          8,
          6,
          9,
          9,
          12,
          3,
          12,
          10,
          9,
          9,
          12,
          4,
          5,
          8,
          12,
          3,
          6,
          6,
          4,
          14,
          14,
          10,
          10,
          5,
          6,
          7,
          4,
          12,
          10,
          11,
          3,
          14,
          9,
          13,
          9,
          7,
          6,
          6,
          15,
          3,
          4,
          6,
          4,
          9,
          8,
          10,
          5,
          3,
          5,
          9,
          3,
          11,
          13,
          14,
          13,
          8,
          5,
          4,
          9,
          15,
          8,
          13,
          8,
          9,
          9,
          7,
          5,
          10,
          5,
          5,
          8,
          13,
          7,
          3,
          10,
          3,
          13,
          10,
          11,
          7,
          12,
          3,
          5,
          3,
          9,
          9,
          9,
          8,
          7,
          4,
          6,
          7,
          6,
          7,
          7,
          4,
          3,
          15,
          4,
          7,
          6,
          12,
          8,
          13,
          3,
          7,
          10,
          3,
          9,
          11,
          3,
          5,
          8,
          5,
          6,
          9,
          11,
          5,
          9,
          4,
          10,
          8,
          7,
          12,
          3,
          3,
          7,
          10,
          7,
          15,
          13,
          12,
          7,
          5,
          8,
          7,
          6,
          10,
          3,
          8,
          11,
          13,
          7,
          3,
          10,
          7,
          10,
          9,
          8,
          10,
          9,
          10,
          6,
          9,
          3,
          9,
          12,
          4,
          4,
          4,
          3,
          13,
          8,
          4,
          8,
          10,
          13,
          10,
          7,
          8,
          11,
          3,
          6,
          12,
          4,
          4,
          3,
          11,
          3,
          9,
          11,
          5,
          11,
          9,
          4,
          10,
          13,
          5,
          9,
          7,
          3,
          15,
          3,
          14,
          11,
          11,
          10,
          14,
          13,
          11,
          13,
          9,
          14,
          12,
          14,
          11,
          10,
          15,
          13,
          15,
          12,
          12,
          10,
          14,
          10,
          11,
          11,
          11,
          15,
          15,
          13,
          10,
          15,
          14,
          11,
          14,
          8,
          10,
          3,
          12,
          4,
          9,
          3,
          12,
          4,
          6,
          3,
          14,
          9,
          8,
          3,
          15,
          7,
          12,
          7,
          9,
          14,
          6,
          4,
          6,
          14,
          14,
          3,
          4,
          9,
          7,
          10,
          7,
          8,
          10,
          14,
          15,
          12,
          10,
          10,
          11,
          8,
          3,
          8,
          3,
          9,
          11,
          9,
          5,
          3,
          6,
          11,
          3,
          14,
          12,
          15,
          11,
          11,
          3,
          4,
          15,
          11,
          5,
          10,
          14,
          12,
          13,
          3,
          7,
          9,
          7,
          3,
          4,
          14,
          10,
          5,
          8,
          15,
          13,
          5,
          10,
          4,
          7,
          7,
          10,
          3,
          8,
          3,
          10,
          6,
          4,
          4,
          6,
          3,
          8,
          3,
          5,
          13,
          3,
          4,
          4,
          13,
          14,
          9,
          7,
          13,
          12,
          10,
          11,
          5,
          5,
          4,
          6,
          5,
          3,
          11,
          5,
          5,
          7,
          7,
          8,
          4,
          7,
          6,
          8,
          6,
          3,
          9,
          3,
          3,
          8,
          13,
          10,
          6,
          3,
          15,
          8,
          4,
          4,
          7,
          11,
          13,
          3,
          13,
          7,
          8,
          3,
          14,
          3,
          4,
          13,
          12,
          4,
          3,
          3,
          8,
          15,
          7,
          7,
          6,
          5,
          13,
          8,
          4,
          11,
          4,
          3,
          6,
          8,
          14,
          6,
          6,
          13,
          6,
          6,
          8,
          6,
          9,
          15,
          5,
          15,
          10,
          13,
          9,
          10,
          11,
          5,
          12,
          11,
          12,
          6,
          6,
          9,
          3,
          11,
          4,
          14,
          6,
          4,
          5,
          10,
          4,
          11,
          3,
          5,
          4,
          6,
          3,
          6,
          11,
          3,
          13,
          8,
          3,
          6,
          3,
          4,
          7,
          3,
          3,
          3,
          7,
          3,
          13,
          4,
          9,
          5,
          13,
          13,
          8,
          11,
          3,
          4,
          7,
          15,
          4,
          12,
          4,
          12,
          14,
          7,
          4,
          6,
          3,
          10,
          7,
          15,
          13,
          15,
          13,
          7,
          10,
          11,
          15,
          10,
          6,
          9,
          8,
          10,
          13,
          3,
          8,
          8,
          11,
          13,
          4,
          10,
          9,
          6,
          7,
          9,
          7,
          3,
          10,
          4,
          4,
          3,
          11,
          6,
          5,
          6,
          7,
          13,
          5,
          13,
          7,
          5,
          6,
          3,
          7,
          6,
          3,
          4,
          4,
          12,
          3,
          6,
          5,
          8,
          3,
          8,
          7,
          4,
          9,
          9,
          5,
          8,
          4,
          3,
          8,
          12,
          13,
          6,
          15,
          3,
          5,
          5,
          11,
          6,
          3,
          8,
          9,
          9,
          3,
          11,
          8,
          7,
          8,
          15,
          11,
          14,
          3,
          5,
          4,
          11,
          5,
          8,
          15,
          7,
          7,
          8,
          11,
          4,
          4,
          9,
          3,
          6,
          4,
          11,
          8,
          14,
          5,
          9,
          7,
          13,
          6,
          3,
          3,
          12,
          3,
          7,
          7,
          9,
          8,
          4,
          15,
          3,
          3,
          11,
          4,
          5,
          6,
          7,
          5,
          8,
          3,
          15,
          6,
          7,
          13,
          12,
          15,
          9,
          3,
          9,
          7,
          15,
          14,
          10,
          5,
          9,
          9,
          4,
          5,
          9,
          11,
          3,
          5,
          4,
          5,
          11,
          10,
          4,
          10,
          3,
          15,
          13,
          4,
          4,
          14,
          6,
          5,
          11,
          11,
          15,
          11,
          4,
          7,
          12,
          4,
          6,
          15,
          8,
          4,
          13,
          11,
          10,
          7,
          4,
          3,
          8,
          10,
          10,
          7,
          7,
          8,
          9,
          3,
          10,
          8,
          9,
          4,
          11,
          4,
          8,
          5,
          15,
          13,
          4,
          11,
          3,
          7,
          7,
          4,
          5,
          6,
          7,
          7,
          5,
          10,
          9,
          3,
          13,
          7,
          12,
          7,
          5,
          11,
          3,
          11,
          6,
          6,
          3,
          7,
          3,
          8,
          5,
          4,
          5,
          8,
          3,
          9,
          12,
          11,
          6,
          3,
          11,
          3,
          6,
          5,
          9,
          8,
          10,
          4,
          4,
          10,
          5,
          8,
          11,
          7,
          10,
          9,
          12,
          7,
          11,
          3,
          15,
          4,
          4,
          8,
          8,
          3,
          6,
          10,
          9,
          9,
          13,
          3,
          8,
          5,
          6,
          3,
          7,
          3,
          7,
          4,
          3,
          6,
          6,
          10,
          9,
          3,
          9,
          4,
          4,
          6,
          6,
          6,
          11,
          10,
          10,
          8,
          9,
          4,
          11,
          8,
          6,
          10,
          13,
          6,
          8,
          11,
          10,
          9,
          13,
          9,
          3,
          8,
          6,
          3,
          15,
          6,
          3,
          15,
          11,
          11,
          13,
          14,
          10,
          15,
          4,
          13,
          10,
          6,
          8,
          8,
          15,
          4,
          5,
          9,
          7,
          9,
          9,
          11,
          12,
          4,
          3,
          10,
          6,
          5,
          9,
          11,
          7,
          4,
          6,
          11,
          6,
          11,
          4,
          12,
          14,
          4,
          3,
          6,
          13,
          8,
          6,
          7,
          7,
          8,
          3,
          4,
          6,
          14,
          8,
          7,
          9,
          13,
          5,
          13,
          12,
          6,
          4,
          8,
          6,
          5,
          8,
          10,
          6,
          6,
          7,
          7,
          7,
          4,
          3,
          9,
          12,
          6,
          4,
          7,
          6,
          15,
          6,
          6,
          8,
          6,
          3,
          7,
          11,
          6,
          15,
          10,
          8,
          5,
          7,
          11,
          11,
          6,
          3,
          7,
          7,
          15,
          15,
          4,
          3,
          8,
          3,
          3,
          8,
          6,
          10,
          7,
          7,
          3,
          8,
          10,
          8,
          12,
          3,
          15,
          6,
          6,
          6,
          6,
          6,
          8,
          10,
          13,
          10,
          4,
          13
         ]
        }
       ],
       "layout": {
        "barmode": "overlay",
        "legend": {
         "bgcolor": "#FFFFFF",
         "font": {
          "color": "#4D5663"
         }
        },
        "paper_bgcolor": "#FFFFFF",
        "plot_bgcolor": "#FFFFFF",
        "template": {
         "data": {
          "bar": [
           {
            "error_x": {
             "color": "#2a3f5f"
            },
            "error_y": {
             "color": "#2a3f5f"
            },
            "marker": {
             "line": {
              "color": "#E5ECF6",
              "width": 0.5
             },
             "pattern": {
              "fillmode": "overlay",
              "size": 10,
              "solidity": 0.2
             }
            },
            "type": "bar"
           }
          ],
          "barpolar": [
           {
            "marker": {
             "line": {
              "color": "#E5ECF6",
              "width": 0.5
             },
             "pattern": {
              "fillmode": "overlay",
              "size": 10,
              "solidity": 0.2
             }
            },
            "type": "barpolar"
           }
          ],
          "carpet": [
           {
            "aaxis": {
             "endlinecolor": "#2a3f5f",
             "gridcolor": "white",
             "linecolor": "white",
             "minorgridcolor": "white",
             "startlinecolor": "#2a3f5f"
            },
            "baxis": {
             "endlinecolor": "#2a3f5f",
             "gridcolor": "white",
             "linecolor": "white",
             "minorgridcolor": "white",
             "startlinecolor": "#2a3f5f"
            },
            "type": "carpet"
           }
          ],
          "choropleth": [
           {
            "colorbar": {
             "outlinewidth": 0,
             "ticks": ""
            },
            "type": "choropleth"
           }
          ],
          "contour": [
           {
            "colorbar": {
             "outlinewidth": 0,
             "ticks": ""
            },
            "colorscale": [
             [
              0,
              "#0d0887"
             ],
             [
              0.1111111111111111,
              "#46039f"
             ],
             [
              0.2222222222222222,
              "#7201a8"
             ],
             [
              0.3333333333333333,
              "#9c179e"
             ],
             [
              0.4444444444444444,
              "#bd3786"
             ],
             [
              0.5555555555555556,
              "#d8576b"
             ],
             [
              0.6666666666666666,
              "#ed7953"
             ],
             [
              0.7777777777777778,
              "#fb9f3a"
             ],
             [
              0.8888888888888888,
              "#fdca26"
             ],
             [
              1,
              "#f0f921"
             ]
            ],
            "type": "contour"
           }
          ],
          "contourcarpet": [
           {
            "colorbar": {
             "outlinewidth": 0,
             "ticks": ""
            },
            "type": "contourcarpet"
           }
          ],
          "heatmap": [
           {
            "colorbar": {
             "outlinewidth": 0,
             "ticks": ""
            },
            "colorscale": [
             [
              0,
              "#0d0887"
             ],
             [
              0.1111111111111111,
              "#46039f"
             ],
             [
              0.2222222222222222,
              "#7201a8"
             ],
             [
              0.3333333333333333,
              "#9c179e"
             ],
             [
              0.4444444444444444,
              "#bd3786"
             ],
             [
              0.5555555555555556,
              "#d8576b"
             ],
             [
              0.6666666666666666,
              "#ed7953"
             ],
             [
              0.7777777777777778,
              "#fb9f3a"
             ],
             [
              0.8888888888888888,
              "#fdca26"
             ],
             [
              1,
              "#f0f921"
             ]
            ],
            "type": "heatmap"
           }
          ],
          "heatmapgl": [
           {
            "colorbar": {
             "outlinewidth": 0,
             "ticks": ""
            },
            "colorscale": [
             [
              0,
              "#0d0887"
             ],
             [
              0.1111111111111111,
              "#46039f"
             ],
             [
              0.2222222222222222,
              "#7201a8"
             ],
             [
              0.3333333333333333,
              "#9c179e"
             ],
             [
              0.4444444444444444,
              "#bd3786"
             ],
             [
              0.5555555555555556,
              "#d8576b"
             ],
             [
              0.6666666666666666,
              "#ed7953"
             ],
             [
              0.7777777777777778,
              "#fb9f3a"
             ],
             [
              0.8888888888888888,
              "#fdca26"
             ],
             [
              1,
              "#f0f921"
             ]
            ],
            "type": "heatmapgl"
           }
          ],
          "histogram": [
           {
            "marker": {
             "pattern": {
              "fillmode": "overlay",
              "size": 10,
              "solidity": 0.2
             }
            },
            "type": "histogram"
           }
          ],
          "histogram2d": [
           {
            "colorbar": {
             "outlinewidth": 0,
             "ticks": ""
            },
            "colorscale": [
             [
              0,
              "#0d0887"
             ],
             [
              0.1111111111111111,
              "#46039f"
             ],
             [
              0.2222222222222222,
              "#7201a8"
             ],
             [
              0.3333333333333333,
              "#9c179e"
             ],
             [
              0.4444444444444444,
              "#bd3786"
             ],
             [
              0.5555555555555556,
              "#d8576b"
             ],
             [
              0.6666666666666666,
              "#ed7953"
             ],
             [
              0.7777777777777778,
              "#fb9f3a"
             ],
             [
              0.8888888888888888,
              "#fdca26"
             ],
             [
              1,
              "#f0f921"
             ]
            ],
            "type": "histogram2d"
           }
          ],
          "histogram2dcontour": [
           {
            "colorbar": {
             "outlinewidth": 0,
             "ticks": ""
            },
            "colorscale": [
             [
              0,
              "#0d0887"
             ],
             [
              0.1111111111111111,
              "#46039f"
             ],
             [
              0.2222222222222222,
              "#7201a8"
             ],
             [
              0.3333333333333333,
              "#9c179e"
             ],
             [
              0.4444444444444444,
              "#bd3786"
             ],
             [
              0.5555555555555556,
              "#d8576b"
             ],
             [
              0.6666666666666666,
              "#ed7953"
             ],
             [
              0.7777777777777778,
              "#fb9f3a"
             ],
             [
              0.8888888888888888,
              "#fdca26"
             ],
             [
              1,
              "#f0f921"
             ]
            ],
            "type": "histogram2dcontour"
           }
          ],
          "mesh3d": [
           {
            "colorbar": {
             "outlinewidth": 0,
             "ticks": ""
            },
            "type": "mesh3d"
           }
          ],
          "parcoords": [
           {
            "line": {
             "colorbar": {
              "outlinewidth": 0,
              "ticks": ""
             }
            },
            "type": "parcoords"
           }
          ],
          "pie": [
           {
            "automargin": true,
            "type": "pie"
           }
          ],
          "scatter": [
           {
            "marker": {
             "colorbar": {
              "outlinewidth": 0,
              "ticks": ""
             }
            },
            "type": "scatter"
           }
          ],
          "scatter3d": [
           {
            "line": {
             "colorbar": {
              "outlinewidth": 0,
              "ticks": ""
             }
            },
            "marker": {
             "colorbar": {
              "outlinewidth": 0,
              "ticks": ""
             }
            },
            "type": "scatter3d"
           }
          ],
          "scattercarpet": [
           {
            "marker": {
             "colorbar": {
              "outlinewidth": 0,
              "ticks": ""
             }
            },
            "type": "scattercarpet"
           }
          ],
          "scattergeo": [
           {
            "marker": {
             "colorbar": {
              "outlinewidth": 0,
              "ticks": ""
             }
            },
            "type": "scattergeo"
           }
          ],
          "scattergl": [
           {
            "marker": {
             "colorbar": {
              "outlinewidth": 0,
              "ticks": ""
             }
            },
            "type": "scattergl"
           }
          ],
          "scattermapbox": [
           {
            "marker": {
             "colorbar": {
              "outlinewidth": 0,
              "ticks": ""
             }
            },
            "type": "scattermapbox"
           }
          ],
          "scatterpolar": [
           {
            "marker": {
             "colorbar": {
              "outlinewidth": 0,
              "ticks": ""
             }
            },
            "type": "scatterpolar"
           }
          ],
          "scatterpolargl": [
           {
            "marker": {
             "colorbar": {
              "outlinewidth": 0,
              "ticks": ""
             }
            },
            "type": "scatterpolargl"
           }
          ],
          "scatterternary": [
           {
            "marker": {
             "colorbar": {
              "outlinewidth": 0,
              "ticks": ""
             }
            },
            "type": "scatterternary"
           }
          ],
          "surface": [
           {
            "colorbar": {
             "outlinewidth": 0,
             "ticks": ""
            },
            "colorscale": [
             [
              0,
              "#0d0887"
             ],
             [
              0.1111111111111111,
              "#46039f"
             ],
             [
              0.2222222222222222,
              "#7201a8"
             ],
             [
              0.3333333333333333,
              "#9c179e"
             ],
             [
              0.4444444444444444,
              "#bd3786"
             ],
             [
              0.5555555555555556,
              "#d8576b"
             ],
             [
              0.6666666666666666,
              "#ed7953"
             ],
             [
              0.7777777777777778,
              "#fb9f3a"
             ],
             [
              0.8888888888888888,
              "#fdca26"
             ],
             [
              1,
              "#f0f921"
             ]
            ],
            "type": "surface"
           }
          ],
          "table": [
           {
            "cells": {
             "fill": {
              "color": "#EBF0F8"
             },
             "line": {
              "color": "white"
             }
            },
            "header": {
             "fill": {
              "color": "#C8D4E3"
             },
             "line": {
              "color": "white"
             }
            },
            "type": "table"
           }
          ]
         },
         "layout": {
          "annotationdefaults": {
           "arrowcolor": "#2a3f5f",
           "arrowhead": 0,
           "arrowwidth": 1
          },
          "autotypenumbers": "strict",
          "coloraxis": {
           "colorbar": {
            "outlinewidth": 0,
            "ticks": ""
           }
          },
          "colorscale": {
           "diverging": [
            [
             0,
             "#8e0152"
            ],
            [
             0.1,
             "#c51b7d"
            ],
            [
             0.2,
             "#de77ae"
            ],
            [
             0.3,
             "#f1b6da"
            ],
            [
             0.4,
             "#fde0ef"
            ],
            [
             0.5,
             "#f7f7f7"
            ],
            [
             0.6,
             "#e6f5d0"
            ],
            [
             0.7,
             "#b8e186"
            ],
            [
             0.8,
             "#7fbc41"
            ],
            [
             0.9,
             "#4d9221"
            ],
            [
             1,
             "#276419"
            ]
           ],
           "sequential": [
            [
             0,
             "#0d0887"
            ],
            [
             0.1111111111111111,
             "#46039f"
            ],
            [
             0.2222222222222222,
             "#7201a8"
            ],
            [
             0.3333333333333333,
             "#9c179e"
            ],
            [
             0.4444444444444444,
             "#bd3786"
            ],
            [
             0.5555555555555556,
             "#d8576b"
            ],
            [
             0.6666666666666666,
             "#ed7953"
            ],
            [
             0.7777777777777778,
             "#fb9f3a"
            ],
            [
             0.8888888888888888,
             "#fdca26"
            ],
            [
             1,
             "#f0f921"
            ]
           ],
           "sequentialminus": [
            [
             0,
             "#0d0887"
            ],
            [
             0.1111111111111111,
             "#46039f"
            ],
            [
             0.2222222222222222,
             "#7201a8"
            ],
            [
             0.3333333333333333,
             "#9c179e"
            ],
            [
             0.4444444444444444,
             "#bd3786"
            ],
            [
             0.5555555555555556,
             "#d8576b"
            ],
            [
             0.6666666666666666,
             "#ed7953"
            ],
            [
             0.7777777777777778,
             "#fb9f3a"
            ],
            [
             0.8888888888888888,
             "#fdca26"
            ],
            [
             1,
             "#f0f921"
            ]
           ]
          },
          "colorway": [
           "#636efa",
           "#EF553B",
           "#00cc96",
           "#ab63fa",
           "#FFA15A",
           "#19d3f3",
           "#FF6692",
           "#B6E880",
           "#FF97FF",
           "#FECB52"
          ],
          "font": {
           "color": "#2a3f5f"
          },
          "geo": {
           "bgcolor": "white",
           "lakecolor": "white",
           "landcolor": "#E5ECF6",
           "showlakes": true,
           "showland": true,
           "subunitcolor": "white"
          },
          "hoverlabel": {
           "align": "left"
          },
          "hovermode": "closest",
          "mapbox": {
           "style": "light"
          },
          "paper_bgcolor": "white",
          "plot_bgcolor": "#E5ECF6",
          "polar": {
           "angularaxis": {
            "gridcolor": "white",
            "linecolor": "white",
            "ticks": ""
           },
           "bgcolor": "#E5ECF6",
           "radialaxis": {
            "gridcolor": "white",
            "linecolor": "white",
            "ticks": ""
           }
          },
          "scene": {
           "xaxis": {
            "backgroundcolor": "#E5ECF6",
            "gridcolor": "white",
            "gridwidth": 2,
            "linecolor": "white",
            "showbackground": true,
            "ticks": "",
            "zerolinecolor": "white"
           },
           "yaxis": {
            "backgroundcolor": "#E5ECF6",
            "gridcolor": "white",
            "gridwidth": 2,
            "linecolor": "white",
            "showbackground": true,
            "ticks": "",
            "zerolinecolor": "white"
           },
           "zaxis": {
            "backgroundcolor": "#E5ECF6",
            "gridcolor": "white",
            "gridwidth": 2,
            "linecolor": "white",
            "showbackground": true,
            "ticks": "",
            "zerolinecolor": "white"
           }
          },
          "shapedefaults": {
           "line": {
            "color": "#2a3f5f"
           }
          },
          "ternary": {
           "aaxis": {
            "gridcolor": "white",
            "linecolor": "white",
            "ticks": ""
           },
           "baxis": {
            "gridcolor": "white",
            "linecolor": "white",
            "ticks": ""
           },
           "bgcolor": "#E5ECF6",
           "caxis": {
            "gridcolor": "white",
            "linecolor": "white",
            "ticks": ""
           }
          },
          "title": {
           "x": 0.05
          },
          "xaxis": {
           "automargin": true,
           "gridcolor": "white",
           "linecolor": "white",
           "ticks": "",
           "title": {
            "standoff": 15
           },
           "zerolinecolor": "white",
           "zerolinewidth": 2
          },
          "yaxis": {
           "automargin": true,
           "gridcolor": "white",
           "linecolor": "white",
           "ticks": "",
           "title": {
            "standoff": 15
           },
           "zerolinecolor": "white",
           "zerolinewidth": 2
          }
         }
        },
        "title": {
         "font": {
          "color": "#4D5663"
         },
         "text": "Personal Wellbeing Subscale Distribution"
        },
        "xaxis": {
         "gridcolor": "#E1E5ED",
         "showgrid": true,
         "tickfont": {
          "color": "#4D5663"
         },
         "title": {
          "font": {
           "color": "#4D5663"
          },
          "text": "GCBS score (overall)"
         },
         "zerolinecolor": "#E1E5ED"
        },
        "yaxis": {
         "gridcolor": "#E1E5ED",
         "showgrid": true,
         "tickfont": {
          "color": "#4D5663"
         },
         "title": {
          "font": {
           "color": "#4D5663"
          },
          "text": "Count"
         },
         "zerolinecolor": "#E1E5ED"
        }
       }
      },
      "text/html": [
       "<div>                            <div id=\"06cab662-6055-45d7-b8dc-adcb06df86d3\" class=\"plotly-graph-div\" style=\"height:525px; width:100%;\"></div>            <script type=\"text/javascript\">                require([\"plotly\"], function(Plotly) {                    window.PLOTLYENV=window.PLOTLYENV || {};\n",
       "                    window.PLOTLYENV.BASE_URL='https://plot.ly';                                    if (document.getElementById(\"06cab662-6055-45d7-b8dc-adcb06df86d3\")) {                    Plotly.newPlot(                        \"06cab662-6055-45d7-b8dc-adcb06df86d3\",                        [{\"histfunc\":\"count\",\"histnorm\":\"\",\"marker\":{\"color\":\"rgba(12, 128, 128, 1.0)\",\"line\":{\"color\":\"#4D5663\",\"width\":1.3}},\"name\":\"GCBS_Personal_Wellbeing\",\"opacity\":0.75,\"orientation\":\"v\",\"x\":[14,10,12,12,8,3,4,11,7,15,6,10,13,5,8,8,4,5,9,5,5,8,13,12,14,8,4,9,3,15,9,8,12,4,8,5,3,5,8,8,3,3,9,10,4,13,8,6,9,9,12,3,12,10,9,9,12,4,5,8,12,3,6,6,4,14,14,10,10,5,6,7,4,12,10,11,3,14,9,13,9,7,6,6,15,3,4,6,4,9,8,10,5,3,5,9,3,11,13,14,13,8,5,4,9,15,8,13,8,9,9,7,5,10,5,5,8,13,7,3,10,3,13,10,11,7,12,3,5,3,9,9,9,8,7,4,6,7,6,7,7,4,3,15,4,7,6,12,8,13,3,7,10,3,9,11,3,5,8,5,6,9,11,5,9,4,10,8,7,12,3,3,7,10,7,15,13,12,7,5,8,7,6,10,3,8,11,13,7,3,10,7,10,9,8,10,9,10,6,9,3,9,12,4,4,4,3,13,8,4,8,10,13,10,7,8,11,3,6,12,4,4,3,11,3,9,11,5,11,9,4,10,13,5,9,7,3,15,3,14,11,11,10,14,13,11,13,9,14,12,14,11,10,15,13,15,12,12,10,14,10,11,11,11,15,15,13,10,15,14,11,14,8,10,3,12,4,9,3,12,4,6,3,14,9,8,3,15,7,12,7,9,14,6,4,6,14,14,3,4,9,7,10,7,8,10,14,15,12,10,10,11,8,3,8,3,9,11,9,5,3,6,11,3,14,12,15,11,11,3,4,15,11,5,10,14,12,13,3,7,9,7,3,4,14,10,5,8,15,13,5,10,4,7,7,10,3,8,3,10,6,4,4,6,3,8,3,5,13,3,4,4,13,14,9,7,13,12,10,11,5,5,4,6,5,3,11,5,5,7,7,8,4,7,6,8,6,3,9,3,3,8,13,10,6,3,15,8,4,4,7,11,13,3,13,7,8,3,14,3,4,13,12,4,3,3,8,15,7,7,6,5,13,8,4,11,4,3,6,8,14,6,6,13,6,6,8,6,9,15,5,15,10,13,9,10,11,5,12,11,12,6,6,9,3,11,4,14,6,4,5,10,4,11,3,5,4,6,3,6,11,3,13,8,3,6,3,4,7,3,3,3,7,3,13,4,9,5,13,13,8,11,3,4,7,15,4,12,4,12,14,7,4,6,3,10,7,15,13,15,13,7,10,11,15,10,6,9,8,10,13,3,8,8,11,13,4,10,9,6,7,9,7,3,10,4,4,3,11,6,5,6,7,13,5,13,7,5,6,3,7,6,3,4,4,12,3,6,5,8,3,8,7,4,9,9,5,8,4,3,8,12,13,6,15,3,5,5,11,6,3,8,9,9,3,11,8,7,8,15,11,14,3,5,4,11,5,8,15,7,7,8,11,4,4,9,3,6,4,11,8,14,5,9,7,13,6,3,3,12,3,7,7,9,8,4,15,3,3,11,4,5,6,7,5,8,3,15,6,7,13,12,15,9,3,9,7,15,14,10,5,9,9,4,5,9,11,3,5,4,5,11,10,4,10,3,15,13,4,4,14,6,5,11,11,15,11,4,7,12,4,6,15,8,4,13,11,10,7,4,3,8,10,10,7,7,8,9,3,10,8,9,4,11,4,8,5,15,13,4,11,3,7,7,4,5,6,7,7,5,10,9,3,13,7,12,7,5,11,3,11,6,6,3,7,3,8,5,4,5,8,3,9,12,11,6,3,11,3,6,5,9,8,10,4,4,10,5,8,11,7,10,9,12,7,11,3,15,4,4,8,8,3,6,10,9,9,13,3,8,5,6,3,7,3,7,4,3,6,6,10,9,3,9,4,4,6,6,6,11,10,10,8,9,4,11,8,6,10,13,6,8,11,10,9,13,9,3,8,6,3,15,6,3,15,11,11,13,14,10,15,4,13,10,6,8,8,15,4,5,9,7,9,9,11,12,4,3,10,6,5,9,11,7,4,6,11,6,11,4,12,14,4,3,6,13,8,6,7,7,8,3,4,6,14,8,7,9,13,5,13,12,6,4,8,6,5,8,10,6,6,7,7,7,4,3,9,12,6,4,7,6,15,6,6,8,6,3,7,11,6,15,10,8,5,7,11,11,6,3,7,7,15,15,4,3,8,3,3,8,6,10,7,7,3,8,10,8,12,3,15,6,6,6,6,6,8,10,13,10,4,13],\"type\":\"histogram\"}],                        {\"barmode\":\"overlay\",\"legend\":{\"bgcolor\":\"#FFFFFF\",\"font\":{\"color\":\"#4D5663\"}},\"paper_bgcolor\":\"#FFFFFF\",\"plot_bgcolor\":\"#FFFFFF\",\"template\":{\"data\":{\"barpolar\":[{\"marker\":{\"line\":{\"color\":\"#E5ECF6\",\"width\":0.5},\"pattern\":{\"fillmode\":\"overlay\",\"size\":10,\"solidity\":0.2}},\"type\":\"barpolar\"}],\"bar\":[{\"error_x\":{\"color\":\"#2a3f5f\"},\"error_y\":{\"color\":\"#2a3f5f\"},\"marker\":{\"line\":{\"color\":\"#E5ECF6\",\"width\":0.5},\"pattern\":{\"fillmode\":\"overlay\",\"size\":10,\"solidity\":0.2}},\"type\":\"bar\"}],\"carpet\":[{\"aaxis\":{\"endlinecolor\":\"#2a3f5f\",\"gridcolor\":\"white\",\"linecolor\":\"white\",\"minorgridcolor\":\"white\",\"startlinecolor\":\"#2a3f5f\"},\"baxis\":{\"endlinecolor\":\"#2a3f5f\",\"gridcolor\":\"white\",\"linecolor\":\"white\",\"minorgridcolor\":\"white\",\"startlinecolor\":\"#2a3f5f\"},\"type\":\"carpet\"}],\"choropleth\":[{\"colorbar\":{\"outlinewidth\":0,\"ticks\":\"\"},\"type\":\"choropleth\"}],\"contourcarpet\":[{\"colorbar\":{\"outlinewidth\":0,\"ticks\":\"\"},\"type\":\"contourcarpet\"}],\"contour\":[{\"colorbar\":{\"outlinewidth\":0,\"ticks\":\"\"},\"colorscale\":[[0.0,\"#0d0887\"],[0.1111111111111111,\"#46039f\"],[0.2222222222222222,\"#7201a8\"],[0.3333333333333333,\"#9c179e\"],[0.4444444444444444,\"#bd3786\"],[0.5555555555555556,\"#d8576b\"],[0.6666666666666666,\"#ed7953\"],[0.7777777777777778,\"#fb9f3a\"],[0.8888888888888888,\"#fdca26\"],[1.0,\"#f0f921\"]],\"type\":\"contour\"}],\"heatmapgl\":[{\"colorbar\":{\"outlinewidth\":0,\"ticks\":\"\"},\"colorscale\":[[0.0,\"#0d0887\"],[0.1111111111111111,\"#46039f\"],[0.2222222222222222,\"#7201a8\"],[0.3333333333333333,\"#9c179e\"],[0.4444444444444444,\"#bd3786\"],[0.5555555555555556,\"#d8576b\"],[0.6666666666666666,\"#ed7953\"],[0.7777777777777778,\"#fb9f3a\"],[0.8888888888888888,\"#fdca26\"],[1.0,\"#f0f921\"]],\"type\":\"heatmapgl\"}],\"heatmap\":[{\"colorbar\":{\"outlinewidth\":0,\"ticks\":\"\"},\"colorscale\":[[0.0,\"#0d0887\"],[0.1111111111111111,\"#46039f\"],[0.2222222222222222,\"#7201a8\"],[0.3333333333333333,\"#9c179e\"],[0.4444444444444444,\"#bd3786\"],[0.5555555555555556,\"#d8576b\"],[0.6666666666666666,\"#ed7953\"],[0.7777777777777778,\"#fb9f3a\"],[0.8888888888888888,\"#fdca26\"],[1.0,\"#f0f921\"]],\"type\":\"heatmap\"}],\"histogram2dcontour\":[{\"colorbar\":{\"outlinewidth\":0,\"ticks\":\"\"},\"colorscale\":[[0.0,\"#0d0887\"],[0.1111111111111111,\"#46039f\"],[0.2222222222222222,\"#7201a8\"],[0.3333333333333333,\"#9c179e\"],[0.4444444444444444,\"#bd3786\"],[0.5555555555555556,\"#d8576b\"],[0.6666666666666666,\"#ed7953\"],[0.7777777777777778,\"#fb9f3a\"],[0.8888888888888888,\"#fdca26\"],[1.0,\"#f0f921\"]],\"type\":\"histogram2dcontour\"}],\"histogram2d\":[{\"colorbar\":{\"outlinewidth\":0,\"ticks\":\"\"},\"colorscale\":[[0.0,\"#0d0887\"],[0.1111111111111111,\"#46039f\"],[0.2222222222222222,\"#7201a8\"],[0.3333333333333333,\"#9c179e\"],[0.4444444444444444,\"#bd3786\"],[0.5555555555555556,\"#d8576b\"],[0.6666666666666666,\"#ed7953\"],[0.7777777777777778,\"#fb9f3a\"],[0.8888888888888888,\"#fdca26\"],[1.0,\"#f0f921\"]],\"type\":\"histogram2d\"}],\"histogram\":[{\"marker\":{\"pattern\":{\"fillmode\":\"overlay\",\"size\":10,\"solidity\":0.2}},\"type\":\"histogram\"}],\"mesh3d\":[{\"colorbar\":{\"outlinewidth\":0,\"ticks\":\"\"},\"type\":\"mesh3d\"}],\"parcoords\":[{\"line\":{\"colorbar\":{\"outlinewidth\":0,\"ticks\":\"\"}},\"type\":\"parcoords\"}],\"pie\":[{\"automargin\":true,\"type\":\"pie\"}],\"scatter3d\":[{\"line\":{\"colorbar\":{\"outlinewidth\":0,\"ticks\":\"\"}},\"marker\":{\"colorbar\":{\"outlinewidth\":0,\"ticks\":\"\"}},\"type\":\"scatter3d\"}],\"scattercarpet\":[{\"marker\":{\"colorbar\":{\"outlinewidth\":0,\"ticks\":\"\"}},\"type\":\"scattercarpet\"}],\"scattergeo\":[{\"marker\":{\"colorbar\":{\"outlinewidth\":0,\"ticks\":\"\"}},\"type\":\"scattergeo\"}],\"scattergl\":[{\"marker\":{\"colorbar\":{\"outlinewidth\":0,\"ticks\":\"\"}},\"type\":\"scattergl\"}],\"scattermapbox\":[{\"marker\":{\"colorbar\":{\"outlinewidth\":0,\"ticks\":\"\"}},\"type\":\"scattermapbox\"}],\"scatterpolargl\":[{\"marker\":{\"colorbar\":{\"outlinewidth\":0,\"ticks\":\"\"}},\"type\":\"scatterpolargl\"}],\"scatterpolar\":[{\"marker\":{\"colorbar\":{\"outlinewidth\":0,\"ticks\":\"\"}},\"type\":\"scatterpolar\"}],\"scatter\":[{\"marker\":{\"colorbar\":{\"outlinewidth\":0,\"ticks\":\"\"}},\"type\":\"scatter\"}],\"scatterternary\":[{\"marker\":{\"colorbar\":{\"outlinewidth\":0,\"ticks\":\"\"}},\"type\":\"scatterternary\"}],\"surface\":[{\"colorbar\":{\"outlinewidth\":0,\"ticks\":\"\"},\"colorscale\":[[0.0,\"#0d0887\"],[0.1111111111111111,\"#46039f\"],[0.2222222222222222,\"#7201a8\"],[0.3333333333333333,\"#9c179e\"],[0.4444444444444444,\"#bd3786\"],[0.5555555555555556,\"#d8576b\"],[0.6666666666666666,\"#ed7953\"],[0.7777777777777778,\"#fb9f3a\"],[0.8888888888888888,\"#fdca26\"],[1.0,\"#f0f921\"]],\"type\":\"surface\"}],\"table\":[{\"cells\":{\"fill\":{\"color\":\"#EBF0F8\"},\"line\":{\"color\":\"white\"}},\"header\":{\"fill\":{\"color\":\"#C8D4E3\"},\"line\":{\"color\":\"white\"}},\"type\":\"table\"}]},\"layout\":{\"annotationdefaults\":{\"arrowcolor\":\"#2a3f5f\",\"arrowhead\":0,\"arrowwidth\":1},\"autotypenumbers\":\"strict\",\"coloraxis\":{\"colorbar\":{\"outlinewidth\":0,\"ticks\":\"\"}},\"colorscale\":{\"diverging\":[[0,\"#8e0152\"],[0.1,\"#c51b7d\"],[0.2,\"#de77ae\"],[0.3,\"#f1b6da\"],[0.4,\"#fde0ef\"],[0.5,\"#f7f7f7\"],[0.6,\"#e6f5d0\"],[0.7,\"#b8e186\"],[0.8,\"#7fbc41\"],[0.9,\"#4d9221\"],[1,\"#276419\"]],\"sequential\":[[0.0,\"#0d0887\"],[0.1111111111111111,\"#46039f\"],[0.2222222222222222,\"#7201a8\"],[0.3333333333333333,\"#9c179e\"],[0.4444444444444444,\"#bd3786\"],[0.5555555555555556,\"#d8576b\"],[0.6666666666666666,\"#ed7953\"],[0.7777777777777778,\"#fb9f3a\"],[0.8888888888888888,\"#fdca26\"],[1.0,\"#f0f921\"]],\"sequentialminus\":[[0.0,\"#0d0887\"],[0.1111111111111111,\"#46039f\"],[0.2222222222222222,\"#7201a8\"],[0.3333333333333333,\"#9c179e\"],[0.4444444444444444,\"#bd3786\"],[0.5555555555555556,\"#d8576b\"],[0.6666666666666666,\"#ed7953\"],[0.7777777777777778,\"#fb9f3a\"],[0.8888888888888888,\"#fdca26\"],[1.0,\"#f0f921\"]]},\"colorway\":[\"#636efa\",\"#EF553B\",\"#00cc96\",\"#ab63fa\",\"#FFA15A\",\"#19d3f3\",\"#FF6692\",\"#B6E880\",\"#FF97FF\",\"#FECB52\"],\"font\":{\"color\":\"#2a3f5f\"},\"geo\":{\"bgcolor\":\"white\",\"lakecolor\":\"white\",\"landcolor\":\"#E5ECF6\",\"showlakes\":true,\"showland\":true,\"subunitcolor\":\"white\"},\"hoverlabel\":{\"align\":\"left\"},\"hovermode\":\"closest\",\"mapbox\":{\"style\":\"light\"},\"paper_bgcolor\":\"white\",\"plot_bgcolor\":\"#E5ECF6\",\"polar\":{\"angularaxis\":{\"gridcolor\":\"white\",\"linecolor\":\"white\",\"ticks\":\"\"},\"bgcolor\":\"#E5ECF6\",\"radialaxis\":{\"gridcolor\":\"white\",\"linecolor\":\"white\",\"ticks\":\"\"}},\"scene\":{\"xaxis\":{\"backgroundcolor\":\"#E5ECF6\",\"gridcolor\":\"white\",\"gridwidth\":2,\"linecolor\":\"white\",\"showbackground\":true,\"ticks\":\"\",\"zerolinecolor\":\"white\"},\"yaxis\":{\"backgroundcolor\":\"#E5ECF6\",\"gridcolor\":\"white\",\"gridwidth\":2,\"linecolor\":\"white\",\"showbackground\":true,\"ticks\":\"\",\"zerolinecolor\":\"white\"},\"zaxis\":{\"backgroundcolor\":\"#E5ECF6\",\"gridcolor\":\"white\",\"gridwidth\":2,\"linecolor\":\"white\",\"showbackground\":true,\"ticks\":\"\",\"zerolinecolor\":\"white\"}},\"shapedefaults\":{\"line\":{\"color\":\"#2a3f5f\"}},\"ternary\":{\"aaxis\":{\"gridcolor\":\"white\",\"linecolor\":\"white\",\"ticks\":\"\"},\"baxis\":{\"gridcolor\":\"white\",\"linecolor\":\"white\",\"ticks\":\"\"},\"bgcolor\":\"#E5ECF6\",\"caxis\":{\"gridcolor\":\"white\",\"linecolor\":\"white\",\"ticks\":\"\"}},\"title\":{\"x\":0.05},\"xaxis\":{\"automargin\":true,\"gridcolor\":\"white\",\"linecolor\":\"white\",\"ticks\":\"\",\"title\":{\"standoff\":15},\"zerolinecolor\":\"white\",\"zerolinewidth\":2},\"yaxis\":{\"automargin\":true,\"gridcolor\":\"white\",\"linecolor\":\"white\",\"ticks\":\"\",\"title\":{\"standoff\":15},\"zerolinecolor\":\"white\",\"zerolinewidth\":2}}},\"title\":{\"font\":{\"color\":\"#4D5663\"},\"text\":\"Personal Wellbeing Subscale Distribution\"},\"xaxis\":{\"gridcolor\":\"#E1E5ED\",\"showgrid\":true,\"tickfont\":{\"color\":\"#4D5663\"},\"title\":{\"font\":{\"color\":\"#4D5663\"},\"text\":\"GCBS score (overall)\"},\"zerolinecolor\":\"#E1E5ED\"},\"yaxis\":{\"gridcolor\":\"#E1E5ED\",\"showgrid\":true,\"tickfont\":{\"color\":\"#4D5663\"},\"title\":{\"font\":{\"color\":\"#4D5663\"},\"text\":\"Count\"},\"zerolinecolor\":\"#E1E5ED\"}},                        {\"showLink\": true, \"linkText\": \"Export to plot.ly\", \"plotlyServerURL\": \"https://plot.ly\", \"responsive\": true}                    ).then(function(){\n",
       "                            \n",
       "var gd = document.getElementById('06cab662-6055-45d7-b8dc-adcb06df86d3');\n",
       "var x = new MutationObserver(function (mutations, observer) {{\n",
       "        var display = window.getComputedStyle(gd).display;\n",
       "        if (!display || display === 'none') {{\n",
       "            console.log([gd, 'removed!']);\n",
       "            Plotly.purge(gd);\n",
       "            observer.disconnect();\n",
       "        }}\n",
       "}});\n",
       "\n",
       "// Listen for the removal of the full notebook cells\n",
       "var notebookContainer = gd.closest('#notebook-container');\n",
       "if (notebookContainer) {{\n",
       "    x.observe(notebookContainer, {childList: true});\n",
       "}}\n",
       "\n",
       "// Listen for the clearing of the current output cell\n",
       "var outputEl = gd.closest('.output');\n",
       "if (outputEl) {{\n",
       "    x.observe(outputEl, {childList: true});\n",
       "}}\n",
       "\n",
       "                        })                };                });            </script>        </div>"
      ]
     },
     "metadata": {},
     "output_type": "display_data"
    }
   ],
   "source": [
    "gcbs_clean_df['GCBS_Personal_Wellbeing'].iplot(kind='hist', opacity=0.75, color='rgb(12, 128, 128)', title='Personal Wellbeing Subscale Distribution'.format(total_responses), yTitle='Count', xTitle='GCBS score (overall)', bargap = 0, theme='white')"
   ]
  },
  {
   "cell_type": "code",
   "execution_count": 54,
   "metadata": {},
   "outputs": [
    {
     "data": {
      "application/vnd.plotly.v1+json": {
       "config": {
        "linkText": "Export to plot.ly",
        "plotlyServerURL": "https://plot.ly",
        "showLink": true
       },
       "data": [
        {
         "histfunc": "count",
         "histnorm": "",
         "marker": {
          "color": "rgba(12, 128, 128, 1.0)",
          "line": {
           "color": "#4D5663",
           "width": 1.3
          }
         },
         "name": "GCBS_Control_Of_Information",
         "opacity": 0.75,
         "orientation": "v",
         "type": "histogram",
         "x": [
          15,
          14,
          14,
          13,
          12,
          5,
          7,
          12,
          13,
          15,
          7,
          8,
          14,
          11,
          12,
          10,
          11,
          6,
          12,
          9,
          10,
          12,
          7,
          13,
          15,
          9,
          8,
          13,
          7,
          12,
          14,
          11,
          15,
          6,
          13,
          13,
          7,
          12,
          15,
          8,
          9,
          6,
          11,
          8,
          9,
          13,
          10,
          9,
          11,
          12,
          14,
          8,
          13,
          14,
          10,
          15,
          12,
          12,
          8,
          14,
          15,
          5,
          13,
          11,
          8,
          15,
          14,
          10,
          12,
          10,
          12,
          13,
          12,
          10,
          12,
          11,
          11,
          10,
          15,
          13,
          11,
          11,
          7,
          8,
          15,
          9,
          5,
          8,
          11,
          11,
          14,
          13,
          13,
          11,
          8,
          13,
          7,
          14,
          15,
          13,
          8,
          12,
          6,
          10,
          9,
          13,
          12,
          15,
          12,
          15,
          15,
          11,
          12,
          12,
          12,
          13,
          13,
          11,
          6,
          4,
          13,
          10,
          15,
          10,
          14,
          9,
          15,
          13,
          12,
          6,
          8,
          13,
          12,
          10,
          11,
          8,
          11,
          13,
          12,
          9,
          13,
          13,
          8,
          15,
          11,
          10,
          10,
          11,
          10,
          15,
          12,
          8,
          15,
          9,
          10,
          14,
          6,
          10,
          14,
          13,
          12,
          14,
          15,
          8,
          12,
          6,
          15,
          15,
          11,
          12,
          7,
          3,
          15,
          14,
          14,
          15,
          13,
          13,
          11,
          6,
          11,
          12,
          7,
          10,
          7,
          11,
          14,
          14,
          11,
          5,
          12,
          12,
          11,
          9,
          9,
          12,
          12,
          12,
          13,
          13,
          4,
          9,
          12,
          13,
          8,
          13,
          12,
          13,
          13,
          7,
          10,
          14,
          14,
          11,
          11,
          13,
          13,
          9,
          12,
          12,
          8,
          13,
          3,
          11,
          11,
          8,
          15,
          10,
          14,
          10,
          7,
          7,
          14,
          11,
          7,
          12,
          12,
          15,
          8,
          14,
          12,
          10,
          14,
          15,
          14,
          9,
          12,
          13,
          13,
          15,
          15,
          15,
          12,
          15,
          15,
          14,
          15,
          14,
          13,
          14,
          12,
          14,
          13,
          14,
          15,
          15,
          15,
          14,
          15,
          15,
          12,
          15,
          12,
          13,
          4,
          12,
          6,
          15,
          11,
          11,
          7,
          13,
          8,
          13,
          15,
          11,
          12,
          13,
          10,
          15,
          10,
          11,
          14,
          8,
          12,
          7,
          15,
          15,
          8,
          12,
          14,
          15,
          12,
          12,
          11,
          12,
          15,
          15,
          14,
          13,
          14,
          14,
          11,
          7,
          13,
          6,
          13,
          15,
          14,
          9,
          9,
          10,
          13,
          9,
          11,
          12,
          14,
          8,
          14,
          12,
          9,
          12,
          14,
          10,
          12,
          15,
          15,
          13,
          5,
          7,
          11,
          12,
          4,
          7,
          15,
          13,
          13,
          11,
          14,
          13,
          13,
          14,
          14,
          15,
          12,
          12,
          10,
          10,
          11,
          14,
          3,
          8,
          13,
          12,
          5,
          7,
          9,
          12,
          13,
          7,
          12,
          11,
          15,
          15,
          12,
          15,
          12,
          13,
          13,
          13,
          6,
          9,
          10,
          10,
          11,
          6,
          13,
          13,
          10,
          10,
          12,
          15,
          3,
          10,
          9,
          12,
          11,
          12,
          12,
          6,
          13,
          10,
          13,
          13,
          13,
          10,
          15,
          13,
          6,
          7,
          13,
          15,
          15,
          11,
          14,
          11,
          13,
          7,
          15,
          10,
          8,
          12,
          14,
          11,
          4,
          4,
          11,
          15,
          8,
          12,
          10,
          9,
          14,
          11,
          8,
          13,
          7,
          10,
          12,
          11,
          15,
          11,
          12,
          15,
          11,
          12,
          9,
          10,
          9,
          15,
          12,
          15,
          11,
          13,
          15,
          10,
          14,
          9,
          15,
          12,
          14,
          10,
          11,
          10,
          10,
          12,
          7,
          15,
          10,
          11,
          7,
          12,
          7,
          15,
          7,
          9,
          12,
          13,
          9,
          8,
          11,
          5,
          15,
          14,
          7,
          10,
          7,
          10,
          9,
          9,
          14,
          12,
          9,
          11,
          15,
          5,
          12,
          8,
          13,
          14,
          8,
          15,
          8,
          8,
          11,
          14,
          8,
          15,
          9,
          12,
          12,
          6,
          14,
          10,
          9,
          12,
          13,
          15,
          15,
          15,
          12,
          5,
          12,
          15,
          13,
          13,
          12,
          12,
          11,
          11,
          13,
          6,
          11,
          9,
          15,
          14,
          12,
          9,
          10,
          13,
          12,
          11,
          14,
          10,
          15,
          10,
          13,
          6,
          15,
          6,
          11,
          13,
          8,
          15,
          8,
          13,
          13,
          10,
          11,
          5,
          11,
          14,
          12,
          14,
          9,
          12,
          7,
          11,
          9,
          9,
          7,
          15,
          12,
          7,
          10,
          14,
          10,
          11,
          9,
          13,
          10,
          12,
          13,
          8,
          13,
          15,
          11,
          8,
          14,
          13,
          7,
          9,
          13,
          14,
          7,
          13,
          11,
          11,
          9,
          15,
          14,
          11,
          7,
          7,
          14,
          12,
          10,
          13,
          15,
          15,
          10,
          7,
          14,
          10,
          7,
          10,
          11,
          9,
          10,
          13,
          15,
          13,
          11,
          11,
          8,
          15,
          12,
          10,
          11,
          12,
          7,
          11,
          11,
          13,
          15,
          14,
          15,
          8,
          6,
          13,
          10,
          8,
          8,
          10,
          14,
          13,
          7,
          15,
          13,
          9,
          13,
          15,
          15,
          14,
          6,
          11,
          12,
          13,
          15,
          12,
          10,
          14,
          13,
          9,
          10,
          15,
          13,
          5,
          9,
          7,
          10,
          11,
          14,
          10,
          14,
          11,
          12,
          15,
          7,
          10,
          13,
          12,
          7,
          10,
          12,
          11,
          10,
          12,
          14,
          15,
          11,
          15,
          15,
          15,
          11,
          14,
          12,
          12,
          13,
          11,
          9,
          12,
          13,
          13,
          12,
          15,
          12,
          13,
          9,
          13,
          12,
          14,
          5,
          11,
          4,
          13,
          7,
          15,
          15,
          7,
          14,
          10,
          14,
          14,
          13,
          11,
          13,
          8,
          14,
          8,
          15,
          15,
          4,
          14,
          15,
          10,
          9,
          8,
          15,
          7,
          14,
          7,
          8,
          11,
          12,
          10,
          10,
          9,
          8,
          9,
          12,
          8,
          13,
          13,
          15,
          7,
          6,
          11,
          5,
          14,
          11,
          13,
          11,
          12,
          10,
          3,
          12,
          13,
          14,
          8,
          15,
          15,
          11,
          14,
          6,
          13,
          12,
          15,
          11,
          10,
          14,
          13,
          9,
          10,
          10,
          13,
          12,
          14,
          7,
          12,
          14,
          11,
          11,
          14,
          7,
          9,
          7,
          13,
          8,
          13,
          13,
          7,
          6,
          8,
          13,
          8,
          12,
          13,
          12,
          13,
          9,
          9,
          13,
          12,
          6,
          14,
          15,
          6,
          14,
          13,
          10,
          11,
          13,
          15,
          8,
          12,
          9,
          6,
          12,
          11,
          10,
          15,
          11,
          7,
          15,
          14,
          11,
          14,
          15,
          14,
          15,
          10,
          11,
          13,
          12,
          13,
          14,
          15,
          10,
          7,
          12,
          11,
          11,
          15,
          13,
          12,
          15,
          10,
          12,
          9,
          10,
          13,
          11,
          14,
          13,
          12,
          13,
          11,
          15,
          9,
          12,
          15,
          14,
          8,
          10,
          10,
          8,
          12,
          8,
          8,
          11,
          4,
          5,
          12,
          11,
          10,
          8,
          15,
          15,
          6,
          14,
          13,
          8,
          6,
          11,
          10,
          8,
          15,
          15,
          9,
          9,
          15,
          14,
          14,
          15,
          7,
          13,
          15,
          7,
          12,
          15,
          14,
          11,
          14,
          8,
          11,
          13,
          5,
          11,
          10,
          8,
          15,
          11,
          13,
          9,
          10,
          13,
          15,
          11,
          12,
          11,
          13,
          12,
          12,
          6,
          8,
          9,
          10,
          7,
          11,
          7,
          10,
          12,
          10,
          6,
          11,
          12,
          10,
          14,
          5,
          9,
          10,
          10,
          11,
          11,
          12,
          10,
          15,
          15,
          11,
          9,
          11
         ]
        }
       ],
       "layout": {
        "barmode": "overlay",
        "legend": {
         "bgcolor": "#FFFFFF",
         "font": {
          "color": "#4D5663"
         }
        },
        "paper_bgcolor": "#FFFFFF",
        "plot_bgcolor": "#FFFFFF",
        "template": {
         "data": {
          "bar": [
           {
            "error_x": {
             "color": "#2a3f5f"
            },
            "error_y": {
             "color": "#2a3f5f"
            },
            "marker": {
             "line": {
              "color": "#E5ECF6",
              "width": 0.5
             },
             "pattern": {
              "fillmode": "overlay",
              "size": 10,
              "solidity": 0.2
             }
            },
            "type": "bar"
           }
          ],
          "barpolar": [
           {
            "marker": {
             "line": {
              "color": "#E5ECF6",
              "width": 0.5
             },
             "pattern": {
              "fillmode": "overlay",
              "size": 10,
              "solidity": 0.2
             }
            },
            "type": "barpolar"
           }
          ],
          "carpet": [
           {
            "aaxis": {
             "endlinecolor": "#2a3f5f",
             "gridcolor": "white",
             "linecolor": "white",
             "minorgridcolor": "white",
             "startlinecolor": "#2a3f5f"
            },
            "baxis": {
             "endlinecolor": "#2a3f5f",
             "gridcolor": "white",
             "linecolor": "white",
             "minorgridcolor": "white",
             "startlinecolor": "#2a3f5f"
            },
            "type": "carpet"
           }
          ],
          "choropleth": [
           {
            "colorbar": {
             "outlinewidth": 0,
             "ticks": ""
            },
            "type": "choropleth"
           }
          ],
          "contour": [
           {
            "colorbar": {
             "outlinewidth": 0,
             "ticks": ""
            },
            "colorscale": [
             [
              0,
              "#0d0887"
             ],
             [
              0.1111111111111111,
              "#46039f"
             ],
             [
              0.2222222222222222,
              "#7201a8"
             ],
             [
              0.3333333333333333,
              "#9c179e"
             ],
             [
              0.4444444444444444,
              "#bd3786"
             ],
             [
              0.5555555555555556,
              "#d8576b"
             ],
             [
              0.6666666666666666,
              "#ed7953"
             ],
             [
              0.7777777777777778,
              "#fb9f3a"
             ],
             [
              0.8888888888888888,
              "#fdca26"
             ],
             [
              1,
              "#f0f921"
             ]
            ],
            "type": "contour"
           }
          ],
          "contourcarpet": [
           {
            "colorbar": {
             "outlinewidth": 0,
             "ticks": ""
            },
            "type": "contourcarpet"
           }
          ],
          "heatmap": [
           {
            "colorbar": {
             "outlinewidth": 0,
             "ticks": ""
            },
            "colorscale": [
             [
              0,
              "#0d0887"
             ],
             [
              0.1111111111111111,
              "#46039f"
             ],
             [
              0.2222222222222222,
              "#7201a8"
             ],
             [
              0.3333333333333333,
              "#9c179e"
             ],
             [
              0.4444444444444444,
              "#bd3786"
             ],
             [
              0.5555555555555556,
              "#d8576b"
             ],
             [
              0.6666666666666666,
              "#ed7953"
             ],
             [
              0.7777777777777778,
              "#fb9f3a"
             ],
             [
              0.8888888888888888,
              "#fdca26"
             ],
             [
              1,
              "#f0f921"
             ]
            ],
            "type": "heatmap"
           }
          ],
          "heatmapgl": [
           {
            "colorbar": {
             "outlinewidth": 0,
             "ticks": ""
            },
            "colorscale": [
             [
              0,
              "#0d0887"
             ],
             [
              0.1111111111111111,
              "#46039f"
             ],
             [
              0.2222222222222222,
              "#7201a8"
             ],
             [
              0.3333333333333333,
              "#9c179e"
             ],
             [
              0.4444444444444444,
              "#bd3786"
             ],
             [
              0.5555555555555556,
              "#d8576b"
             ],
             [
              0.6666666666666666,
              "#ed7953"
             ],
             [
              0.7777777777777778,
              "#fb9f3a"
             ],
             [
              0.8888888888888888,
              "#fdca26"
             ],
             [
              1,
              "#f0f921"
             ]
            ],
            "type": "heatmapgl"
           }
          ],
          "histogram": [
           {
            "marker": {
             "pattern": {
              "fillmode": "overlay",
              "size": 10,
              "solidity": 0.2
             }
            },
            "type": "histogram"
           }
          ],
          "histogram2d": [
           {
            "colorbar": {
             "outlinewidth": 0,
             "ticks": ""
            },
            "colorscale": [
             [
              0,
              "#0d0887"
             ],
             [
              0.1111111111111111,
              "#46039f"
             ],
             [
              0.2222222222222222,
              "#7201a8"
             ],
             [
              0.3333333333333333,
              "#9c179e"
             ],
             [
              0.4444444444444444,
              "#bd3786"
             ],
             [
              0.5555555555555556,
              "#d8576b"
             ],
             [
              0.6666666666666666,
              "#ed7953"
             ],
             [
              0.7777777777777778,
              "#fb9f3a"
             ],
             [
              0.8888888888888888,
              "#fdca26"
             ],
             [
              1,
              "#f0f921"
             ]
            ],
            "type": "histogram2d"
           }
          ],
          "histogram2dcontour": [
           {
            "colorbar": {
             "outlinewidth": 0,
             "ticks": ""
            },
            "colorscale": [
             [
              0,
              "#0d0887"
             ],
             [
              0.1111111111111111,
              "#46039f"
             ],
             [
              0.2222222222222222,
              "#7201a8"
             ],
             [
              0.3333333333333333,
              "#9c179e"
             ],
             [
              0.4444444444444444,
              "#bd3786"
             ],
             [
              0.5555555555555556,
              "#d8576b"
             ],
             [
              0.6666666666666666,
              "#ed7953"
             ],
             [
              0.7777777777777778,
              "#fb9f3a"
             ],
             [
              0.8888888888888888,
              "#fdca26"
             ],
             [
              1,
              "#f0f921"
             ]
            ],
            "type": "histogram2dcontour"
           }
          ],
          "mesh3d": [
           {
            "colorbar": {
             "outlinewidth": 0,
             "ticks": ""
            },
            "type": "mesh3d"
           }
          ],
          "parcoords": [
           {
            "line": {
             "colorbar": {
              "outlinewidth": 0,
              "ticks": ""
             }
            },
            "type": "parcoords"
           }
          ],
          "pie": [
           {
            "automargin": true,
            "type": "pie"
           }
          ],
          "scatter": [
           {
            "marker": {
             "colorbar": {
              "outlinewidth": 0,
              "ticks": ""
             }
            },
            "type": "scatter"
           }
          ],
          "scatter3d": [
           {
            "line": {
             "colorbar": {
              "outlinewidth": 0,
              "ticks": ""
             }
            },
            "marker": {
             "colorbar": {
              "outlinewidth": 0,
              "ticks": ""
             }
            },
            "type": "scatter3d"
           }
          ],
          "scattercarpet": [
           {
            "marker": {
             "colorbar": {
              "outlinewidth": 0,
              "ticks": ""
             }
            },
            "type": "scattercarpet"
           }
          ],
          "scattergeo": [
           {
            "marker": {
             "colorbar": {
              "outlinewidth": 0,
              "ticks": ""
             }
            },
            "type": "scattergeo"
           }
          ],
          "scattergl": [
           {
            "marker": {
             "colorbar": {
              "outlinewidth": 0,
              "ticks": ""
             }
            },
            "type": "scattergl"
           }
          ],
          "scattermapbox": [
           {
            "marker": {
             "colorbar": {
              "outlinewidth": 0,
              "ticks": ""
             }
            },
            "type": "scattermapbox"
           }
          ],
          "scatterpolar": [
           {
            "marker": {
             "colorbar": {
              "outlinewidth": 0,
              "ticks": ""
             }
            },
            "type": "scatterpolar"
           }
          ],
          "scatterpolargl": [
           {
            "marker": {
             "colorbar": {
              "outlinewidth": 0,
              "ticks": ""
             }
            },
            "type": "scatterpolargl"
           }
          ],
          "scatterternary": [
           {
            "marker": {
             "colorbar": {
              "outlinewidth": 0,
              "ticks": ""
             }
            },
            "type": "scatterternary"
           }
          ],
          "surface": [
           {
            "colorbar": {
             "outlinewidth": 0,
             "ticks": ""
            },
            "colorscale": [
             [
              0,
              "#0d0887"
             ],
             [
              0.1111111111111111,
              "#46039f"
             ],
             [
              0.2222222222222222,
              "#7201a8"
             ],
             [
              0.3333333333333333,
              "#9c179e"
             ],
             [
              0.4444444444444444,
              "#bd3786"
             ],
             [
              0.5555555555555556,
              "#d8576b"
             ],
             [
              0.6666666666666666,
              "#ed7953"
             ],
             [
              0.7777777777777778,
              "#fb9f3a"
             ],
             [
              0.8888888888888888,
              "#fdca26"
             ],
             [
              1,
              "#f0f921"
             ]
            ],
            "type": "surface"
           }
          ],
          "table": [
           {
            "cells": {
             "fill": {
              "color": "#EBF0F8"
             },
             "line": {
              "color": "white"
             }
            },
            "header": {
             "fill": {
              "color": "#C8D4E3"
             },
             "line": {
              "color": "white"
             }
            },
            "type": "table"
           }
          ]
         },
         "layout": {
          "annotationdefaults": {
           "arrowcolor": "#2a3f5f",
           "arrowhead": 0,
           "arrowwidth": 1
          },
          "autotypenumbers": "strict",
          "coloraxis": {
           "colorbar": {
            "outlinewidth": 0,
            "ticks": ""
           }
          },
          "colorscale": {
           "diverging": [
            [
             0,
             "#8e0152"
            ],
            [
             0.1,
             "#c51b7d"
            ],
            [
             0.2,
             "#de77ae"
            ],
            [
             0.3,
             "#f1b6da"
            ],
            [
             0.4,
             "#fde0ef"
            ],
            [
             0.5,
             "#f7f7f7"
            ],
            [
             0.6,
             "#e6f5d0"
            ],
            [
             0.7,
             "#b8e186"
            ],
            [
             0.8,
             "#7fbc41"
            ],
            [
             0.9,
             "#4d9221"
            ],
            [
             1,
             "#276419"
            ]
           ],
           "sequential": [
            [
             0,
             "#0d0887"
            ],
            [
             0.1111111111111111,
             "#46039f"
            ],
            [
             0.2222222222222222,
             "#7201a8"
            ],
            [
             0.3333333333333333,
             "#9c179e"
            ],
            [
             0.4444444444444444,
             "#bd3786"
            ],
            [
             0.5555555555555556,
             "#d8576b"
            ],
            [
             0.6666666666666666,
             "#ed7953"
            ],
            [
             0.7777777777777778,
             "#fb9f3a"
            ],
            [
             0.8888888888888888,
             "#fdca26"
            ],
            [
             1,
             "#f0f921"
            ]
           ],
           "sequentialminus": [
            [
             0,
             "#0d0887"
            ],
            [
             0.1111111111111111,
             "#46039f"
            ],
            [
             0.2222222222222222,
             "#7201a8"
            ],
            [
             0.3333333333333333,
             "#9c179e"
            ],
            [
             0.4444444444444444,
             "#bd3786"
            ],
            [
             0.5555555555555556,
             "#d8576b"
            ],
            [
             0.6666666666666666,
             "#ed7953"
            ],
            [
             0.7777777777777778,
             "#fb9f3a"
            ],
            [
             0.8888888888888888,
             "#fdca26"
            ],
            [
             1,
             "#f0f921"
            ]
           ]
          },
          "colorway": [
           "#636efa",
           "#EF553B",
           "#00cc96",
           "#ab63fa",
           "#FFA15A",
           "#19d3f3",
           "#FF6692",
           "#B6E880",
           "#FF97FF",
           "#FECB52"
          ],
          "font": {
           "color": "#2a3f5f"
          },
          "geo": {
           "bgcolor": "white",
           "lakecolor": "white",
           "landcolor": "#E5ECF6",
           "showlakes": true,
           "showland": true,
           "subunitcolor": "white"
          },
          "hoverlabel": {
           "align": "left"
          },
          "hovermode": "closest",
          "mapbox": {
           "style": "light"
          },
          "paper_bgcolor": "white",
          "plot_bgcolor": "#E5ECF6",
          "polar": {
           "angularaxis": {
            "gridcolor": "white",
            "linecolor": "white",
            "ticks": ""
           },
           "bgcolor": "#E5ECF6",
           "radialaxis": {
            "gridcolor": "white",
            "linecolor": "white",
            "ticks": ""
           }
          },
          "scene": {
           "xaxis": {
            "backgroundcolor": "#E5ECF6",
            "gridcolor": "white",
            "gridwidth": 2,
            "linecolor": "white",
            "showbackground": true,
            "ticks": "",
            "zerolinecolor": "white"
           },
           "yaxis": {
            "backgroundcolor": "#E5ECF6",
            "gridcolor": "white",
            "gridwidth": 2,
            "linecolor": "white",
            "showbackground": true,
            "ticks": "",
            "zerolinecolor": "white"
           },
           "zaxis": {
            "backgroundcolor": "#E5ECF6",
            "gridcolor": "white",
            "gridwidth": 2,
            "linecolor": "white",
            "showbackground": true,
            "ticks": "",
            "zerolinecolor": "white"
           }
          },
          "shapedefaults": {
           "line": {
            "color": "#2a3f5f"
           }
          },
          "ternary": {
           "aaxis": {
            "gridcolor": "white",
            "linecolor": "white",
            "ticks": ""
           },
           "baxis": {
            "gridcolor": "white",
            "linecolor": "white",
            "ticks": ""
           },
           "bgcolor": "#E5ECF6",
           "caxis": {
            "gridcolor": "white",
            "linecolor": "white",
            "ticks": ""
           }
          },
          "title": {
           "x": 0.05
          },
          "xaxis": {
           "automargin": true,
           "gridcolor": "white",
           "linecolor": "white",
           "ticks": "",
           "title": {
            "standoff": 15
           },
           "zerolinecolor": "white",
           "zerolinewidth": 2
          },
          "yaxis": {
           "automargin": true,
           "gridcolor": "white",
           "linecolor": "white",
           "ticks": "",
           "title": {
            "standoff": 15
           },
           "zerolinecolor": "white",
           "zerolinewidth": 2
          }
         }
        },
        "title": {
         "font": {
          "color": "#4D5663"
         },
         "text": "Control Of Information Subscale Distribution"
        },
        "xaxis": {
         "gridcolor": "#E1E5ED",
         "showgrid": true,
         "tickfont": {
          "color": "#4D5663"
         },
         "title": {
          "font": {
           "color": "#4D5663"
          },
          "text": "GCBS score (overall)"
         },
         "zerolinecolor": "#E1E5ED"
        },
        "yaxis": {
         "gridcolor": "#E1E5ED",
         "showgrid": true,
         "tickfont": {
          "color": "#4D5663"
         },
         "title": {
          "font": {
           "color": "#4D5663"
          },
          "text": "Count"
         },
         "zerolinecolor": "#E1E5ED"
        }
       }
      },
      "text/html": [
       "<div>                            <div id=\"df5bea67-d333-4113-9a31-be538c5ba81d\" class=\"plotly-graph-div\" style=\"height:525px; width:100%;\"></div>            <script type=\"text/javascript\">                require([\"plotly\"], function(Plotly) {                    window.PLOTLYENV=window.PLOTLYENV || {};\n",
       "                    window.PLOTLYENV.BASE_URL='https://plot.ly';                                    if (document.getElementById(\"df5bea67-d333-4113-9a31-be538c5ba81d\")) {                    Plotly.newPlot(                        \"df5bea67-d333-4113-9a31-be538c5ba81d\",                        [{\"histfunc\":\"count\",\"histnorm\":\"\",\"marker\":{\"color\":\"rgba(12, 128, 128, 1.0)\",\"line\":{\"color\":\"#4D5663\",\"width\":1.3}},\"name\":\"GCBS_Control_Of_Information\",\"opacity\":0.75,\"orientation\":\"v\",\"x\":[15,14,14,13,12,5,7,12,13,15,7,8,14,11,12,10,11,6,12,9,10,12,7,13,15,9,8,13,7,12,14,11,15,6,13,13,7,12,15,8,9,6,11,8,9,13,10,9,11,12,14,8,13,14,10,15,12,12,8,14,15,5,13,11,8,15,14,10,12,10,12,13,12,10,12,11,11,10,15,13,11,11,7,8,15,9,5,8,11,11,14,13,13,11,8,13,7,14,15,13,8,12,6,10,9,13,12,15,12,15,15,11,12,12,12,13,13,11,6,4,13,10,15,10,14,9,15,13,12,6,8,13,12,10,11,8,11,13,12,9,13,13,8,15,11,10,10,11,10,15,12,8,15,9,10,14,6,10,14,13,12,14,15,8,12,6,15,15,11,12,7,3,15,14,14,15,13,13,11,6,11,12,7,10,7,11,14,14,11,5,12,12,11,9,9,12,12,12,13,13,4,9,12,13,8,13,12,13,13,7,10,14,14,11,11,13,13,9,12,12,8,13,3,11,11,8,15,10,14,10,7,7,14,11,7,12,12,15,8,14,12,10,14,15,14,9,12,13,13,15,15,15,12,15,15,14,15,14,13,14,12,14,13,14,15,15,15,14,15,15,12,15,12,13,4,12,6,15,11,11,7,13,8,13,15,11,12,13,10,15,10,11,14,8,12,7,15,15,8,12,14,15,12,12,11,12,15,15,14,13,14,14,11,7,13,6,13,15,14,9,9,10,13,9,11,12,14,8,14,12,9,12,14,10,12,15,15,13,5,7,11,12,4,7,15,13,13,11,14,13,13,14,14,15,12,12,10,10,11,14,3,8,13,12,5,7,9,12,13,7,12,11,15,15,12,15,12,13,13,13,6,9,10,10,11,6,13,13,10,10,12,15,3,10,9,12,11,12,12,6,13,10,13,13,13,10,15,13,6,7,13,15,15,11,14,11,13,7,15,10,8,12,14,11,4,4,11,15,8,12,10,9,14,11,8,13,7,10,12,11,15,11,12,15,11,12,9,10,9,15,12,15,11,13,15,10,14,9,15,12,14,10,11,10,10,12,7,15,10,11,7,12,7,15,7,9,12,13,9,8,11,5,15,14,7,10,7,10,9,9,14,12,9,11,15,5,12,8,13,14,8,15,8,8,11,14,8,15,9,12,12,6,14,10,9,12,13,15,15,15,12,5,12,15,13,13,12,12,11,11,13,6,11,9,15,14,12,9,10,13,12,11,14,10,15,10,13,6,15,6,11,13,8,15,8,13,13,10,11,5,11,14,12,14,9,12,7,11,9,9,7,15,12,7,10,14,10,11,9,13,10,12,13,8,13,15,11,8,14,13,7,9,13,14,7,13,11,11,9,15,14,11,7,7,14,12,10,13,15,15,10,7,14,10,7,10,11,9,10,13,15,13,11,11,8,15,12,10,11,12,7,11,11,13,15,14,15,8,6,13,10,8,8,10,14,13,7,15,13,9,13,15,15,14,6,11,12,13,15,12,10,14,13,9,10,15,13,5,9,7,10,11,14,10,14,11,12,15,7,10,13,12,7,10,12,11,10,12,14,15,11,15,15,15,11,14,12,12,13,11,9,12,13,13,12,15,12,13,9,13,12,14,5,11,4,13,7,15,15,7,14,10,14,14,13,11,13,8,14,8,15,15,4,14,15,10,9,8,15,7,14,7,8,11,12,10,10,9,8,9,12,8,13,13,15,7,6,11,5,14,11,13,11,12,10,3,12,13,14,8,15,15,11,14,6,13,12,15,11,10,14,13,9,10,10,13,12,14,7,12,14,11,11,14,7,9,7,13,8,13,13,7,6,8,13,8,12,13,12,13,9,9,13,12,6,14,15,6,14,13,10,11,13,15,8,12,9,6,12,11,10,15,11,7,15,14,11,14,15,14,15,10,11,13,12,13,14,15,10,7,12,11,11,15,13,12,15,10,12,9,10,13,11,14,13,12,13,11,15,9,12,15,14,8,10,10,8,12,8,8,11,4,5,12,11,10,8,15,15,6,14,13,8,6,11,10,8,15,15,9,9,15,14,14,15,7,13,15,7,12,15,14,11,14,8,11,13,5,11,10,8,15,11,13,9,10,13,15,11,12,11,13,12,12,6,8,9,10,7,11,7,10,12,10,6,11,12,10,14,5,9,10,10,11,11,12,10,15,15,11,9,11],\"type\":\"histogram\"}],                        {\"barmode\":\"overlay\",\"legend\":{\"bgcolor\":\"#FFFFFF\",\"font\":{\"color\":\"#4D5663\"}},\"paper_bgcolor\":\"#FFFFFF\",\"plot_bgcolor\":\"#FFFFFF\",\"template\":{\"data\":{\"barpolar\":[{\"marker\":{\"line\":{\"color\":\"#E5ECF6\",\"width\":0.5},\"pattern\":{\"fillmode\":\"overlay\",\"size\":10,\"solidity\":0.2}},\"type\":\"barpolar\"}],\"bar\":[{\"error_x\":{\"color\":\"#2a3f5f\"},\"error_y\":{\"color\":\"#2a3f5f\"},\"marker\":{\"line\":{\"color\":\"#E5ECF6\",\"width\":0.5},\"pattern\":{\"fillmode\":\"overlay\",\"size\":10,\"solidity\":0.2}},\"type\":\"bar\"}],\"carpet\":[{\"aaxis\":{\"endlinecolor\":\"#2a3f5f\",\"gridcolor\":\"white\",\"linecolor\":\"white\",\"minorgridcolor\":\"white\",\"startlinecolor\":\"#2a3f5f\"},\"baxis\":{\"endlinecolor\":\"#2a3f5f\",\"gridcolor\":\"white\",\"linecolor\":\"white\",\"minorgridcolor\":\"white\",\"startlinecolor\":\"#2a3f5f\"},\"type\":\"carpet\"}],\"choropleth\":[{\"colorbar\":{\"outlinewidth\":0,\"ticks\":\"\"},\"type\":\"choropleth\"}],\"contourcarpet\":[{\"colorbar\":{\"outlinewidth\":0,\"ticks\":\"\"},\"type\":\"contourcarpet\"}],\"contour\":[{\"colorbar\":{\"outlinewidth\":0,\"ticks\":\"\"},\"colorscale\":[[0.0,\"#0d0887\"],[0.1111111111111111,\"#46039f\"],[0.2222222222222222,\"#7201a8\"],[0.3333333333333333,\"#9c179e\"],[0.4444444444444444,\"#bd3786\"],[0.5555555555555556,\"#d8576b\"],[0.6666666666666666,\"#ed7953\"],[0.7777777777777778,\"#fb9f3a\"],[0.8888888888888888,\"#fdca26\"],[1.0,\"#f0f921\"]],\"type\":\"contour\"}],\"heatmapgl\":[{\"colorbar\":{\"outlinewidth\":0,\"ticks\":\"\"},\"colorscale\":[[0.0,\"#0d0887\"],[0.1111111111111111,\"#46039f\"],[0.2222222222222222,\"#7201a8\"],[0.3333333333333333,\"#9c179e\"],[0.4444444444444444,\"#bd3786\"],[0.5555555555555556,\"#d8576b\"],[0.6666666666666666,\"#ed7953\"],[0.7777777777777778,\"#fb9f3a\"],[0.8888888888888888,\"#fdca26\"],[1.0,\"#f0f921\"]],\"type\":\"heatmapgl\"}],\"heatmap\":[{\"colorbar\":{\"outlinewidth\":0,\"ticks\":\"\"},\"colorscale\":[[0.0,\"#0d0887\"],[0.1111111111111111,\"#46039f\"],[0.2222222222222222,\"#7201a8\"],[0.3333333333333333,\"#9c179e\"],[0.4444444444444444,\"#bd3786\"],[0.5555555555555556,\"#d8576b\"],[0.6666666666666666,\"#ed7953\"],[0.7777777777777778,\"#fb9f3a\"],[0.8888888888888888,\"#fdca26\"],[1.0,\"#f0f921\"]],\"type\":\"heatmap\"}],\"histogram2dcontour\":[{\"colorbar\":{\"outlinewidth\":0,\"ticks\":\"\"},\"colorscale\":[[0.0,\"#0d0887\"],[0.1111111111111111,\"#46039f\"],[0.2222222222222222,\"#7201a8\"],[0.3333333333333333,\"#9c179e\"],[0.4444444444444444,\"#bd3786\"],[0.5555555555555556,\"#d8576b\"],[0.6666666666666666,\"#ed7953\"],[0.7777777777777778,\"#fb9f3a\"],[0.8888888888888888,\"#fdca26\"],[1.0,\"#f0f921\"]],\"type\":\"histogram2dcontour\"}],\"histogram2d\":[{\"colorbar\":{\"outlinewidth\":0,\"ticks\":\"\"},\"colorscale\":[[0.0,\"#0d0887\"],[0.1111111111111111,\"#46039f\"],[0.2222222222222222,\"#7201a8\"],[0.3333333333333333,\"#9c179e\"],[0.4444444444444444,\"#bd3786\"],[0.5555555555555556,\"#d8576b\"],[0.6666666666666666,\"#ed7953\"],[0.7777777777777778,\"#fb9f3a\"],[0.8888888888888888,\"#fdca26\"],[1.0,\"#f0f921\"]],\"type\":\"histogram2d\"}],\"histogram\":[{\"marker\":{\"pattern\":{\"fillmode\":\"overlay\",\"size\":10,\"solidity\":0.2}},\"type\":\"histogram\"}],\"mesh3d\":[{\"colorbar\":{\"outlinewidth\":0,\"ticks\":\"\"},\"type\":\"mesh3d\"}],\"parcoords\":[{\"line\":{\"colorbar\":{\"outlinewidth\":0,\"ticks\":\"\"}},\"type\":\"parcoords\"}],\"pie\":[{\"automargin\":true,\"type\":\"pie\"}],\"scatter3d\":[{\"line\":{\"colorbar\":{\"outlinewidth\":0,\"ticks\":\"\"}},\"marker\":{\"colorbar\":{\"outlinewidth\":0,\"ticks\":\"\"}},\"type\":\"scatter3d\"}],\"scattercarpet\":[{\"marker\":{\"colorbar\":{\"outlinewidth\":0,\"ticks\":\"\"}},\"type\":\"scattercarpet\"}],\"scattergeo\":[{\"marker\":{\"colorbar\":{\"outlinewidth\":0,\"ticks\":\"\"}},\"type\":\"scattergeo\"}],\"scattergl\":[{\"marker\":{\"colorbar\":{\"outlinewidth\":0,\"ticks\":\"\"}},\"type\":\"scattergl\"}],\"scattermapbox\":[{\"marker\":{\"colorbar\":{\"outlinewidth\":0,\"ticks\":\"\"}},\"type\":\"scattermapbox\"}],\"scatterpolargl\":[{\"marker\":{\"colorbar\":{\"outlinewidth\":0,\"ticks\":\"\"}},\"type\":\"scatterpolargl\"}],\"scatterpolar\":[{\"marker\":{\"colorbar\":{\"outlinewidth\":0,\"ticks\":\"\"}},\"type\":\"scatterpolar\"}],\"scatter\":[{\"marker\":{\"colorbar\":{\"outlinewidth\":0,\"ticks\":\"\"}},\"type\":\"scatter\"}],\"scatterternary\":[{\"marker\":{\"colorbar\":{\"outlinewidth\":0,\"ticks\":\"\"}},\"type\":\"scatterternary\"}],\"surface\":[{\"colorbar\":{\"outlinewidth\":0,\"ticks\":\"\"},\"colorscale\":[[0.0,\"#0d0887\"],[0.1111111111111111,\"#46039f\"],[0.2222222222222222,\"#7201a8\"],[0.3333333333333333,\"#9c179e\"],[0.4444444444444444,\"#bd3786\"],[0.5555555555555556,\"#d8576b\"],[0.6666666666666666,\"#ed7953\"],[0.7777777777777778,\"#fb9f3a\"],[0.8888888888888888,\"#fdca26\"],[1.0,\"#f0f921\"]],\"type\":\"surface\"}],\"table\":[{\"cells\":{\"fill\":{\"color\":\"#EBF0F8\"},\"line\":{\"color\":\"white\"}},\"header\":{\"fill\":{\"color\":\"#C8D4E3\"},\"line\":{\"color\":\"white\"}},\"type\":\"table\"}]},\"layout\":{\"annotationdefaults\":{\"arrowcolor\":\"#2a3f5f\",\"arrowhead\":0,\"arrowwidth\":1},\"autotypenumbers\":\"strict\",\"coloraxis\":{\"colorbar\":{\"outlinewidth\":0,\"ticks\":\"\"}},\"colorscale\":{\"diverging\":[[0,\"#8e0152\"],[0.1,\"#c51b7d\"],[0.2,\"#de77ae\"],[0.3,\"#f1b6da\"],[0.4,\"#fde0ef\"],[0.5,\"#f7f7f7\"],[0.6,\"#e6f5d0\"],[0.7,\"#b8e186\"],[0.8,\"#7fbc41\"],[0.9,\"#4d9221\"],[1,\"#276419\"]],\"sequential\":[[0.0,\"#0d0887\"],[0.1111111111111111,\"#46039f\"],[0.2222222222222222,\"#7201a8\"],[0.3333333333333333,\"#9c179e\"],[0.4444444444444444,\"#bd3786\"],[0.5555555555555556,\"#d8576b\"],[0.6666666666666666,\"#ed7953\"],[0.7777777777777778,\"#fb9f3a\"],[0.8888888888888888,\"#fdca26\"],[1.0,\"#f0f921\"]],\"sequentialminus\":[[0.0,\"#0d0887\"],[0.1111111111111111,\"#46039f\"],[0.2222222222222222,\"#7201a8\"],[0.3333333333333333,\"#9c179e\"],[0.4444444444444444,\"#bd3786\"],[0.5555555555555556,\"#d8576b\"],[0.6666666666666666,\"#ed7953\"],[0.7777777777777778,\"#fb9f3a\"],[0.8888888888888888,\"#fdca26\"],[1.0,\"#f0f921\"]]},\"colorway\":[\"#636efa\",\"#EF553B\",\"#00cc96\",\"#ab63fa\",\"#FFA15A\",\"#19d3f3\",\"#FF6692\",\"#B6E880\",\"#FF97FF\",\"#FECB52\"],\"font\":{\"color\":\"#2a3f5f\"},\"geo\":{\"bgcolor\":\"white\",\"lakecolor\":\"white\",\"landcolor\":\"#E5ECF6\",\"showlakes\":true,\"showland\":true,\"subunitcolor\":\"white\"},\"hoverlabel\":{\"align\":\"left\"},\"hovermode\":\"closest\",\"mapbox\":{\"style\":\"light\"},\"paper_bgcolor\":\"white\",\"plot_bgcolor\":\"#E5ECF6\",\"polar\":{\"angularaxis\":{\"gridcolor\":\"white\",\"linecolor\":\"white\",\"ticks\":\"\"},\"bgcolor\":\"#E5ECF6\",\"radialaxis\":{\"gridcolor\":\"white\",\"linecolor\":\"white\",\"ticks\":\"\"}},\"scene\":{\"xaxis\":{\"backgroundcolor\":\"#E5ECF6\",\"gridcolor\":\"white\",\"gridwidth\":2,\"linecolor\":\"white\",\"showbackground\":true,\"ticks\":\"\",\"zerolinecolor\":\"white\"},\"yaxis\":{\"backgroundcolor\":\"#E5ECF6\",\"gridcolor\":\"white\",\"gridwidth\":2,\"linecolor\":\"white\",\"showbackground\":true,\"ticks\":\"\",\"zerolinecolor\":\"white\"},\"zaxis\":{\"backgroundcolor\":\"#E5ECF6\",\"gridcolor\":\"white\",\"gridwidth\":2,\"linecolor\":\"white\",\"showbackground\":true,\"ticks\":\"\",\"zerolinecolor\":\"white\"}},\"shapedefaults\":{\"line\":{\"color\":\"#2a3f5f\"}},\"ternary\":{\"aaxis\":{\"gridcolor\":\"white\",\"linecolor\":\"white\",\"ticks\":\"\"},\"baxis\":{\"gridcolor\":\"white\",\"linecolor\":\"white\",\"ticks\":\"\"},\"bgcolor\":\"#E5ECF6\",\"caxis\":{\"gridcolor\":\"white\",\"linecolor\":\"white\",\"ticks\":\"\"}},\"title\":{\"x\":0.05},\"xaxis\":{\"automargin\":true,\"gridcolor\":\"white\",\"linecolor\":\"white\",\"ticks\":\"\",\"title\":{\"standoff\":15},\"zerolinecolor\":\"white\",\"zerolinewidth\":2},\"yaxis\":{\"automargin\":true,\"gridcolor\":\"white\",\"linecolor\":\"white\",\"ticks\":\"\",\"title\":{\"standoff\":15},\"zerolinecolor\":\"white\",\"zerolinewidth\":2}}},\"title\":{\"font\":{\"color\":\"#4D5663\"},\"text\":\"Control Of Information Subscale Distribution\"},\"xaxis\":{\"gridcolor\":\"#E1E5ED\",\"showgrid\":true,\"tickfont\":{\"color\":\"#4D5663\"},\"title\":{\"font\":{\"color\":\"#4D5663\"},\"text\":\"GCBS score (overall)\"},\"zerolinecolor\":\"#E1E5ED\"},\"yaxis\":{\"gridcolor\":\"#E1E5ED\",\"showgrid\":true,\"tickfont\":{\"color\":\"#4D5663\"},\"title\":{\"font\":{\"color\":\"#4D5663\"},\"text\":\"Count\"},\"zerolinecolor\":\"#E1E5ED\"}},                        {\"showLink\": true, \"linkText\": \"Export to plot.ly\", \"plotlyServerURL\": \"https://plot.ly\", \"responsive\": true}                    ).then(function(){\n",
       "                            \n",
       "var gd = document.getElementById('df5bea67-d333-4113-9a31-be538c5ba81d');\n",
       "var x = new MutationObserver(function (mutations, observer) {{\n",
       "        var display = window.getComputedStyle(gd).display;\n",
       "        if (!display || display === 'none') {{\n",
       "            console.log([gd, 'removed!']);\n",
       "            Plotly.purge(gd);\n",
       "            observer.disconnect();\n",
       "        }}\n",
       "}});\n",
       "\n",
       "// Listen for the removal of the full notebook cells\n",
       "var notebookContainer = gd.closest('#notebook-container');\n",
       "if (notebookContainer) {{\n",
       "    x.observe(notebookContainer, {childList: true});\n",
       "}}\n",
       "\n",
       "// Listen for the clearing of the current output cell\n",
       "var outputEl = gd.closest('.output');\n",
       "if (outputEl) {{\n",
       "    x.observe(outputEl, {childList: true});\n",
       "}}\n",
       "\n",
       "                        })                };                });            </script>        </div>"
      ]
     },
     "metadata": {},
     "output_type": "display_data"
    }
   ],
   "source": [
    "gcbs_clean_df['GCBS_Control_Of_Information'].iplot(kind='hist', opacity=0.75, color='rgb(12, 128, 128)', title='Control Of Information Subscale Distribution'.format(total_responses), yTitle='Count', xTitle='GCBS score (overall)', bargap = 0, theme='white')"
   ]
  },
  {
   "cell_type": "code",
   "execution_count": 55,
   "metadata": {
    "id": "rJ5-1t0PLFdp"
   },
   "outputs": [
    {
     "data": {
      "application/vnd.plotly.v1+json": {
       "config": {
        "linkText": "Export to plot.ly",
        "plotlyServerURL": "https://plot.ly",
        "showLink": true
       },
       "data": [
        {
         "boxpoints": false,
         "line": {
          "width": 1.3
         },
         "marker": {
          "color": "rgba(255, 153, 51, 1.0)"
         },
         "name": "GCBS_Government_Malfeasance",
         "orientation": "v",
         "type": "box",
         "y": [
          15,
          15,
          15,
          14,
          10,
          5,
          7,
          12,
          11,
          15,
          10,
          12,
          15,
          10,
          11,
          6,
          6,
          8,
          11,
          5,
          4,
          11,
          7,
          15,
          15,
          8,
          8,
          9,
          6,
          15,
          14,
          11,
          9,
          11,
          10,
          11,
          8,
          8,
          4,
          9,
          3,
          3,
          13,
          13,
          8,
          14,
          6,
          11,
          8,
          15,
          14,
          6,
          13,
          10,
          13,
          13,
          12,
          8,
          7,
          14,
          15,
          3,
          10,
          13,
          7,
          15,
          15,
          14,
          9,
          6,
          10,
          12,
          8,
          9,
          13,
          11,
          10,
          15,
          13,
          15,
          10,
          7,
          8,
          6,
          15,
          5,
          5,
          8,
          11,
          12,
          9,
          11,
          8,
          12,
          11,
          14,
          3,
          15,
          13,
          15,
          14,
          9,
          11,
          8,
          11,
          13,
          7,
          13,
          13,
          15,
          11,
          10,
          8,
          6,
          13,
          8,
          13,
          13,
          7,
          4,
          12,
          6,
          13,
          15,
          14,
          15,
          15,
          10,
          8,
          11,
          12,
          14,
          13,
          12,
          10,
          8,
          13,
          13,
          5,
          12,
          8,
          10,
          6,
          15,
          5,
          10,
          11,
          15,
          10,
          12,
          9,
          7,
          12,
          4,
          7,
          11,
          4,
          8,
          9,
          11,
          13,
          14,
          9,
          10,
          12,
          3,
          14,
          11,
          11,
          9,
          9,
          9,
          7,
          13,
          9,
          13,
          15,
          14,
          15,
          3,
          13,
          10,
          9,
          12,
          3,
          11,
          12,
          14,
          7,
          3,
          8,
          12,
          11,
          9,
          13,
          12,
          9,
          12,
          8,
          12,
          3,
          12,
          12,
          10,
          8,
          10,
          8,
          8,
          12,
          6,
          8,
          13,
          15,
          11,
          13,
          12,
          8,
          4,
          5,
          13,
          4,
          10,
          5,
          8,
          15,
          9,
          13,
          7,
          15,
          15,
          5,
          10,
          13,
          5,
          12,
          13,
          3,
          15,
          5,
          15,
          10,
          12,
          14,
          15,
          11,
          11,
          12,
          9,
          15,
          15,
          15,
          15,
          15,
          15,
          15,
          15,
          10,
          12,
          13,
          15,
          12,
          13,
          11,
          9,
          15,
          15,
          11,
          14,
          15,
          15,
          12,
          13,
          11,
          12,
          3,
          12,
          6,
          14,
          5,
          14,
          7,
          11,
          14,
          13,
          11,
          11,
          10,
          15,
          10,
          14,
          8,
          13,
          15,
          11,
          6,
          3,
          15,
          15,
          6,
          6,
          10,
          15,
          10,
          10,
          10,
          12,
          15,
          15,
          14,
          14,
          8,
          12,
          10,
          5,
          14,
          6,
          11,
          15,
          11,
          11,
          7,
          9,
          11,
          10,
          15,
          12,
          15,
          11,
          13,
          10,
          8,
          15,
          14,
          3,
          6,
          15,
          15,
          14,
          3,
          6,
          10,
          10,
          5,
          9,
          15,
          14,
          13,
          11,
          15,
          11,
          8,
          11,
          8,
          15,
          9,
          9,
          10,
          11,
          9,
          15,
          3,
          12,
          10,
          11,
          6,
          6,
          8,
          12,
          9,
          4,
          10,
          11,
          14,
          15,
          8,
          15,
          11,
          12,
          10,
          11,
          8,
          9,
          11,
          11,
          12,
          10,
          11,
          4,
          10,
          9,
          8,
          10,
          5,
          6,
          6,
          12,
          12,
          10,
          7,
          4,
          3,
          12,
          14,
          14,
          13,
          10,
          15,
          7,
          3,
          4,
          12,
          14,
          15,
          10,
          14,
          7,
          8,
          4,
          15,
          3,
          5,
          13,
          12,
          14,
          4,
          3,
          12,
          14,
          10,
          10,
          12,
          6,
          14,
          8,
          9,
          10,
          3,
          6,
          11,
          13,
          15,
          6,
          6,
          15,
          10,
          7,
          13,
          11,
          13,
          14,
          11,
          15,
          15,
          12,
          14,
          13,
          9,
          4,
          14,
          11,
          15,
          5,
          14,
          14,
          10,
          10,
          8,
          15,
          9,
          4,
          8,
          4,
          6,
          12,
          9,
          9,
          7,
          5,
          4,
          4,
          8,
          3,
          15,
          11,
          6,
          8,
          6,
          6,
          8,
          7,
          8,
          11,
          4,
          3,
          15,
          5,
          8,
          12,
          14,
          13,
          6,
          10,
          3,
          5,
          10,
          12,
          7,
          14,
          7,
          9,
          15,
          11,
          7,
          9,
          7,
          11,
          14,
          15,
          15,
          15,
          11,
          10,
          9,
          13,
          15,
          12,
          13,
          14,
          8,
          10,
          11,
          4,
          10,
          12,
          11,
          12,
          9,
          11,
          9,
          11,
          11,
          12,
          14,
          12,
          11,
          11,
          10,
          5,
          15,
          5,
          9,
          11,
          11,
          15,
          9,
          14,
          13,
          6,
          9,
          3,
          6,
          8,
          7,
          12,
          5,
          14,
          5,
          10,
          10,
          13,
          4,
          15,
          8,
          8,
          9,
          14,
          5,
          8,
          5,
          9,
          8,
          12,
          11,
          5,
          15,
          5,
          12,
          7,
          11,
          8,
          11,
          7,
          12,
          12,
          3,
          13,
          3,
          9,
          5,
          15,
          13,
          13,
          5,
          11,
          12,
          11,
          9,
          11,
          15,
          10,
          10,
          10,
          12,
          3,
          3,
          9,
          8,
          10,
          3,
          13,
          14,
          15,
          12,
          9,
          9,
          15,
          10,
          11,
          7,
          14,
          5,
          9,
          11,
          9,
          12,
          10,
          14,
          3,
          11,
          11,
          9,
          12,
          15,
          9,
          10,
          12,
          3,
          15,
          8,
          8,
          11,
          13,
          14,
          14,
          4,
          8,
          8,
          14,
          15,
          9,
          10,
          13,
          11,
          6,
          5,
          15,
          12,
          6,
          3,
          7,
          11,
          14,
          11,
          10,
          14,
          7,
          15,
          15,
          6,
          9,
          13,
          11,
          8,
          12,
          10,
          15,
          10,
          12,
          11,
          12,
          12,
          7,
          15,
          13,
          10,
          13,
          12,
          13,
          10,
          5,
          3,
          14,
          8,
          7,
          13,
          10,
          11,
          9,
          9,
          13,
          9,
          13,
          6,
          11,
          3,
          13,
          4,
          15,
          13,
          10,
          11,
          8,
          12,
          9,
          10,
          10,
          12,
          5,
          15,
          6,
          14,
          15,
          3,
          12,
          8,
          12,
          6,
          8,
          15,
          7,
          11,
          12,
          9,
          6,
          8,
          5,
          8,
          7,
          7,
          9,
          7,
          4,
          10,
          11,
          11,
          6,
          6,
          8,
          5,
          7,
          5,
          8,
          15,
          14,
          6,
          7,
          13,
          12,
          13,
          12,
          15,
          13,
          12,
          15,
          11,
          14,
          13,
          15,
          5,
          9,
          13,
          12,
          8,
          7,
          11,
          11,
          11,
          15,
          6,
          6,
          13,
          6,
          3,
          12,
          10,
          10,
          4,
          8,
          8,
          9,
          11,
          4,
          3,
          11,
          8,
          3,
          11,
          7,
          12,
          15,
          11,
          12,
          14,
          13,
          3,
          14,
          14,
          9,
          15,
          13,
          8,
          11,
          9,
          15,
          14,
          14,
          10,
          7,
          12,
          12,
          6,
          15,
          8,
          5,
          15,
          15,
          13,
          15,
          15,
          14,
          15,
          3,
          12,
          8,
          9,
          10,
          12,
          15,
          9,
          8,
          12,
          14,
          12,
          13,
          14,
          10,
          11,
          13,
          11,
          9,
          6,
          14,
          12,
          15,
          4,
          7,
          12,
          10,
          13,
          4,
          12,
          15,
          11,
          10,
          6,
          6,
          10,
          10,
          7,
          8,
          11,
          7,
          3,
          8,
          15,
          9,
          5,
          13,
          14,
          6,
          11,
          13,
          7,
          8,
          14,
          8,
          3,
          13,
          15,
          8,
          8,
          7,
          13,
          12,
          9,
          8,
          11,
          15,
          4,
          8,
          15,
          6,
          14,
          8,
          7,
          13,
          10,
          5,
          5,
          13,
          11,
          15,
          15,
          9,
          7,
          6,
          13,
          13,
          9,
          5,
          9,
          10,
          15,
          10,
          6,
          6,
          11,
          8,
          3,
          8,
          9,
          6,
          10,
          7,
          4,
          9,
          13,
          9,
          14,
          3,
          15,
          8,
          13,
          9,
          7,
          10,
          11,
          12,
          14,
          9,
          12,
          11
         ]
        },
        {
         "boxpoints": false,
         "line": {
          "width": 1.3
         },
         "marker": {
          "color": "rgba(55, 128, 191, 1.0)"
         },
         "name": "GCBS_Malevolent_Global_Conspiracies",
         "orientation": "v",
         "type": "box",
         "y": [
          15,
          13,
          14,
          10,
          9,
          3,
          5,
          6,
          13,
          15,
          3,
          3,
          5,
          12,
          7,
          10,
          4,
          5,
          10,
          4,
          3,
          9,
          6,
          13,
          15,
          6,
          3,
          9,
          7,
          14,
          7,
          4,
          12,
          3,
          6,
          10,
          5,
          6,
          8,
          7,
          3,
          4,
          11,
          12,
          3,
          10,
          9,
          4,
          7,
          11,
          14,
          6,
          13,
          14,
          10,
          14,
          14,
          5,
          4,
          15,
          15,
          4,
          7,
          3,
          5,
          13,
          13,
          14,
          8,
          3,
          5,
          13,
          5,
          7,
          8,
          14,
          13,
          11,
          10,
          15,
          9,
          13,
          6,
          4,
          12,
          5,
          3,
          6,
          3,
          10,
          7,
          13,
          5,
          13,
          4,
          8,
          4,
          15,
          15,
          15,
          15,
          13,
          8,
          8,
          9,
          9,
          6,
          9,
          12,
          10,
          10,
          10,
          5,
          10,
          14,
          4,
          12,
          12,
          3,
          3,
          13,
          4,
          13,
          13,
          14,
          9,
          15,
          8,
          4,
          3,
          6,
          10,
          12,
          5,
          12,
          8,
          11,
          15,
          12,
          12,
          5,
          3,
          3,
          15,
          3,
          8,
          9,
          7,
          9,
          3,
          5,
          11,
          10,
          3,
          9,
          4,
          3,
          11,
          3,
          10,
          9,
          10,
          11,
          7,
          11,
          3,
          6,
          3,
          11,
          12,
          3,
          3,
          3,
          7,
          12,
          15,
          14,
          9,
          8,
          4,
          3,
          5,
          7,
          12,
          3,
          10,
          11,
          15,
          5,
          4,
          7,
          12,
          5,
          12,
          13,
          11,
          4,
          7,
          11,
          5,
          3,
          12,
          12,
          3,
          5,
          5,
          5,
          11,
          8,
          12,
          3,
          13,
          14,
          11,
          14,
          10,
          6,
          5,
          3,
          14,
          4,
          5,
          3,
          5,
          4,
          3,
          15,
          7,
          13,
          12,
          4,
          11,
          13,
          6,
          6,
          11,
          3,
          14,
          3,
          13,
          11,
          9,
          15,
          14,
          10,
          7,
          11,
          11,
          15,
          13,
          15,
          15,
          15,
          15,
          15,
          15,
          15,
          14,
          14,
          15,
          14,
          13,
          14,
          13,
          15,
          13,
          5,
          10,
          15,
          15,
          10,
          12,
          10,
          8,
          5,
          14,
          5,
          9,
          5,
          15,
          11,
          10,
          8,
          15,
          7,
          10,
          7,
          13,
          15,
          13,
          12,
          10,
          15,
          8,
          3,
          4,
          15,
          15,
          6,
          7,
          11,
          15,
          12,
          9,
          9,
          11,
          15,
          15,
          10,
          12,
          9,
          12,
          11,
          3,
          12,
          3,
          8,
          15,
          9,
          14,
          3,
          11,
          14,
          5,
          15,
          11,
          15,
          15,
          13,
          3,
          6,
          15,
          9,
          3,
          7,
          15,
          15,
          15,
          3,
          5,
          7,
          4,
          3,
          5,
          8,
          15,
          15,
          8,
          14,
          6,
          8,
          10,
          3,
          15,
          8,
          9,
          5,
          9,
          10,
          15,
          3,
          7,
          4,
          8,
          3,
          7,
          5,
          4,
          8,
          3,
          4,
          10,
          14,
          15,
          7,
          11,
          11,
          12,
          10,
          12,
          4,
          11,
          8,
          8,
          4,
          7,
          15,
          7,
          4,
          7,
          3,
          8,
          4,
          4,
          8,
          12,
          11,
          3,
          10,
          3,
          5,
          10,
          15,
          14,
          12,
          9,
          15,
          11,
          3,
          3,
          10,
          12,
          15,
          10,
          15,
          8,
          9,
          3,
          12,
          6,
          3,
          13,
          10,
          4,
          4,
          3,
          8,
          15,
          4,
          4,
          5,
          3,
          12,
          13,
          4,
          10,
          3,
          9,
          7,
          5,
          15,
          8,
          4,
          14,
          8,
          7,
          12,
          6,
          7,
          13,
          7,
          14,
          10,
          12,
          15,
          9,
          6,
          4,
          12,
          13,
          15,
          9,
          8,
          14,
          4,
          11,
          4,
          13,
          7,
          5,
          3,
          8,
          5,
          4,
          3,
          4,
          9,
          5,
          3,
          5,
          12,
          3,
          15,
          6,
          4,
          6,
          9,
          3,
          7,
          5,
          4,
          8,
          3,
          10,
          15,
          7,
          12,
          3,
          14,
          8,
          8,
          3,
          4,
          5,
          4,
          8,
          5,
          12,
          3,
          12,
          15,
          8,
          6,
          5,
          3,
          9,
          9,
          13,
          15,
          14,
          11,
          14,
          8,
          12,
          14,
          10,
          11,
          9,
          10,
          15,
          10,
          4,
          5,
          9,
          14,
          8,
          6,
          13,
          15,
          4,
          9,
          10,
          11,
          5,
          12,
          8,
          8,
          5,
          15,
          5,
          7,
          6,
          5,
          11,
          4,
          13,
          9,
          3,
          7,
          9,
          5,
          11,
          14,
          4,
          3,
          12,
          3,
          11,
          6,
          13,
          3,
          15,
          9,
          5,
          10,
          10,
          5,
          11,
          4,
          9,
          7,
          12,
          13,
          5,
          13,
          7,
          6,
          7,
          8,
          8,
          3,
          10,
          14,
          10,
          4,
          8,
          10,
          7,
          3,
          15,
          8,
          12,
          3,
          3,
          8,
          12,
          5,
          8,
          14,
          14,
          6,
          3,
          14,
          5,
          3,
          9,
          4,
          8,
          5,
          13,
          4,
          15,
          6,
          11,
          3,
          15,
          13,
          4,
          3,
          15,
          3,
          13,
          12,
          6,
          14,
          8,
          15,
          3,
          3,
          7,
          4,
          3,
          4,
          15,
          9,
          8,
          3,
          13,
          12,
          4,
          11,
          13,
          13,
          14,
          5,
          8,
          6,
          14,
          11,
          9,
          12,
          9,
          12,
          3,
          4,
          12,
          11,
          3,
          4,
          5,
          5,
          8,
          13,
          10,
          11,
          9,
          14,
          15,
          5,
          3,
          13,
          8,
          6,
          11,
          12,
          12,
          9,
          3,
          11,
          10,
          11,
          3,
          11,
          6,
          8,
          13,
          7,
          12,
          8,
          4,
          5,
          13,
          6,
          11,
          15,
          9,
          10,
          10,
          11,
          6,
          10,
          6,
          5,
          11,
          3,
          13,
          4,
          15,
          9,
          4,
          12,
          3,
          10,
          4,
          4,
          6,
          9,
          10,
          6,
          4,
          15,
          7,
          3,
          14,
          6,
          10,
          12,
          7,
          15,
          7,
          12,
          10,
          3,
          4,
          9,
          5,
          3,
          6,
          4,
          5,
          3,
          3,
          14,
          6,
          10,
          6,
          7,
          9,
          3,
          13,
          7,
          3,
          10,
          14,
          5,
          3,
          11,
          8,
          12,
          5,
          3,
          11,
          12,
          9,
          7,
          4,
          6,
          15,
          4,
          3,
          12,
          13,
          6,
          6,
          13,
          9,
          11,
          15,
          4,
          6,
          3,
          3,
          3,
          5,
          7,
          10,
          3,
          5,
          11,
          3,
          14,
          5,
          6,
          5,
          10,
          4,
          11,
          3,
          12,
          13,
          8,
          11,
          11,
          15,
          5,
          10,
          13,
          7,
          10,
          12,
          7,
          3,
          9,
          15,
          11,
          12,
          12,
          3,
          11,
          12,
          7,
          15,
          10,
          3,
          15,
          15,
          9,
          14,
          14,
          15,
          14,
          5,
          13,
          6,
          7,
          7,
          3,
          15,
          3,
          3,
          8,
          3,
          6,
          9,
          13,
          10,
          7,
          4,
          13,
          8,
          8,
          12,
          13,
          3,
          6,
          7,
          11,
          4,
          8,
          3,
          6,
          15,
          6,
          8,
          8,
          7,
          7,
          6,
          8,
          9,
          12,
          6,
          5,
          12,
          9,
          7,
          9,
          11,
          12,
          5,
          10,
          15,
          3,
          3,
          15,
          9,
          7,
          11,
          13,
          11,
          8,
          7,
          7,
          6,
          4,
          3,
          10,
          15,
          4,
          9,
          9,
          12,
          13,
          12,
          8,
          14,
          8,
          3,
          7,
          12,
          8,
          5,
          15,
          6,
          9,
          11,
          8,
          15,
          4,
          6,
          8,
          11,
          15,
          15,
          6,
          5,
          6,
          3,
          3,
          4,
          10,
          7,
          10,
          3,
          6,
          6,
          12,
          9,
          15,
          4,
          10,
          3,
          10,
          8,
          3,
          8,
          12,
          12,
          15,
          14,
          11,
          15
         ]
        },
        {
         "boxpoints": false,
         "line": {
          "width": 1.3
         },
         "marker": {
          "color": "rgba(50, 171, 96, 1.0)"
         },
         "name": "GCBS_Extraterrestrial_Coverup",
         "orientation": "v",
         "type": "box",
         "y": [
          9,
          7,
          11,
          8,
          3,
          3,
          3,
          8,
          3,
          12,
          3,
          3,
          11,
          5,
          8,
          6,
          5,
          3,
          14,
          3,
          7,
          5,
          12,
          12,
          15,
          3,
          3,
          14,
          3,
          10,
          10,
          3,
          5,
          3,
          3,
          4,
          3,
          3,
          3,
          5,
          3,
          3,
          3,
          9,
          3,
          12,
          7,
          3,
          5,
          3,
          8,
          4,
          12,
          3,
          8,
          13,
          9,
          3,
          3,
          3,
          13,
          4,
          3,
          8,
          3,
          11,
          10,
          6,
          5,
          3,
          3,
          10,
          5,
          3,
          3,
          3,
          6,
          3,
          4,
          3,
          6,
          3,
          7,
          3,
          13,
          3,
          3,
          3,
          3,
          4,
          3,
          9,
          3,
          4,
          7,
          4,
          3,
          8,
          3,
          9,
          3,
          15,
          5,
          3,
          6,
          14,
          9,
          10,
          10,
          12,
          10,
          3,
          3,
          5,
          11,
          4,
          13,
          7,
          3,
          3,
          11,
          3,
          9,
          5,
          9,
          3,
          7,
          3,
          3,
          3,
          4,
          7,
          10,
          3,
          3,
          3,
          9,
          4,
          4,
          10,
          8,
          3,
          11,
          13,
          5,
          3,
          6,
          9,
          9,
          6,
          4,
          4,
          13,
          3,
          13,
          4,
          3,
          3,
          9,
          3,
          6,
          11,
          6,
          3,
          4,
          3,
          11,
          7,
          4,
          11,
          3,
          3,
          3,
          3,
          6,
          15,
          14,
          9,
          5,
          3,
          9,
          3,
          3,
          7,
          3,
          3,
          8,
          15,
          3,
          3,
          11,
          6,
          3,
          3,
          3,
          10,
          3,
          9,
          12,
          7,
          3,
          3,
          3,
          9,
          3,
          10,
          3,
          8,
          6,
          3,
          10,
          7,
          9,
          8,
          4,
          10,
          12,
          5,
          3,
          9,
          3,
          4,
          3,
          3,
          3,
          3,
          10,
          3,
          3,
          3,
          3,
          13,
          14,
          3,
          7,
          8,
          3,
          11,
          3,
          3,
          5,
          13,
          9,
          13,
          12,
          3,
          13,
          8,
          15,
          10,
          15,
          13,
          11,
          7,
          13,
          9,
          13,
          6,
          3,
          10,
          12,
          10,
          9,
          10,
          13,
          8,
          3,
          13,
          11,
          11,
          13,
          10,
          8,
          4,
          3,
          13,
          3,
          11,
          5,
          11,
          3,
          9,
          3,
          13,
          10,
          9,
          3,
          11,
          6,
          10,
          6,
          9,
          3,
          5,
          3,
          5,
          12,
          14,
          12,
          4,
          3,
          7,
          6,
          11,
          6,
          3,
          14,
          11,
          8,
          6,
          11,
          11,
          7,
          5,
          3,
          3,
          7,
          3,
          9,
          3,
          3,
          3,
          3,
          3,
          13,
          3,
          8,
          9,
          5,
          3,
          3,
          4,
          6,
          3,
          12,
          15,
          7,
          10,
          3,
          3,
          9,
          3,
          3,
          3,
          13,
          7,
          3,
          13,
          14,
          6,
          3,
          11,
          8,
          3,
          8,
          9,
          3,
          5,
          3,
          11,
          3,
          3,
          3,
          3,
          3,
          3,
          5,
          3,
          13,
          3,
          4,
          3,
          13,
          3,
          3,
          3,
          5,
          14,
          7,
          9,
          3,
          4,
          3,
          7,
          3,
          3,
          13,
          11,
          3,
          9,
          5,
          12,
          3,
          3,
          3,
          11,
          7,
          3,
          9,
          3,
          3,
          10,
          8,
          3,
          3,
          3,
          7,
          3,
          3,
          5,
          6,
          13,
          10,
          3,
          9,
          7,
          7,
          3,
          10,
          3,
          5,
          14,
          12,
          12,
          4,
          3,
          3,
          10,
          3,
          10,
          11,
          3,
          14,
          12,
          3,
          9,
          3,
          8,
          3,
          3,
          14,
          3,
          3,
          9,
          14,
          4,
          11,
          3,
          3,
          15,
          4,
          15,
          14,
          11,
          5,
          13,
          7,
          4,
          11,
          13,
          11,
          10,
          8,
          3,
          5,
          7,
          3,
          8,
          3,
          3,
          3,
          5,
          3,
          6,
          3,
          3,
          3,
          3,
          3,
          5,
          3,
          3,
          9,
          6,
          3,
          3,
          3,
          6,
          5,
          3,
          3,
          5,
          3,
          3,
          11,
          3,
          5,
          5,
          8,
          13,
          4,
          5,
          3,
          3,
          3,
          8,
          3,
          11,
          4,
          3,
          13,
          9,
          8,
          3,
          3,
          5,
          3,
          13,
          11,
          10,
          8,
          3,
          8,
          9,
          10,
          3,
          6,
          3,
          14,
          7,
          4,
          3,
          14,
          7,
          3,
          11,
          4,
          3,
          3,
          3,
          7,
          9,
          10,
          5,
          8,
          7,
          4,
          3,
          10,
          3,
          7,
          7,
          7,
          11,
          3,
          15,
          3,
          3,
          9,
          4,
          11,
          3,
          6,
          4,
          4,
          8,
          3,
          4,
          3,
          3,
          3,
          11,
          10,
          3,
          8,
          13,
          8,
          7,
          5,
          3,
          3,
          9,
          9,
          4,
          13,
          3,
          3,
          3,
          7,
          8,
          3,
          8,
          3,
          3,
          3,
          6,
          11,
          11,
          3,
          13,
          6,
          15,
          3,
          3,
          5,
          15,
          3,
          8,
          15,
          6,
          3,
          3,
          11,
          3,
          3,
          7,
          7,
          3,
          4,
          3,
          4,
          13,
          3,
          8,
          3,
          10,
          10,
          3,
          3,
          7,
          3,
          5,
          9,
          10,
          15,
          3,
          13,
          3,
          3,
          5,
          3,
          3,
          7,
          7,
          3,
          3,
          3,
          15,
          5,
          5,
          7,
          8,
          11,
          9,
          10,
          7,
          6,
          15,
          7,
          9,
          3,
          3,
          7,
          3,
          4,
          15,
          3,
          3,
          3,
          3,
          3,
          3,
          4,
          3,
          3,
          3,
          3,
          15,
          3,
          3,
          14,
          3,
          8,
          3,
          3,
          3,
          13,
          3,
          3,
          3,
          5,
          3,
          15,
          4,
          3,
          9,
          7,
          9,
          8,
          3,
          4,
          5,
          8,
          7,
          10,
          7,
          4,
          4,
          3,
          10,
          4,
          6,
          3,
          3,
          3,
          8,
          3,
          9,
          3,
          3,
          11,
          3,
          3,
          3,
          4,
          6,
          3,
          9,
          10,
          3,
          3,
          7,
          3,
          7,
          4,
          9,
          6,
          3,
          9,
          3,
          11,
          8,
          3,
          3,
          4,
          3,
          6,
          3,
          3,
          3,
          4,
          3,
          7,
          7,
          13,
          5,
          6,
          6,
          3,
          15,
          3,
          3,
          10,
          3,
          3,
          3,
          11,
          7,
          5,
          10,
          11,
          11,
          9,
          6,
          3,
          8,
          3,
          13,
          3,
          3,
          14,
          3,
          3,
          3,
          15,
          9,
          8,
          14,
          3,
          3,
          6,
          3,
          3,
          3,
          3,
          5,
          3,
          13,
          11,
          3,
          10,
          4,
          3,
          8,
          7,
          3,
          3,
          8,
          3,
          9,
          5,
          10,
          3,
          7,
          3,
          15,
          9,
          3,
          3,
          13,
          3,
          3,
          6,
          4,
          3,
          11,
          3,
          3,
          4,
          9,
          4,
          9,
          3,
          8,
          13,
          6,
          3,
          12,
          8,
          12,
          3,
          3,
          13,
          4,
          7,
          9,
          5,
          3,
          4,
          3,
          3,
          3,
          3,
          3,
          6,
          12,
          3,
          5,
          12,
          7,
          8,
          9,
          5,
          14,
          5,
          9,
          7,
          12,
          7,
          3,
          8,
          11,
          3,
          4,
          6,
          8,
          3,
          3,
          3,
          3,
          3,
          3,
          3,
          3,
          12,
          6,
          10,
          5,
          9,
          3,
          14,
          11,
          3,
          3,
          5,
          3,
          3,
          7,
          3,
          3,
          3,
          4,
          3,
          8,
          9,
          3,
          4,
          7,
          3,
          12,
          13,
          3,
          3,
          3,
          3,
          3,
          7,
          8,
          3,
          3,
          3,
          15,
          7,
          5,
          3,
          6,
          3,
          7,
          3,
          3,
          7,
          3,
          11,
          9,
          3,
          3,
          3,
          3,
          3,
          10,
          3,
          5,
          6,
          4,
          3,
          10,
          6,
          9,
          6,
          11,
          7,
          3,
          6,
          9,
          3,
          5,
          13,
          8,
          13,
          4,
          3,
          7
         ]
        },
        {
         "boxpoints": false,
         "line": {
          "width": 1.3
         },
         "marker": {
          "color": "rgba(128, 0, 128, 1.0)"
         },
         "name": "GCBS_Personal_Wellbeing",
         "orientation": "v",
         "type": "box",
         "y": [
          14,
          10,
          12,
          12,
          8,
          3,
          4,
          11,
          7,
          15,
          6,
          10,
          13,
          5,
          8,
          8,
          4,
          5,
          9,
          5,
          5,
          8,
          13,
          12,
          14,
          8,
          4,
          9,
          3,
          15,
          9,
          8,
          12,
          4,
          8,
          5,
          3,
          5,
          8,
          8,
          3,
          3,
          9,
          10,
          4,
          13,
          8,
          6,
          9,
          9,
          12,
          3,
          12,
          10,
          9,
          9,
          12,
          4,
          5,
          8,
          12,
          3,
          6,
          6,
          4,
          14,
          14,
          10,
          10,
          5,
          6,
          7,
          4,
          12,
          10,
          11,
          3,
          14,
          9,
          13,
          9,
          7,
          6,
          6,
          15,
          3,
          4,
          6,
          4,
          9,
          8,
          10,
          5,
          3,
          5,
          9,
          3,
          11,
          13,
          14,
          13,
          8,
          5,
          4,
          9,
          15,
          8,
          13,
          8,
          9,
          9,
          7,
          5,
          10,
          5,
          5,
          8,
          13,
          7,
          3,
          10,
          3,
          13,
          10,
          11,
          7,
          12,
          3,
          5,
          3,
          9,
          9,
          9,
          8,
          7,
          4,
          6,
          7,
          6,
          7,
          7,
          4,
          3,
          15,
          4,
          7,
          6,
          12,
          8,
          13,
          3,
          7,
          10,
          3,
          9,
          11,
          3,
          5,
          8,
          5,
          6,
          9,
          11,
          5,
          9,
          4,
          10,
          8,
          7,
          12,
          3,
          3,
          7,
          10,
          7,
          15,
          13,
          12,
          7,
          5,
          8,
          7,
          6,
          10,
          3,
          8,
          11,
          13,
          7,
          3,
          10,
          7,
          10,
          9,
          8,
          10,
          9,
          10,
          6,
          9,
          3,
          9,
          12,
          4,
          4,
          4,
          3,
          13,
          8,
          4,
          8,
          10,
          13,
          10,
          7,
          8,
          11,
          3,
          6,
          12,
          4,
          4,
          3,
          11,
          3,
          9,
          11,
          5,
          11,
          9,
          4,
          10,
          13,
          5,
          9,
          7,
          3,
          15,
          3,
          14,
          11,
          11,
          10,
          14,
          13,
          11,
          13,
          9,
          14,
          12,
          14,
          11,
          10,
          15,
          13,
          15,
          12,
          12,
          10,
          14,
          10,
          11,
          11,
          11,
          15,
          15,
          13,
          10,
          15,
          14,
          11,
          14,
          8,
          10,
          3,
          12,
          4,
          9,
          3,
          12,
          4,
          6,
          3,
          14,
          9,
          8,
          3,
          15,
          7,
          12,
          7,
          9,
          14,
          6,
          4,
          6,
          14,
          14,
          3,
          4,
          9,
          7,
          10,
          7,
          8,
          10,
          14,
          15,
          12,
          10,
          10,
          11,
          8,
          3,
          8,
          3,
          9,
          11,
          9,
          5,
          3,
          6,
          11,
          3,
          14,
          12,
          15,
          11,
          11,
          3,
          4,
          15,
          11,
          5,
          10,
          14,
          12,
          13,
          3,
          7,
          9,
          7,
          3,
          4,
          14,
          10,
          5,
          8,
          15,
          13,
          5,
          10,
          4,
          7,
          7,
          10,
          3,
          8,
          3,
          10,
          6,
          4,
          4,
          6,
          3,
          8,
          3,
          5,
          13,
          3,
          4,
          4,
          13,
          14,
          9,
          7,
          13,
          12,
          10,
          11,
          5,
          5,
          4,
          6,
          5,
          3,
          11,
          5,
          5,
          7,
          7,
          8,
          4,
          7,
          6,
          8,
          6,
          3,
          9,
          3,
          3,
          8,
          13,
          10,
          6,
          3,
          15,
          8,
          4,
          4,
          7,
          11,
          13,
          3,
          13,
          7,
          8,
          3,
          14,
          3,
          4,
          13,
          12,
          4,
          3,
          3,
          8,
          15,
          7,
          7,
          6,
          5,
          13,
          8,
          4,
          11,
          4,
          3,
          6,
          8,
          14,
          6,
          6,
          13,
          6,
          6,
          8,
          6,
          9,
          15,
          5,
          15,
          10,
          13,
          9,
          10,
          11,
          5,
          12,
          11,
          12,
          6,
          6,
          9,
          3,
          11,
          4,
          14,
          6,
          4,
          5,
          10,
          4,
          11,
          3,
          5,
          4,
          6,
          3,
          6,
          11,
          3,
          13,
          8,
          3,
          6,
          3,
          4,
          7,
          3,
          3,
          3,
          7,
          3,
          13,
          4,
          9,
          5,
          13,
          13,
          8,
          11,
          3,
          4,
          7,
          15,
          4,
          12,
          4,
          12,
          14,
          7,
          4,
          6,
          3,
          10,
          7,
          15,
          13,
          15,
          13,
          7,
          10,
          11,
          15,
          10,
          6,
          9,
          8,
          10,
          13,
          3,
          8,
          8,
          11,
          13,
          4,
          10,
          9,
          6,
          7,
          9,
          7,
          3,
          10,
          4,
          4,
          3,
          11,
          6,
          5,
          6,
          7,
          13,
          5,
          13,
          7,
          5,
          6,
          3,
          7,
          6,
          3,
          4,
          4,
          12,
          3,
          6,
          5,
          8,
          3,
          8,
          7,
          4,
          9,
          9,
          5,
          8,
          4,
          3,
          8,
          12,
          13,
          6,
          15,
          3,
          5,
          5,
          11,
          6,
          3,
          8,
          9,
          9,
          3,
          11,
          8,
          7,
          8,
          15,
          11,
          14,
          3,
          5,
          4,
          11,
          5,
          8,
          15,
          7,
          7,
          8,
          11,
          4,
          4,
          9,
          3,
          6,
          4,
          11,
          8,
          14,
          5,
          9,
          7,
          13,
          6,
          3,
          3,
          12,
          3,
          7,
          7,
          9,
          8,
          4,
          15,
          3,
          3,
          11,
          4,
          5,
          6,
          7,
          5,
          8,
          3,
          15,
          6,
          7,
          13,
          12,
          15,
          9,
          3,
          9,
          7,
          15,
          14,
          10,
          5,
          9,
          9,
          4,
          5,
          9,
          11,
          3,
          5,
          4,
          5,
          11,
          10,
          4,
          10,
          3,
          15,
          13,
          4,
          4,
          14,
          6,
          5,
          11,
          11,
          15,
          11,
          4,
          7,
          12,
          4,
          6,
          15,
          8,
          4,
          13,
          11,
          10,
          7,
          4,
          3,
          8,
          10,
          10,
          7,
          7,
          8,
          9,
          3,
          10,
          8,
          9,
          4,
          11,
          4,
          8,
          5,
          15,
          13,
          4,
          11,
          3,
          7,
          7,
          4,
          5,
          6,
          7,
          7,
          5,
          10,
          9,
          3,
          13,
          7,
          12,
          7,
          5,
          11,
          3,
          11,
          6,
          6,
          3,
          7,
          3,
          8,
          5,
          4,
          5,
          8,
          3,
          9,
          12,
          11,
          6,
          3,
          11,
          3,
          6,
          5,
          9,
          8,
          10,
          4,
          4,
          10,
          5,
          8,
          11,
          7,
          10,
          9,
          12,
          7,
          11,
          3,
          15,
          4,
          4,
          8,
          8,
          3,
          6,
          10,
          9,
          9,
          13,
          3,
          8,
          5,
          6,
          3,
          7,
          3,
          7,
          4,
          3,
          6,
          6,
          10,
          9,
          3,
          9,
          4,
          4,
          6,
          6,
          6,
          11,
          10,
          10,
          8,
          9,
          4,
          11,
          8,
          6,
          10,
          13,
          6,
          8,
          11,
          10,
          9,
          13,
          9,
          3,
          8,
          6,
          3,
          15,
          6,
          3,
          15,
          11,
          11,
          13,
          14,
          10,
          15,
          4,
          13,
          10,
          6,
          8,
          8,
          15,
          4,
          5,
          9,
          7,
          9,
          9,
          11,
          12,
          4,
          3,
          10,
          6,
          5,
          9,
          11,
          7,
          4,
          6,
          11,
          6,
          11,
          4,
          12,
          14,
          4,
          3,
          6,
          13,
          8,
          6,
          7,
          7,
          8,
          3,
          4,
          6,
          14,
          8,
          7,
          9,
          13,
          5,
          13,
          12,
          6,
          4,
          8,
          6,
          5,
          8,
          10,
          6,
          6,
          7,
          7,
          7,
          4,
          3,
          9,
          12,
          6,
          4,
          7,
          6,
          15,
          6,
          6,
          8,
          6,
          3,
          7,
          11,
          6,
          15,
          10,
          8,
          5,
          7,
          11,
          11,
          6,
          3,
          7,
          7,
          15,
          15,
          4,
          3,
          8,
          3,
          3,
          8,
          6,
          10,
          7,
          7,
          3,
          8,
          10,
          8,
          12,
          3,
          15,
          6,
          6,
          6,
          6,
          6,
          8,
          10,
          13,
          10,
          4,
          13
         ]
        },
        {
         "boxpoints": false,
         "line": {
          "width": 1.3
         },
         "marker": {
          "color": "rgba(219, 64, 82, 1.0)"
         },
         "name": "GCBS_Control_Of_Information",
         "orientation": "v",
         "type": "box",
         "y": [
          15,
          14,
          14,
          13,
          12,
          5,
          7,
          12,
          13,
          15,
          7,
          8,
          14,
          11,
          12,
          10,
          11,
          6,
          12,
          9,
          10,
          12,
          7,
          13,
          15,
          9,
          8,
          13,
          7,
          12,
          14,
          11,
          15,
          6,
          13,
          13,
          7,
          12,
          15,
          8,
          9,
          6,
          11,
          8,
          9,
          13,
          10,
          9,
          11,
          12,
          14,
          8,
          13,
          14,
          10,
          15,
          12,
          12,
          8,
          14,
          15,
          5,
          13,
          11,
          8,
          15,
          14,
          10,
          12,
          10,
          12,
          13,
          12,
          10,
          12,
          11,
          11,
          10,
          15,
          13,
          11,
          11,
          7,
          8,
          15,
          9,
          5,
          8,
          11,
          11,
          14,
          13,
          13,
          11,
          8,
          13,
          7,
          14,
          15,
          13,
          8,
          12,
          6,
          10,
          9,
          13,
          12,
          15,
          12,
          15,
          15,
          11,
          12,
          12,
          12,
          13,
          13,
          11,
          6,
          4,
          13,
          10,
          15,
          10,
          14,
          9,
          15,
          13,
          12,
          6,
          8,
          13,
          12,
          10,
          11,
          8,
          11,
          13,
          12,
          9,
          13,
          13,
          8,
          15,
          11,
          10,
          10,
          11,
          10,
          15,
          12,
          8,
          15,
          9,
          10,
          14,
          6,
          10,
          14,
          13,
          12,
          14,
          15,
          8,
          12,
          6,
          15,
          15,
          11,
          12,
          7,
          3,
          15,
          14,
          14,
          15,
          13,
          13,
          11,
          6,
          11,
          12,
          7,
          10,
          7,
          11,
          14,
          14,
          11,
          5,
          12,
          12,
          11,
          9,
          9,
          12,
          12,
          12,
          13,
          13,
          4,
          9,
          12,
          13,
          8,
          13,
          12,
          13,
          13,
          7,
          10,
          14,
          14,
          11,
          11,
          13,
          13,
          9,
          12,
          12,
          8,
          13,
          3,
          11,
          11,
          8,
          15,
          10,
          14,
          10,
          7,
          7,
          14,
          11,
          7,
          12,
          12,
          15,
          8,
          14,
          12,
          10,
          14,
          15,
          14,
          9,
          12,
          13,
          13,
          15,
          15,
          15,
          12,
          15,
          15,
          14,
          15,
          14,
          13,
          14,
          12,
          14,
          13,
          14,
          15,
          15,
          15,
          14,
          15,
          15,
          12,
          15,
          12,
          13,
          4,
          12,
          6,
          15,
          11,
          11,
          7,
          13,
          8,
          13,
          15,
          11,
          12,
          13,
          10,
          15,
          10,
          11,
          14,
          8,
          12,
          7,
          15,
          15,
          8,
          12,
          14,
          15,
          12,
          12,
          11,
          12,
          15,
          15,
          14,
          13,
          14,
          14,
          11,
          7,
          13,
          6,
          13,
          15,
          14,
          9,
          9,
          10,
          13,
          9,
          11,
          12,
          14,
          8,
          14,
          12,
          9,
          12,
          14,
          10,
          12,
          15,
          15,
          13,
          5,
          7,
          11,
          12,
          4,
          7,
          15,
          13,
          13,
          11,
          14,
          13,
          13,
          14,
          14,
          15,
          12,
          12,
          10,
          10,
          11,
          14,
          3,
          8,
          13,
          12,
          5,
          7,
          9,
          12,
          13,
          7,
          12,
          11,
          15,
          15,
          12,
          15,
          12,
          13,
          13,
          13,
          6,
          9,
          10,
          10,
          11,
          6,
          13,
          13,
          10,
          10,
          12,
          15,
          3,
          10,
          9,
          12,
          11,
          12,
          12,
          6,
          13,
          10,
          13,
          13,
          13,
          10,
          15,
          13,
          6,
          7,
          13,
          15,
          15,
          11,
          14,
          11,
          13,
          7,
          15,
          10,
          8,
          12,
          14,
          11,
          4,
          4,
          11,
          15,
          8,
          12,
          10,
          9,
          14,
          11,
          8,
          13,
          7,
          10,
          12,
          11,
          15,
          11,
          12,
          15,
          11,
          12,
          9,
          10,
          9,
          15,
          12,
          15,
          11,
          13,
          15,
          10,
          14,
          9,
          15,
          12,
          14,
          10,
          11,
          10,
          10,
          12,
          7,
          15,
          10,
          11,
          7,
          12,
          7,
          15,
          7,
          9,
          12,
          13,
          9,
          8,
          11,
          5,
          15,
          14,
          7,
          10,
          7,
          10,
          9,
          9,
          14,
          12,
          9,
          11,
          15,
          5,
          12,
          8,
          13,
          14,
          8,
          15,
          8,
          8,
          11,
          14,
          8,
          15,
          9,
          12,
          12,
          6,
          14,
          10,
          9,
          12,
          13,
          15,
          15,
          15,
          12,
          5,
          12,
          15,
          13,
          13,
          12,
          12,
          11,
          11,
          13,
          6,
          11,
          9,
          15,
          14,
          12,
          9,
          10,
          13,
          12,
          11,
          14,
          10,
          15,
          10,
          13,
          6,
          15,
          6,
          11,
          13,
          8,
          15,
          8,
          13,
          13,
          10,
          11,
          5,
          11,
          14,
          12,
          14,
          9,
          12,
          7,
          11,
          9,
          9,
          7,
          15,
          12,
          7,
          10,
          14,
          10,
          11,
          9,
          13,
          10,
          12,
          13,
          8,
          13,
          15,
          11,
          8,
          14,
          13,
          7,
          9,
          13,
          14,
          7,
          13,
          11,
          11,
          9,
          15,
          14,
          11,
          7,
          7,
          14,
          12,
          10,
          13,
          15,
          15,
          10,
          7,
          14,
          10,
          7,
          10,
          11,
          9,
          10,
          13,
          15,
          13,
          11,
          11,
          8,
          15,
          12,
          10,
          11,
          12,
          7,
          11,
          11,
          13,
          15,
          14,
          15,
          8,
          6,
          13,
          10,
          8,
          8,
          10,
          14,
          13,
          7,
          15,
          13,
          9,
          13,
          15,
          15,
          14,
          6,
          11,
          12,
          13,
          15,
          12,
          10,
          14,
          13,
          9,
          10,
          15,
          13,
          5,
          9,
          7,
          10,
          11,
          14,
          10,
          14,
          11,
          12,
          15,
          7,
          10,
          13,
          12,
          7,
          10,
          12,
          11,
          10,
          12,
          14,
          15,
          11,
          15,
          15,
          15,
          11,
          14,
          12,
          12,
          13,
          11,
          9,
          12,
          13,
          13,
          12,
          15,
          12,
          13,
          9,
          13,
          12,
          14,
          5,
          11,
          4,
          13,
          7,
          15,
          15,
          7,
          14,
          10,
          14,
          14,
          13,
          11,
          13,
          8,
          14,
          8,
          15,
          15,
          4,
          14,
          15,
          10,
          9,
          8,
          15,
          7,
          14,
          7,
          8,
          11,
          12,
          10,
          10,
          9,
          8,
          9,
          12,
          8,
          13,
          13,
          15,
          7,
          6,
          11,
          5,
          14,
          11,
          13,
          11,
          12,
          10,
          3,
          12,
          13,
          14,
          8,
          15,
          15,
          11,
          14,
          6,
          13,
          12,
          15,
          11,
          10,
          14,
          13,
          9,
          10,
          10,
          13,
          12,
          14,
          7,
          12,
          14,
          11,
          11,
          14,
          7,
          9,
          7,
          13,
          8,
          13,
          13,
          7,
          6,
          8,
          13,
          8,
          12,
          13,
          12,
          13,
          9,
          9,
          13,
          12,
          6,
          14,
          15,
          6,
          14,
          13,
          10,
          11,
          13,
          15,
          8,
          12,
          9,
          6,
          12,
          11,
          10,
          15,
          11,
          7,
          15,
          14,
          11,
          14,
          15,
          14,
          15,
          10,
          11,
          13,
          12,
          13,
          14,
          15,
          10,
          7,
          12,
          11,
          11,
          15,
          13,
          12,
          15,
          10,
          12,
          9,
          10,
          13,
          11,
          14,
          13,
          12,
          13,
          11,
          15,
          9,
          12,
          15,
          14,
          8,
          10,
          10,
          8,
          12,
          8,
          8,
          11,
          4,
          5,
          12,
          11,
          10,
          8,
          15,
          15,
          6,
          14,
          13,
          8,
          6,
          11,
          10,
          8,
          15,
          15,
          9,
          9,
          15,
          14,
          14,
          15,
          7,
          13,
          15,
          7,
          12,
          15,
          14,
          11,
          14,
          8,
          11,
          13,
          5,
          11,
          10,
          8,
          15,
          11,
          13,
          9,
          10,
          13,
          15,
          11,
          12,
          11,
          13,
          12,
          12,
          6,
          8,
          9,
          10,
          7,
          11,
          7,
          10,
          12,
          10,
          6,
          11,
          12,
          10,
          14,
          5,
          9,
          10,
          10,
          11,
          11,
          12,
          10,
          15,
          15,
          11,
          9,
          11
         ]
        }
       ],
       "layout": {
        "legend": {
         "bgcolor": "#FFFFFF",
         "font": {
          "color": "#4D5663"
         }
        },
        "paper_bgcolor": "#FFFFFF",
        "plot_bgcolor": "#FFFFFF",
        "template": {
         "data": {
          "bar": [
           {
            "error_x": {
             "color": "#2a3f5f"
            },
            "error_y": {
             "color": "#2a3f5f"
            },
            "marker": {
             "line": {
              "color": "#E5ECF6",
              "width": 0.5
             },
             "pattern": {
              "fillmode": "overlay",
              "size": 10,
              "solidity": 0.2
             }
            },
            "type": "bar"
           }
          ],
          "barpolar": [
           {
            "marker": {
             "line": {
              "color": "#E5ECF6",
              "width": 0.5
             },
             "pattern": {
              "fillmode": "overlay",
              "size": 10,
              "solidity": 0.2
             }
            },
            "type": "barpolar"
           }
          ],
          "carpet": [
           {
            "aaxis": {
             "endlinecolor": "#2a3f5f",
             "gridcolor": "white",
             "linecolor": "white",
             "minorgridcolor": "white",
             "startlinecolor": "#2a3f5f"
            },
            "baxis": {
             "endlinecolor": "#2a3f5f",
             "gridcolor": "white",
             "linecolor": "white",
             "minorgridcolor": "white",
             "startlinecolor": "#2a3f5f"
            },
            "type": "carpet"
           }
          ],
          "choropleth": [
           {
            "colorbar": {
             "outlinewidth": 0,
             "ticks": ""
            },
            "type": "choropleth"
           }
          ],
          "contour": [
           {
            "colorbar": {
             "outlinewidth": 0,
             "ticks": ""
            },
            "colorscale": [
             [
              0,
              "#0d0887"
             ],
             [
              0.1111111111111111,
              "#46039f"
             ],
             [
              0.2222222222222222,
              "#7201a8"
             ],
             [
              0.3333333333333333,
              "#9c179e"
             ],
             [
              0.4444444444444444,
              "#bd3786"
             ],
             [
              0.5555555555555556,
              "#d8576b"
             ],
             [
              0.6666666666666666,
              "#ed7953"
             ],
             [
              0.7777777777777778,
              "#fb9f3a"
             ],
             [
              0.8888888888888888,
              "#fdca26"
             ],
             [
              1,
              "#f0f921"
             ]
            ],
            "type": "contour"
           }
          ],
          "contourcarpet": [
           {
            "colorbar": {
             "outlinewidth": 0,
             "ticks": ""
            },
            "type": "contourcarpet"
           }
          ],
          "heatmap": [
           {
            "colorbar": {
             "outlinewidth": 0,
             "ticks": ""
            },
            "colorscale": [
             [
              0,
              "#0d0887"
             ],
             [
              0.1111111111111111,
              "#46039f"
             ],
             [
              0.2222222222222222,
              "#7201a8"
             ],
             [
              0.3333333333333333,
              "#9c179e"
             ],
             [
              0.4444444444444444,
              "#bd3786"
             ],
             [
              0.5555555555555556,
              "#d8576b"
             ],
             [
              0.6666666666666666,
              "#ed7953"
             ],
             [
              0.7777777777777778,
              "#fb9f3a"
             ],
             [
              0.8888888888888888,
              "#fdca26"
             ],
             [
              1,
              "#f0f921"
             ]
            ],
            "type": "heatmap"
           }
          ],
          "heatmapgl": [
           {
            "colorbar": {
             "outlinewidth": 0,
             "ticks": ""
            },
            "colorscale": [
             [
              0,
              "#0d0887"
             ],
             [
              0.1111111111111111,
              "#46039f"
             ],
             [
              0.2222222222222222,
              "#7201a8"
             ],
             [
              0.3333333333333333,
              "#9c179e"
             ],
             [
              0.4444444444444444,
              "#bd3786"
             ],
             [
              0.5555555555555556,
              "#d8576b"
             ],
             [
              0.6666666666666666,
              "#ed7953"
             ],
             [
              0.7777777777777778,
              "#fb9f3a"
             ],
             [
              0.8888888888888888,
              "#fdca26"
             ],
             [
              1,
              "#f0f921"
             ]
            ],
            "type": "heatmapgl"
           }
          ],
          "histogram": [
           {
            "marker": {
             "pattern": {
              "fillmode": "overlay",
              "size": 10,
              "solidity": 0.2
             }
            },
            "type": "histogram"
           }
          ],
          "histogram2d": [
           {
            "colorbar": {
             "outlinewidth": 0,
             "ticks": ""
            },
            "colorscale": [
             [
              0,
              "#0d0887"
             ],
             [
              0.1111111111111111,
              "#46039f"
             ],
             [
              0.2222222222222222,
              "#7201a8"
             ],
             [
              0.3333333333333333,
              "#9c179e"
             ],
             [
              0.4444444444444444,
              "#bd3786"
             ],
             [
              0.5555555555555556,
              "#d8576b"
             ],
             [
              0.6666666666666666,
              "#ed7953"
             ],
             [
              0.7777777777777778,
              "#fb9f3a"
             ],
             [
              0.8888888888888888,
              "#fdca26"
             ],
             [
              1,
              "#f0f921"
             ]
            ],
            "type": "histogram2d"
           }
          ],
          "histogram2dcontour": [
           {
            "colorbar": {
             "outlinewidth": 0,
             "ticks": ""
            },
            "colorscale": [
             [
              0,
              "#0d0887"
             ],
             [
              0.1111111111111111,
              "#46039f"
             ],
             [
              0.2222222222222222,
              "#7201a8"
             ],
             [
              0.3333333333333333,
              "#9c179e"
             ],
             [
              0.4444444444444444,
              "#bd3786"
             ],
             [
              0.5555555555555556,
              "#d8576b"
             ],
             [
              0.6666666666666666,
              "#ed7953"
             ],
             [
              0.7777777777777778,
              "#fb9f3a"
             ],
             [
              0.8888888888888888,
              "#fdca26"
             ],
             [
              1,
              "#f0f921"
             ]
            ],
            "type": "histogram2dcontour"
           }
          ],
          "mesh3d": [
           {
            "colorbar": {
             "outlinewidth": 0,
             "ticks": ""
            },
            "type": "mesh3d"
           }
          ],
          "parcoords": [
           {
            "line": {
             "colorbar": {
              "outlinewidth": 0,
              "ticks": ""
             }
            },
            "type": "parcoords"
           }
          ],
          "pie": [
           {
            "automargin": true,
            "type": "pie"
           }
          ],
          "scatter": [
           {
            "marker": {
             "colorbar": {
              "outlinewidth": 0,
              "ticks": ""
             }
            },
            "type": "scatter"
           }
          ],
          "scatter3d": [
           {
            "line": {
             "colorbar": {
              "outlinewidth": 0,
              "ticks": ""
             }
            },
            "marker": {
             "colorbar": {
              "outlinewidth": 0,
              "ticks": ""
             }
            },
            "type": "scatter3d"
           }
          ],
          "scattercarpet": [
           {
            "marker": {
             "colorbar": {
              "outlinewidth": 0,
              "ticks": ""
             }
            },
            "type": "scattercarpet"
           }
          ],
          "scattergeo": [
           {
            "marker": {
             "colorbar": {
              "outlinewidth": 0,
              "ticks": ""
             }
            },
            "type": "scattergeo"
           }
          ],
          "scattergl": [
           {
            "marker": {
             "colorbar": {
              "outlinewidth": 0,
              "ticks": ""
             }
            },
            "type": "scattergl"
           }
          ],
          "scattermapbox": [
           {
            "marker": {
             "colorbar": {
              "outlinewidth": 0,
              "ticks": ""
             }
            },
            "type": "scattermapbox"
           }
          ],
          "scatterpolar": [
           {
            "marker": {
             "colorbar": {
              "outlinewidth": 0,
              "ticks": ""
             }
            },
            "type": "scatterpolar"
           }
          ],
          "scatterpolargl": [
           {
            "marker": {
             "colorbar": {
              "outlinewidth": 0,
              "ticks": ""
             }
            },
            "type": "scatterpolargl"
           }
          ],
          "scatterternary": [
           {
            "marker": {
             "colorbar": {
              "outlinewidth": 0,
              "ticks": ""
             }
            },
            "type": "scatterternary"
           }
          ],
          "surface": [
           {
            "colorbar": {
             "outlinewidth": 0,
             "ticks": ""
            },
            "colorscale": [
             [
              0,
              "#0d0887"
             ],
             [
              0.1111111111111111,
              "#46039f"
             ],
             [
              0.2222222222222222,
              "#7201a8"
             ],
             [
              0.3333333333333333,
              "#9c179e"
             ],
             [
              0.4444444444444444,
              "#bd3786"
             ],
             [
              0.5555555555555556,
              "#d8576b"
             ],
             [
              0.6666666666666666,
              "#ed7953"
             ],
             [
              0.7777777777777778,
              "#fb9f3a"
             ],
             [
              0.8888888888888888,
              "#fdca26"
             ],
             [
              1,
              "#f0f921"
             ]
            ],
            "type": "surface"
           }
          ],
          "table": [
           {
            "cells": {
             "fill": {
              "color": "#EBF0F8"
             },
             "line": {
              "color": "white"
             }
            },
            "header": {
             "fill": {
              "color": "#C8D4E3"
             },
             "line": {
              "color": "white"
             }
            },
            "type": "table"
           }
          ]
         },
         "layout": {
          "annotationdefaults": {
           "arrowcolor": "#2a3f5f",
           "arrowhead": 0,
           "arrowwidth": 1
          },
          "autotypenumbers": "strict",
          "coloraxis": {
           "colorbar": {
            "outlinewidth": 0,
            "ticks": ""
           }
          },
          "colorscale": {
           "diverging": [
            [
             0,
             "#8e0152"
            ],
            [
             0.1,
             "#c51b7d"
            ],
            [
             0.2,
             "#de77ae"
            ],
            [
             0.3,
             "#f1b6da"
            ],
            [
             0.4,
             "#fde0ef"
            ],
            [
             0.5,
             "#f7f7f7"
            ],
            [
             0.6,
             "#e6f5d0"
            ],
            [
             0.7,
             "#b8e186"
            ],
            [
             0.8,
             "#7fbc41"
            ],
            [
             0.9,
             "#4d9221"
            ],
            [
             1,
             "#276419"
            ]
           ],
           "sequential": [
            [
             0,
             "#0d0887"
            ],
            [
             0.1111111111111111,
             "#46039f"
            ],
            [
             0.2222222222222222,
             "#7201a8"
            ],
            [
             0.3333333333333333,
             "#9c179e"
            ],
            [
             0.4444444444444444,
             "#bd3786"
            ],
            [
             0.5555555555555556,
             "#d8576b"
            ],
            [
             0.6666666666666666,
             "#ed7953"
            ],
            [
             0.7777777777777778,
             "#fb9f3a"
            ],
            [
             0.8888888888888888,
             "#fdca26"
            ],
            [
             1,
             "#f0f921"
            ]
           ],
           "sequentialminus": [
            [
             0,
             "#0d0887"
            ],
            [
             0.1111111111111111,
             "#46039f"
            ],
            [
             0.2222222222222222,
             "#7201a8"
            ],
            [
             0.3333333333333333,
             "#9c179e"
            ],
            [
             0.4444444444444444,
             "#bd3786"
            ],
            [
             0.5555555555555556,
             "#d8576b"
            ],
            [
             0.6666666666666666,
             "#ed7953"
            ],
            [
             0.7777777777777778,
             "#fb9f3a"
            ],
            [
             0.8888888888888888,
             "#fdca26"
            ],
            [
             1,
             "#f0f921"
            ]
           ]
          },
          "colorway": [
           "#636efa",
           "#EF553B",
           "#00cc96",
           "#ab63fa",
           "#FFA15A",
           "#19d3f3",
           "#FF6692",
           "#B6E880",
           "#FF97FF",
           "#FECB52"
          ],
          "font": {
           "color": "#2a3f5f"
          },
          "geo": {
           "bgcolor": "white",
           "lakecolor": "white",
           "landcolor": "#E5ECF6",
           "showlakes": true,
           "showland": true,
           "subunitcolor": "white"
          },
          "hoverlabel": {
           "align": "left"
          },
          "hovermode": "closest",
          "mapbox": {
           "style": "light"
          },
          "paper_bgcolor": "white",
          "plot_bgcolor": "#E5ECF6",
          "polar": {
           "angularaxis": {
            "gridcolor": "white",
            "linecolor": "white",
            "ticks": ""
           },
           "bgcolor": "#E5ECF6",
           "radialaxis": {
            "gridcolor": "white",
            "linecolor": "white",
            "ticks": ""
           }
          },
          "scene": {
           "xaxis": {
            "backgroundcolor": "#E5ECF6",
            "gridcolor": "white",
            "gridwidth": 2,
            "linecolor": "white",
            "showbackground": true,
            "ticks": "",
            "zerolinecolor": "white"
           },
           "yaxis": {
            "backgroundcolor": "#E5ECF6",
            "gridcolor": "white",
            "gridwidth": 2,
            "linecolor": "white",
            "showbackground": true,
            "ticks": "",
            "zerolinecolor": "white"
           },
           "zaxis": {
            "backgroundcolor": "#E5ECF6",
            "gridcolor": "white",
            "gridwidth": 2,
            "linecolor": "white",
            "showbackground": true,
            "ticks": "",
            "zerolinecolor": "white"
           }
          },
          "shapedefaults": {
           "line": {
            "color": "#2a3f5f"
           }
          },
          "ternary": {
           "aaxis": {
            "gridcolor": "white",
            "linecolor": "white",
            "ticks": ""
           },
           "baxis": {
            "gridcolor": "white",
            "linecolor": "white",
            "ticks": ""
           },
           "bgcolor": "#E5ECF6",
           "caxis": {
            "gridcolor": "white",
            "linecolor": "white",
            "ticks": ""
           }
          },
          "title": {
           "x": 0.05
          },
          "xaxis": {
           "automargin": true,
           "gridcolor": "white",
           "linecolor": "white",
           "ticks": "",
           "title": {
            "standoff": 15
           },
           "zerolinecolor": "white",
           "zerolinewidth": 2
          },
          "yaxis": {
           "automargin": true,
           "gridcolor": "white",
           "linecolor": "white",
           "ticks": "",
           "title": {
            "standoff": 15
           },
           "zerolinecolor": "white",
           "zerolinewidth": 2
          }
         }
        },
        "title": {
         "font": {
          "color": "#4D5663"
         },
         "text": "Comparing beliefs in conspiracy theories"
        },
        "xaxis": {
         "gridcolor": "#E1E5ED",
         "showgrid": true,
         "tickfont": {
          "color": "#4D5663"
         },
         "title": {
          "font": {
           "color": "#4D5663"
          },
          "text": ""
         },
         "zerolinecolor": "#E1E5ED"
        },
        "yaxis": {
         "gridcolor": "#E1E5ED",
         "showgrid": true,
         "tickfont": {
          "color": "#4D5663"
         },
         "title": {
          "font": {
           "color": "#4D5663"
          },
          "text": ""
         },
         "zerolinecolor": "#E1E5ED"
        }
       }
      },
      "text/html": [
       "<div>                            <div id=\"78a7fee0-5fd0-49f7-b191-ebe3db39b316\" class=\"plotly-graph-div\" style=\"height:525px; width:100%;\"></div>            <script type=\"text/javascript\">                require([\"plotly\"], function(Plotly) {                    window.PLOTLYENV=window.PLOTLYENV || {};\n",
       "                    window.PLOTLYENV.BASE_URL='https://plot.ly';                                    if (document.getElementById(\"78a7fee0-5fd0-49f7-b191-ebe3db39b316\")) {                    Plotly.newPlot(                        \"78a7fee0-5fd0-49f7-b191-ebe3db39b316\",                        [{\"boxpoints\":false,\"line\":{\"width\":1.3},\"marker\":{\"color\":\"rgba(255, 153, 51, 1.0)\"},\"name\":\"GCBS_Government_Malfeasance\",\"orientation\":\"v\",\"y\":[15,15,15,14,10,5,7,12,11,15,10,12,15,10,11,6,6,8,11,5,4,11,7,15,15,8,8,9,6,15,14,11,9,11,10,11,8,8,4,9,3,3,13,13,8,14,6,11,8,15,14,6,13,10,13,13,12,8,7,14,15,3,10,13,7,15,15,14,9,6,10,12,8,9,13,11,10,15,13,15,10,7,8,6,15,5,5,8,11,12,9,11,8,12,11,14,3,15,13,15,14,9,11,8,11,13,7,13,13,15,11,10,8,6,13,8,13,13,7,4,12,6,13,15,14,15,15,10,8,11,12,14,13,12,10,8,13,13,5,12,8,10,6,15,5,10,11,15,10,12,9,7,12,4,7,11,4,8,9,11,13,14,9,10,12,3,14,11,11,9,9,9,7,13,9,13,15,14,15,3,13,10,9,12,3,11,12,14,7,3,8,12,11,9,13,12,9,12,8,12,3,12,12,10,8,10,8,8,12,6,8,13,15,11,13,12,8,4,5,13,4,10,5,8,15,9,13,7,15,15,5,10,13,5,12,13,3,15,5,15,10,12,14,15,11,11,12,9,15,15,15,15,15,15,15,15,10,12,13,15,12,13,11,9,15,15,11,14,15,15,12,13,11,12,3,12,6,14,5,14,7,11,14,13,11,11,10,15,10,14,8,13,15,11,6,3,15,15,6,6,10,15,10,10,10,12,15,15,14,14,8,12,10,5,14,6,11,15,11,11,7,9,11,10,15,12,15,11,13,10,8,15,14,3,6,15,15,14,3,6,10,10,5,9,15,14,13,11,15,11,8,11,8,15,9,9,10,11,9,15,3,12,10,11,6,6,8,12,9,4,10,11,14,15,8,15,11,12,10,11,8,9,11,11,12,10,11,4,10,9,8,10,5,6,6,12,12,10,7,4,3,12,14,14,13,10,15,7,3,4,12,14,15,10,14,7,8,4,15,3,5,13,12,14,4,3,12,14,10,10,12,6,14,8,9,10,3,6,11,13,15,6,6,15,10,7,13,11,13,14,11,15,15,12,14,13,9,4,14,11,15,5,14,14,10,10,8,15,9,4,8,4,6,12,9,9,7,5,4,4,8,3,15,11,6,8,6,6,8,7,8,11,4,3,15,5,8,12,14,13,6,10,3,5,10,12,7,14,7,9,15,11,7,9,7,11,14,15,15,15,11,10,9,13,15,12,13,14,8,10,11,4,10,12,11,12,9,11,9,11,11,12,14,12,11,11,10,5,15,5,9,11,11,15,9,14,13,6,9,3,6,8,7,12,5,14,5,10,10,13,4,15,8,8,9,14,5,8,5,9,8,12,11,5,15,5,12,7,11,8,11,7,12,12,3,13,3,9,5,15,13,13,5,11,12,11,9,11,15,10,10,10,12,3,3,9,8,10,3,13,14,15,12,9,9,15,10,11,7,14,5,9,11,9,12,10,14,3,11,11,9,12,15,9,10,12,3,15,8,8,11,13,14,14,4,8,8,14,15,9,10,13,11,6,5,15,12,6,3,7,11,14,11,10,14,7,15,15,6,9,13,11,8,12,10,15,10,12,11,12,12,7,15,13,10,13,12,13,10,5,3,14,8,7,13,10,11,9,9,13,9,13,6,11,3,13,4,15,13,10,11,8,12,9,10,10,12,5,15,6,14,15,3,12,8,12,6,8,15,7,11,12,9,6,8,5,8,7,7,9,7,4,10,11,11,6,6,8,5,7,5,8,15,14,6,7,13,12,13,12,15,13,12,15,11,14,13,15,5,9,13,12,8,7,11,11,11,15,6,6,13,6,3,12,10,10,4,8,8,9,11,4,3,11,8,3,11,7,12,15,11,12,14,13,3,14,14,9,15,13,8,11,9,15,14,14,10,7,12,12,6,15,8,5,15,15,13,15,15,14,15,3,12,8,9,10,12,15,9,8,12,14,12,13,14,10,11,13,11,9,6,14,12,15,4,7,12,10,13,4,12,15,11,10,6,6,10,10,7,8,11,7,3,8,15,9,5,13,14,6,11,13,7,8,14,8,3,13,15,8,8,7,13,12,9,8,11,15,4,8,15,6,14,8,7,13,10,5,5,13,11,15,15,9,7,6,13,13,9,5,9,10,15,10,6,6,11,8,3,8,9,6,10,7,4,9,13,9,14,3,15,8,13,9,7,10,11,12,14,9,12,11],\"type\":\"box\"},{\"boxpoints\":false,\"line\":{\"width\":1.3},\"marker\":{\"color\":\"rgba(55, 128, 191, 1.0)\"},\"name\":\"GCBS_Malevolent_Global_Conspiracies\",\"orientation\":\"v\",\"y\":[15,13,14,10,9,3,5,6,13,15,3,3,5,12,7,10,4,5,10,4,3,9,6,13,15,6,3,9,7,14,7,4,12,3,6,10,5,6,8,7,3,4,11,12,3,10,9,4,7,11,14,6,13,14,10,14,14,5,4,15,15,4,7,3,5,13,13,14,8,3,5,13,5,7,8,14,13,11,10,15,9,13,6,4,12,5,3,6,3,10,7,13,5,13,4,8,4,15,15,15,15,13,8,8,9,9,6,9,12,10,10,10,5,10,14,4,12,12,3,3,13,4,13,13,14,9,15,8,4,3,6,10,12,5,12,8,11,15,12,12,5,3,3,15,3,8,9,7,9,3,5,11,10,3,9,4,3,11,3,10,9,10,11,7,11,3,6,3,11,12,3,3,3,7,12,15,14,9,8,4,3,5,7,12,3,10,11,15,5,4,7,12,5,12,13,11,4,7,11,5,3,12,12,3,5,5,5,11,8,12,3,13,14,11,14,10,6,5,3,14,4,5,3,5,4,3,15,7,13,12,4,11,13,6,6,11,3,14,3,13,11,9,15,14,10,7,11,11,15,13,15,15,15,15,15,15,15,14,14,15,14,13,14,13,15,13,5,10,15,15,10,12,10,8,5,14,5,9,5,15,11,10,8,15,7,10,7,13,15,13,12,10,15,8,3,4,15,15,6,7,11,15,12,9,9,11,15,15,10,12,9,12,11,3,12,3,8,15,9,14,3,11,14,5,15,11,15,15,13,3,6,15,9,3,7,15,15,15,3,5,7,4,3,5,8,15,15,8,14,6,8,10,3,15,8,9,5,9,10,15,3,7,4,8,3,7,5,4,8,3,4,10,14,15,7,11,11,12,10,12,4,11,8,8,4,7,15,7,4,7,3,8,4,4,8,12,11,3,10,3,5,10,15,14,12,9,15,11,3,3,10,12,15,10,15,8,9,3,12,6,3,13,10,4,4,3,8,15,4,4,5,3,12,13,4,10,3,9,7,5,15,8,4,14,8,7,12,6,7,13,7,14,10,12,15,9,6,4,12,13,15,9,8,14,4,11,4,13,7,5,3,8,5,4,3,4,9,5,3,5,12,3,15,6,4,6,9,3,7,5,4,8,3,10,15,7,12,3,14,8,8,3,4,5,4,8,5,12,3,12,15,8,6,5,3,9,9,13,15,14,11,14,8,12,14,10,11,9,10,15,10,4,5,9,14,8,6,13,15,4,9,10,11,5,12,8,8,5,15,5,7,6,5,11,4,13,9,3,7,9,5,11,14,4,3,12,3,11,6,13,3,15,9,5,10,10,5,11,4,9,7,12,13,5,13,7,6,7,8,8,3,10,14,10,4,8,10,7,3,15,8,12,3,3,8,12,5,8,14,14,6,3,14,5,3,9,4,8,5,13,4,15,6,11,3,15,13,4,3,15,3,13,12,6,14,8,15,3,3,7,4,3,4,15,9,8,3,13,12,4,11,13,13,14,5,8,6,14,11,9,12,9,12,3,4,12,11,3,4,5,5,8,13,10,11,9,14,15,5,3,13,8,6,11,12,12,9,3,11,10,11,3,11,6,8,13,7,12,8,4,5,13,6,11,15,9,10,10,11,6,10,6,5,11,3,13,4,15,9,4,12,3,10,4,4,6,9,10,6,4,15,7,3,14,6,10,12,7,15,7,12,10,3,4,9,5,3,6,4,5,3,3,14,6,10,6,7,9,3,13,7,3,10,14,5,3,11,8,12,5,3,11,12,9,7,4,6,15,4,3,12,13,6,6,13,9,11,15,4,6,3,3,3,5,7,10,3,5,11,3,14,5,6,5,10,4,11,3,12,13,8,11,11,15,5,10,13,7,10,12,7,3,9,15,11,12,12,3,11,12,7,15,10,3,15,15,9,14,14,15,14,5,13,6,7,7,3,15,3,3,8,3,6,9,13,10,7,4,13,8,8,12,13,3,6,7,11,4,8,3,6,15,6,8,8,7,7,6,8,9,12,6,5,12,9,7,9,11,12,5,10,15,3,3,15,9,7,11,13,11,8,7,7,6,4,3,10,15,4,9,9,12,13,12,8,14,8,3,7,12,8,5,15,6,9,11,8,15,4,6,8,11,15,15,6,5,6,3,3,4,10,7,10,3,6,6,12,9,15,4,10,3,10,8,3,8,12,12,15,14,11,15],\"type\":\"box\"},{\"boxpoints\":false,\"line\":{\"width\":1.3},\"marker\":{\"color\":\"rgba(50, 171, 96, 1.0)\"},\"name\":\"GCBS_Extraterrestrial_Coverup\",\"orientation\":\"v\",\"y\":[9,7,11,8,3,3,3,8,3,12,3,3,11,5,8,6,5,3,14,3,7,5,12,12,15,3,3,14,3,10,10,3,5,3,3,4,3,3,3,5,3,3,3,9,3,12,7,3,5,3,8,4,12,3,8,13,9,3,3,3,13,4,3,8,3,11,10,6,5,3,3,10,5,3,3,3,6,3,4,3,6,3,7,3,13,3,3,3,3,4,3,9,3,4,7,4,3,8,3,9,3,15,5,3,6,14,9,10,10,12,10,3,3,5,11,4,13,7,3,3,11,3,9,5,9,3,7,3,3,3,4,7,10,3,3,3,9,4,4,10,8,3,11,13,5,3,6,9,9,6,4,4,13,3,13,4,3,3,9,3,6,11,6,3,4,3,11,7,4,11,3,3,3,3,6,15,14,9,5,3,9,3,3,7,3,3,8,15,3,3,11,6,3,3,3,10,3,9,12,7,3,3,3,9,3,10,3,8,6,3,10,7,9,8,4,10,12,5,3,9,3,4,3,3,3,3,10,3,3,3,3,13,14,3,7,8,3,11,3,3,5,13,9,13,12,3,13,8,15,10,15,13,11,7,13,9,13,6,3,10,12,10,9,10,13,8,3,13,11,11,13,10,8,4,3,13,3,11,5,11,3,9,3,13,10,9,3,11,6,10,6,9,3,5,3,5,12,14,12,4,3,7,6,11,6,3,14,11,8,6,11,11,7,5,3,3,7,3,9,3,3,3,3,3,13,3,8,9,5,3,3,4,6,3,12,15,7,10,3,3,9,3,3,3,13,7,3,13,14,6,3,11,8,3,8,9,3,5,3,11,3,3,3,3,3,3,5,3,13,3,4,3,13,3,3,3,5,14,7,9,3,4,3,7,3,3,13,11,3,9,5,12,3,3,3,11,7,3,9,3,3,10,8,3,3,3,7,3,3,5,6,13,10,3,9,7,7,3,10,3,5,14,12,12,4,3,3,10,3,10,11,3,14,12,3,9,3,8,3,3,14,3,3,9,14,4,11,3,3,15,4,15,14,11,5,13,7,4,11,13,11,10,8,3,5,7,3,8,3,3,3,5,3,6,3,3,3,3,3,5,3,3,9,6,3,3,3,6,5,3,3,5,3,3,11,3,5,5,8,13,4,5,3,3,3,8,3,11,4,3,13,9,8,3,3,5,3,13,11,10,8,3,8,9,10,3,6,3,14,7,4,3,14,7,3,11,4,3,3,3,7,9,10,5,8,7,4,3,10,3,7,7,7,11,3,15,3,3,9,4,11,3,6,4,4,8,3,4,3,3,3,11,10,3,8,13,8,7,5,3,3,9,9,4,13,3,3,3,7,8,3,8,3,3,3,6,11,11,3,13,6,15,3,3,5,15,3,8,15,6,3,3,11,3,3,7,7,3,4,3,4,13,3,8,3,10,10,3,3,7,3,5,9,10,15,3,13,3,3,5,3,3,7,7,3,3,3,15,5,5,7,8,11,9,10,7,6,15,7,9,3,3,7,3,4,15,3,3,3,3,3,3,4,3,3,3,3,15,3,3,14,3,8,3,3,3,13,3,3,3,5,3,15,4,3,9,7,9,8,3,4,5,8,7,10,7,4,4,3,10,4,6,3,3,3,8,3,9,3,3,11,3,3,3,4,6,3,9,10,3,3,7,3,7,4,9,6,3,9,3,11,8,3,3,4,3,6,3,3,3,4,3,7,7,13,5,6,6,3,15,3,3,10,3,3,3,11,7,5,10,11,11,9,6,3,8,3,13,3,3,14,3,3,3,15,9,8,14,3,3,6,3,3,3,3,5,3,13,11,3,10,4,3,8,7,3,3,8,3,9,5,10,3,7,3,15,9,3,3,13,3,3,6,4,3,11,3,3,4,9,4,9,3,8,13,6,3,12,8,12,3,3,13,4,7,9,5,3,4,3,3,3,3,3,6,12,3,5,12,7,8,9,5,14,5,9,7,12,7,3,8,11,3,4,6,8,3,3,3,3,3,3,3,3,12,6,10,5,9,3,14,11,3,3,5,3,3,7,3,3,3,4,3,8,9,3,4,7,3,12,13,3,3,3,3,3,7,8,3,3,3,15,7,5,3,6,3,7,3,3,7,3,11,9,3,3,3,3,3,10,3,5,6,4,3,10,6,9,6,11,7,3,6,9,3,5,13,8,13,4,3,7],\"type\":\"box\"},{\"boxpoints\":false,\"line\":{\"width\":1.3},\"marker\":{\"color\":\"rgba(128, 0, 128, 1.0)\"},\"name\":\"GCBS_Personal_Wellbeing\",\"orientation\":\"v\",\"y\":[14,10,12,12,8,3,4,11,7,15,6,10,13,5,8,8,4,5,9,5,5,8,13,12,14,8,4,9,3,15,9,8,12,4,8,5,3,5,8,8,3,3,9,10,4,13,8,6,9,9,12,3,12,10,9,9,12,4,5,8,12,3,6,6,4,14,14,10,10,5,6,7,4,12,10,11,3,14,9,13,9,7,6,6,15,3,4,6,4,9,8,10,5,3,5,9,3,11,13,14,13,8,5,4,9,15,8,13,8,9,9,7,5,10,5,5,8,13,7,3,10,3,13,10,11,7,12,3,5,3,9,9,9,8,7,4,6,7,6,7,7,4,3,15,4,7,6,12,8,13,3,7,10,3,9,11,3,5,8,5,6,9,11,5,9,4,10,8,7,12,3,3,7,10,7,15,13,12,7,5,8,7,6,10,3,8,11,13,7,3,10,7,10,9,8,10,9,10,6,9,3,9,12,4,4,4,3,13,8,4,8,10,13,10,7,8,11,3,6,12,4,4,3,11,3,9,11,5,11,9,4,10,13,5,9,7,3,15,3,14,11,11,10,14,13,11,13,9,14,12,14,11,10,15,13,15,12,12,10,14,10,11,11,11,15,15,13,10,15,14,11,14,8,10,3,12,4,9,3,12,4,6,3,14,9,8,3,15,7,12,7,9,14,6,4,6,14,14,3,4,9,7,10,7,8,10,14,15,12,10,10,11,8,3,8,3,9,11,9,5,3,6,11,3,14,12,15,11,11,3,4,15,11,5,10,14,12,13,3,7,9,7,3,4,14,10,5,8,15,13,5,10,4,7,7,10,3,8,3,10,6,4,4,6,3,8,3,5,13,3,4,4,13,14,9,7,13,12,10,11,5,5,4,6,5,3,11,5,5,7,7,8,4,7,6,8,6,3,9,3,3,8,13,10,6,3,15,8,4,4,7,11,13,3,13,7,8,3,14,3,4,13,12,4,3,3,8,15,7,7,6,5,13,8,4,11,4,3,6,8,14,6,6,13,6,6,8,6,9,15,5,15,10,13,9,10,11,5,12,11,12,6,6,9,3,11,4,14,6,4,5,10,4,11,3,5,4,6,3,6,11,3,13,8,3,6,3,4,7,3,3,3,7,3,13,4,9,5,13,13,8,11,3,4,7,15,4,12,4,12,14,7,4,6,3,10,7,15,13,15,13,7,10,11,15,10,6,9,8,10,13,3,8,8,11,13,4,10,9,6,7,9,7,3,10,4,4,3,11,6,5,6,7,13,5,13,7,5,6,3,7,6,3,4,4,12,3,6,5,8,3,8,7,4,9,9,5,8,4,3,8,12,13,6,15,3,5,5,11,6,3,8,9,9,3,11,8,7,8,15,11,14,3,5,4,11,5,8,15,7,7,8,11,4,4,9,3,6,4,11,8,14,5,9,7,13,6,3,3,12,3,7,7,9,8,4,15,3,3,11,4,5,6,7,5,8,3,15,6,7,13,12,15,9,3,9,7,15,14,10,5,9,9,4,5,9,11,3,5,4,5,11,10,4,10,3,15,13,4,4,14,6,5,11,11,15,11,4,7,12,4,6,15,8,4,13,11,10,7,4,3,8,10,10,7,7,8,9,3,10,8,9,4,11,4,8,5,15,13,4,11,3,7,7,4,5,6,7,7,5,10,9,3,13,7,12,7,5,11,3,11,6,6,3,7,3,8,5,4,5,8,3,9,12,11,6,3,11,3,6,5,9,8,10,4,4,10,5,8,11,7,10,9,12,7,11,3,15,4,4,8,8,3,6,10,9,9,13,3,8,5,6,3,7,3,7,4,3,6,6,10,9,3,9,4,4,6,6,6,11,10,10,8,9,4,11,8,6,10,13,6,8,11,10,9,13,9,3,8,6,3,15,6,3,15,11,11,13,14,10,15,4,13,10,6,8,8,15,4,5,9,7,9,9,11,12,4,3,10,6,5,9,11,7,4,6,11,6,11,4,12,14,4,3,6,13,8,6,7,7,8,3,4,6,14,8,7,9,13,5,13,12,6,4,8,6,5,8,10,6,6,7,7,7,4,3,9,12,6,4,7,6,15,6,6,8,6,3,7,11,6,15,10,8,5,7,11,11,6,3,7,7,15,15,4,3,8,3,3,8,6,10,7,7,3,8,10,8,12,3,15,6,6,6,6,6,8,10,13,10,4,13],\"type\":\"box\"},{\"boxpoints\":false,\"line\":{\"width\":1.3},\"marker\":{\"color\":\"rgba(219, 64, 82, 1.0)\"},\"name\":\"GCBS_Control_Of_Information\",\"orientation\":\"v\",\"y\":[15,14,14,13,12,5,7,12,13,15,7,8,14,11,12,10,11,6,12,9,10,12,7,13,15,9,8,13,7,12,14,11,15,6,13,13,7,12,15,8,9,6,11,8,9,13,10,9,11,12,14,8,13,14,10,15,12,12,8,14,15,5,13,11,8,15,14,10,12,10,12,13,12,10,12,11,11,10,15,13,11,11,7,8,15,9,5,8,11,11,14,13,13,11,8,13,7,14,15,13,8,12,6,10,9,13,12,15,12,15,15,11,12,12,12,13,13,11,6,4,13,10,15,10,14,9,15,13,12,6,8,13,12,10,11,8,11,13,12,9,13,13,8,15,11,10,10,11,10,15,12,8,15,9,10,14,6,10,14,13,12,14,15,8,12,6,15,15,11,12,7,3,15,14,14,15,13,13,11,6,11,12,7,10,7,11,14,14,11,5,12,12,11,9,9,12,12,12,13,13,4,9,12,13,8,13,12,13,13,7,10,14,14,11,11,13,13,9,12,12,8,13,3,11,11,8,15,10,14,10,7,7,14,11,7,12,12,15,8,14,12,10,14,15,14,9,12,13,13,15,15,15,12,15,15,14,15,14,13,14,12,14,13,14,15,15,15,14,15,15,12,15,12,13,4,12,6,15,11,11,7,13,8,13,15,11,12,13,10,15,10,11,14,8,12,7,15,15,8,12,14,15,12,12,11,12,15,15,14,13,14,14,11,7,13,6,13,15,14,9,9,10,13,9,11,12,14,8,14,12,9,12,14,10,12,15,15,13,5,7,11,12,4,7,15,13,13,11,14,13,13,14,14,15,12,12,10,10,11,14,3,8,13,12,5,7,9,12,13,7,12,11,15,15,12,15,12,13,13,13,6,9,10,10,11,6,13,13,10,10,12,15,3,10,9,12,11,12,12,6,13,10,13,13,13,10,15,13,6,7,13,15,15,11,14,11,13,7,15,10,8,12,14,11,4,4,11,15,8,12,10,9,14,11,8,13,7,10,12,11,15,11,12,15,11,12,9,10,9,15,12,15,11,13,15,10,14,9,15,12,14,10,11,10,10,12,7,15,10,11,7,12,7,15,7,9,12,13,9,8,11,5,15,14,7,10,7,10,9,9,14,12,9,11,15,5,12,8,13,14,8,15,8,8,11,14,8,15,9,12,12,6,14,10,9,12,13,15,15,15,12,5,12,15,13,13,12,12,11,11,13,6,11,9,15,14,12,9,10,13,12,11,14,10,15,10,13,6,15,6,11,13,8,15,8,13,13,10,11,5,11,14,12,14,9,12,7,11,9,9,7,15,12,7,10,14,10,11,9,13,10,12,13,8,13,15,11,8,14,13,7,9,13,14,7,13,11,11,9,15,14,11,7,7,14,12,10,13,15,15,10,7,14,10,7,10,11,9,10,13,15,13,11,11,8,15,12,10,11,12,7,11,11,13,15,14,15,8,6,13,10,8,8,10,14,13,7,15,13,9,13,15,15,14,6,11,12,13,15,12,10,14,13,9,10,15,13,5,9,7,10,11,14,10,14,11,12,15,7,10,13,12,7,10,12,11,10,12,14,15,11,15,15,15,11,14,12,12,13,11,9,12,13,13,12,15,12,13,9,13,12,14,5,11,4,13,7,15,15,7,14,10,14,14,13,11,13,8,14,8,15,15,4,14,15,10,9,8,15,7,14,7,8,11,12,10,10,9,8,9,12,8,13,13,15,7,6,11,5,14,11,13,11,12,10,3,12,13,14,8,15,15,11,14,6,13,12,15,11,10,14,13,9,10,10,13,12,14,7,12,14,11,11,14,7,9,7,13,8,13,13,7,6,8,13,8,12,13,12,13,9,9,13,12,6,14,15,6,14,13,10,11,13,15,8,12,9,6,12,11,10,15,11,7,15,14,11,14,15,14,15,10,11,13,12,13,14,15,10,7,12,11,11,15,13,12,15,10,12,9,10,13,11,14,13,12,13,11,15,9,12,15,14,8,10,10,8,12,8,8,11,4,5,12,11,10,8,15,15,6,14,13,8,6,11,10,8,15,15,9,9,15,14,14,15,7,13,15,7,12,15,14,11,14,8,11,13,5,11,10,8,15,11,13,9,10,13,15,11,12,11,13,12,12,6,8,9,10,7,11,7,10,12,10,6,11,12,10,14,5,9,10,10,11,11,12,10,15,15,11,9,11],\"type\":\"box\"}],                        {\"legend\":{\"bgcolor\":\"#FFFFFF\",\"font\":{\"color\":\"#4D5663\"}},\"paper_bgcolor\":\"#FFFFFF\",\"plot_bgcolor\":\"#FFFFFF\",\"template\":{\"data\":{\"barpolar\":[{\"marker\":{\"line\":{\"color\":\"#E5ECF6\",\"width\":0.5},\"pattern\":{\"fillmode\":\"overlay\",\"size\":10,\"solidity\":0.2}},\"type\":\"barpolar\"}],\"bar\":[{\"error_x\":{\"color\":\"#2a3f5f\"},\"error_y\":{\"color\":\"#2a3f5f\"},\"marker\":{\"line\":{\"color\":\"#E5ECF6\",\"width\":0.5},\"pattern\":{\"fillmode\":\"overlay\",\"size\":10,\"solidity\":0.2}},\"type\":\"bar\"}],\"carpet\":[{\"aaxis\":{\"endlinecolor\":\"#2a3f5f\",\"gridcolor\":\"white\",\"linecolor\":\"white\",\"minorgridcolor\":\"white\",\"startlinecolor\":\"#2a3f5f\"},\"baxis\":{\"endlinecolor\":\"#2a3f5f\",\"gridcolor\":\"white\",\"linecolor\":\"white\",\"minorgridcolor\":\"white\",\"startlinecolor\":\"#2a3f5f\"},\"type\":\"carpet\"}],\"choropleth\":[{\"colorbar\":{\"outlinewidth\":0,\"ticks\":\"\"},\"type\":\"choropleth\"}],\"contourcarpet\":[{\"colorbar\":{\"outlinewidth\":0,\"ticks\":\"\"},\"type\":\"contourcarpet\"}],\"contour\":[{\"colorbar\":{\"outlinewidth\":0,\"ticks\":\"\"},\"colorscale\":[[0.0,\"#0d0887\"],[0.1111111111111111,\"#46039f\"],[0.2222222222222222,\"#7201a8\"],[0.3333333333333333,\"#9c179e\"],[0.4444444444444444,\"#bd3786\"],[0.5555555555555556,\"#d8576b\"],[0.6666666666666666,\"#ed7953\"],[0.7777777777777778,\"#fb9f3a\"],[0.8888888888888888,\"#fdca26\"],[1.0,\"#f0f921\"]],\"type\":\"contour\"}],\"heatmapgl\":[{\"colorbar\":{\"outlinewidth\":0,\"ticks\":\"\"},\"colorscale\":[[0.0,\"#0d0887\"],[0.1111111111111111,\"#46039f\"],[0.2222222222222222,\"#7201a8\"],[0.3333333333333333,\"#9c179e\"],[0.4444444444444444,\"#bd3786\"],[0.5555555555555556,\"#d8576b\"],[0.6666666666666666,\"#ed7953\"],[0.7777777777777778,\"#fb9f3a\"],[0.8888888888888888,\"#fdca26\"],[1.0,\"#f0f921\"]],\"type\":\"heatmapgl\"}],\"heatmap\":[{\"colorbar\":{\"outlinewidth\":0,\"ticks\":\"\"},\"colorscale\":[[0.0,\"#0d0887\"],[0.1111111111111111,\"#46039f\"],[0.2222222222222222,\"#7201a8\"],[0.3333333333333333,\"#9c179e\"],[0.4444444444444444,\"#bd3786\"],[0.5555555555555556,\"#d8576b\"],[0.6666666666666666,\"#ed7953\"],[0.7777777777777778,\"#fb9f3a\"],[0.8888888888888888,\"#fdca26\"],[1.0,\"#f0f921\"]],\"type\":\"heatmap\"}],\"histogram2dcontour\":[{\"colorbar\":{\"outlinewidth\":0,\"ticks\":\"\"},\"colorscale\":[[0.0,\"#0d0887\"],[0.1111111111111111,\"#46039f\"],[0.2222222222222222,\"#7201a8\"],[0.3333333333333333,\"#9c179e\"],[0.4444444444444444,\"#bd3786\"],[0.5555555555555556,\"#d8576b\"],[0.6666666666666666,\"#ed7953\"],[0.7777777777777778,\"#fb9f3a\"],[0.8888888888888888,\"#fdca26\"],[1.0,\"#f0f921\"]],\"type\":\"histogram2dcontour\"}],\"histogram2d\":[{\"colorbar\":{\"outlinewidth\":0,\"ticks\":\"\"},\"colorscale\":[[0.0,\"#0d0887\"],[0.1111111111111111,\"#46039f\"],[0.2222222222222222,\"#7201a8\"],[0.3333333333333333,\"#9c179e\"],[0.4444444444444444,\"#bd3786\"],[0.5555555555555556,\"#d8576b\"],[0.6666666666666666,\"#ed7953\"],[0.7777777777777778,\"#fb9f3a\"],[0.8888888888888888,\"#fdca26\"],[1.0,\"#f0f921\"]],\"type\":\"histogram2d\"}],\"histogram\":[{\"marker\":{\"pattern\":{\"fillmode\":\"overlay\",\"size\":10,\"solidity\":0.2}},\"type\":\"histogram\"}],\"mesh3d\":[{\"colorbar\":{\"outlinewidth\":0,\"ticks\":\"\"},\"type\":\"mesh3d\"}],\"parcoords\":[{\"line\":{\"colorbar\":{\"outlinewidth\":0,\"ticks\":\"\"}},\"type\":\"parcoords\"}],\"pie\":[{\"automargin\":true,\"type\":\"pie\"}],\"scatter3d\":[{\"line\":{\"colorbar\":{\"outlinewidth\":0,\"ticks\":\"\"}},\"marker\":{\"colorbar\":{\"outlinewidth\":0,\"ticks\":\"\"}},\"type\":\"scatter3d\"}],\"scattercarpet\":[{\"marker\":{\"colorbar\":{\"outlinewidth\":0,\"ticks\":\"\"}},\"type\":\"scattercarpet\"}],\"scattergeo\":[{\"marker\":{\"colorbar\":{\"outlinewidth\":0,\"ticks\":\"\"}},\"type\":\"scattergeo\"}],\"scattergl\":[{\"marker\":{\"colorbar\":{\"outlinewidth\":0,\"ticks\":\"\"}},\"type\":\"scattergl\"}],\"scattermapbox\":[{\"marker\":{\"colorbar\":{\"outlinewidth\":0,\"ticks\":\"\"}},\"type\":\"scattermapbox\"}],\"scatterpolargl\":[{\"marker\":{\"colorbar\":{\"outlinewidth\":0,\"ticks\":\"\"}},\"type\":\"scatterpolargl\"}],\"scatterpolar\":[{\"marker\":{\"colorbar\":{\"outlinewidth\":0,\"ticks\":\"\"}},\"type\":\"scatterpolar\"}],\"scatter\":[{\"marker\":{\"colorbar\":{\"outlinewidth\":0,\"ticks\":\"\"}},\"type\":\"scatter\"}],\"scatterternary\":[{\"marker\":{\"colorbar\":{\"outlinewidth\":0,\"ticks\":\"\"}},\"type\":\"scatterternary\"}],\"surface\":[{\"colorbar\":{\"outlinewidth\":0,\"ticks\":\"\"},\"colorscale\":[[0.0,\"#0d0887\"],[0.1111111111111111,\"#46039f\"],[0.2222222222222222,\"#7201a8\"],[0.3333333333333333,\"#9c179e\"],[0.4444444444444444,\"#bd3786\"],[0.5555555555555556,\"#d8576b\"],[0.6666666666666666,\"#ed7953\"],[0.7777777777777778,\"#fb9f3a\"],[0.8888888888888888,\"#fdca26\"],[1.0,\"#f0f921\"]],\"type\":\"surface\"}],\"table\":[{\"cells\":{\"fill\":{\"color\":\"#EBF0F8\"},\"line\":{\"color\":\"white\"}},\"header\":{\"fill\":{\"color\":\"#C8D4E3\"},\"line\":{\"color\":\"white\"}},\"type\":\"table\"}]},\"layout\":{\"annotationdefaults\":{\"arrowcolor\":\"#2a3f5f\",\"arrowhead\":0,\"arrowwidth\":1},\"autotypenumbers\":\"strict\",\"coloraxis\":{\"colorbar\":{\"outlinewidth\":0,\"ticks\":\"\"}},\"colorscale\":{\"diverging\":[[0,\"#8e0152\"],[0.1,\"#c51b7d\"],[0.2,\"#de77ae\"],[0.3,\"#f1b6da\"],[0.4,\"#fde0ef\"],[0.5,\"#f7f7f7\"],[0.6,\"#e6f5d0\"],[0.7,\"#b8e186\"],[0.8,\"#7fbc41\"],[0.9,\"#4d9221\"],[1,\"#276419\"]],\"sequential\":[[0.0,\"#0d0887\"],[0.1111111111111111,\"#46039f\"],[0.2222222222222222,\"#7201a8\"],[0.3333333333333333,\"#9c179e\"],[0.4444444444444444,\"#bd3786\"],[0.5555555555555556,\"#d8576b\"],[0.6666666666666666,\"#ed7953\"],[0.7777777777777778,\"#fb9f3a\"],[0.8888888888888888,\"#fdca26\"],[1.0,\"#f0f921\"]],\"sequentialminus\":[[0.0,\"#0d0887\"],[0.1111111111111111,\"#46039f\"],[0.2222222222222222,\"#7201a8\"],[0.3333333333333333,\"#9c179e\"],[0.4444444444444444,\"#bd3786\"],[0.5555555555555556,\"#d8576b\"],[0.6666666666666666,\"#ed7953\"],[0.7777777777777778,\"#fb9f3a\"],[0.8888888888888888,\"#fdca26\"],[1.0,\"#f0f921\"]]},\"colorway\":[\"#636efa\",\"#EF553B\",\"#00cc96\",\"#ab63fa\",\"#FFA15A\",\"#19d3f3\",\"#FF6692\",\"#B6E880\",\"#FF97FF\",\"#FECB52\"],\"font\":{\"color\":\"#2a3f5f\"},\"geo\":{\"bgcolor\":\"white\",\"lakecolor\":\"white\",\"landcolor\":\"#E5ECF6\",\"showlakes\":true,\"showland\":true,\"subunitcolor\":\"white\"},\"hoverlabel\":{\"align\":\"left\"},\"hovermode\":\"closest\",\"mapbox\":{\"style\":\"light\"},\"paper_bgcolor\":\"white\",\"plot_bgcolor\":\"#E5ECF6\",\"polar\":{\"angularaxis\":{\"gridcolor\":\"white\",\"linecolor\":\"white\",\"ticks\":\"\"},\"bgcolor\":\"#E5ECF6\",\"radialaxis\":{\"gridcolor\":\"white\",\"linecolor\":\"white\",\"ticks\":\"\"}},\"scene\":{\"xaxis\":{\"backgroundcolor\":\"#E5ECF6\",\"gridcolor\":\"white\",\"gridwidth\":2,\"linecolor\":\"white\",\"showbackground\":true,\"ticks\":\"\",\"zerolinecolor\":\"white\"},\"yaxis\":{\"backgroundcolor\":\"#E5ECF6\",\"gridcolor\":\"white\",\"gridwidth\":2,\"linecolor\":\"white\",\"showbackground\":true,\"ticks\":\"\",\"zerolinecolor\":\"white\"},\"zaxis\":{\"backgroundcolor\":\"#E5ECF6\",\"gridcolor\":\"white\",\"gridwidth\":2,\"linecolor\":\"white\",\"showbackground\":true,\"ticks\":\"\",\"zerolinecolor\":\"white\"}},\"shapedefaults\":{\"line\":{\"color\":\"#2a3f5f\"}},\"ternary\":{\"aaxis\":{\"gridcolor\":\"white\",\"linecolor\":\"white\",\"ticks\":\"\"},\"baxis\":{\"gridcolor\":\"white\",\"linecolor\":\"white\",\"ticks\":\"\"},\"bgcolor\":\"#E5ECF6\",\"caxis\":{\"gridcolor\":\"white\",\"linecolor\":\"white\",\"ticks\":\"\"}},\"title\":{\"x\":0.05},\"xaxis\":{\"automargin\":true,\"gridcolor\":\"white\",\"linecolor\":\"white\",\"ticks\":\"\",\"title\":{\"standoff\":15},\"zerolinecolor\":\"white\",\"zerolinewidth\":2},\"yaxis\":{\"automargin\":true,\"gridcolor\":\"white\",\"linecolor\":\"white\",\"ticks\":\"\",\"title\":{\"standoff\":15},\"zerolinecolor\":\"white\",\"zerolinewidth\":2}}},\"title\":{\"font\":{\"color\":\"#4D5663\"},\"text\":\"Comparing beliefs in conspiracy theories\"},\"xaxis\":{\"gridcolor\":\"#E1E5ED\",\"showgrid\":true,\"tickfont\":{\"color\":\"#4D5663\"},\"title\":{\"font\":{\"color\":\"#4D5663\"},\"text\":\"\"},\"zerolinecolor\":\"#E1E5ED\"},\"yaxis\":{\"gridcolor\":\"#E1E5ED\",\"showgrid\":true,\"tickfont\":{\"color\":\"#4D5663\"},\"title\":{\"font\":{\"color\":\"#4D5663\"},\"text\":\"\"},\"zerolinecolor\":\"#E1E5ED\"}},                        {\"showLink\": true, \"linkText\": \"Export to plot.ly\", \"plotlyServerURL\": \"https://plot.ly\", \"responsive\": true}                    ).then(function(){\n",
       "                            \n",
       "var gd = document.getElementById('78a7fee0-5fd0-49f7-b191-ebe3db39b316');\n",
       "var x = new MutationObserver(function (mutations, observer) {{\n",
       "        var display = window.getComputedStyle(gd).display;\n",
       "        if (!display || display === 'none') {{\n",
       "            console.log([gd, 'removed!']);\n",
       "            Plotly.purge(gd);\n",
       "            observer.disconnect();\n",
       "        }}\n",
       "}});\n",
       "\n",
       "// Listen for the removal of the full notebook cells\n",
       "var notebookContainer = gd.closest('#notebook-container');\n",
       "if (notebookContainer) {{\n",
       "    x.observe(notebookContainer, {childList: true});\n",
       "}}\n",
       "\n",
       "// Listen for the clearing of the current output cell\n",
       "var outputEl = gd.closest('.output');\n",
       "if (outputEl) {{\n",
       "    x.observe(outputEl, {childList: true});\n",
       "}}\n",
       "\n",
       "                        })                };                });            </script>        </div>"
      ]
     },
     "metadata": {},
     "output_type": "display_data"
    }
   ],
   "source": [
    "gcbs_clean_df[['GCBS_Government_Malfeasance','GCBS_Malevolent_Global_Conspiracies', 'GCBS_Extraterrestrial_Coverup','GCBS_Personal_Wellbeing', 'GCBS_Control_Of_Information']].iplot(kind='box', title='Comparing beliefs in conspiracy theories', theme='white')"
   ]
  },
  {
   "cell_type": "markdown",
   "metadata": {
    "id": "YCAt3gvcLGO1"
   },
   "source": [
    "### Bivariate analysis\n",
    "\n",
    "***Research questions:***\n",
    "* *Is there a relationship between beliefs in conspiracy theories?* è bivariata???\n",
    "* *Is there a relationship between beliefs in conspiracy theories and personality?*"
   ]
  },
  {
   "cell_type": "code",
   "execution_count": 58,
   "metadata": {},
   "outputs": [],
   "source": [
    "import seaborn as sns"
   ]
  },
  {
   "cell_type": "code",
   "execution_count": 59,
   "metadata": {},
   "outputs": [],
   "source": [
    "def getHeatmap(df, title):\n",
    "    corr_matrix = df.corr()\n",
    "    \n",
    "    mask = np.zeros_like(corr_matrix, dtype=bool)\n",
    "    mask[np.triu_indices_from(mask)]= True\n",
    "    mask[np.triu_indices_from(mask)]= True\n",
    "    \n",
    "    f, ax = plt.subplots(figsize=(11, 15)) \n",
    "    heatmap = sns.heatmap(corr_matrix,\n",
    "                          mask = mask,\n",
    "                          square = True,\n",
    "                          linewidths = .5,\n",
    "                          cmap = 'RdBu',\n",
    "                          cbar_kws = {'shrink': .4, \n",
    "                                    'ticks' : [-1, -.5, 0, 0.5, 1]},\n",
    "                          vmin = -1, \n",
    "                          vmax = 1,\n",
    "                          annot = True,\n",
    "                          annot_kws = {'size': 12})\n",
    "    \n",
    "    ax.set_yticklabels(corr_matrix.columns, rotation = 0)\n",
    "    ax.set_xticklabels(corr_matrix.columns)\n",
    "    ax.set_title(title)\n",
    "    sns.set_style({'xtick.bottom': True}, {'ytick.left': True})\n"
   ]
  },
  {
   "cell_type": "code",
   "execution_count": 60,
   "metadata": {},
   "outputs": [
    {
     "data": {
      "image/png": "[encoded data removed]",
      "text/plain": [
       "<Figure size 792x1080 with 2 Axes>"
      ]
     },
     "metadata": {
      "needs_background": "light"
     },
     "output_type": "display_data"
    }
   ],
   "source": [
    "getHeatmap(gcbs_clean_df[['GCBS_Government_Malfeasance','GCBS_Malevolent_Global_Conspiracies', 'GCBS_Extraterrestrial_Coverup','GCBS_Personal_Wellbeing', 'GCBS_Control_Of_Information']], 'Conspiracy theories correlations')"
   ]
  },
  {
   "cell_type": "code",
   "execution_count": 77,
   "metadata": {},
   "outputs": [
    {
     "name": "stdout",
     "output_type": "stream",
     "text": [
      "TIPI_Extraversion GCBS_Government_Malfeasance\n",
      "TIPI_Extraversion GCBS_Malevolent_Global_Conspiracies\n",
      "TIPI_Extraversion GCBS_Extraterrestrial_Coverup\n",
      "TIPI_Extraversion GCBS_Personal_Wellbeing\n",
      "TIPI_Extraversion GCBS_Control_Of_Information\n",
      "TIPI_Extraversion GCBS_Overall\n",
      "TIPI_Agreeableness GCBS_Government_Malfeasance\n",
      "TIPI_Agreeableness GCBS_Malevolent_Global_Conspiracies\n",
      "TIPI_Agreeableness GCBS_Extraterrestrial_Coverup\n",
      "TIPI_Agreeableness GCBS_Personal_Wellbeing\n",
      "TIPI_Agreeableness GCBS_Control_Of_Information\n",
      "TIPI_Agreeableness GCBS_Overall\n",
      "TIPI_Conscientiousness GCBS_Government_Malfeasance\n",
      "TIPI_Conscientiousness GCBS_Malevolent_Global_Conspiracies\n",
      "TIPI_Conscientiousness GCBS_Extraterrestrial_Coverup\n",
      "TIPI_Conscientiousness GCBS_Personal_Wellbeing\n",
      "TIPI_Conscientiousness GCBS_Control_Of_Information\n",
      "TIPI_Conscientiousness GCBS_Overall\n",
      "TIPI_Emotional_Stability GCBS_Government_Malfeasance\n",
      "TIPI_Emotional_Stability GCBS_Malevolent_Global_Conspiracies\n",
      "TIPI_Emotional_Stability GCBS_Extraterrestrial_Coverup\n",
      "TIPI_Emotional_Stability GCBS_Personal_Wellbeing\n",
      "TIPI_Emotional_Stability GCBS_Control_Of_Information\n",
      "TIPI_Emotional_Stability GCBS_Overall\n",
      "TIPI_Openness GCBS_Government_Malfeasance\n",
      "TIPI_Openness GCBS_Malevolent_Global_Conspiracies\n",
      "TIPI_Openness GCBS_Extraterrestrial_Coverup\n",
      "TIPI_Openness GCBS_Personal_Wellbeing\n",
      "TIPI_Openness GCBS_Control_Of_Information\n",
      "TIPI_Openness GCBS_Overall\n"
     ]
    }
   ],
   "source": [
    "for personality_dimension in list(gcbs_clean_df.filter(like='TIPI_',axis=1).columns):\n",
    "    for conspiracy_theory in list(gcbs_clean_df.filter(like='GCBS_',axis=1).columns):\n",
    "        print(personality_dimension, conspiracy_theory)"
   ]
  },
  {
   "cell_type": "markdown",
   "metadata": {
    "id": "g95rbHO6LTnM"
   },
   "source": [
    "### Multivariate analysis"
   ]
  },
  {
   "cell_type": "code",
   "execution_count": null,
   "metadata": {
    "id": "wK_S-k4sLVFx"
   },
   "outputs": [],
   "source": []
  },
  {
   "cell_type": "markdown",
   "metadata": {
    "id": "PYwrjln1LWNk"
   },
   "source": [
    "# Machine learning"
   ]
  },
  {
   "cell_type": "code",
   "execution_count": null,
   "metadata": {
    "id": "Aqx2PYI1LaT9"
   },
   "outputs": [],
   "source": []
  }
 ],
 "metadata": {
  "colab": {
   "collapsed_sections": [
    "ZZE_keZbTac-",
    "0iErVJy9dumh"
   ],
   "name": "Project Conspiracy.ipynb",
   "provenance": []
  },
  "kernelspec": {
   "display_name": "Python 3",
   "language": "python",
   "name": "python3"
  },
  "language_info": {
   "codemirror_mode": {
    "name": "ipython",
    "version": 3
   },
   "file_extension": ".py",
   "mimetype": "text/x-python",
   "name": "python",
   "nbconvert_exporter": "python",
   "pygments_lexer": "ipython3",
   "version": "3.8.8"
  }
 },
 "nbformat": 4,
 "nbformat_minor": 1
}
